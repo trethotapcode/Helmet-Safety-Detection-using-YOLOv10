{
  "nbformat": 4,
  "nbformat_minor": 0,
  "metadata": {
    "colab": {
      "provenance": [],
      "gpuType": "T4",
      "authorship_tag": "ABX9TyPZ9GIGJWeEBaxU8LnSTAWB",
      "include_colab_link": true
    },
    "kernelspec": {
      "name": "python3",
      "display_name": "Python 3"
    },
    "language_info": {
      "name": "python"
    },
    "accelerator": "GPU"
  },
  "cells": [
    {
      "cell_type": "markdown",
      "metadata": {
        "id": "view-in-github",
        "colab_type": "text"
      },
      "source": [
        "<a href=\"https://colab.research.google.com/github/trethotapcode/Helmet-Safety-Detection-using-YOLOv10/blob/main/Helmet_detection_using_YOLOv10.ipynb\" target=\"_parent\"><img src=\"https://colab.research.google.com/assets/colab-badge.svg\" alt=\"Open In Colab\"/></a>"
      ]
    },
    {
      "cell_type": "code",
      "execution_count": 3,
      "metadata": {
        "colab": {
          "base_uri": "https://localhost:8080/"
        },
        "id": "wBzl2_oquYXd",
        "outputId": "18002056-f47e-4976-90cd-15d3fd23f132"
      },
      "outputs": [
        {
          "output_type": "stream",
          "name": "stdout",
          "text": [
            "Cloning into 'yolov10'...\n",
            "remote: Enumerating objects: 20304, done.\u001b[K\n",
            "remote: Counting objects: 100% (1502/1502), done.\u001b[K\n",
            "remote: Compressing objects: 100% (154/154), done.\u001b[K\n",
            "remote: Total 20304 (delta 1438), reused 1348 (delta 1348), pack-reused 18802\u001b[K\n",
            "Receiving objects: 100% (20304/20304), 11.17 MiB | 15.46 MiB/s, done.\n",
            "Resolving deltas: 100% (14314/14314), done.\n"
          ]
        }
      ],
      "source": [
        "!git clone https://github.com/THU-MIG/yolov10"
      ]
    },
    {
      "cell_type": "markdown",
      "source": [
        "### upload folder Safety_Helmet_Dataset.zip and unzip."
      ],
      "metadata": {
        "id": "6NGoIag3wIWC"
      }
    },
    {
      "cell_type": "code",
      "source": [
        "!unzip Safety_Helmet_Dataset.zip -d safety_helmet_dataset"
      ],
      "metadata": {
        "colab": {
          "base_uri": "https://localhost:8080/"
        },
        "id": "LDgezXcHwc02",
        "outputId": "16a593fb-74c6-4048-83f2-24b3a3a07f75"
      },
      "execution_count": 4,
      "outputs": [
        {
          "output_type": "stream",
          "name": "stdout",
          "text": [
            "Archive:  Safety_Helmet_Dataset.zip\n",
            " extracting: safety_helmet_dataset/README.dataset.txt  \n",
            " extracting: safety_helmet_dataset/README.roboflow.txt  \n",
            " extracting: safety_helmet_dataset/data.yaml  \n",
            "   creating: safety_helmet_dataset/test/\n",
            "   creating: safety_helmet_dataset/test/images/\n",
            " extracting: safety_helmet_dataset/test/images/helmet-10-_jpg.rf.eee985865a1a52407316f0c9ea7a9b3e.jpg  \n",
            " extracting: safety_helmet_dataset/test/images/helmet-108-_jpg.rf.85e7ccb9c8c26013fe9016001b68fc72.jpg  \n",
            " extracting: safety_helmet_dataset/test/images/helmet-110-_jpg.rf.b9d38442adb18ac5188cee9ef27392d5.jpg  \n",
            " extracting: safety_helmet_dataset/test/images/helmet-12-_jpg.rf.e060b7cfb30b033ca50fc1b9ed48efe7.jpg  \n",
            " extracting: safety_helmet_dataset/test/images/helmet-135-_jpg.rf.d94276d795b6dc4edc5b3caa89b73b8a.jpg  \n",
            " extracting: safety_helmet_dataset/test/images/helmet-136-_jpg.rf.167f996a6fc4e10c7884f5b3e7e65be3.jpg  \n",
            " extracting: safety_helmet_dataset/test/images/helmet-139-_jpg.rf.ae48b2f2222155cd351cc5d942f1bdae.jpg  \n",
            " extracting: safety_helmet_dataset/test/images/helmet-155-_jpg.rf.5a3c64b6bc927ef281cce6bfe3fea16f.jpg  \n",
            " extracting: safety_helmet_dataset/test/images/helmet-164-_jpg.rf.d3801c6a5cebe2fba4a5f528cc463d38.jpg  \n",
            " extracting: safety_helmet_dataset/test/images/helmet-170-_jpg.rf.c9687ec2af3c86f2be132833dd3aef6c.jpg  \n",
            " extracting: safety_helmet_dataset/test/images/helmet-182-_jpg.rf.d48ae0584d9795f52996657c5afee0f6.jpg  \n",
            " extracting: safety_helmet_dataset/test/images/helmet-196-_jpg.rf.aba7f4be88ebdb0f1d9c14ca8668d646.jpg  \n",
            " extracting: safety_helmet_dataset/test/images/helmet-2-_jpg.rf.f9d6b25aa9dc46ed0583cc8e7f3c02d3.jpg  \n",
            " extracting: safety_helmet_dataset/test/images/helmet-209-_jpg.rf.f19a8ac6a697ead391bba40d10f0d5a7.jpg  \n",
            " extracting: safety_helmet_dataset/test/images/helmet-24-_jpg.rf.42875278d6a3cb98d7a21a42466bd482.jpg  \n",
            " extracting: safety_helmet_dataset/test/images/helmet-242-_jpg.rf.a95c1aa83afe582986c8e10b65276f9e.jpg  \n",
            " extracting: safety_helmet_dataset/test/images/helmet-246-_jpg.rf.8fd98ab9dbccf6b602216cd35c132fac.jpg  \n",
            " extracting: safety_helmet_dataset/test/images/helmet-256-_jpg.rf.b28696b3ce9843a60738a46d94166eb3.jpg  \n",
            " extracting: safety_helmet_dataset/test/images/helmet-26-_jpg.rf.f253857ab9e7d55d03abd41bf2eec32f.jpg  \n",
            " extracting: safety_helmet_dataset/test/images/helmet-262-_jpg.rf.80cd832b3b68a4038aaca7df34fbf30b.jpg  \n",
            " extracting: safety_helmet_dataset/test/images/helmet-269-_jpg.rf.2b8e58c7477defa6f098ffab8bb34c33.jpg  \n",
            " extracting: safety_helmet_dataset/test/images/helmet-276-_jpg.rf.fa8dd476846d01ae4207ff3a644dddf6.jpg  \n",
            " extracting: safety_helmet_dataset/test/images/helmet-298-_jpg.rf.4e2951a02b247f18964f3f7d183f3e02.jpg  \n",
            " extracting: safety_helmet_dataset/test/images/helmet-30-_jpg.rf.e2b19e25e248543958ec963531016734.jpg  \n",
            " extracting: safety_helmet_dataset/test/images/helmet-307-_jpg.rf.e837255558697c20cf87670512c0045d.jpg  \n",
            " extracting: safety_helmet_dataset/test/images/helmet-328-_jpg.rf.709344def5ec51d0cd17e64634a00a5e.jpg  \n",
            " extracting: safety_helmet_dataset/test/images/helmet-341-_jpg.rf.813f97c55c5987ff0a60fc5b4501501c.jpg  \n",
            " extracting: safety_helmet_dataset/test/images/helmet-342-_jpg.rf.a413372a38474d5b9980cabdd36ade5e.jpg  \n",
            " extracting: safety_helmet_dataset/test/images/helmet-348-_jpg.rf.0742694df03cce9b44cdcf5610fd7cc0.jpg  \n",
            " extracting: safety_helmet_dataset/test/images/helmet-35-_jpg.rf.923ed3b82198a2649fa20b6d83f46f1a.jpg  \n",
            " extracting: safety_helmet_dataset/test/images/helmet-350-_jpg.rf.5a83e1455ee1321ed6b83e6129aec56c.jpg  \n",
            " extracting: safety_helmet_dataset/test/images/helmet-390-_jpg.rf.a0239dd115d10d504255351af2fed164.jpg  \n",
            " extracting: safety_helmet_dataset/test/images/helmet-408-_jpg.rf.727d4ee80efe9cb9f839f97940fdcb19.jpg  \n",
            " extracting: safety_helmet_dataset/test/images/helmet-426-_jpg.rf.6699b13c5c638ad09b8dd56907a391cf.jpg  \n",
            " extracting: safety_helmet_dataset/test/images/helmet-431-_jpg.rf.1ea7b93053ffc0a596665ceb67526e0c.jpg  \n",
            " extracting: safety_helmet_dataset/test/images/helmet-449-_jpg.rf.5f6375d07a19a8950ce708c686710117.jpg  \n",
            " extracting: safety_helmet_dataset/test/images/helmet-461-_jpg.rf.17f4e6c39ac6c06700398464bcc146f1.jpg  \n",
            " extracting: safety_helmet_dataset/test/images/helmet-465-_jpg.rf.c6d00cb00574ce33070405c422eb00a0.jpg  \n",
            " extracting: safety_helmet_dataset/test/images/helmet-482-_jpg.rf.65a397cc587940fbf46eda6ab7c0b20b.jpg  \n",
            " extracting: safety_helmet_dataset/test/images/helmet-486-_jpg.rf.92a01c512c6cc820a3075c31518923e2.jpg  \n",
            " extracting: safety_helmet_dataset/test/images/helmet-500-_jpg.rf.a84e271fb18e730c41de420ae76b9bec.jpg  \n",
            " extracting: safety_helmet_dataset/test/images/helmet-51-_jpg.rf.8cbcf5dd5ffc9f39ab1d474358e23a47.jpg  \n",
            " extracting: safety_helmet_dataset/test/images/helmet-514-_jpg.rf.dddaf4bae68ff2fac01652aa860ac8c8.jpg  \n",
            " extracting: safety_helmet_dataset/test/images/helmet-521-_jpg.rf.283a8e089dc16274a47723a4f216cb70.jpg  \n",
            " extracting: safety_helmet_dataset/test/images/helmet-523-_jpg.rf.3a2966d8862ecc51198cde875790a8cb.jpg  \n",
            " extracting: safety_helmet_dataset/test/images/helmet-525-_jpg.rf.abfd4fd52a38223b6a9fd9aa9325a176.jpg  \n",
            " extracting: safety_helmet_dataset/test/images/helmet-538-_jpg.rf.284b705b61d89c3d3dd9768154a4d92e.jpg  \n",
            " extracting: safety_helmet_dataset/test/images/helmet-57-_jpg.rf.011042b64595377970edee043e9303b2.jpg  \n",
            " extracting: safety_helmet_dataset/test/images/helmet-58-_jpg.rf.b824e4627cadc81e1022917b3a646f7b.jpg  \n",
            " extracting: safety_helmet_dataset/test/images/helmet-60-_jpg.rf.90b2865cc2f6b49f829b27f8ab1245b0.jpg  \n",
            " extracting: safety_helmet_dataset/test/images/helmet-64-_jpg.rf.601dd4f84a0334f5674a0ab4d5ca215d.jpg  \n",
            " extracting: safety_helmet_dataset/test/images/helmet-69-_jpg.rf.cc1eb2fd1cf6935d424ee542fe75261e.jpg  \n",
            " extracting: safety_helmet_dataset/test/images/helmet-8-_jpg.rf.121938a55a8efd4ebc1dc77d752929f6.jpg  \n",
            " extracting: safety_helmet_dataset/test/images/helmet-81-_jpg.rf.a30243020cf2303108e8d3729541586b.jpg  \n",
            " extracting: safety_helmet_dataset/test/images/helmet-83-_jpg.rf.8ad6553dec2b861de5cf7c8ec58203e3.jpg  \n",
            " extracting: safety_helmet_dataset/test/images/helmet-85-_jpg.rf.7abc37f99a4320c257432b2672e916fb.jpg  \n",
            " extracting: safety_helmet_dataset/test/images/helmet-98-_jpg.rf.1b419be3cdbc6ad2d9c36f7db3666d84.jpg  \n",
            " extracting: safety_helmet_dataset/test/images/person-105-_jpg.rf.9ad7f86f411f5a3edca0d85c7f88cd3a.jpg  \n",
            " extracting: safety_helmet_dataset/test/images/person-117-_jpg.rf.60b60862c383d678e939b5f1b02201af.jpg  \n",
            " extracting: safety_helmet_dataset/test/images/person-122-_jpg.rf.925930e5fe7d981d81020d6bccad9a60.jpg  \n",
            " extracting: safety_helmet_dataset/test/images/person-131-_jpg.rf.b4dae2eac93af6a45ae24836c12ea44f.jpg  \n",
            " extracting: safety_helmet_dataset/test/images/person-138-_jpg.rf.ec5b3fbedfeec77c8dbb1476ce6adbcc.jpg  \n",
            " extracting: safety_helmet_dataset/test/images/person-143-_jpg.rf.c9e727c58f9c691d44fc0228383e533d.jpg  \n",
            " extracting: safety_helmet_dataset/test/images/person-147-_jpg.rf.e7fe422622b9e796ff1f34b259a26ef2.jpg  \n",
            " extracting: safety_helmet_dataset/test/images/person-152-_jpg.rf.9fdfe9567ccdef3f946f53e9bd09496c.jpg  \n",
            " extracting: safety_helmet_dataset/test/images/person-159-_jpg.rf.aa45a322483f549aac3f384726f5bf91.jpg  \n",
            " extracting: safety_helmet_dataset/test/images/person-181-_jpg.rf.ce8d25f68d72b907716467d740892f15.jpg  \n",
            " extracting: safety_helmet_dataset/test/images/person-212-_jpg.rf.da73003138ff0e152d94acc92af33955.jpg  \n",
            " extracting: safety_helmet_dataset/test/images/person-216-_jpg.rf.8225c85d2bedfc7464b51a9f11d6ebe9.jpg  \n",
            " extracting: safety_helmet_dataset/test/images/person-221-_jpg.rf.190de3eaf7b913d920d9c2309ff69cca.jpg  \n",
            " extracting: safety_helmet_dataset/test/images/person-223-_jpg.rf.7f1b78aeda98594da25fac27d8402f62.jpg  \n",
            " extracting: safety_helmet_dataset/test/images/person-225-_jpg.rf.3faf0259a01935008af1d3cfdeeb61df.jpg  \n",
            " extracting: safety_helmet_dataset/test/images/person-234-_jpg.rf.e4f41f918c162347d9574d5e6ef46d1d.jpg  \n",
            " extracting: safety_helmet_dataset/test/images/person-252-_jpg.rf.4190b6ddde48010b6ba4307f0fe56fc9.jpg  \n",
            " extracting: safety_helmet_dataset/test/images/person-262-_jpg.rf.41d9ae7f39a9ffa9d62be9d90eaf2761.jpg  \n",
            " extracting: safety_helmet_dataset/test/images/person-267-_jpg.rf.db742eda283ef08f2587717637c175ad.jpg  \n",
            " extracting: safety_helmet_dataset/test/images/person-288-_jpg.rf.a7d53bf4412b7122c748bbc596a3fd06.jpg  \n",
            " extracting: safety_helmet_dataset/test/images/person-294-_jpg.rf.93f2672da6828e7206920fa95635dbed.jpg  \n",
            " extracting: safety_helmet_dataset/test/images/person-312-_jpg.rf.f836575f8f6f378e8b365f08508b4b64.jpg  \n",
            " extracting: safety_helmet_dataset/test/images/person-313-_jpg.rf.fce58e27d2a974083565cf41cafc2610.jpg  \n",
            " extracting: safety_helmet_dataset/test/images/person-315-_jpg.rf.37809d4fec3adef34426df9ccac75868.jpg  \n",
            " extracting: safety_helmet_dataset/test/images/person-321-_jpg.rf.88d7fffdffc0c94102007f97a22957dc.jpg  \n",
            " extracting: safety_helmet_dataset/test/images/person-327-_jpg.rf.b7c7164f53ea3e9644a64d79488fbb33.jpg  \n",
            " extracting: safety_helmet_dataset/test/images/person-334-_jpg.rf.dd3eaf602170309ca2f5e2f886d522ed.jpg  \n",
            " extracting: safety_helmet_dataset/test/images/person-337-_jpg.rf.4aaaec98a2b638373599662a4235013c.jpg  \n",
            " extracting: safety_helmet_dataset/test/images/person-339-_jpg.rf.a84a41d2819cf804b9091d949a28018d.jpg  \n",
            " extracting: safety_helmet_dataset/test/images/person-347-_jpg.rf.51273d7705db3b9856d8413119539393.jpg  \n",
            " extracting: safety_helmet_dataset/test/images/person-349-_jpg.rf.3f5724ab19798a29e7bb4751c7407671.jpg  \n",
            " extracting: safety_helmet_dataset/test/images/person-35-_jpg.rf.de68b8100a3697ece89f92193c47e135.jpg  \n",
            " extracting: safety_helmet_dataset/test/images/person-356-_jpg.rf.c82076db246062cd51770faa5795d99e.jpg  \n",
            " extracting: safety_helmet_dataset/test/images/person-364-_jpg.rf.7584af17b30fb9304846e56155137e5a.jpg  \n",
            " extracting: safety_helmet_dataset/test/images/person-379-_jpg.rf.0878fd2f06268f7e553c6ee76cf3fc5f.jpg  \n",
            " extracting: safety_helmet_dataset/test/images/person-382-_jpg.rf.49f77018989c839496d5f1a13d45f3a9.jpg  \n",
            " extracting: safety_helmet_dataset/test/images/person-387-_jpg.rf.d34c66a254eb56a54b2efe759552c8f5.jpg  \n",
            " extracting: safety_helmet_dataset/test/images/person-395-_jpg.rf.ffb76b67048b9b5bfcf3ce612a6cff66.jpg  \n",
            " extracting: safety_helmet_dataset/test/images/person-428-_jpg.rf.85ed13bc7e64e4fc5560317701360d62.jpg  \n",
            " extracting: safety_helmet_dataset/test/images/person-430-_jpg.rf.b9cd7faae30be376758904b0602e7b3a.jpg  \n",
            " extracting: safety_helmet_dataset/test/images/person-463-_jpg.rf.044ae9c7b391132d47b59a427b7c30b8.jpg  \n",
            " extracting: safety_helmet_dataset/test/images/person-464-_jpg.rf.e6e0bc28a9f204ae6bb1900294fb3d83.jpg  \n",
            " extracting: safety_helmet_dataset/test/images/person-470-_jpg.rf.d1babb3052291391e51aeac16c476936.jpg  \n",
            " extracting: safety_helmet_dataset/test/images/person-483-_jpg.rf.80307465f91fb6cc6039d0ed4f93faa2.jpg  \n",
            " extracting: safety_helmet_dataset/test/images/person-497-_jpg.rf.829207af90f0a48dd92accaf81cd84aa.jpg  \n",
            " extracting: safety_helmet_dataset/test/images/person-499-_jpg.rf.ec1264e00fff2f81c6b79fa8f3b97284.jpg  \n",
            " extracting: safety_helmet_dataset/test/images/person-509-_jpg.rf.8f332fcdb0e9cb2ecc334fe017939499.jpg  \n",
            " extracting: safety_helmet_dataset/test/images/person-522-_jpg.rf.d98670756bd2ca395e1f3bb507bbf654.jpg  \n",
            " extracting: safety_helmet_dataset/test/images/person-533-_jpg.rf.5e932ba3980938ae0f493485ee1a4d52.jpg  \n",
            " extracting: safety_helmet_dataset/test/images/person-535-_jpg.rf.629cf0b56b737d6b9833694eb7a50542.jpg  \n",
            " extracting: safety_helmet_dataset/test/images/person-77-_jpg.rf.857fbbaffc7456df17526d8f4082e730.jpg  \n",
            " extracting: safety_helmet_dataset/test/images/person-9-_jpg.rf.2ee757cbb067a4df46d31028c17270a8.jpg  \n",
            "   creating: safety_helmet_dataset/test/labels/\n",
            " extracting: safety_helmet_dataset/test/labels/helmet-10-_jpg.rf.eee985865a1a52407316f0c9ea7a9b3e.txt  \n",
            " extracting: safety_helmet_dataset/test/labels/helmet-108-_jpg.rf.85e7ccb9c8c26013fe9016001b68fc72.txt  \n",
            " extracting: safety_helmet_dataset/test/labels/helmet-110-_jpg.rf.b9d38442adb18ac5188cee9ef27392d5.txt  \n",
            " extracting: safety_helmet_dataset/test/labels/helmet-12-_jpg.rf.e060b7cfb30b033ca50fc1b9ed48efe7.txt  \n",
            " extracting: safety_helmet_dataset/test/labels/helmet-135-_jpg.rf.d94276d795b6dc4edc5b3caa89b73b8a.txt  \n",
            " extracting: safety_helmet_dataset/test/labels/helmet-136-_jpg.rf.167f996a6fc4e10c7884f5b3e7e65be3.txt  \n",
            " extracting: safety_helmet_dataset/test/labels/helmet-139-_jpg.rf.ae48b2f2222155cd351cc5d942f1bdae.txt  \n",
            " extracting: safety_helmet_dataset/test/labels/helmet-155-_jpg.rf.5a3c64b6bc927ef281cce6bfe3fea16f.txt  \n",
            " extracting: safety_helmet_dataset/test/labels/helmet-164-_jpg.rf.d3801c6a5cebe2fba4a5f528cc463d38.txt  \n",
            " extracting: safety_helmet_dataset/test/labels/helmet-170-_jpg.rf.c9687ec2af3c86f2be132833dd3aef6c.txt  \n",
            " extracting: safety_helmet_dataset/test/labels/helmet-182-_jpg.rf.d48ae0584d9795f52996657c5afee0f6.txt  \n",
            " extracting: safety_helmet_dataset/test/labels/helmet-196-_jpg.rf.aba7f4be88ebdb0f1d9c14ca8668d646.txt  \n",
            " extracting: safety_helmet_dataset/test/labels/helmet-2-_jpg.rf.f9d6b25aa9dc46ed0583cc8e7f3c02d3.txt  \n",
            " extracting: safety_helmet_dataset/test/labels/helmet-209-_jpg.rf.f19a8ac6a697ead391bba40d10f0d5a7.txt  \n",
            " extracting: safety_helmet_dataset/test/labels/helmet-24-_jpg.rf.42875278d6a3cb98d7a21a42466bd482.txt  \n",
            " extracting: safety_helmet_dataset/test/labels/helmet-242-_jpg.rf.a95c1aa83afe582986c8e10b65276f9e.txt  \n",
            " extracting: safety_helmet_dataset/test/labels/helmet-246-_jpg.rf.8fd98ab9dbccf6b602216cd35c132fac.txt  \n",
            " extracting: safety_helmet_dataset/test/labels/helmet-256-_jpg.rf.b28696b3ce9843a60738a46d94166eb3.txt  \n",
            " extracting: safety_helmet_dataset/test/labels/helmet-26-_jpg.rf.f253857ab9e7d55d03abd41bf2eec32f.txt  \n",
            " extracting: safety_helmet_dataset/test/labels/helmet-262-_jpg.rf.80cd832b3b68a4038aaca7df34fbf30b.txt  \n",
            " extracting: safety_helmet_dataset/test/labels/helmet-269-_jpg.rf.2b8e58c7477defa6f098ffab8bb34c33.txt  \n",
            " extracting: safety_helmet_dataset/test/labels/helmet-276-_jpg.rf.fa8dd476846d01ae4207ff3a644dddf6.txt  \n",
            " extracting: safety_helmet_dataset/test/labels/helmet-298-_jpg.rf.4e2951a02b247f18964f3f7d183f3e02.txt  \n",
            " extracting: safety_helmet_dataset/test/labels/helmet-30-_jpg.rf.e2b19e25e248543958ec963531016734.txt  \n",
            " extracting: safety_helmet_dataset/test/labels/helmet-307-_jpg.rf.e837255558697c20cf87670512c0045d.txt  \n",
            " extracting: safety_helmet_dataset/test/labels/helmet-328-_jpg.rf.709344def5ec51d0cd17e64634a00a5e.txt  \n",
            " extracting: safety_helmet_dataset/test/labels/helmet-341-_jpg.rf.813f97c55c5987ff0a60fc5b4501501c.txt  \n",
            " extracting: safety_helmet_dataset/test/labels/helmet-342-_jpg.rf.a413372a38474d5b9980cabdd36ade5e.txt  \n",
            " extracting: safety_helmet_dataset/test/labels/helmet-348-_jpg.rf.0742694df03cce9b44cdcf5610fd7cc0.txt  \n",
            " extracting: safety_helmet_dataset/test/labels/helmet-35-_jpg.rf.923ed3b82198a2649fa20b6d83f46f1a.txt  \n",
            " extracting: safety_helmet_dataset/test/labels/helmet-350-_jpg.rf.5a83e1455ee1321ed6b83e6129aec56c.txt  \n",
            " extracting: safety_helmet_dataset/test/labels/helmet-390-_jpg.rf.a0239dd115d10d504255351af2fed164.txt  \n",
            " extracting: safety_helmet_dataset/test/labels/helmet-408-_jpg.rf.727d4ee80efe9cb9f839f97940fdcb19.txt  \n",
            " extracting: safety_helmet_dataset/test/labels/helmet-426-_jpg.rf.6699b13c5c638ad09b8dd56907a391cf.txt  \n",
            " extracting: safety_helmet_dataset/test/labels/helmet-431-_jpg.rf.1ea7b93053ffc0a596665ceb67526e0c.txt  \n",
            " extracting: safety_helmet_dataset/test/labels/helmet-449-_jpg.rf.5f6375d07a19a8950ce708c686710117.txt  \n",
            " extracting: safety_helmet_dataset/test/labels/helmet-461-_jpg.rf.17f4e6c39ac6c06700398464bcc146f1.txt  \n",
            " extracting: safety_helmet_dataset/test/labels/helmet-465-_jpg.rf.c6d00cb00574ce33070405c422eb00a0.txt  \n",
            " extracting: safety_helmet_dataset/test/labels/helmet-482-_jpg.rf.65a397cc587940fbf46eda6ab7c0b20b.txt  \n",
            " extracting: safety_helmet_dataset/test/labels/helmet-486-_jpg.rf.92a01c512c6cc820a3075c31518923e2.txt  \n",
            " extracting: safety_helmet_dataset/test/labels/helmet-500-_jpg.rf.a84e271fb18e730c41de420ae76b9bec.txt  \n",
            " extracting: safety_helmet_dataset/test/labels/helmet-51-_jpg.rf.8cbcf5dd5ffc9f39ab1d474358e23a47.txt  \n",
            " extracting: safety_helmet_dataset/test/labels/helmet-514-_jpg.rf.dddaf4bae68ff2fac01652aa860ac8c8.txt  \n",
            " extracting: safety_helmet_dataset/test/labels/helmet-521-_jpg.rf.283a8e089dc16274a47723a4f216cb70.txt  \n",
            " extracting: safety_helmet_dataset/test/labels/helmet-523-_jpg.rf.3a2966d8862ecc51198cde875790a8cb.txt  \n",
            " extracting: safety_helmet_dataset/test/labels/helmet-525-_jpg.rf.abfd4fd52a38223b6a9fd9aa9325a176.txt  \n",
            " extracting: safety_helmet_dataset/test/labels/helmet-538-_jpg.rf.284b705b61d89c3d3dd9768154a4d92e.txt  \n",
            " extracting: safety_helmet_dataset/test/labels/helmet-57-_jpg.rf.011042b64595377970edee043e9303b2.txt  \n",
            " extracting: safety_helmet_dataset/test/labels/helmet-58-_jpg.rf.b824e4627cadc81e1022917b3a646f7b.txt  \n",
            " extracting: safety_helmet_dataset/test/labels/helmet-60-_jpg.rf.90b2865cc2f6b49f829b27f8ab1245b0.txt  \n",
            " extracting: safety_helmet_dataset/test/labels/helmet-64-_jpg.rf.601dd4f84a0334f5674a0ab4d5ca215d.txt  \n",
            " extracting: safety_helmet_dataset/test/labels/helmet-69-_jpg.rf.cc1eb2fd1cf6935d424ee542fe75261e.txt  \n",
            " extracting: safety_helmet_dataset/test/labels/helmet-8-_jpg.rf.121938a55a8efd4ebc1dc77d752929f6.txt  \n",
            " extracting: safety_helmet_dataset/test/labels/helmet-81-_jpg.rf.a30243020cf2303108e8d3729541586b.txt  \n",
            " extracting: safety_helmet_dataset/test/labels/helmet-83-_jpg.rf.8ad6553dec2b861de5cf7c8ec58203e3.txt  \n",
            " extracting: safety_helmet_dataset/test/labels/helmet-85-_jpg.rf.7abc37f99a4320c257432b2672e916fb.txt  \n",
            " extracting: safety_helmet_dataset/test/labels/helmet-98-_jpg.rf.1b419be3cdbc6ad2d9c36f7db3666d84.txt  \n",
            " extracting: safety_helmet_dataset/test/labels/person-105-_jpg.rf.9ad7f86f411f5a3edca0d85c7f88cd3a.txt  \n",
            " extracting: safety_helmet_dataset/test/labels/person-117-_jpg.rf.60b60862c383d678e939b5f1b02201af.txt  \n",
            " extracting: safety_helmet_dataset/test/labels/person-122-_jpg.rf.925930e5fe7d981d81020d6bccad9a60.txt  \n",
            " extracting: safety_helmet_dataset/test/labels/person-131-_jpg.rf.b4dae2eac93af6a45ae24836c12ea44f.txt  \n",
            " extracting: safety_helmet_dataset/test/labels/person-138-_jpg.rf.ec5b3fbedfeec77c8dbb1476ce6adbcc.txt  \n",
            " extracting: safety_helmet_dataset/test/labels/person-143-_jpg.rf.c9e727c58f9c691d44fc0228383e533d.txt  \n",
            " extracting: safety_helmet_dataset/test/labels/person-147-_jpg.rf.e7fe422622b9e796ff1f34b259a26ef2.txt  \n",
            " extracting: safety_helmet_dataset/test/labels/person-152-_jpg.rf.9fdfe9567ccdef3f946f53e9bd09496c.txt  \n",
            " extracting: safety_helmet_dataset/test/labels/person-159-_jpg.rf.aa45a322483f549aac3f384726f5bf91.txt  \n",
            " extracting: safety_helmet_dataset/test/labels/person-181-_jpg.rf.ce8d25f68d72b907716467d740892f15.txt  \n",
            " extracting: safety_helmet_dataset/test/labels/person-212-_jpg.rf.da73003138ff0e152d94acc92af33955.txt  \n",
            " extracting: safety_helmet_dataset/test/labels/person-216-_jpg.rf.8225c85d2bedfc7464b51a9f11d6ebe9.txt  \n",
            " extracting: safety_helmet_dataset/test/labels/person-221-_jpg.rf.190de3eaf7b913d920d9c2309ff69cca.txt  \n",
            " extracting: safety_helmet_dataset/test/labels/person-223-_jpg.rf.7f1b78aeda98594da25fac27d8402f62.txt  \n",
            " extracting: safety_helmet_dataset/test/labels/person-225-_jpg.rf.3faf0259a01935008af1d3cfdeeb61df.txt  \n",
            " extracting: safety_helmet_dataset/test/labels/person-234-_jpg.rf.e4f41f918c162347d9574d5e6ef46d1d.txt  \n",
            " extracting: safety_helmet_dataset/test/labels/person-252-_jpg.rf.4190b6ddde48010b6ba4307f0fe56fc9.txt  \n",
            " extracting: safety_helmet_dataset/test/labels/person-262-_jpg.rf.41d9ae7f39a9ffa9d62be9d90eaf2761.txt  \n",
            " extracting: safety_helmet_dataset/test/labels/person-267-_jpg.rf.db742eda283ef08f2587717637c175ad.txt  \n",
            " extracting: safety_helmet_dataset/test/labels/person-288-_jpg.rf.a7d53bf4412b7122c748bbc596a3fd06.txt  \n",
            " extracting: safety_helmet_dataset/test/labels/person-294-_jpg.rf.93f2672da6828e7206920fa95635dbed.txt  \n",
            " extracting: safety_helmet_dataset/test/labels/person-312-_jpg.rf.f836575f8f6f378e8b365f08508b4b64.txt  \n",
            " extracting: safety_helmet_dataset/test/labels/person-313-_jpg.rf.fce58e27d2a974083565cf41cafc2610.txt  \n",
            " extracting: safety_helmet_dataset/test/labels/person-315-_jpg.rf.37809d4fec3adef34426df9ccac75868.txt  \n",
            " extracting: safety_helmet_dataset/test/labels/person-321-_jpg.rf.88d7fffdffc0c94102007f97a22957dc.txt  \n",
            " extracting: safety_helmet_dataset/test/labels/person-327-_jpg.rf.b7c7164f53ea3e9644a64d79488fbb33.txt  \n",
            " extracting: safety_helmet_dataset/test/labels/person-334-_jpg.rf.dd3eaf602170309ca2f5e2f886d522ed.txt  \n",
            " extracting: safety_helmet_dataset/test/labels/person-337-_jpg.rf.4aaaec98a2b638373599662a4235013c.txt  \n",
            " extracting: safety_helmet_dataset/test/labels/person-339-_jpg.rf.a84a41d2819cf804b9091d949a28018d.txt  \n",
            " extracting: safety_helmet_dataset/test/labels/person-347-_jpg.rf.51273d7705db3b9856d8413119539393.txt  \n",
            " extracting: safety_helmet_dataset/test/labels/person-349-_jpg.rf.3f5724ab19798a29e7bb4751c7407671.txt  \n",
            " extracting: safety_helmet_dataset/test/labels/person-35-_jpg.rf.de68b8100a3697ece89f92193c47e135.txt  \n",
            " extracting: safety_helmet_dataset/test/labels/person-356-_jpg.rf.c82076db246062cd51770faa5795d99e.txt  \n",
            " extracting: safety_helmet_dataset/test/labels/person-364-_jpg.rf.7584af17b30fb9304846e56155137e5a.txt  \n",
            " extracting: safety_helmet_dataset/test/labels/person-379-_jpg.rf.0878fd2f06268f7e553c6ee76cf3fc5f.txt  \n",
            " extracting: safety_helmet_dataset/test/labels/person-382-_jpg.rf.49f77018989c839496d5f1a13d45f3a9.txt  \n",
            " extracting: safety_helmet_dataset/test/labels/person-387-_jpg.rf.d34c66a254eb56a54b2efe759552c8f5.txt  \n",
            " extracting: safety_helmet_dataset/test/labels/person-395-_jpg.rf.ffb76b67048b9b5bfcf3ce612a6cff66.txt  \n",
            " extracting: safety_helmet_dataset/test/labels/person-428-_jpg.rf.85ed13bc7e64e4fc5560317701360d62.txt  \n",
            " extracting: safety_helmet_dataset/test/labels/person-430-_jpg.rf.b9cd7faae30be376758904b0602e7b3a.txt  \n",
            " extracting: safety_helmet_dataset/test/labels/person-463-_jpg.rf.044ae9c7b391132d47b59a427b7c30b8.txt  \n",
            " extracting: safety_helmet_dataset/test/labels/person-464-_jpg.rf.e6e0bc28a9f204ae6bb1900294fb3d83.txt  \n",
            " extracting: safety_helmet_dataset/test/labels/person-470-_jpg.rf.d1babb3052291391e51aeac16c476936.txt  \n",
            " extracting: safety_helmet_dataset/test/labels/person-483-_jpg.rf.80307465f91fb6cc6039d0ed4f93faa2.txt  \n",
            " extracting: safety_helmet_dataset/test/labels/person-497-_jpg.rf.829207af90f0a48dd92accaf81cd84aa.txt  \n",
            " extracting: safety_helmet_dataset/test/labels/person-499-_jpg.rf.ec1264e00fff2f81c6b79fa8f3b97284.txt  \n",
            " extracting: safety_helmet_dataset/test/labels/person-509-_jpg.rf.8f332fcdb0e9cb2ecc334fe017939499.txt  \n",
            " extracting: safety_helmet_dataset/test/labels/person-522-_jpg.rf.d98670756bd2ca395e1f3bb507bbf654.txt  \n",
            " extracting: safety_helmet_dataset/test/labels/person-533-_jpg.rf.5e932ba3980938ae0f493485ee1a4d52.txt  \n",
            " extracting: safety_helmet_dataset/test/labels/person-535-_jpg.rf.629cf0b56b737d6b9833694eb7a50542.txt  \n",
            " extracting: safety_helmet_dataset/test/labels/person-77-_jpg.rf.857fbbaffc7456df17526d8f4082e730.txt  \n",
            " extracting: safety_helmet_dataset/test/labels/person-9-_jpg.rf.2ee757cbb067a4df46d31028c17270a8.txt  \n",
            "   creating: safety_helmet_dataset/train/\n",
            "   creating: safety_helmet_dataset/train/images/\n",
            " extracting: safety_helmet_dataset/train/images/helmet-1-_jpg.rf.3ababb74ee2ca6aed377f6884ceefabc.jpg  \n",
            " extracting: safety_helmet_dataset/train/images/helmet-101-_jpg.rf.b7ee6351207dd9fb591b7383e855e7e4.jpg  \n",
            " extracting: safety_helmet_dataset/train/images/helmet-102-_jpg.rf.9124550f56fe767da939070244cf9dc1.jpg  \n",
            " extracting: safety_helmet_dataset/train/images/helmet-103-_jpg.rf.cc4d0616a86431c3cd1f239cf8cf6a21.jpg  \n",
            " extracting: safety_helmet_dataset/train/images/helmet-105-_jpg.rf.48aa03d515fff5b8e7861cab37526a63.jpg  \n",
            " extracting: safety_helmet_dataset/train/images/helmet-107-_jpg.rf.b454f2ccc612fe7e086cf5b3ff524cc9.jpg  \n",
            " extracting: safety_helmet_dataset/train/images/helmet-109-_jpg.rf.6cc47279e3faaa0b6cdc0c0bc36440d5.jpg  \n",
            " extracting: safety_helmet_dataset/train/images/helmet-11-_jpg.rf.720aa94258c6e1f49bbbe5fd96511556.jpg  \n",
            " extracting: safety_helmet_dataset/train/images/helmet-111-_jpg.rf.d9ae3f52320430f9d1d8b5136f78570c.jpg  \n",
            " extracting: safety_helmet_dataset/train/images/helmet-112-_jpg.rf.f00f7148d7e542af98c4bd18d019e68b.jpg  \n",
            " extracting: safety_helmet_dataset/train/images/helmet-113-_jpg.rf.224e4c979640131b66a548756f8a6396.jpg  \n",
            " extracting: safety_helmet_dataset/train/images/helmet-114-_jpg.rf.d8259906a6cf89d0015bba5734cde3c3.jpg  \n",
            " extracting: safety_helmet_dataset/train/images/helmet-116-_jpg.rf.b7c7200e6fd051f752d9f141b9885d68.jpg  \n",
            " extracting: safety_helmet_dataset/train/images/helmet-117-_jpg.rf.404d7f2f0f46232cbc2deabc201e1016.jpg  \n",
            " extracting: safety_helmet_dataset/train/images/helmet-118-_jpg.rf.e3a36b381008ff5c8c85ceb02523784f.jpg  \n",
            " extracting: safety_helmet_dataset/train/images/helmet-119-_jpg.rf.964b33d9cacc04d12dc99e7533ce0dd3.jpg  \n",
            " extracting: safety_helmet_dataset/train/images/helmet-120-_jpg.rf.f530c7ecab6fe237e14c5ad1cc924819.jpg  \n",
            " extracting: safety_helmet_dataset/train/images/helmet-121-_jpg.rf.20381c82bfeb582fce3686d0dac2aaef.jpg  \n",
            " extracting: safety_helmet_dataset/train/images/helmet-122-_jpg.rf.39a492e72dfb52958eb40069f66c99b5.jpg  \n",
            " extracting: safety_helmet_dataset/train/images/helmet-123-_jpg.rf.6bb94e1850ea850d15eb0dd1c9819474.jpg  \n",
            " extracting: safety_helmet_dataset/train/images/helmet-124-_jpg.rf.3a947a28e854ae61c0134b2111ead331.jpg  \n",
            " extracting: safety_helmet_dataset/train/images/helmet-125-_jpg.rf.03ccd602b9af3a5a7ed4ca3a88e525e4.jpg  \n",
            " extracting: safety_helmet_dataset/train/images/helmet-126-_jpg.rf.fa2774a7f2f8d82d5d89ab0b40ebad3a.jpg  \n",
            " extracting: safety_helmet_dataset/train/images/helmet-127-_jpg.rf.9e3ddf7ff547da30bf61af647f8de409.jpg  \n",
            " extracting: safety_helmet_dataset/train/images/helmet-13-_jpg.rf.40efdceb104dcedeb1d02fc8ecd350b8.jpg  \n",
            " extracting: safety_helmet_dataset/train/images/helmet-130-_jpg.rf.0fa06ee00c5448d26e169b863b255afe.jpg  \n",
            " extracting: safety_helmet_dataset/train/images/helmet-132-_jpg.rf.7486afccb791ebec90d72f131d47c273.jpg  \n",
            " extracting: safety_helmet_dataset/train/images/helmet-133-_jpg.rf.b4e2d85403d25e4d000e18d7dac3577d.jpg  \n",
            " extracting: safety_helmet_dataset/train/images/helmet-134-_jpg.rf.0911b364e8b92da714e4a2b9c449dcd6.jpg  \n",
            " extracting: safety_helmet_dataset/train/images/helmet-137-_jpg.rf.8a1aa29e7a6b5287fad67eb59a931a78.jpg  \n",
            " extracting: safety_helmet_dataset/train/images/helmet-138-_jpg.rf.d2bb7bae39092aa8ad417cccbdf59916.jpg  \n",
            " extracting: safety_helmet_dataset/train/images/helmet-14-_jpg.rf.3ed8f53664663594b0342458cbd99d5d.jpg  \n",
            " extracting: safety_helmet_dataset/train/images/helmet-140-_jpg.rf.4f45ab70bfa6a3f7a5de18e01409bf88.jpg  \n",
            " extracting: safety_helmet_dataset/train/images/helmet-141-_jpg.rf.909b11046d94f9186fe1b85053dd4854.jpg  \n",
            " extracting: safety_helmet_dataset/train/images/helmet-143-_jpg.rf.d8e1dbbf4cdfb80254cda13db83c5ec3.jpg  \n",
            " extracting: safety_helmet_dataset/train/images/helmet-144-_jpg.rf.59a6d722a276123f52d1833f95dc8e70.jpg  \n",
            " extracting: safety_helmet_dataset/train/images/helmet-145-_jpg.rf.1ac11e1098bfa617be08d5165fa26129.jpg  \n",
            " extracting: safety_helmet_dataset/train/images/helmet-147-_jpg.rf.d2a522d47c2d27c4ff785bf1361459e5.jpg  \n",
            " extracting: safety_helmet_dataset/train/images/helmet-148-_jpg.rf.99de3e8d3fc6be5c7cc6e332579cbcf1.jpg  \n",
            " extracting: safety_helmet_dataset/train/images/helmet-149-_jpg.rf.441c95407956075154a4c1a9f882d91f.jpg  \n",
            " extracting: safety_helmet_dataset/train/images/helmet-15-_jpg.rf.0338c2dde1356d26d993c63cf88f36da.jpg  \n",
            " extracting: safety_helmet_dataset/train/images/helmet-150-_jpg.rf.bb7106c65187da5386ab666cc45e2181.jpg  \n",
            " extracting: safety_helmet_dataset/train/images/helmet-152-_jpg.rf.88e2101ea7f3ba9e8fcd72cc4995827f.jpg  \n",
            " extracting: safety_helmet_dataset/train/images/helmet-153-_jpg.rf.18e487eff750b541a438f7cc33614587.jpg  \n",
            " extracting: safety_helmet_dataset/train/images/helmet-154-_jpg.rf.77808fd85bd1e7adfecdd1657b411d3f.jpg  \n",
            " extracting: safety_helmet_dataset/train/images/helmet-156-_jpg.rf.23b6deca5c4f14a5c8fb34c51374650a.jpg  \n",
            " extracting: safety_helmet_dataset/train/images/helmet-157-_jpg.rf.45dbcbf44cfbd35054428fd8ca663380.jpg  \n",
            " extracting: safety_helmet_dataset/train/images/helmet-158-_jpg.rf.a27e6cbc2f69cf97e9e656f347e332fc.jpg  \n",
            " extracting: safety_helmet_dataset/train/images/helmet-16-_jpg.rf.c286c44d8312568e142d0f07fe625a08.jpg  \n",
            " extracting: safety_helmet_dataset/train/images/helmet-161-_jpg.rf.9ada0ffdee16c259938ef7ee64e475ca.jpg  \n",
            " extracting: safety_helmet_dataset/train/images/helmet-162-_jpg.rf.513467c655febc46b86f431db224bb26.jpg  \n",
            " extracting: safety_helmet_dataset/train/images/helmet-167-_jpg.rf.c30b8276e6c57e53b17c6006c030fa3b.jpg  \n",
            " extracting: safety_helmet_dataset/train/images/helmet-169-_jpg.rf.212d55f0902078c25c5281a653027896.jpg  \n",
            " extracting: safety_helmet_dataset/train/images/helmet-171-_jpg.rf.4041924bb221559b6618ab30a2b86d76.jpg  \n",
            " extracting: safety_helmet_dataset/train/images/helmet-172-_jpg.rf.31b629f98d6485342d28f5fd59881882.jpg  \n",
            " extracting: safety_helmet_dataset/train/images/helmet-173-_jpg.rf.e3032a54be1d76f58f4a8279b3be68f2.jpg  \n",
            " extracting: safety_helmet_dataset/train/images/helmet-174-_jpg.rf.d6a904739bdde8e347654670f0576733.jpg  \n",
            " extracting: safety_helmet_dataset/train/images/helmet-175-_jpg.rf.ff68e936e9be0004a9f10103249cfcb7.jpg  \n",
            " extracting: safety_helmet_dataset/train/images/helmet-176-_jpg.rf.d93897916ffeab46f19dfe63e825851a.jpg  \n",
            " extracting: safety_helmet_dataset/train/images/helmet-178-_jpg.rf.cf01a9f28f492cecfdfd697156183020.jpg  \n",
            " extracting: safety_helmet_dataset/train/images/helmet-179-_jpg.rf.ce2a028e34b0a6e3f0f2f05e089b7e66.jpg  \n",
            " extracting: safety_helmet_dataset/train/images/helmet-18-_jpg.rf.960b66d2c91906246bd79c052abd1aab.jpg  \n",
            " extracting: safety_helmet_dataset/train/images/helmet-180-_jpg.rf.8f11677cc2bc011122c5f626c0105754.jpg  \n",
            " extracting: safety_helmet_dataset/train/images/helmet-181-_jpg.rf.770dd1548526e3ff1e63d5f8232922c2.jpg  \n",
            " extracting: safety_helmet_dataset/train/images/helmet-183-_jpg.rf.acb8d10f7049fed8fb1c59711fa53b4a.jpg  \n",
            " extracting: safety_helmet_dataset/train/images/helmet-184-_jpg.rf.1c8cb75ff49798eef6bac6711aaf2caa.jpg  \n",
            " extracting: safety_helmet_dataset/train/images/helmet-185-_jpg.rf.9d66c220f5bfc54d034538a9d5dec28e.jpg  \n",
            " extracting: safety_helmet_dataset/train/images/helmet-186-_jpg.rf.b64a48ff00541833564bdcbf30adba58.jpg  \n",
            " extracting: safety_helmet_dataset/train/images/helmet-188-_jpg.rf.3abfffaeed0b33f7a5362702956b47ef.jpg  \n",
            " extracting: safety_helmet_dataset/train/images/helmet-19-_jpg.rf.65727e86a52839d9482b48a7fd94d279.jpg  \n",
            " extracting: safety_helmet_dataset/train/images/helmet-190-_jpg.rf.931b32bcffcacc3cb04cf232998277aa.jpg  \n",
            " extracting: safety_helmet_dataset/train/images/helmet-191-_jpg.rf.461b65e2c7190c734f7323e431617d9f.jpg  \n",
            " extracting: safety_helmet_dataset/train/images/helmet-192-_jpg.rf.66bc61ba0849da267c372742eb7f07a4.jpg  \n",
            " extracting: safety_helmet_dataset/train/images/helmet-193-_jpg.rf.bca63785ee0461fca4dbbe92d3f5520d.jpg  \n",
            " extracting: safety_helmet_dataset/train/images/helmet-195-_jpg.rf.8050df8a0ee447e5f8b8a60dec6f0bd9.jpg  \n",
            " extracting: safety_helmet_dataset/train/images/helmet-199-_jpg.rf.1610989ded5fce3982eb4bf4cd8aa34f.jpg  \n",
            " extracting: safety_helmet_dataset/train/images/helmet-20-_jpg.rf.4f26a2e78ff329708133ee8af41b63d1.jpg  \n",
            " extracting: safety_helmet_dataset/train/images/helmet-200-_jpg.rf.4873ed5511bafeee0b6555918fa4cdec.jpg  \n",
            " extracting: safety_helmet_dataset/train/images/helmet-201-_jpg.rf.7b932097ef26be35998ea5ec4e73088c.jpg  \n",
            " extracting: safety_helmet_dataset/train/images/helmet-202-_jpg.rf.d03d4b304fea4a50fc97ddd71a127fe3.jpg  \n",
            " extracting: safety_helmet_dataset/train/images/helmet-203-_jpg.rf.4180e7d4e5833dd12305ef54ac342e43.jpg  \n",
            " extracting: safety_helmet_dataset/train/images/helmet-204-_jpg.rf.ab2de6a7e58a7e09f672c46a16d8f987.jpg  \n",
            " extracting: safety_helmet_dataset/train/images/helmet-205-_jpg.rf.81954f3a7b05a62181adbf889114ecfe.jpg  \n",
            " extracting: safety_helmet_dataset/train/images/helmet-206-_jpg.rf.f113dc237d88f45efa0b998fc99213a3.jpg  \n",
            " extracting: safety_helmet_dataset/train/images/helmet-207-_jpg.rf.f63d668e898e19b99ddfa81c965ef19a.jpg  \n",
            " extracting: safety_helmet_dataset/train/images/helmet-208-_jpg.rf.ddda2ac90d32e4e28a5b26107d0dd78c.jpg  \n",
            " extracting: safety_helmet_dataset/train/images/helmet-21-_jpg.rf.d4d5696a5564c9e3e5b3066940e09657.jpg  \n",
            " extracting: safety_helmet_dataset/train/images/helmet-212-_jpg.rf.b7992145b86fb6a89956740758bd852c.jpg  \n",
            " extracting: safety_helmet_dataset/train/images/helmet-213-_jpg.rf.990346ea6a7b3fb86c4df76265bfafaa.jpg  \n",
            " extracting: safety_helmet_dataset/train/images/helmet-216-_jpg.rf.8230e1323090bc432cb242467ed25bc6.jpg  \n",
            " extracting: safety_helmet_dataset/train/images/helmet-217-_jpg.rf.443a6526a8e37488a70e0222c5c90292.jpg  \n",
            " extracting: safety_helmet_dataset/train/images/helmet-218-_jpg.rf.f99ba5460184e58da4359481961aa959.jpg  \n",
            " extracting: safety_helmet_dataset/train/images/helmet-219-_jpg.rf.812fcc8d80062a3eb8ba4e7895cb2cdc.jpg  \n",
            " extracting: safety_helmet_dataset/train/images/helmet-220-_jpg.rf.514668bdb49b3deea9e153f3deeaf89f.jpg  \n",
            " extracting: safety_helmet_dataset/train/images/helmet-223-_jpg.rf.89746b926afa8fa5b6873d9af9323797.jpg  \n",
            " extracting: safety_helmet_dataset/train/images/helmet-224-_jpg.rf.df654551f3068f9804046f0b9790f531.jpg  \n",
            " extracting: safety_helmet_dataset/train/images/helmet-225-_jpg.rf.43df31869510a2ae87d8ec23f014802f.jpg  \n",
            " extracting: safety_helmet_dataset/train/images/helmet-226-_jpg.rf.5df6568834119f071bfb5bafe255af02.jpg  \n",
            " extracting: safety_helmet_dataset/train/images/helmet-227-_jpg.rf.5c6334f6aa33811571f2b05c5e57d348.jpg  \n",
            " extracting: safety_helmet_dataset/train/images/helmet-229-_jpg.rf.b804fb2b24fbca184c4b57b662ace667.jpg  \n",
            " extracting: safety_helmet_dataset/train/images/helmet-23-_jpg.rf.0f9adcee7ae2cc5b3f48852f0aec28db.jpg  \n",
            " extracting: safety_helmet_dataset/train/images/helmet-230-_jpg.rf.a9fe99fbbc401e7ea4132a34ea8846df.jpg  \n",
            " extracting: safety_helmet_dataset/train/images/helmet-231-_jpg.rf.e267178a707e2c775ef45f9e4d20e9ee.jpg  \n",
            " extracting: safety_helmet_dataset/train/images/helmet-232-_jpg.rf.cae6a92d5cd8cc7cca0e7b3ccf4f39ec.jpg  \n",
            " extracting: safety_helmet_dataset/train/images/helmet-234-_jpg.rf.47beb19520db0a509a88928ca12c5900.jpg  \n",
            " extracting: safety_helmet_dataset/train/images/helmet-235-_jpg.rf.21dde72041d6f716051f00b479405003.jpg  \n",
            " extracting: safety_helmet_dataset/train/images/helmet-236-_jpg.rf.a412c905dffedcc152ba9cf82b4629e6.jpg  \n",
            " extracting: safety_helmet_dataset/train/images/helmet-237-_jpg.rf.1b396798df07a84e0f54e4a405555202.jpg  \n",
            " extracting: safety_helmet_dataset/train/images/helmet-238-_jpg.rf.636ba09d448d92da455ba431579a1585.jpg  \n",
            " extracting: safety_helmet_dataset/train/images/helmet-239-_jpg.rf.f48bd0aab25711b654ec2ff2d5f0023d.jpg  \n",
            " extracting: safety_helmet_dataset/train/images/helmet-240-_jpg.rf.542458251772304f0d2e28705cfb3941.jpg  \n",
            " extracting: safety_helmet_dataset/train/images/helmet-241-_jpg.rf.28e980ec01a344551a47e8dea9c37540.jpg  \n",
            " extracting: safety_helmet_dataset/train/images/helmet-243-_jpg.rf.405c46de1b293c543a61e731d899a0db.jpg  \n",
            " extracting: safety_helmet_dataset/train/images/helmet-245-_jpg.rf.585b46893822d8186b5e406dbaed7b3e.jpg  \n",
            " extracting: safety_helmet_dataset/train/images/helmet-247-_jpg.rf.cb6dcfeb3c3f5d265f20d044e8a619de.jpg  \n",
            " extracting: safety_helmet_dataset/train/images/helmet-248-_jpg.rf.2a44ee435b81065076a1de655280d674.jpg  \n",
            " extracting: safety_helmet_dataset/train/images/helmet-249-_jpg.rf.e44a6751e580bb7826ac64de87b82594.jpg  \n",
            " extracting: safety_helmet_dataset/train/images/helmet-25-_jpg.rf.d205a6c9237770cc62ad512978b9bb54.jpg  \n",
            " extracting: safety_helmet_dataset/train/images/helmet-251-_jpg.rf.eeb45f29fd46945c63a97b61c21fc148.jpg  \n",
            " extracting: safety_helmet_dataset/train/images/helmet-253-_jpg.rf.d80003a41c41b753ba7c03e642ed87e2.jpg  \n",
            " extracting: safety_helmet_dataset/train/images/helmet-254-_jpg.rf.7fb1c2f622d0e59885656b4759a6f87b.jpg  \n",
            " extracting: safety_helmet_dataset/train/images/helmet-255-_jpg.rf.216ac61acfff2377751b3825ed3b52b3.jpg  \n",
            " extracting: safety_helmet_dataset/train/images/helmet-257-_jpg.rf.4dc549a016c0d7f6f9cf5b14fcc7a7e5.jpg  \n",
            " extracting: safety_helmet_dataset/train/images/helmet-258-_jpg.rf.badd816d55235133dfe02696017d7565.jpg  \n",
            " extracting: safety_helmet_dataset/train/images/helmet-259-_jpg.rf.c610dc34f9ad1e6ebf65638eba4bc718.jpg  \n",
            " extracting: safety_helmet_dataset/train/images/helmet-260-_jpg.rf.95c268b67f5338ebaa52066370e2181e.jpg  \n",
            " extracting: safety_helmet_dataset/train/images/helmet-261-_jpg.rf.cfd010578681e548f0438a621acca0b8.jpg  \n",
            " extracting: safety_helmet_dataset/train/images/helmet-263-_jpg.rf.b0190282ccce92280c612c59cc2bb4db.jpg  \n",
            " extracting: safety_helmet_dataset/train/images/helmet-264-_jpg.rf.280e6a8f3c418260a43957fa8580354d.jpg  \n",
            " extracting: safety_helmet_dataset/train/images/helmet-265-_jpg.rf.b7d8c7dfd0e2c48a315ae608004b50ce.jpg  \n",
            " extracting: safety_helmet_dataset/train/images/helmet-266-_jpg.rf.661994a0c176688fa4907e027a151c22.jpg  \n",
            " extracting: safety_helmet_dataset/train/images/helmet-267-_jpg.rf.9cfbdf4078e8ca4a23d6088aa63b5f0b.jpg  \n",
            " extracting: safety_helmet_dataset/train/images/helmet-27-_jpg.rf.de3cb283a0eb1977730fb426a3bfb683.jpg  \n",
            " extracting: safety_helmet_dataset/train/images/helmet-270-_jpg.rf.0a9d30b245fe9d8a5bcd3683954a5570.jpg  \n",
            " extracting: safety_helmet_dataset/train/images/helmet-271-_jpg.rf.f32dc8e4993f6a2524ed11d688666295.jpg  \n",
            " extracting: safety_helmet_dataset/train/images/helmet-273-_jpg.rf.a683aa28a88bc4c4e5699dc0119ba949.jpg  \n",
            " extracting: safety_helmet_dataset/train/images/helmet-274-_jpg.rf.9d560cfe3dd0d301f00f46b6822805cd.jpg  \n",
            " extracting: safety_helmet_dataset/train/images/helmet-277-_jpg.rf.64ec23f8bb53c39b01d429f7542e0ee3.jpg  \n",
            " extracting: safety_helmet_dataset/train/images/helmet-278-_jpg.rf.117a52a019b09daf86a770a0b00bf136.jpg  \n",
            " extracting: safety_helmet_dataset/train/images/helmet-28-_jpg.rf.1ba58295ba73bd5daa6fa529ac07d23e.jpg  \n",
            " extracting: safety_helmet_dataset/train/images/helmet-281-_jpg.rf.080594d5d8e303d93d4f0d915af883d8.jpg  \n",
            " extracting: safety_helmet_dataset/train/images/helmet-282-_jpg.rf.357da7e7de7b761fdd457f480fb94cda.jpg  \n",
            " extracting: safety_helmet_dataset/train/images/helmet-284-_jpg.rf.97809ec7737810a8db5cc8c68f328c99.jpg  \n",
            " extracting: safety_helmet_dataset/train/images/helmet-285-_jpg.rf.8a47dfd6d534b72fbaa498bb85eac35b.jpg  \n",
            " extracting: safety_helmet_dataset/train/images/helmet-286-_jpg.rf.6ba20f5e65376c4b8d258d5f68e901df.jpg  \n",
            " extracting: safety_helmet_dataset/train/images/helmet-287-_jpg.rf.184c947adf7bbd0c5069f17c960a673c.jpg  \n",
            " extracting: safety_helmet_dataset/train/images/helmet-288-_jpg.rf.64f35b34036f3d38eb4b54a35fe5f620.jpg  \n",
            " extracting: safety_helmet_dataset/train/images/helmet-289-_jpg.rf.1487c27b1aa2d839bf5862bdee546f61.jpg  \n",
            " extracting: safety_helmet_dataset/train/images/helmet-290-_jpg.rf.d3dda8a249ff510a0913f5c49238414b.jpg  \n",
            " extracting: safety_helmet_dataset/train/images/helmet-291-_jpg.rf.cfa382184ad9b0eee2222d7b0468ce50.jpg  \n",
            " extracting: safety_helmet_dataset/train/images/helmet-294-_jpg.rf.ca3aa52673d4edb75b583fcad0fc49a6.jpg  \n",
            " extracting: safety_helmet_dataset/train/images/helmet-295-_jpg.rf.63600252bb458dc053f546c828e600c9.jpg  \n",
            " extracting: safety_helmet_dataset/train/images/helmet-296-_jpg.rf.abab89b5a3be3c103194b48c08b28f47.jpg  \n",
            " extracting: safety_helmet_dataset/train/images/helmet-297-_jpg.rf.3679139f053756c1889599d49d48e644.jpg  \n",
            " extracting: safety_helmet_dataset/train/images/helmet-299-_jpg.rf.6f759d14f6c42d22ae12b938b0fc62b9.jpg  \n",
            " extracting: safety_helmet_dataset/train/images/helmet-3-_jpg.rf.61ed0ab9202a3d098baf58c6ee718495.jpg  \n",
            " extracting: safety_helmet_dataset/train/images/helmet-301-_jpg.rf.259e8a217fd3e8769277a3b64737a9b8.jpg  \n",
            " extracting: safety_helmet_dataset/train/images/helmet-302-_jpg.rf.c76a55a9d2a1918b7e6b6208b5009150.jpg  \n",
            " extracting: safety_helmet_dataset/train/images/helmet-303-_jpg.rf.d8eb58ef7c9085d5f04812a44ce2c2db.jpg  \n",
            " extracting: safety_helmet_dataset/train/images/helmet-305-_jpg.rf.50db01aa535be0b68da00041babd8621.jpg  \n",
            " extracting: safety_helmet_dataset/train/images/helmet-308-_jpg.rf.d2a2b70a166a0ce35eb766a06b93730f.jpg  \n",
            " extracting: safety_helmet_dataset/train/images/helmet-309-_jpg.rf.4e2f572d97ba6d306766decefa25f5c8.jpg  \n",
            " extracting: safety_helmet_dataset/train/images/helmet-31-_jpg.rf.a0ab17f909082fe28f2a06e75a76fc74.jpg  \n",
            " extracting: safety_helmet_dataset/train/images/helmet-313-_jpg.rf.46b7fde8361bc39063a4abb7315edcba.jpg  \n",
            " extracting: safety_helmet_dataset/train/images/helmet-314-_jpg.rf.31881c4c314a1e95eeaf2e4f3dffcba9.jpg  \n",
            " extracting: safety_helmet_dataset/train/images/helmet-315-_jpg.rf.31bf326465c150d555a12f3b44a3fb83.jpg  \n",
            " extracting: safety_helmet_dataset/train/images/helmet-316-_jpg.rf.801d92b774384af1363a6dc49202d985.jpg  \n",
            " extracting: safety_helmet_dataset/train/images/helmet-317-_jpg.rf.d63720825cdde4b2b8f9e3eb6644f40e.jpg  \n",
            " extracting: safety_helmet_dataset/train/images/helmet-318-_jpg.rf.0afd4f88ffe0125cfdde303ed24fe674.jpg  \n",
            " extracting: safety_helmet_dataset/train/images/helmet-319-_jpg.rf.6a4b83cf10e39473cc41f73ff6f377df.jpg  \n",
            " extracting: safety_helmet_dataset/train/images/helmet-32-_jpg.rf.6264387c61243ec2fa0977b8c7af9840.jpg  \n",
            " extracting: safety_helmet_dataset/train/images/helmet-320-_jpg.rf.59c659fe18a95ec331167410355052a9.jpg  \n",
            " extracting: safety_helmet_dataset/train/images/helmet-321-_jpg.rf.042de956137bbe85d1dadc10e537d071.jpg  \n",
            " extracting: safety_helmet_dataset/train/images/helmet-323-_jpg.rf.53b34ea8322574227f270983e96be524.jpg  \n",
            " extracting: safety_helmet_dataset/train/images/helmet-324-_jpg.rf.af956d04d37a24eaa540472bd7625364.jpg  \n",
            " extracting: safety_helmet_dataset/train/images/helmet-325-_jpg.rf.b10167a27a1d1d9951de1e3e8cd6ea6f.jpg  \n",
            " extracting: safety_helmet_dataset/train/images/helmet-326-_jpg.rf.32a15a7c7de0bd6694b12399643bce0b.jpg  \n",
            " extracting: safety_helmet_dataset/train/images/helmet-327-_jpg.rf.5928771c9a8d7386ed0f6e0bebeed34a.jpg  \n",
            " extracting: safety_helmet_dataset/train/images/helmet-329-_jpg.rf.38321d466f77663da4d336a2bdf25cbe.jpg  \n",
            " extracting: safety_helmet_dataset/train/images/helmet-33-_jpg.rf.b095df4853b4d11deabc060e5c11b211.jpg  \n",
            " extracting: safety_helmet_dataset/train/images/helmet-330-_jpg.rf.efcafc9b47865dafa83d7dcb04866448.jpg  \n",
            " extracting: safety_helmet_dataset/train/images/helmet-333-_jpg.rf.cb92d6d1fbdf93cf4e3397082ee4fb7a.jpg  \n",
            " extracting: safety_helmet_dataset/train/images/helmet-334-_jpg.rf.9eb3a5be4353cbdd4a71ec472010a285.jpg  \n",
            " extracting: safety_helmet_dataset/train/images/helmet-335-_jpg.rf.83a3b6d0671961b5f38351cbf5a04b0b.jpg  \n",
            " extracting: safety_helmet_dataset/train/images/helmet-336-_jpg.rf.a64b098570fa75e2ba002a4bedb7a35a.jpg  \n",
            " extracting: safety_helmet_dataset/train/images/helmet-337-_jpg.rf.130979fa2ac811777ee0367bfbdd7955.jpg  \n",
            " extracting: safety_helmet_dataset/train/images/helmet-338-_jpg.rf.89d3cd78fadea06a0caafca74200bee9.jpg  \n",
            " extracting: safety_helmet_dataset/train/images/helmet-34-_jpg.rf.a11582c2c7bcb360af0ddccff5e69baa.jpg  \n",
            " extracting: safety_helmet_dataset/train/images/helmet-340-_jpg.rf.b3e087dc84f4ec8cffdd965c3c167d40.jpg  \n",
            " extracting: safety_helmet_dataset/train/images/helmet-344-_jpg.rf.2d7a9b126842c0a7d8c4a0a446d16188.jpg  \n",
            " extracting: safety_helmet_dataset/train/images/helmet-345-_jpg.rf.351f2a7f1afc4a777795fb012c71487d.jpg  \n",
            " extracting: safety_helmet_dataset/train/images/helmet-346-_jpg.rf.ef722b3abdf8e04748e27c610ad6a8d3.jpg  \n",
            " extracting: safety_helmet_dataset/train/images/helmet-347-_jpg.rf.04324487b1fdb6fed6f9dae6148be8f8.jpg  \n",
            " extracting: safety_helmet_dataset/train/images/helmet-349-_jpg.rf.16ac01a567c5fafbe4b31291331960a2.jpg  \n",
            " extracting: safety_helmet_dataset/train/images/helmet-351-_jpg.rf.e929125dedb278efc8ece0f80a729667.jpg  \n",
            " extracting: safety_helmet_dataset/train/images/helmet-352-_jpg.rf.f7c019e6fd9bad3783384406602e35bc.jpg  \n",
            " extracting: safety_helmet_dataset/train/images/helmet-354-_jpg.rf.569f5ffd294691019bb4e1c102db2dbd.jpg  \n",
            " extracting: safety_helmet_dataset/train/images/helmet-356-_jpg.rf.bf58f9958ad43b946820dd3cc760df98.jpg  \n",
            " extracting: safety_helmet_dataset/train/images/helmet-357-_jpg.rf.c7fc77b1f50426cc420fae6aa06d5daa.jpg  \n",
            " extracting: safety_helmet_dataset/train/images/helmet-359-_jpg.rf.08ab0ce7df40018c2b7e8164e2cbe800.jpg  \n",
            " extracting: safety_helmet_dataset/train/images/helmet-36-_jpg.rf.f3aef26712edd7c69f09d50a012a9f21.jpg  \n",
            " extracting: safety_helmet_dataset/train/images/helmet-360-_jpg.rf.0c58b4364e67a1bff6fd776a1b9c7576.jpg  \n",
            " extracting: safety_helmet_dataset/train/images/helmet-362-_jpg.rf.8bf31d5a5ad0a3d0d45833b8fd40d874.jpg  \n",
            " extracting: safety_helmet_dataset/train/images/helmet-363-_jpg.rf.004c94c8cfb5c1d9f348eeab58a08916.jpg  \n",
            " extracting: safety_helmet_dataset/train/images/helmet-364-_jpg.rf.a3fbe180f154557a5b2780b1dc4ec179.jpg  \n",
            " extracting: safety_helmet_dataset/train/images/helmet-365-_jpg.rf.ce7108093f38d966e72f0ec94d6058f3.jpg  \n",
            " extracting: safety_helmet_dataset/train/images/helmet-366-_jpg.rf.4422cb58e7647a40fdec018704969e07.jpg  \n",
            " extracting: safety_helmet_dataset/train/images/helmet-367-_jpg.rf.6469bb5351acd26d266782259068b438.jpg  \n",
            " extracting: safety_helmet_dataset/train/images/helmet-369-_jpg.rf.d13408f5dcdd96d22c033d9fa96379a1.jpg  \n",
            " extracting: safety_helmet_dataset/train/images/helmet-37-_jpg.rf.38ba4edb2397594df07498a37f3f50b7.jpg  \n",
            " extracting: safety_helmet_dataset/train/images/helmet-370-_jpg.rf.ce197d9ab00d2728981a0b088f788d8a.jpg  \n",
            " extracting: safety_helmet_dataset/train/images/helmet-371-_jpg.rf.16f29fda4d210ab2549de379e8ee91e6.jpg  \n",
            " extracting: safety_helmet_dataset/train/images/helmet-372-_jpg.rf.bf21d246843400b24a3b2e39a28f6bab.jpg  \n",
            " extracting: safety_helmet_dataset/train/images/helmet-373-_jpg.rf.1a5cd1fd2d95b9a54766ea2dd4ef53c8.jpg  \n",
            " extracting: safety_helmet_dataset/train/images/helmet-374-_jpg.rf.bd7a55697a1f2ba5335056687fd720fa.jpg  \n",
            " extracting: safety_helmet_dataset/train/images/helmet-375-_jpg.rf.95f97e9aa38b83861d626a7465186bdb.jpg  \n",
            " extracting: safety_helmet_dataset/train/images/helmet-377-_jpg.rf.70971dd9055d4306f84df20f8823ba5e.jpg  \n",
            " extracting: safety_helmet_dataset/train/images/helmet-378-_jpg.rf.b0fae4d3ea4450c37dabd24d764f55c1.jpg  \n",
            " extracting: safety_helmet_dataset/train/images/helmet-379-_jpg.rf.a436261861683bfdf89195cb192efcfc.jpg  \n",
            " extracting: safety_helmet_dataset/train/images/helmet-380-_jpg.rf.feddd6c2dbf04f61d50241b663ee9aad.jpg  \n",
            " extracting: safety_helmet_dataset/train/images/helmet-381-_jpg.rf.1dbc794bc6c2f183d156926a3a6118c9.jpg  \n",
            " extracting: safety_helmet_dataset/train/images/helmet-382-_jpg.rf.d7b96906f80ebc53080f74c848436e28.jpg  \n",
            " extracting: safety_helmet_dataset/train/images/helmet-383-_jpg.rf.1cd3188dff4c4bb97d5e0da38dd772d0.jpg  \n",
            " extracting: safety_helmet_dataset/train/images/helmet-384-_jpg.rf.f2c364fc76be9ceadaf6cf76e16c7486.jpg  \n",
            " extracting: safety_helmet_dataset/train/images/helmet-385-_jpg.rf.44a07c4652717edad66ec2275f9b4c1b.jpg  \n",
            " extracting: safety_helmet_dataset/train/images/helmet-386-_jpg.rf.b0d49b9728198b2d49e0049941a1ff9c.jpg  \n",
            " extracting: safety_helmet_dataset/train/images/helmet-387-_jpg.rf.adbce4323678e9db352aa02c0a4159bc.jpg  \n",
            " extracting: safety_helmet_dataset/train/images/helmet-39-_jpg.rf.ff1c62de412b6931a4690a4eaef5794c.jpg  \n",
            " extracting: safety_helmet_dataset/train/images/helmet-392-_jpg.rf.f476b5c3c5db939b38ceb431f884c4e0.jpg  \n",
            " extracting: safety_helmet_dataset/train/images/helmet-393-_jpg.rf.3f8434ee85fd1092c703fe70470d3406.jpg  \n",
            " extracting: safety_helmet_dataset/train/images/helmet-395-_jpg.rf.dde5007d1e7f01fdb3d912d6471581ff.jpg  \n",
            " extracting: safety_helmet_dataset/train/images/helmet-396-_jpg.rf.4a3d8c35af5557657badbc1594672727.jpg  \n",
            " extracting: safety_helmet_dataset/train/images/helmet-397-_jpg.rf.8ae1cde13e09c52b46201717a173f3f6.jpg  \n",
            " extracting: safety_helmet_dataset/train/images/helmet-398-_jpg.rf.a8b702cc4d1fb3e1356d7deb31a641eb.jpg  \n",
            " extracting: safety_helmet_dataset/train/images/helmet-4-_jpg.rf.c6f822d9660d9321cdc8f48343ddaafd.jpg  \n",
            " extracting: safety_helmet_dataset/train/images/helmet-40-_jpg.rf.d5bafb151f7ce9b565baa1b010187dc3.jpg  \n",
            " extracting: safety_helmet_dataset/train/images/helmet-400-_jpg.rf.6c4b62e95442b516f6cca6c0cee1e126.jpg  \n",
            " extracting: safety_helmet_dataset/train/images/helmet-401-_jpg.rf.2b80639233edce0a9c77e75537257848.jpg  \n",
            " extracting: safety_helmet_dataset/train/images/helmet-402-_jpg.rf.c6377fb246b0a1c44182263e3c2d33cb.jpg  \n",
            " extracting: safety_helmet_dataset/train/images/helmet-403-_jpg.rf.10ffa27618e408ba8298736b4271a2d1.jpg  \n",
            " extracting: safety_helmet_dataset/train/images/helmet-404-_jpg.rf.0e329cc36871e8624c445de39b3f89f5.jpg  \n",
            " extracting: safety_helmet_dataset/train/images/helmet-405-_jpg.rf.fb9e170bebbc1904e626742bc2683c4a.jpg  \n",
            " extracting: safety_helmet_dataset/train/images/helmet-406-_jpg.rf.f7a176e07c8e471b394e42a85059e86b.jpg  \n",
            " extracting: safety_helmet_dataset/train/images/helmet-407-_jpg.rf.e2926233eedd0a14550a74712c2f60e3.jpg  \n",
            " extracting: safety_helmet_dataset/train/images/helmet-409-_jpg.rf.0ac6f021412d51018d0a1f7d1a5431b1.jpg  \n",
            " extracting: safety_helmet_dataset/train/images/helmet-41-_jpg.rf.a1359688ee5d269163c831a56e412fb4.jpg  \n",
            " extracting: safety_helmet_dataset/train/images/helmet-410-_jpg.rf.70c094ee14b3a977229d7f98ec0e3ce8.jpg  \n",
            " extracting: safety_helmet_dataset/train/images/helmet-411-_jpg.rf.435e091836dc8546824c93c91c8bb238.jpg  \n",
            " extracting: safety_helmet_dataset/train/images/helmet-412-_jpg.rf.e24dffcc013e22e33eb85323003f6bd5.jpg  \n",
            " extracting: safety_helmet_dataset/train/images/helmet-413-_jpg.rf.612f83ca447d4b9b08b9be4d5cc222d3.jpg  \n",
            " extracting: safety_helmet_dataset/train/images/helmet-414-_jpg.rf.347b078d0eb6ecc02e88f405b6152b3f.jpg  \n",
            " extracting: safety_helmet_dataset/train/images/helmet-415-_jpg.rf.b0caa62dc165515be246f8862326c66e.jpg  \n",
            " extracting: safety_helmet_dataset/train/images/helmet-417-_jpg.rf.865520fcb3a9a8c09e6d47fdedaf658f.jpg  \n",
            " extracting: safety_helmet_dataset/train/images/helmet-418-_jpg.rf.7cdb31edfb3734f449fc8537c11827e0.jpg  \n",
            " extracting: safety_helmet_dataset/train/images/helmet-419-_jpg.rf.6189b62b740200997e1cde3b80cc4487.jpg  \n",
            " extracting: safety_helmet_dataset/train/images/helmet-42-_jpg.rf.5da8df5f5a3a8958909bcf6a5eb5c0f4.jpg  \n",
            " extracting: safety_helmet_dataset/train/images/helmet-420-_jpg.rf.7eabe0caaf8c738edcb4bef752f25cf2.jpg  \n",
            " extracting: safety_helmet_dataset/train/images/helmet-421-_jpg.rf.f0fb35d8f5e258308a5a70bd8e552ce7.jpg  \n",
            " extracting: safety_helmet_dataset/train/images/helmet-422-_jpg.rf.30c93011c547e03534286435202ba90d.jpg  \n",
            " extracting: safety_helmet_dataset/train/images/helmet-424-_jpg.rf.3d2e7b659968ef7ee10d874c6979f0cb.jpg  \n",
            " extracting: safety_helmet_dataset/train/images/helmet-425-_jpg.rf.872a3d6751b69596009713e1f3b4c35c.jpg  \n",
            " extracting: safety_helmet_dataset/train/images/helmet-427-_jpg.rf.96d05b2e42d87dab51ee9fcb2c45d449.jpg  \n",
            " extracting: safety_helmet_dataset/train/images/helmet-428-_jpg.rf.65a8809776b5d742393ba35fea787387.jpg  \n",
            " extracting: safety_helmet_dataset/train/images/helmet-429-_jpg.rf.e30d1b5455c433d2494c6aaaa3deece6.jpg  \n",
            " extracting: safety_helmet_dataset/train/images/helmet-43-_jpg.rf.ce934d7b05f7733f5961b477edd19564.jpg  \n",
            " extracting: safety_helmet_dataset/train/images/helmet-430-_jpg.rf.c979e114022e936f903785fed4ba61a6.jpg  \n",
            " extracting: safety_helmet_dataset/train/images/helmet-432-_jpg.rf.f47b4de333e4251295d1b8360a412b35.jpg  \n",
            " extracting: safety_helmet_dataset/train/images/helmet-433-_jpg.rf.2d86ca159dad6eb61d5d5c8a74896f4d.jpg  \n",
            " extracting: safety_helmet_dataset/train/images/helmet-434-_jpg.rf.06c9699d0ebe3948442061e63277fa41.jpg  \n",
            " extracting: safety_helmet_dataset/train/images/helmet-436-_jpg.rf.6ff1dbf65b34efa90534782d5cca76a8.jpg  \n",
            " extracting: safety_helmet_dataset/train/images/helmet-437-_jpg.rf.df0bf7729bb9bb24ba179f2c76475fbf.jpg  \n",
            " extracting: safety_helmet_dataset/train/images/helmet-44-_jpg.rf.e3099dd0b9a3a4c6da4201f4da940097.jpg  \n",
            " extracting: safety_helmet_dataset/train/images/helmet-440-_jpg.rf.4075723309d5a7737ea76037e5eb4f90.jpg  \n",
            " extracting: safety_helmet_dataset/train/images/helmet-441-_jpg.rf.d64c371b9a42c279cbea0808b12e8247.jpg  \n",
            " extracting: safety_helmet_dataset/train/images/helmet-442-_jpg.rf.d1a53352a22f552b154d5a971e0883ef.jpg  \n",
            " extracting: safety_helmet_dataset/train/images/helmet-445-_jpg.rf.f5e24d575bac47e4f51f6982fdac0356.jpg  \n",
            " extracting: safety_helmet_dataset/train/images/helmet-446-_jpg.rf.3223cdc28b76f7e567b43e45ab1e0ca6.jpg  \n",
            " extracting: safety_helmet_dataset/train/images/helmet-45-_jpg.rf.f12d8d1833cbcf2482f3db7625a9ef3b.jpg  \n",
            " extracting: safety_helmet_dataset/train/images/helmet-450-_jpg.rf.15dc1d7069b831470255516e818a1666.jpg  \n",
            " extracting: safety_helmet_dataset/train/images/helmet-451-_jpg.rf.05be3379bf8f305dc1163afd0ea4fff4.jpg  \n",
            " extracting: safety_helmet_dataset/train/images/helmet-454-_jpg.rf.1b80189485c99ffd0f5963a60c85c5f4.jpg  \n",
            " extracting: safety_helmet_dataset/train/images/helmet-455-_jpg.rf.0a2ba08b4610a2f5711d71165f6529a3.jpg  \n",
            " extracting: safety_helmet_dataset/train/images/helmet-456-_jpg.rf.95c7e1cb4ad4209fe9dbd642aba85e57.jpg  \n",
            " extracting: safety_helmet_dataset/train/images/helmet-458-_jpg.rf.5ca4671d20a8bbc341d3fade3dcd798f.jpg  \n",
            " extracting: safety_helmet_dataset/train/images/helmet-46-_jpg.rf.25adca2e5a72f18850f1f4110caf2b34.jpg  \n",
            " extracting: safety_helmet_dataset/train/images/helmet-460-_jpg.rf.2afb386a764e71285c8cb02ea4d8b417.jpg  \n",
            " extracting: safety_helmet_dataset/train/images/helmet-462-_jpg.rf.29079ddc03b1412816d04aeb3b29b7aa.jpg  \n",
            " extracting: safety_helmet_dataset/train/images/helmet-463-_jpg.rf.14f20827a97c4d2deaec41d84d2b7edd.jpg  \n",
            " extracting: safety_helmet_dataset/train/images/helmet-464-_jpg.rf.4ef25f60d96344106d0cdc013dfbcc27.jpg  \n",
            " extracting: safety_helmet_dataset/train/images/helmet-466-_jpg.rf.437f862ace129af3794caf7f7caf5057.jpg  \n",
            " extracting: safety_helmet_dataset/train/images/helmet-467-_jpg.rf.fbe4f44aa3bc34ed77166d3959f6b7bf.jpg  \n",
            " extracting: safety_helmet_dataset/train/images/helmet-468-_jpg.rf.87379cee52bf94293bcaa372915e138f.jpg  \n",
            " extracting: safety_helmet_dataset/train/images/helmet-470-_jpg.rf.b9bf799e8111c811fceb405694b3b200.jpg  \n",
            " extracting: safety_helmet_dataset/train/images/helmet-472-_jpg.rf.9bcb626bfbc6ecc464129ecc5f15a0d4.jpg  \n",
            " extracting: safety_helmet_dataset/train/images/helmet-473-_jpg.rf.8bc50314af1c616d02c2a004225767a7.jpg  \n",
            " extracting: safety_helmet_dataset/train/images/helmet-474-_jpg.rf.dda38902ba7d358ed4aa29c4b4897db3.jpg  \n",
            " extracting: safety_helmet_dataset/train/images/helmet-475-_jpg.rf.d350ed6483db62838aa70260c3025c44.jpg  \n",
            " extracting: safety_helmet_dataset/train/images/helmet-476-_jpg.rf.33cedc3b1ca1ca4101bb43574be84e30.jpg  \n",
            " extracting: safety_helmet_dataset/train/images/helmet-477-_jpg.rf.3c9399be40d3193c1963da984cca3bdb.jpg  \n",
            " extracting: safety_helmet_dataset/train/images/helmet-478-_jpg.rf.97ff481b3e374f248d8abd5e18478689.jpg  \n",
            " extracting: safety_helmet_dataset/train/images/helmet-479-_jpg.rf.4342b622f9c20b7d1dc556bcc9749291.jpg  \n",
            " extracting: safety_helmet_dataset/train/images/helmet-48-_jpg.rf.89fff4bc37feed89059a48405e8f7918.jpg  \n",
            " extracting: safety_helmet_dataset/train/images/helmet-480-_jpg.rf.868fe21176326e8fbb131886084d20e0.jpg  \n",
            " extracting: safety_helmet_dataset/train/images/helmet-483-_jpg.rf.5e7edcb76539f0bf66cb5a985e9af228.jpg  \n",
            " extracting: safety_helmet_dataset/train/images/helmet-484-_jpg.rf.b07d63f743e17f8465ae901eaffc7689.jpg  \n",
            " extracting: safety_helmet_dataset/train/images/helmet-485-_jpg.rf.2b5162254fab1105820e806e8bc01ae4.jpg  \n",
            " extracting: safety_helmet_dataset/train/images/helmet-487-_jpg.rf.255809c8b3f09dfd30a32d323ac96654.jpg  \n",
            " extracting: safety_helmet_dataset/train/images/helmet-489-_jpg.rf.ba6b7f990ce3bc0abeb083b12e8497a3.jpg  \n",
            " extracting: safety_helmet_dataset/train/images/helmet-49-_jpg.rf.07ddc709bd318cda7b981b4eb454526b.jpg  \n",
            " extracting: safety_helmet_dataset/train/images/helmet-490-_jpg.rf.6975fec2d3cd2923662a72843f197102.jpg  \n",
            " extracting: safety_helmet_dataset/train/images/helmet-492-_jpg.rf.5eb339bfbb30e61ead9fc2a206633df3.jpg  \n",
            " extracting: safety_helmet_dataset/train/images/helmet-493-_jpg.rf.b060332d995d448144d265ad8e03dd0d.jpg  \n",
            " extracting: safety_helmet_dataset/train/images/helmet-494-_jpg.rf.c6957fbb5a0e1c9bb7081222ac1eda83.jpg  \n",
            " extracting: safety_helmet_dataset/train/images/helmet-495-_jpg.rf.6ae184386dd822860ab5c97cb9885060.jpg  \n",
            " extracting: safety_helmet_dataset/train/images/helmet-497-_jpg.rf.1ad6224f78726ab3e3ec0c2d8df7826b.jpg  \n",
            " extracting: safety_helmet_dataset/train/images/helmet-498-_jpg.rf.0cbfa614b9e6c2983fcb072cfa05cf08.jpg  \n",
            " extracting: safety_helmet_dataset/train/images/helmet-499-_jpg.rf.f594b1489151a1689d8c7cf7e09f9957.jpg  \n",
            " extracting: safety_helmet_dataset/train/images/helmet-50-_jpg.rf.21921e6fc5012f8dc3f35d4b13a43ff9.jpg  \n",
            " extracting: safety_helmet_dataset/train/images/helmet-501-_jpg.rf.09cb9fa116b036adc38aaa7c7f53d5ff.jpg  \n",
            " extracting: safety_helmet_dataset/train/images/helmet-503-_jpg.rf.13b19788998e58b51effa59cc04a4e95.jpg  \n",
            " extracting: safety_helmet_dataset/train/images/helmet-505-_jpg.rf.2a951b7866b139d9bcd232786df75282.jpg  \n",
            " extracting: safety_helmet_dataset/train/images/helmet-506-_jpg.rf.879d455f4e48ba183d6bbb491357ee0e.jpg  \n",
            " extracting: safety_helmet_dataset/train/images/helmet-508-_jpg.rf.0b7688bb919d161e94ca7ccba237e536.jpg  \n",
            " extracting: safety_helmet_dataset/train/images/helmet-509-_jpg.rf.b36397c54da6ffa17dcb61d32a05abcc.jpg  \n",
            " extracting: safety_helmet_dataset/train/images/helmet-510-_jpg.rf.836c281754eaaaa907b8398fb46efcf9.jpg  \n",
            " extracting: safety_helmet_dataset/train/images/helmet-511-_jpg.rf.ca2588a1e9fa871a507fc5c109bef126.jpg  \n",
            " extracting: safety_helmet_dataset/train/images/helmet-513-_jpg.rf.d8c1e0a42aeb4731fc6b1f461cd4ad26.jpg  \n",
            " extracting: safety_helmet_dataset/train/images/helmet-515-_jpg.rf.d898ac5d730e1dcf3d3bef7faf7cabfc.jpg  \n",
            " extracting: safety_helmet_dataset/train/images/helmet-516-_jpg.rf.306531a0f91a7f9a83e355e129ae1454.jpg  \n",
            " extracting: safety_helmet_dataset/train/images/helmet-517-_jpg.rf.f40b73cc430ed01cfd3a5ba13939a732.jpg  \n",
            " extracting: safety_helmet_dataset/train/images/helmet-519-_jpg.rf.98120d32fee6983beb6f75a51de20ee7.jpg  \n",
            " extracting: safety_helmet_dataset/train/images/helmet-52-_jpg.rf.e2134cd14915d252f0416ce53ac8d180.jpg  \n",
            " extracting: safety_helmet_dataset/train/images/helmet-524-_jpg.rf.6af38c835bedf5ee4f1f5581e177a314.jpg  \n",
            " extracting: safety_helmet_dataset/train/images/helmet-53-_jpg.rf.ad0869401cde97b888eeb5ec5c914435.jpg  \n",
            " extracting: safety_helmet_dataset/train/images/helmet-530-_jpg.rf.e59276ab90009af110ba9b0a18073a5c.jpg  \n",
            " extracting: safety_helmet_dataset/train/images/helmet-531-_jpg.rf.f4ee3231949a68aa3a00b6fcd1a2e361.jpg  \n",
            " extracting: safety_helmet_dataset/train/images/helmet-533-_jpg.rf.a365c917d31b1c22dd43c54987a0e580.jpg  \n",
            " extracting: safety_helmet_dataset/train/images/helmet-536-_jpg.rf.de561f99a6477e87cecb364b735839cb.jpg  \n",
            " extracting: safety_helmet_dataset/train/images/helmet-539-_jpg.rf.b92ef53ac52a45eb8169dbaccb5c9305.jpg  \n",
            " extracting: safety_helmet_dataset/train/images/helmet-54-_jpg.rf.23c506363e9f10518c987a6aeb2c97c4.jpg  \n",
            " extracting: safety_helmet_dataset/train/images/helmet-540-_jpg.rf.58c864cf6d4b16ea89050cae44f24662.jpg  \n",
            " extracting: safety_helmet_dataset/train/images/helmet-541-_jpg.rf.3e1aa96a5be780e9d2b5a85257ce672f.jpg  \n",
            " extracting: safety_helmet_dataset/train/images/helmet-542-_jpg.rf.9531dd93b44d7e58533e08a57680e125.jpg  \n",
            " extracting: safety_helmet_dataset/train/images/helmet-55-_jpg.rf.20e09134107418c2fa57f7fad44579f4.jpg  \n",
            " extracting: safety_helmet_dataset/train/images/helmet-56-_jpg.rf.f99d8e02c59c91dd337d8626b9d55129.jpg  \n",
            " extracting: safety_helmet_dataset/train/images/helmet-59-_jpg.rf.998c1357f61cff42961d816997d71fef.jpg  \n",
            " extracting: safety_helmet_dataset/train/images/helmet-6-_jpg.rf.aabb9e6f2c42cbc55e13a0c6921e8873.jpg  \n",
            " extracting: safety_helmet_dataset/train/images/helmet-61-_jpg.rf.7c7b4a28d8bc36b92018c26bbb74db9d.jpg  \n",
            " extracting: safety_helmet_dataset/train/images/helmet-62-_jpg.rf.90891e25d0f049ed41e9a187e477da63.jpg  \n",
            " extracting: safety_helmet_dataset/train/images/helmet-63-_jpg.rf.f366581975df5c2ebe6df25be67ba6d4.jpg  \n",
            " extracting: safety_helmet_dataset/train/images/helmet-66-_jpg.rf.5806337263214aee8285e1c0a6dd89a9.jpg  \n",
            " extracting: safety_helmet_dataset/train/images/helmet-67-_jpg.rf.30f539d214c2516fe3a8af2ede619d2a.jpg  \n",
            " extracting: safety_helmet_dataset/train/images/helmet-68-_jpg.rf.be526e7eb851bbe807dcf6bc0ed60385.jpg  \n",
            " extracting: safety_helmet_dataset/train/images/helmet-70-_jpg.rf.b3e4f5b592b2986a0cefa9cff26c0f40.jpg  \n",
            " extracting: safety_helmet_dataset/train/images/helmet-71-_jpg.rf.8e7b5f0601442cbc1507015432a3416d.jpg  \n",
            " extracting: safety_helmet_dataset/train/images/helmet-72-_jpg.rf.60433ceda95cc2f913fec76c2a24fa2f.jpg  \n",
            " extracting: safety_helmet_dataset/train/images/helmet-73-_jpg.rf.43e20f2777babade4697cb642cb872ea.jpg  \n",
            " extracting: safety_helmet_dataset/train/images/helmet-75-_jpg.rf.4b452d9017071bf43f710f4ba363834b.jpg  \n",
            " extracting: safety_helmet_dataset/train/images/helmet-77-_jpg.rf.82ac31a4f17b93ea03fe2fc4c836fd06.jpg  \n",
            " extracting: safety_helmet_dataset/train/images/helmet-79-_jpg.rf.e244076b4dcfaa289084af3844d0372a.jpg  \n",
            " extracting: safety_helmet_dataset/train/images/helmet-80-_jpg.rf.bb0ef8a0e948bece6c7eac2025c9a69d.jpg  \n",
            " extracting: safety_helmet_dataset/train/images/helmet-84-_jpg.rf.788aa0f3a871edc718f6dad41ce534a5.jpg  \n",
            " extracting: safety_helmet_dataset/train/images/helmet-86-_jpg.rf.0a18cb0880d33ea425231b26a79062b6.jpg  \n",
            " extracting: safety_helmet_dataset/train/images/helmet-87-_jpg.rf.ee8c335a7717c5dc6b0a878b0b931bda.jpg  \n",
            " extracting: safety_helmet_dataset/train/images/helmet-88-_jpg.rf.a2eccae3327bb28818d9d7220856c02d.jpg  \n",
            " extracting: safety_helmet_dataset/train/images/helmet-9-_jpg.rf.cf87d72624a37527823ead2929fa353c.jpg  \n",
            " extracting: safety_helmet_dataset/train/images/helmet-90-_jpg.rf.a4311dcc395cd85c8041f5761f96290e.jpg  \n",
            " extracting: safety_helmet_dataset/train/images/helmet-91-_jpg.rf.48104620e77b6cb8a86128b01fff2d84.jpg  \n",
            " extracting: safety_helmet_dataset/train/images/helmet-92-_jpg.rf.c907c5cfa28f067fc88d2c46c14e62bd.jpg  \n",
            " extracting: safety_helmet_dataset/train/images/helmet-93-_jpg.rf.c7eae903caff5c39269febf7a490b875.jpg  \n",
            " extracting: safety_helmet_dataset/train/images/helmet-94-_jpg.rf.da3ad6e0183409607978bbc249afccb6.jpg  \n",
            " extracting: safety_helmet_dataset/train/images/helmet-95-_jpg.rf.c8585273a44227b5b1942469f0c2c3a1.jpg  \n",
            " extracting: safety_helmet_dataset/train/images/helmet-96-_jpg.rf.5be30e3bb7e97c3e0bb7594aea681dbb.jpg  \n",
            " extracting: safety_helmet_dataset/train/images/helmet-99-_jpg.rf.a4a0a07f648ef61a142b78a0317d8835.jpg  \n",
            " extracting: safety_helmet_dataset/train/images/person-1-_jpg.rf.0cbdbfbb70f61f84fe4c68bdbe25ce4d.jpg  \n",
            " extracting: safety_helmet_dataset/train/images/person-10-_jpg.rf.3ec9db7a8b08a02f55a7f9d7ffa36654.jpg  \n",
            " extracting: safety_helmet_dataset/train/images/person-100-_jpg.rf.431684a07749af19d93ffb0308930131.jpg  \n",
            " extracting: safety_helmet_dataset/train/images/person-102-_jpg.rf.cd0f3378b7012490dd45400578ad68f2.jpg  \n",
            " extracting: safety_helmet_dataset/train/images/person-103-_jpg.rf.a5381645372e0b8b9c7e0f550e052ed8.jpg  \n",
            " extracting: safety_helmet_dataset/train/images/person-104-_jpg.rf.375aac99f1c6c086ee09269ba8f340b4.jpg  \n",
            " extracting: safety_helmet_dataset/train/images/person-106-_jpg.rf.cb1b66baee8d080f85a07cca7d5f8b88.jpg  \n",
            " extracting: safety_helmet_dataset/train/images/person-107-_jpg.rf.2b0ce69a247dbbafe65dd025ec0747d3.jpg  \n",
            " extracting: safety_helmet_dataset/train/images/person-109-_jpg.rf.978b37fb235cd151eb16cf539129786c.jpg  \n",
            " extracting: safety_helmet_dataset/train/images/person-110-_jpg.rf.3635bc61d5d8d6cc7632568844a46deb.jpg  \n",
            " extracting: safety_helmet_dataset/train/images/person-111-_jpg.rf.60a9df392e66b3c51302c5770359d847.jpg  \n",
            " extracting: safety_helmet_dataset/train/images/person-112-_jpg.rf.72be6312ae24802b097c1c1f84f65b4b.jpg  \n",
            " extracting: safety_helmet_dataset/train/images/person-113-_jpg.rf.d7ea2e4e8a6c2912769c84d9335b34be.jpg  \n",
            " extracting: safety_helmet_dataset/train/images/person-114-_jpg.rf.8dd0ff63b83951922ff49cf51edcdc84.jpg  \n",
            " extracting: safety_helmet_dataset/train/images/person-115-_jpg.rf.9ea39099cf4cff5fe624150e432b976c.jpg  \n",
            " extracting: safety_helmet_dataset/train/images/person-116-_jpg.rf.a0248492d0cb594a5a778827c7c1ff7e.jpg  \n",
            " extracting: safety_helmet_dataset/train/images/person-118-_jpg.rf.4696d97011330df84f5f64b3bf398464.jpg  \n",
            " extracting: safety_helmet_dataset/train/images/person-119-_jpg.rf.6c49ad6efb79ee522f5a44696f9f6034.jpg  \n",
            " extracting: safety_helmet_dataset/train/images/person-120-_jpg.rf.861aba63049d54871b8e383e8f8a25bb.jpg  \n",
            " extracting: safety_helmet_dataset/train/images/person-121-_jpg.rf.5c8070c85c75868abd36bdd703032ac0.jpg  \n",
            " extracting: safety_helmet_dataset/train/images/person-123-_jpg.rf.c53c445a0437ebb7076e1a3e725d5cd4.jpg  \n",
            " extracting: safety_helmet_dataset/train/images/person-124-_jpg.rf.258c686ea94c7c7526d13d133bd99af8.jpg  \n",
            " extracting: safety_helmet_dataset/train/images/person-127-_jpg.rf.f10b9c8ae920b4963023b28fd7c0af3d.jpg  \n",
            " extracting: safety_helmet_dataset/train/images/person-128-_jpg.rf.1a66909815adb0b6536d5c28871eff30.jpg  \n",
            " extracting: safety_helmet_dataset/train/images/person-13-_jpg.rf.2aff4376848ddeecbe4bfd53394bc4d7.jpg  \n",
            " extracting: safety_helmet_dataset/train/images/person-132-_jpg.rf.e35c9a6c9c07eff8e764b59ecfbcff8f.jpg  \n",
            " extracting: safety_helmet_dataset/train/images/person-134-_jpg.rf.5c4a0bf92be86371e1611c0e6b2f6507.jpg  \n",
            " extracting: safety_helmet_dataset/train/images/person-135-_jpg.rf.220ed2a30c4c9715b523c876b4415d8e.jpg  \n",
            " extracting: safety_helmet_dataset/train/images/person-136-_jpg.rf.7e37bb000ad8ea524ecbd17c3fbc116f.jpg  \n",
            " extracting: safety_helmet_dataset/train/images/person-137-_jpg.rf.8f91d2fd36c4c698b085ec87d5316229.jpg  \n",
            " extracting: safety_helmet_dataset/train/images/person-139-_jpg.rf.3ab36ae0b9c8c3444cdda393855d3928.jpg  \n",
            " extracting: safety_helmet_dataset/train/images/person-14-_jpg.rf.580be59143e9ca11f35cc396c400d052.jpg  \n",
            " extracting: safety_helmet_dataset/train/images/person-140-_jpg.rf.224f30a03098f5197938c4689a21a4dd.jpg  \n",
            " extracting: safety_helmet_dataset/train/images/person-142-_jpg.rf.9b5ddcf1d11e1c5102eb635c0f4f8b53.jpg  \n",
            " extracting: safety_helmet_dataset/train/images/person-144-_jpg.rf.a382a33b199e447706574af61ae96859.jpg  \n",
            " extracting: safety_helmet_dataset/train/images/person-145-_jpg.rf.626f1d0c6960475c8856c2545697b8a4.jpg  \n",
            " extracting: safety_helmet_dataset/train/images/person-146-_jpg.rf.fa18e438c313d9cb8e0b7eb04f844b10.jpg  \n",
            " extracting: safety_helmet_dataset/train/images/person-149-_jpg.rf.e3a5f8a4f2354c0f9dad189c41efa520.jpg  \n",
            " extracting: safety_helmet_dataset/train/images/person-150-_jpg.rf.dd71981bc95cd7ee5891653532fc959b.jpg  \n",
            " extracting: safety_helmet_dataset/train/images/person-151-_jpg.rf.d4c62ef6c53ee15607c11ce0412da58f.jpg  \n",
            " extracting: safety_helmet_dataset/train/images/person-153-_jpg.rf.cc0362f5c1de7bc5d728e1432e1a8656.jpg  \n",
            " extracting: safety_helmet_dataset/train/images/person-154-_jpg.rf.a645df5125cf824459b9065d25046de0.jpg  \n",
            " extracting: safety_helmet_dataset/train/images/person-155-_jpg.rf.a6126722d7c7ea8dcb62b4c11d2da5cb.jpg  \n",
            " extracting: safety_helmet_dataset/train/images/person-156-_jpg.rf.f45f5cf7772eed638e12acc046159b1f.jpg  \n",
            " extracting: safety_helmet_dataset/train/images/person-157-_jpg.rf.539849b0b384eba553bbae36c2b8cbcd.jpg  \n",
            " extracting: safety_helmet_dataset/train/images/person-16-_jpg.rf.4a80c5f5213dc6c24f3614b802c92200.jpg  \n",
            " extracting: safety_helmet_dataset/train/images/person-160-_jpg.rf.23f0e5c059f17197aea0b9c109c89030.jpg  \n",
            " extracting: safety_helmet_dataset/train/images/person-161-_jpg.rf.7152852278db22a5ef5e611347d0a463.jpg  \n",
            " extracting: safety_helmet_dataset/train/images/person-163-_jpg.rf.dd628a9141908f2c0cd83909903a8321.jpg  \n",
            " extracting: safety_helmet_dataset/train/images/person-164-_jpg.rf.f32adca18458c418ae27f4718679466a.jpg  \n",
            " extracting: safety_helmet_dataset/train/images/person-165-_jpg.rf.61063f68b16697315e65cead22239c58.jpg  \n",
            " extracting: safety_helmet_dataset/train/images/person-166-_jpg.rf.10b3ebee9d222e289119738e585a3d7d.jpg  \n",
            " extracting: safety_helmet_dataset/train/images/person-167-_jpg.rf.4c11565e6bf6d889d9a4ec44116cef95.jpg  \n",
            " extracting: safety_helmet_dataset/train/images/person-169-_jpg.rf.677d30598b79df67c3787af6ffdc6797.jpg  \n",
            " extracting: safety_helmet_dataset/train/images/person-17-_jpg.rf.291d13f177b31d4c8c2b7ffeb51e54e4.jpg  \n",
            " extracting: safety_helmet_dataset/train/images/person-170-_jpg.rf.81bb02ab5a41d43a5d3314127168100a.jpg  \n",
            " extracting: safety_helmet_dataset/train/images/person-171-_jpg.rf.181361ebc2c7e51df87b3575a4cb6d74.jpg  \n",
            " extracting: safety_helmet_dataset/train/images/person-172-_jpg.rf.e4ad3fb30b1f3e3579153cf54f204089.jpg  \n",
            " extracting: safety_helmet_dataset/train/images/person-173-_jpg.rf.35d44c8916db44a9ebc839a68af73a26.jpg  \n",
            " extracting: safety_helmet_dataset/train/images/person-174-_jpg.rf.e89ed9b157d54eebd7a4ce6bbe2fbb85.jpg  \n",
            " extracting: safety_helmet_dataset/train/images/person-176-_jpg.rf.f47725b3e96882ee3c85dc128f19477a.jpg  \n",
            " extracting: safety_helmet_dataset/train/images/person-177-_jpg.rf.c9bb67dcf387bbadade47bb71d7cac2d.jpg  \n",
            " extracting: safety_helmet_dataset/train/images/person-178-_jpg.rf.a88235df6475aba7c3e12386db576e42.jpg  \n",
            " extracting: safety_helmet_dataset/train/images/person-179-_jpg.rf.37a477516b727ceda4c7d8ccbaa7fc00.jpg  \n",
            " extracting: safety_helmet_dataset/train/images/person-18-_jpg.rf.c179e114e23ad4deaa77b9910a564d44.jpg  \n",
            " extracting: safety_helmet_dataset/train/images/person-180-_jpg.rf.666415c9e0cc7ce1c9e134ee109c2479.jpg  \n",
            " extracting: safety_helmet_dataset/train/images/person-182-_jpg.rf.5fb2fdee218df3059fabfb4fce335a5b.jpg  \n",
            " extracting: safety_helmet_dataset/train/images/person-183-_jpg.rf.15034e53c2412fcf6b579044838d24d1.jpg  \n",
            " extracting: safety_helmet_dataset/train/images/person-184-_jpg.rf.64c5dc10c2e8831e2bd3364a0a55d5c7.jpg  \n",
            " extracting: safety_helmet_dataset/train/images/person-185-_jpg.rf.1ab88f1cf0e9eda4954adcb989c401c2.jpg  \n",
            " extracting: safety_helmet_dataset/train/images/person-186-_jpg.rf.f843298cc460ec6753fb2d575a3a7bc9.jpg  \n",
            " extracting: safety_helmet_dataset/train/images/person-187-_jpg.rf.1aa4464ad3e99217ec288c5ae09deed0.jpg  \n",
            " extracting: safety_helmet_dataset/train/images/person-188-_jpg.rf.03595df1828a9fb1ff61ad2cdf8d5c57.jpg  \n",
            " extracting: safety_helmet_dataset/train/images/person-189-_jpg.rf.2becdffdc84e351433f4971b9d2f189a.jpg  \n",
            " extracting: safety_helmet_dataset/train/images/person-19-_jpg.rf.2b3de5cc51d7c459e59fcf64577a7988.jpg  \n",
            " extracting: safety_helmet_dataset/train/images/person-190-_jpg.rf.ec1a6b07328d24a62fe9cc2518977743.jpg  \n",
            " extracting: safety_helmet_dataset/train/images/person-191-_jpg.rf.844d5f6b0c9c8b0c0bdeda2e1f3ff07a.jpg  \n",
            " extracting: safety_helmet_dataset/train/images/person-192-_jpg.rf.cc9769186ccb2a0af474a700701f60b6.jpg  \n",
            " extracting: safety_helmet_dataset/train/images/person-195-_jpg.rf.80adb9cc9cabc98e7c0a328389ad00ba.jpg  \n",
            " extracting: safety_helmet_dataset/train/images/person-196-_jpg.rf.19d01b94689d74ed132c97da611ded8f.jpg  \n",
            " extracting: safety_helmet_dataset/train/images/person-197-_jpg.rf.95852e51f60f83eba68a85deb508e91e.jpg  \n",
            " extracting: safety_helmet_dataset/train/images/person-198-_jpg.rf.f18c48e9b6cfc8a985a422e23c40f292.jpg  \n",
            " extracting: safety_helmet_dataset/train/images/person-199-_jpg.rf.8ce892b0a78ded3083ccec9fabd25744.jpg  \n",
            " extracting: safety_helmet_dataset/train/images/person-200-_jpg.rf.f99b901c86a13d62682c3be0877d8010.jpg  \n",
            " extracting: safety_helmet_dataset/train/images/person-201-_jpg.rf.facd4438e46a5e7f851226812c756be5.jpg  \n",
            " extracting: safety_helmet_dataset/train/images/person-202-_jpg.rf.3e015484493e71d2d2ffb7350e532377.jpg  \n",
            " extracting: safety_helmet_dataset/train/images/person-203-_jpg.rf.e9c614e383536290179aca043845260d.jpg  \n",
            " extracting: safety_helmet_dataset/train/images/person-204-_jpg.rf.2a92519c87ecf218bf8b47f550a407f6.jpg  \n",
            " extracting: safety_helmet_dataset/train/images/person-206-_jpg.rf.57eae1f8dd50b5ef0a6bea0c4ce9991f.jpg  \n",
            " extracting: safety_helmet_dataset/train/images/person-207-_jpg.rf.46580b62d700d7d47080d8a04a24a513.jpg  \n",
            " extracting: safety_helmet_dataset/train/images/person-208-_jpg.rf.78dd3a04d36238603ce8ba820648adec.jpg  \n",
            " extracting: safety_helmet_dataset/train/images/person-209-_jpg.rf.54c0ca914e0607b0a37597862f5248be.jpg  \n",
            " extracting: safety_helmet_dataset/train/images/person-21-_jpg.rf.736ae7193c3fb377ce37ba901e107b9a.jpg  \n",
            " extracting: safety_helmet_dataset/train/images/person-211-_jpg.rf.08fab8435a5066c9e0616e5870228d32.jpg  \n",
            " extracting: safety_helmet_dataset/train/images/person-213-_jpg.rf.cf7af6e6845f3c054fadb1dede63f346.jpg  \n",
            " extracting: safety_helmet_dataset/train/images/person-214-_jpg.rf.eeb917ddd6a9f6e49d9426c71043d660.jpg  \n",
            " extracting: safety_helmet_dataset/train/images/person-215-_jpg.rf.f8f2f538f3b309c8d28b7976cbc6006b.jpg  \n",
            " extracting: safety_helmet_dataset/train/images/person-217-_jpg.rf.a0be4124ac6088ab29e0837e804348e7.jpg  \n",
            " extracting: safety_helmet_dataset/train/images/person-218-_jpg.rf.c46f2bb7c40de49f2342d9b8e9856207.jpg  \n",
            " extracting: safety_helmet_dataset/train/images/person-219-_jpg.rf.c1c648b830684d0104ea471cce8709ce.jpg  \n",
            " extracting: safety_helmet_dataset/train/images/person-22-_jpg.rf.c50dd31c351bf729bde5f49a41b07359.jpg  \n",
            " extracting: safety_helmet_dataset/train/images/person-220-_jpg.rf.d8c2c0526d0ba03d2f948efae35a7825.jpg  \n",
            " extracting: safety_helmet_dataset/train/images/person-222-_jpg.rf.247e4df15efbaa6ab133fc9d9d467655.jpg  \n",
            " extracting: safety_helmet_dataset/train/images/person-226-_jpg.rf.1b91027f01904e2ac6a1aa219cec9c44.jpg  \n",
            " extracting: safety_helmet_dataset/train/images/person-228-_jpg.rf.1e852d2dbf9b264e1d27a349e838aa39.jpg  \n",
            " extracting: safety_helmet_dataset/train/images/person-23-_jpg.rf.d62f20dd00591b82b450ca5b9256c987.jpg  \n",
            " extracting: safety_helmet_dataset/train/images/person-230-_jpg.rf.d3f9046433e594ce04bb3f7ccd59c29d.jpg  \n",
            " extracting: safety_helmet_dataset/train/images/person-232-_jpg.rf.9a26896191b7aa6fce1314a9f35e5fc1.jpg  \n",
            " extracting: safety_helmet_dataset/train/images/person-233-_jpg.rf.889c2c8a4af02c49e96f4ff8255e982b.jpg  \n",
            " extracting: safety_helmet_dataset/train/images/person-235-_jpg.rf.38e4bc5fbc8ea8330f69306c80c6e335.jpg  \n",
            " extracting: safety_helmet_dataset/train/images/person-236-_jpg.rf.09eb9fc8ff0e5998cfe321cb8c904cdd.jpg  \n",
            " extracting: safety_helmet_dataset/train/images/person-238-_jpg.rf.5f5ddbb43ba4a14fc2766e5789f3befb.jpg  \n",
            " extracting: safety_helmet_dataset/train/images/person-239-_jpg.rf.9f097a4af7a651879ce7a14ff892363a.jpg  \n",
            " extracting: safety_helmet_dataset/train/images/person-24-_jpg.rf.fca4d30e8adea8f980d1a2775d7fec31.jpg  \n",
            " extracting: safety_helmet_dataset/train/images/person-240-_jpg.rf.dd1ff21dfa2f97f6f41c1d89ec640d35.jpg  \n",
            " extracting: safety_helmet_dataset/train/images/person-242-_jpg.rf.dd1345fc3ad635142a380d8c68385481.jpg  \n",
            " extracting: safety_helmet_dataset/train/images/person-244-_jpg.rf.070739b5311be54133cf2a218cf31ac4.jpg  \n",
            " extracting: safety_helmet_dataset/train/images/person-245-_jpg.rf.f9680715613472889bfcf617b0946b29.jpg  \n",
            " extracting: safety_helmet_dataset/train/images/person-247-_jpg.rf.de156ceeceffa0ffeed966be57b99aa0.jpg  \n",
            " extracting: safety_helmet_dataset/train/images/person-248-_jpg.rf.10d92d3d19dbcacfb5b7ec9ceb772f9d.jpg  \n",
            " extracting: safety_helmet_dataset/train/images/person-249-_jpg.rf.e8883cd96cd29371aceb50e1ea924c81.jpg  \n",
            " extracting: safety_helmet_dataset/train/images/person-25-_jpg.rf.9066d63754111ad92605658aaee4dcfb.jpg  \n",
            " extracting: safety_helmet_dataset/train/images/person-250-_jpg.rf.a10ce50ec6f1cb35d3aeb2d7cf9e124d.jpg  \n",
            " extracting: safety_helmet_dataset/train/images/person-251-_jpg.rf.a3e23104b23e6004bdb085754905c0da.jpg  \n",
            " extracting: safety_helmet_dataset/train/images/person-253-_jpg.rf.4e751d57ccce0087c5926f0b907da08c.jpg  \n",
            " extracting: safety_helmet_dataset/train/images/person-254-_jpg.rf.836fc4ca8869b96fd0b3ae7e56ed8510.jpg  \n",
            " extracting: safety_helmet_dataset/train/images/person-256-_jpg.rf.ae2778691baae90ba3311f7ecdd91f19.jpg  \n",
            " extracting: safety_helmet_dataset/train/images/person-257-_jpg.rf.d92c4345e45509288f5385d103ff1304.jpg  \n",
            " extracting: safety_helmet_dataset/train/images/person-258-_jpg.rf.7ec09a77a5054aa4c644f4ed80b2326e.jpg  \n",
            " extracting: safety_helmet_dataset/train/images/person-26-_jpg.rf.d3af6f7d8295a2fa41473c7418949112.jpg  \n",
            " extracting: safety_helmet_dataset/train/images/person-260-_jpg.rf.d2e33678085e031cdfbad9535a3eaef0.jpg  \n",
            " extracting: safety_helmet_dataset/train/images/person-263-_jpg.rf.6d678d2cb3a626fcc89c0f2c9ac63570.jpg  \n",
            " extracting: safety_helmet_dataset/train/images/person-266-_jpg.rf.e8fa050731838cdedc1708757fb3488f.jpg  \n",
            " extracting: safety_helmet_dataset/train/images/person-268-_jpg.rf.41659970c92de44f829824abf138db9d.jpg  \n",
            " extracting: safety_helmet_dataset/train/images/person-269-_jpg.rf.1f261969b8f9d06f94314160f2d94d29.jpg  \n",
            " extracting: safety_helmet_dataset/train/images/person-271-_jpg.rf.2e8e4f4ad71e006c09e70e17aa9b995b.jpg  \n",
            " extracting: safety_helmet_dataset/train/images/person-272-_jpg.rf.4a92af24af4bc42c487d449f89c3b110.jpg  \n",
            " extracting: safety_helmet_dataset/train/images/person-273-_jpg.rf.746aed347718bb3e908bb4e92a59d8d4.jpg  \n",
            " extracting: safety_helmet_dataset/train/images/person-274-_jpg.rf.fa11028402f2beb31363c30f26d6ae9c.jpg  \n",
            " extracting: safety_helmet_dataset/train/images/person-275-_jpg.rf.f84f31540b399d34a48ca1f71732e600.jpg  \n",
            " extracting: safety_helmet_dataset/train/images/person-276-_jpg.rf.e001ce9adff2ce7281f85db65df1d647.jpg  \n",
            " extracting: safety_helmet_dataset/train/images/person-277-_jpg.rf.e40829a0ecf810c363076c1e099fd8f6.jpg  \n",
            " extracting: safety_helmet_dataset/train/images/person-278-_jpg.rf.f4484a62f7bdc4b1787bd8e560b5bca2.jpg  \n",
            " extracting: safety_helmet_dataset/train/images/person-279-_jpg.rf.2529eb3a418a4f424679b966625e0095.jpg  \n",
            " extracting: safety_helmet_dataset/train/images/person-28-_jpg.rf.fd304f1cc3aae1d9fb20dec0aa43f09c.jpg  \n",
            " extracting: safety_helmet_dataset/train/images/person-280-_jpg.rf.d64f5ffb5f42e569dc68aeb74f8a6aec.jpg  \n",
            " extracting: safety_helmet_dataset/train/images/person-281-_jpg.rf.83fc29d38b6cddd0bf4b8a2e04e0bfcb.jpg  \n",
            " extracting: safety_helmet_dataset/train/images/person-282-_jpg.rf.2757633c51070586fbae7e4fcfc2ef20.jpg  \n",
            " extracting: safety_helmet_dataset/train/images/person-284-_jpg.rf.5794bb4d71b30b8da6e5f90af7723318.jpg  \n",
            " extracting: safety_helmet_dataset/train/images/person-285-_jpg.rf.063d6af14536ec664e759bfcbfb33eba.jpg  \n",
            " extracting: safety_helmet_dataset/train/images/person-286-_jpg.rf.410c3ec29dc359717e9389067830fa18.jpg  \n",
            " extracting: safety_helmet_dataset/train/images/person-287-_jpg.rf.088fcca5be0b0b9ae9250865f7d415ac.jpg  \n",
            " extracting: safety_helmet_dataset/train/images/person-289-_jpg.rf.ff8e0cede27f119bf274b9ec4c3b4f08.jpg  \n",
            " extracting: safety_helmet_dataset/train/images/person-29-_jpg.rf.329dd10517cea8168cff9c540ce37d02.jpg  \n",
            " extracting: safety_helmet_dataset/train/images/person-290-_jpg.rf.ea96b6d6b896a89829c093311f08a22b.jpg  \n",
            " extracting: safety_helmet_dataset/train/images/person-292-_jpg.rf.bea42e0203630e598cebafba2868e08b.jpg  \n",
            " extracting: safety_helmet_dataset/train/images/person-293-_jpg.rf.21d8c69caa3d830efd5c603fa305cfaf.jpg  \n",
            " extracting: safety_helmet_dataset/train/images/person-295-_jpg.rf.07ca3095842c20c2327be08560d6a499.jpg  \n",
            " extracting: safety_helmet_dataset/train/images/person-298-_jpg.rf.df31dd383755ee079207331627091420.jpg  \n",
            " extracting: safety_helmet_dataset/train/images/person-299-_jpg.rf.ceccfbba54717861b68ee33b4e614b87.jpg  \n",
            " extracting: safety_helmet_dataset/train/images/person-3-_jpg.rf.52ccdb2db664735bae065e53d1ca76e4.jpg  \n",
            " extracting: safety_helmet_dataset/train/images/person-30-_jpg.rf.37eedd58a749a0b29faf434855b697af.jpg  \n",
            " extracting: safety_helmet_dataset/train/images/person-300-_jpg.rf.846d96199f2fecd1040c59e87e18fc99.jpg  \n",
            " extracting: safety_helmet_dataset/train/images/person-301-_jpg.rf.4e25e2b761b00303c48d4716b0423335.jpg  \n",
            " extracting: safety_helmet_dataset/train/images/person-302-_jpg.rf.4783f924900f54569071cf950b3c7b93.jpg  \n",
            " extracting: safety_helmet_dataset/train/images/person-303-_jpg.rf.86f4d6676398453659505508f4b7d8aa.jpg  \n",
            " extracting: safety_helmet_dataset/train/images/person-304-_jpg.rf.445dc55b1c648f72353b54df69d710c1.jpg  \n",
            " extracting: safety_helmet_dataset/train/images/person-305-_jpg.rf.86f090e7f4fffb9cfa1b4822d67e83fa.jpg  \n",
            " extracting: safety_helmet_dataset/train/images/person-306-_jpg.rf.d5f21e45e735eef28f63fd27b8dbc0d1.jpg  \n",
            " extracting: safety_helmet_dataset/train/images/person-308-_jpg.rf.e6e89809ddd801a51a0a9905e33e4fe4.jpg  \n",
            " extracting: safety_helmet_dataset/train/images/person-309-_jpg.rf.57866f9523e5965d7aecee9c651e7a83.jpg  \n",
            " extracting: safety_helmet_dataset/train/images/person-31-_jpg.rf.ab0d55def548a83b90491c3a6e7a9684.jpg  \n",
            " extracting: safety_helmet_dataset/train/images/person-310-_jpg.rf.701a07e7ed3e259f454153819afcdf09.jpg  \n",
            " extracting: safety_helmet_dataset/train/images/person-311-_jpg.rf.95bca4f4ee401bf34a17386c41675946.jpg  \n",
            " extracting: safety_helmet_dataset/train/images/person-317-_jpg.rf.cfb10b2fce679b21ecebeb8e53ace951.jpg  \n",
            " extracting: safety_helmet_dataset/train/images/person-318-_jpg.rf.80029e3019d94892ac837ff4d721b07b.jpg  \n",
            " extracting: safety_helmet_dataset/train/images/person-319-_jpg.rf.fc6f91a607fb900f329c37a19656a8f2.jpg  \n",
            " extracting: safety_helmet_dataset/train/images/person-32-_jpg.rf.edda15b88cf1fb875b2882fa4b165ed2.jpg  \n",
            " extracting: safety_helmet_dataset/train/images/person-320-_jpg.rf.162353507ff9ce5e667c225d017ad142.jpg  \n",
            " extracting: safety_helmet_dataset/train/images/person-322-_jpg.rf.bbc5460ee2c0d5c8cbbd4bcc5248e36d.jpg  \n",
            " extracting: safety_helmet_dataset/train/images/person-323-_jpg.rf.4a70c1ab94c567410692ac97f1232c24.jpg  \n",
            " extracting: safety_helmet_dataset/train/images/person-324-_jpg.rf.cc3ec14703d0798edcab29f00d5f0e6a.jpg  \n",
            " extracting: safety_helmet_dataset/train/images/person-325-_jpg.rf.73c32009e9dcd111e9533027f5ba08f8.jpg  \n",
            " extracting: safety_helmet_dataset/train/images/person-326-_jpg.rf.0dc4cab9995c58a8f7f6ea0b0b0736e6.jpg  \n",
            " extracting: safety_helmet_dataset/train/images/person-328-_jpg.rf.b8b55a327b5a0ec92ba6cb4ec8a06e85.jpg  \n",
            " extracting: safety_helmet_dataset/train/images/person-329-_jpg.rf.007ab4b6c1fabea81d5e28a05c5fe41f.jpg  \n",
            " extracting: safety_helmet_dataset/train/images/person-330-_jpg.rf.4e063752ad942f470996b3e5d940d55f.jpg  \n",
            " extracting: safety_helmet_dataset/train/images/person-331-_jpg.rf.e935e1a708677467812b0c2d63715b95.jpg  \n",
            " extracting: safety_helmet_dataset/train/images/person-332-_jpg.rf.6d3432235b97c5ff8a8af147babcdecd.jpg  \n",
            " extracting: safety_helmet_dataset/train/images/person-333-_jpg.rf.e2656199a7fb287290e1c3ef3222ceb3.jpg  \n",
            " extracting: safety_helmet_dataset/train/images/person-335-_jpg.rf.64437d0f62a3d5392e6973da96795f31.jpg  \n",
            " extracting: safety_helmet_dataset/train/images/person-336-_jpg.rf.828cd77a7a8f329313eaae6435be13a7.jpg  \n",
            " extracting: safety_helmet_dataset/train/images/person-34-_jpg.rf.6e420a61802a7a538e7e156af28f25fb.jpg  \n",
            " extracting: safety_helmet_dataset/train/images/person-340-_jpg.rf.a1ede3d62d8e15301e15c59209a6995e.jpg  \n",
            " extracting: safety_helmet_dataset/train/images/person-343-_jpg.rf.4d24aa258044c53cfcaad53dfc44c2e8.jpg  \n",
            " extracting: safety_helmet_dataset/train/images/person-344-_jpg.rf.14d75968b16bd50fce0130de95feadce.jpg  \n",
            " extracting: safety_helmet_dataset/train/images/person-348-_jpg.rf.dd078df7e2803312feea96d78ef8b8df.jpg  \n",
            " extracting: safety_helmet_dataset/train/images/person-350-_jpg.rf.244db8b178f1cc6aee176e0def97988d.jpg  \n",
            " extracting: safety_helmet_dataset/train/images/person-351-_jpg.rf.0dd4cc2f79a86fa58998332fd54def6d.jpg  \n",
            " extracting: safety_helmet_dataset/train/images/person-352-_jpg.rf.7779a53bb008269abb9941487f5a1707.jpg  \n",
            " extracting: safety_helmet_dataset/train/images/person-353-_jpg.rf.c85cb6cc6005d56295c548fa985ae340.jpg  \n",
            " extracting: safety_helmet_dataset/train/images/person-354-_jpg.rf.fcaea012e0688a69f17cc7b3d7aa48cc.jpg  \n",
            " extracting: safety_helmet_dataset/train/images/person-355-_jpg.rf.a9f7353631fa181cf2e46707a4b80b40.jpg  \n",
            " extracting: safety_helmet_dataset/train/images/person-357-_jpg.rf.6d39952820737743fadeab3ceeaacbcd.jpg  \n",
            " extracting: safety_helmet_dataset/train/images/person-358-_jpg.rf.b1d5d216fcd0a565c261b9ce623f347f.jpg  \n",
            " extracting: safety_helmet_dataset/train/images/person-36-_jpg.rf.168d37ec03c5567071311cf5ab30ba76.jpg  \n",
            " extracting: safety_helmet_dataset/train/images/person-360-_jpg.rf.8ee43142b26fe9b071db8a1ddb3a9e5c.jpg  \n",
            " extracting: safety_helmet_dataset/train/images/person-361-_jpg.rf.909df5ef2ae0d37e1159ad6f123ed89d.jpg  \n",
            " extracting: safety_helmet_dataset/train/images/person-362-_jpg.rf.5744cd387b3bbf826690b17e59285eef.jpg  \n",
            " extracting: safety_helmet_dataset/train/images/person-363-_jpg.rf.903afa5de5ca4932f7369cedbefdf148.jpg  \n",
            " extracting: safety_helmet_dataset/train/images/person-365-_jpg.rf.62c43e5eb54b1bb474f313d2e9ba036d.jpg  \n",
            " extracting: safety_helmet_dataset/train/images/person-366-_jpg.rf.b49f2f4344c902665f87e768d07ad686.jpg  \n",
            " extracting: safety_helmet_dataset/train/images/person-367-_jpg.rf.fc4d0331275e57511a33a6b00972a34d.jpg  \n",
            " extracting: safety_helmet_dataset/train/images/person-369-_jpg.rf.12b35926d9ecfdd6e808590d2ae78620.jpg  \n",
            " extracting: safety_helmet_dataset/train/images/person-37-_jpg.rf.ab80fb4f6167d7198bf1bc3ac973bc65.jpg  \n",
            " extracting: safety_helmet_dataset/train/images/person-370-_jpg.rf.67a27a7b07e075790fee1fb1981bfa15.jpg  \n",
            " extracting: safety_helmet_dataset/train/images/person-371-_jpg.rf.48bad8e2f5981f7f6042a1fdbf31863f.jpg  \n",
            " extracting: safety_helmet_dataset/train/images/person-372-_jpg.rf.f3638e8a84bb2704c461807f8ec83546.jpg  \n",
            " extracting: safety_helmet_dataset/train/images/person-373-_jpg.rf.4aad15eb01c24303d1781612957044f2.jpg  \n",
            " extracting: safety_helmet_dataset/train/images/person-375-_jpg.rf.c57aa7289cfb32ef27505b0e1732dad0.jpg  \n",
            " extracting: safety_helmet_dataset/train/images/person-376-_jpg.rf.2cca38cf7da7ab76e92bb154a345aad2.jpg  \n",
            " extracting: safety_helmet_dataset/train/images/person-377-_jpg.rf.385fb7074cbde3fbfe5c9958ab0400ae.jpg  \n",
            " extracting: safety_helmet_dataset/train/images/person-378-_jpg.rf.0c982a512541af05aa5984d75d5daff7.jpg  \n",
            " extracting: safety_helmet_dataset/train/images/person-38-_jpg.rf.8f14eccadefdf5fa5243bb9d0fb795ce.jpg  \n",
            " extracting: safety_helmet_dataset/train/images/person-380-_jpg.rf.8000cde7953230e6d6011b46e5c7f1e9.jpg  \n",
            " extracting: safety_helmet_dataset/train/images/person-384-_jpg.rf.dcac585058483fddc52f44020c7d7934.jpg  \n",
            " extracting: safety_helmet_dataset/train/images/person-388-_jpg.rf.a771341df398046d3a99c5b34c416b59.jpg  \n",
            " extracting: safety_helmet_dataset/train/images/person-39-_jpg.rf.080c77c2933dab6bde3060baf76e8cc3.jpg  \n",
            " extracting: safety_helmet_dataset/train/images/person-390-_jpg.rf.0d2cefe87beb45dfeaf2a435f015ea88.jpg  \n",
            " extracting: safety_helmet_dataset/train/images/person-392-_jpg.rf.5f066ee034a2a58c7fa68f7b44f28d86.jpg  \n",
            " extracting: safety_helmet_dataset/train/images/person-393-_jpg.rf.48c4563b22cf0929eede09cd7c7bc7de.jpg  \n",
            " extracting: safety_helmet_dataset/train/images/person-396-_jpg.rf.ed625f3a93a5a052748806678ad75b69.jpg  \n",
            " extracting: safety_helmet_dataset/train/images/person-398-_jpg.rf.3e620baed5aa5b45c84654b2021986fa.jpg  \n",
            " extracting: safety_helmet_dataset/train/images/person-399-_jpg.rf.74d13e39e47fb0e78ae6c3ca8c4daf09.jpg  \n",
            " extracting: safety_helmet_dataset/train/images/person-40-_jpg.rf.36c78f4de322df1acfbadcf6240b2d4d.jpg  \n",
            " extracting: safety_helmet_dataset/train/images/person-401-_jpg.rf.1480ffe206505c73ef2a32c62328376b.jpg  \n",
            " extracting: safety_helmet_dataset/train/images/person-402-_jpg.rf.2e1286244c0038dd115877886e114efc.jpg  \n",
            " extracting: safety_helmet_dataset/train/images/person-403-_jpg.rf.0a4983bd731a02ced9b3f39b8899ba04.jpg  \n",
            " extracting: safety_helmet_dataset/train/images/person-405-_jpg.rf.ef1a85a299c7b788120a455b51cda222.jpg  \n",
            " extracting: safety_helmet_dataset/train/images/person-407-_jpg.rf.18d6ff6adc7e01fb2f6e6ecfde5d86e3.jpg  \n",
            " extracting: safety_helmet_dataset/train/images/person-409-_jpg.rf.603afa804461938e2089a0714b08ebad.jpg  \n",
            " extracting: safety_helmet_dataset/train/images/person-41-_jpg.rf.e410185ef7669900192298dd19a413b6.jpg  \n",
            " extracting: safety_helmet_dataset/train/images/person-411-_jpg.rf.6f115ce9f6d49ee855f3685fbf182796.jpg  \n",
            " extracting: safety_helmet_dataset/train/images/person-412-_jpg.rf.d706af9520aea20cebf3ff3b2e3504ac.jpg  \n",
            " extracting: safety_helmet_dataset/train/images/person-414-_jpg.rf.f1d1e7afd01b6e7644fb2bba18502c51.jpg  \n",
            " extracting: safety_helmet_dataset/train/images/person-415-_jpg.rf.fb476f46dac3c7b20fea397852064df7.jpg  \n",
            " extracting: safety_helmet_dataset/train/images/person-418-_jpg.rf.04348a552dfc017d34c94e5ddd5cb45e.jpg  \n",
            " extracting: safety_helmet_dataset/train/images/person-419-_jpg.rf.eda0bf408dfd8a64c5d11d12d398e9fa.jpg  \n",
            " extracting: safety_helmet_dataset/train/images/person-42-_jpg.rf.e4b536acc6c870f155b6f2e757b5ce33.jpg  \n",
            " extracting: safety_helmet_dataset/train/images/person-420-_jpg.rf.db10ac90c14d5e4d5d5d058073d810f5.jpg  \n",
            " extracting: safety_helmet_dataset/train/images/person-421-_jpg.rf.48c8e158a3941307cb1019de3d693577.jpg  \n",
            " extracting: safety_helmet_dataset/train/images/person-422-_jpg.rf.ed4ae7f4058cda335db40681602c5694.jpg  \n",
            " extracting: safety_helmet_dataset/train/images/person-425-_jpg.rf.93d12161aa7fb604d4c2e0a5369d0660.jpg  \n",
            " extracting: safety_helmet_dataset/train/images/person-426-_jpg.rf.a23c6c24508354a4cca858dec5c10eae.jpg  \n",
            " extracting: safety_helmet_dataset/train/images/person-427-_jpg.rf.5d63df9546b0933e652144af067bf194.jpg  \n",
            " extracting: safety_helmet_dataset/train/images/person-429-_jpg.rf.55cdc9b05b6f31443513feb440967a15.jpg  \n",
            " extracting: safety_helmet_dataset/train/images/person-43-_jpg.rf.b9f456672d4f3b8f6a676d9c651c9fb7.jpg  \n",
            " extracting: safety_helmet_dataset/train/images/person-432-_jpg.rf.5957a63c59ad099a6521d157d86a4b8a.jpg  \n",
            " extracting: safety_helmet_dataset/train/images/person-433-_jpg.rf.d18ee5b329324a191b0c979ff4d8eb04.jpg  \n",
            " extracting: safety_helmet_dataset/train/images/person-434-_jpg.rf.6afeaf4fea28b41a54e37b2840216e92.jpg  \n",
            " extracting: safety_helmet_dataset/train/images/person-435-_jpg.rf.061fc50b7cbcab571b4b6d7a74e55ebe.jpg  \n",
            " extracting: safety_helmet_dataset/train/images/person-436-_jpg.rf.101abde59790d6b02e23afcc66204efb.jpg  \n",
            " extracting: safety_helmet_dataset/train/images/person-437-_jpg.rf.1826d83bafbd475cb8a8113842e43b61.jpg  \n",
            " extracting: safety_helmet_dataset/train/images/person-438-_jpg.rf.8869b6c63ecb6fa2f9bf373b410a20d0.jpg  \n",
            " extracting: safety_helmet_dataset/train/images/person-439-_jpg.rf.9688360e0c3a00041aae2814ac1d622e.jpg  \n",
            " extracting: safety_helmet_dataset/train/images/person-44-_jpg.rf.6113960838e92e4346b6db400fb065a3.jpg  \n",
            " extracting: safety_helmet_dataset/train/images/person-440-_jpg.rf.479f9379494c86efbd7e75bcd45c3234.jpg  \n",
            " extracting: safety_helmet_dataset/train/images/person-441-_jpg.rf.65ba4408baffbeefe238ef4e0c4cd303.jpg  \n",
            " extracting: safety_helmet_dataset/train/images/person-442-_jpg.rf.958bb223e24663d9abee1983b40fb44e.jpg  \n",
            " extracting: safety_helmet_dataset/train/images/person-444-_jpg.rf.1d155af20708952369bef1394dc7dc9d.jpg  \n",
            " extracting: safety_helmet_dataset/train/images/person-446-_jpg.rf.e30ff51a595c0255579cb2731d997551.jpg  \n",
            " extracting: safety_helmet_dataset/train/images/person-447-_jpg.rf.d587af989cfb476273f00d2f0839eca3.jpg  \n",
            " extracting: safety_helmet_dataset/train/images/person-448-_jpg.rf.bb36f6a00d95d381ac25ebcb3685960e.jpg  \n",
            " extracting: safety_helmet_dataset/train/images/person-450-_jpg.rf.039f31f956a23643f656d59b2a776051.jpg  \n",
            " extracting: safety_helmet_dataset/train/images/person-451-_jpg.rf.251ae744c806a25dacddd89fab3ac780.jpg  \n",
            " extracting: safety_helmet_dataset/train/images/person-452-_jpg.rf.e482234edb79896c930c9a40e5d6596b.jpg  \n",
            " extracting: safety_helmet_dataset/train/images/person-455-_jpg.rf.4bd3716466bb8e252092bc9bd4759d20.jpg  \n",
            " extracting: safety_helmet_dataset/train/images/person-456-_jpg.rf.cdb50d6d1164d38155795733034f9dd4.jpg  \n",
            " extracting: safety_helmet_dataset/train/images/person-457-_jpg.rf.1f8143ff38921dbcb04c0deb59bb7f6c.jpg  \n",
            " extracting: safety_helmet_dataset/train/images/person-458-_jpg.rf.ab0b140e1e3849726a150fe2cc356bbc.jpg  \n",
            " extracting: safety_helmet_dataset/train/images/person-459-_jpg.rf.4b38ba6c4ae185f899bd7ca4535ccd84.jpg  \n",
            " extracting: safety_helmet_dataset/train/images/person-46-_jpg.rf.be75c4b5cd0405795bcc39e5f8479493.jpg  \n",
            " extracting: safety_helmet_dataset/train/images/person-460-_jpg.rf.07a109811adc0795f034118d0f007002.jpg  \n",
            " extracting: safety_helmet_dataset/train/images/person-461-_jpg.rf.e5ff2554651d4911e48a0ea2d9f1a84b.jpg  \n",
            " extracting: safety_helmet_dataset/train/images/person-465-_jpg.rf.3681d04a6017d5e7f44951331c052ff1.jpg  \n",
            " extracting: safety_helmet_dataset/train/images/person-466-_jpg.rf.5ea8d6d245ff6faf0cfd740b5d269ae7.jpg  \n",
            " extracting: safety_helmet_dataset/train/images/person-467-_jpg.rf.45fccd3717d297d3cc1dd8acdf156f9b.jpg  \n",
            " extracting: safety_helmet_dataset/train/images/person-468-_jpg.rf.bae2cab0c68bfdb2f72994279329c280.jpg  \n",
            " extracting: safety_helmet_dataset/train/images/person-469-_jpg.rf.64af220cbf1135e99b4a811fc57d5e68.jpg  \n",
            " extracting: safety_helmet_dataset/train/images/person-47-_jpg.rf.6fcff5e454c13ce10b46f496cfc206d5.jpg  \n",
            " extracting: safety_helmet_dataset/train/images/person-471-_jpg.rf.9d486b8b1da63662db3440eabd505250.jpg  \n",
            " extracting: safety_helmet_dataset/train/images/person-474-_jpg.rf.c4090dd1fb910c382150e874aaae4a1b.jpg  \n",
            " extracting: safety_helmet_dataset/train/images/person-475-_jpg.rf.5c4a2d1ec679c3c7f0ba40d7ee1d51ed.jpg  \n",
            " extracting: safety_helmet_dataset/train/images/person-476-_jpg.rf.33203530dda48678f0d6709f43b4b202.jpg  \n",
            " extracting: safety_helmet_dataset/train/images/person-477-_jpg.rf.482c3c8e40f9ea23ad8a22413e039f0c.jpg  \n",
            " extracting: safety_helmet_dataset/train/images/person-478-_jpg.rf.80cfea5875397a889e4e9b94b248f6e5.jpg  \n",
            " extracting: safety_helmet_dataset/train/images/person-48-_jpg.rf.37925956df00cb3654ad211ce8067ad8.jpg  \n",
            " extracting: safety_helmet_dataset/train/images/person-481-_jpg.rf.e2647a04e09502388fc218e9feae0e2f.jpg  \n",
            " extracting: safety_helmet_dataset/train/images/person-482-_jpg.rf.4e7d2fd67bfc817ce0ce43d478407d3d.jpg  \n",
            " extracting: safety_helmet_dataset/train/images/person-484-_jpg.rf.cd7f3435668ab8f93441cf9f8e124ffc.jpg  \n",
            " extracting: safety_helmet_dataset/train/images/person-485-_jpg.rf.f4322edbaecd2ba0d64a7f71af4f6ff6.jpg  \n",
            " extracting: safety_helmet_dataset/train/images/person-486-_jpg.rf.7c7579a72a14809fc312f2a7b1c5d9e6.jpg  \n",
            " extracting: safety_helmet_dataset/train/images/person-487-_jpg.rf.c03083379716e21407e38613ba6646f8.jpg  \n",
            " extracting: safety_helmet_dataset/train/images/person-488-_jpg.rf.c1388b7b9ceda78e7755002a8bb45b04.jpg  \n",
            " extracting: safety_helmet_dataset/train/images/person-49-_jpg.rf.7a033d7becb4b43de75e7637e26bc655.jpg  \n",
            " extracting: safety_helmet_dataset/train/images/person-490-_jpg.rf.2cb91aeeae6496d65df02089d46cf809.jpg  \n",
            " extracting: safety_helmet_dataset/train/images/person-492-_jpg.rf.56ca8b5d93434b34d97ad7634b3e1029.jpg  \n",
            " extracting: safety_helmet_dataset/train/images/person-493-_jpg.rf.b84f70fef237447e02e9a463c80aad7d.jpg  \n",
            " extracting: safety_helmet_dataset/train/images/person-494-_jpg.rf.de1066e729925093e5af69b5a8def244.jpg  \n",
            " extracting: safety_helmet_dataset/train/images/person-495-_jpg.rf.17dfe29b54bfcd3f9c9987561cf090a7.jpg  \n",
            " extracting: safety_helmet_dataset/train/images/person-496-_jpg.rf.2ef35fc28d5f8c5704cfe9ddf7ef6ee3.jpg  \n",
            " extracting: safety_helmet_dataset/train/images/person-498-_jpg.rf.78ed850cc519ccaf9b912ec388a6d782.jpg  \n",
            " extracting: safety_helmet_dataset/train/images/person-5-_jpg.rf.71927cd826c2af413538429550bc82dd.jpg  \n",
            " extracting: safety_helmet_dataset/train/images/person-501-_jpg.rf.553dfeb2de5b5213e0cfd0f4b89a0cbd.jpg  \n",
            " extracting: safety_helmet_dataset/train/images/person-502-_jpg.rf.202ed1c754d7563ef88eb171f4d3cbc4.jpg  \n",
            " extracting: safety_helmet_dataset/train/images/person-503-_jpg.rf.5579e978603eeffc6b7f7f3853024681.jpg  \n",
            " extracting: safety_helmet_dataset/train/images/person-504-_jpg.rf.ce16ad9187f1da1cafe1048738f6b76e.jpg  \n",
            " extracting: safety_helmet_dataset/train/images/person-505-_jpg.rf.5357b04db8b2e5a51d0a06ecb30c9540.jpg  \n",
            " extracting: safety_helmet_dataset/train/images/person-507-_jpg.rf.8cdc784a2d783b73fb3078be07da645a.jpg  \n",
            " extracting: safety_helmet_dataset/train/images/person-51-_jpg.rf.91d9cd753f5819fd682d5826e60853e6.jpg  \n",
            " extracting: safety_helmet_dataset/train/images/person-510-_jpg.rf.4df50bfc04650bfdd47fb5382dad132f.jpg  \n",
            " extracting: safety_helmet_dataset/train/images/person-511-_jpg.rf.f606d6bade0217e0c3114c0ce608bf4c.jpg  \n",
            " extracting: safety_helmet_dataset/train/images/person-512-_jpg.rf.202beff8dea11014a1080b712dc9297c.jpg  \n",
            " extracting: safety_helmet_dataset/train/images/person-513-_jpg.rf.97feb5445f81456cb5f4c9aec7deac9f.jpg  \n",
            " extracting: safety_helmet_dataset/train/images/person-514-_jpg.rf.c76ec59a1ecd20855a52648c6e6dfd6c.jpg  \n",
            " extracting: safety_helmet_dataset/train/images/person-515-_jpg.rf.7acf6fc0cd1fb1a536a0e110c81a202d.jpg  \n",
            " extracting: safety_helmet_dataset/train/images/person-516-_jpg.rf.c96d48877060b8e7b36bc1a7501b0ecd.jpg  \n",
            " extracting: safety_helmet_dataset/train/images/person-517-_jpg.rf.d16e357a23085ad0bf90b262ec78d615.jpg  \n",
            " extracting: safety_helmet_dataset/train/images/person-518-_jpg.rf.6a2d464db6dbb4b00a22593a1178fe7d.jpg  \n",
            " extracting: safety_helmet_dataset/train/images/person-519-_jpg.rf.76d60aa7d315f43f9a4c664a35a10e1e.jpg  \n",
            " extracting: safety_helmet_dataset/train/images/person-52-_jpg.rf.82da20e7d5643ae169496d4b789f0874.jpg  \n",
            " extracting: safety_helmet_dataset/train/images/person-520-_jpg.rf.8f42071aae0d0c86ac37741c0191de10.jpg  \n",
            " extracting: safety_helmet_dataset/train/images/person-523-_jpg.rf.fca4056c36486c8a87fe3a339dbfbc56.jpg  \n",
            " extracting: safety_helmet_dataset/train/images/person-524-_jpg.rf.4d77f5d2a14530de71dd3b487a8513fb.jpg  \n",
            " extracting: safety_helmet_dataset/train/images/person-525-_jpg.rf.c8d4886675199e86602eb33e7dceb901.jpg  \n",
            " extracting: safety_helmet_dataset/train/images/person-526-_jpg.rf.507c9ebf7d34c217548e4f66c440247d.jpg  \n",
            " extracting: safety_helmet_dataset/train/images/person-528-_jpg.rf.5eb2f2be2e8c1e74e2003af43e254958.jpg  \n",
            " extracting: safety_helmet_dataset/train/images/person-529-_jpg.rf.d3b40f1fa81e8d1bc6ea472c3a2b3638.jpg  \n",
            " extracting: safety_helmet_dataset/train/images/person-530-_jpg.rf.b388c2ee4dc1038e72c429314e899f83.jpg  \n",
            " extracting: safety_helmet_dataset/train/images/person-531-_jpg.rf.a0504b8908f933b73d938241c3dc111b.jpg  \n",
            " extracting: safety_helmet_dataset/train/images/person-532-_jpg.rf.668aaed16b4314af4cd87bbbff2ff5ff.jpg  \n",
            " extracting: safety_helmet_dataset/train/images/person-534-_jpg.rf.b6d1b9c2ae86db599e7cca0091d66d48.jpg  \n",
            " extracting: safety_helmet_dataset/train/images/person-536-_jpg.rf.7a997ea90eb749846fdf558c9f7d1067.jpg  \n",
            " extracting: safety_helmet_dataset/train/images/person-537-_jpg.rf.3700230ecfa5935e236a78f0048447dc.jpg  \n",
            " extracting: safety_helmet_dataset/train/images/person-538-_jpg.rf.8a5fd0f577cae54f289bd6a215b34f04.jpg  \n",
            " extracting: safety_helmet_dataset/train/images/person-539-_jpg.rf.87509f30f3eb84254675feef06301e9e.jpg  \n",
            " extracting: safety_helmet_dataset/train/images/person-540-_jpg.rf.e902e8566e61db30970df8613aab0126.jpg  \n",
            " extracting: safety_helmet_dataset/train/images/person-541-_jpg.rf.3398496dc13021ed8a66d597d62b4c26.jpg  \n",
            " extracting: safety_helmet_dataset/train/images/person-542-_jpg.rf.340537b557495e2def2a0aff53a76ad3.jpg  \n",
            " extracting: safety_helmet_dataset/train/images/person-543-_jpg.rf.fbe177a0386c58d54353fd82a4591642.jpg  \n",
            " extracting: safety_helmet_dataset/train/images/person-544-_jpg.rf.ef36164134e487ff5dbfa618c8d55129.jpg  \n",
            " extracting: safety_helmet_dataset/train/images/person-545-_jpg.rf.6e07e3548fb4240b8cc0146ba36fc07a.jpg  \n",
            " extracting: safety_helmet_dataset/train/images/person-55-_jpg.rf.188aee5c251d5d87b19829ad4d023987.jpg  \n",
            " extracting: safety_helmet_dataset/train/images/person-56-_jpg.rf.2d01f40c23bf27d55614ac98e313ea96.jpg  \n",
            " extracting: safety_helmet_dataset/train/images/person-57-_jpg.rf.459e98efaf11b8de983491418a0c8440.jpg  \n",
            " extracting: safety_helmet_dataset/train/images/person-58-_jpg.rf.057224fed2288c848ac495af6a6c575f.jpg  \n",
            " extracting: safety_helmet_dataset/train/images/person-59-_jpg.rf.a5db91031b22711d1a0d7e5b9bb0b604.jpg  \n",
            " extracting: safety_helmet_dataset/train/images/person-6-_jpg.rf.67d0c20a60e036a4de712dac4dbdee98.jpg  \n",
            " extracting: safety_helmet_dataset/train/images/person-60-_jpg.rf.b8d79da514f054c4bdcdab842482ae31.jpg  \n",
            " extracting: safety_helmet_dataset/train/images/person-62-_jpg.rf.9dccbd66bfea4c1ae521e3e89dca29bb.jpg  \n",
            " extracting: safety_helmet_dataset/train/images/person-63-_jpg.rf.29320427edac392b26f56b10bf273fe5.jpg  \n",
            " extracting: safety_helmet_dataset/train/images/person-64-_jpg.rf.ddaacd385dd249b56c31d5764eda4dde.jpg  \n",
            " extracting: safety_helmet_dataset/train/images/person-65-_jpg.rf.43598eb614929dfc59410cf218b24b42.jpg  \n",
            " extracting: safety_helmet_dataset/train/images/person-66-_jpg.rf.2b43b1594ec720216ef50dd95ecf157a.jpg  \n",
            " extracting: safety_helmet_dataset/train/images/person-67-_jpg.rf.7ec3c01fd3655e80b6a02cbd951a764a.jpg  \n",
            " extracting: safety_helmet_dataset/train/images/person-68-_jpg.rf.83315eabf8ed3e89ce4167e25ee50245.jpg  \n",
            " extracting: safety_helmet_dataset/train/images/person-69-_jpg.rf.4d5c740ca1d41b5f3db6ded12ae2d88c.jpg  \n",
            " extracting: safety_helmet_dataset/train/images/person-7-_jpg.rf.bdb0e7b2fbf5413f132d0adab7cba391.jpg  \n",
            " extracting: safety_helmet_dataset/train/images/person-71-_jpg.rf.54bc3c5b2a7af21202443618e509f9ae.jpg  \n",
            " extracting: safety_helmet_dataset/train/images/person-72-_jpg.rf.43161d60fc0e95b48b5b2fb668354c14.jpg  \n",
            " extracting: safety_helmet_dataset/train/images/person-73-_jpg.rf.0e6a5dad8ba077fdf66c5a888f3cad9c.jpg  \n",
            " extracting: safety_helmet_dataset/train/images/person-74-_jpg.rf.7356b07117505baa8d1e7b4e1baf1846.jpg  \n",
            " extracting: safety_helmet_dataset/train/images/person-75-_jpg.rf.6356c5b128d1463cc891dde5378c8891.jpg  \n",
            " extracting: safety_helmet_dataset/train/images/person-80-_jpg.rf.263265f523742e787bf4fabac470e951.jpg  \n",
            " extracting: safety_helmet_dataset/train/images/person-81-_jpg.rf.eb897ddd675c6f363bdcf98887ff0ef6.jpg  \n",
            " extracting: safety_helmet_dataset/train/images/person-82-_jpg.rf.549dbd067b06149e683146d885132a29.jpg  \n",
            " extracting: safety_helmet_dataset/train/images/person-83-_jpg.rf.d0545370fd90eac9da6f8aecafb4537f.jpg  \n",
            " extracting: safety_helmet_dataset/train/images/person-84-_jpg.rf.5d4684ed6da2c87c47d0b3edc2c2282e.jpg  \n",
            " extracting: safety_helmet_dataset/train/images/person-86-_jpg.rf.ed2ea3ff5ba05f07b0e2426a1aeed4f0.jpg  \n",
            " extracting: safety_helmet_dataset/train/images/person-87-_jpg.rf.d78e4b469ed5afb7806634d1620b2cfd.jpg  \n",
            " extracting: safety_helmet_dataset/train/images/person-88-_jpg.rf.34667b5f1b8a130ee60c79b666d0dc39.jpg  \n",
            " extracting: safety_helmet_dataset/train/images/person-90-_jpg.rf.60ddd45fe837ccbcf33165089bf6adff.jpg  \n",
            " extracting: safety_helmet_dataset/train/images/person-91-_jpg.rf.9b81e71a03f4a96873997c6196c7ab68.jpg  \n",
            " extracting: safety_helmet_dataset/train/images/person-92-_jpg.rf.646bbf7ee7949ead27cc558200fa0f7a.jpg  \n",
            " extracting: safety_helmet_dataset/train/images/person-94-_jpg.rf.d0cbea098cd71240250afa5d3b982f68.jpg  \n",
            " extracting: safety_helmet_dataset/train/images/person-97-_jpg.rf.c70f1692f699e37fbffb3eab661ca504.jpg  \n",
            " extracting: safety_helmet_dataset/train/images/person-98-_jpg.rf.def95299d78387cedab80dacac672a07.jpg  \n",
            "   creating: safety_helmet_dataset/train/labels/\n",
            " extracting: safety_helmet_dataset/train/labels/helmet-1-_jpg.rf.3ababb74ee2ca6aed377f6884ceefabc.txt  \n",
            " extracting: safety_helmet_dataset/train/labels/helmet-101-_jpg.rf.b7ee6351207dd9fb591b7383e855e7e4.txt  \n",
            " extracting: safety_helmet_dataset/train/labels/helmet-102-_jpg.rf.9124550f56fe767da939070244cf9dc1.txt  \n",
            " extracting: safety_helmet_dataset/train/labels/helmet-103-_jpg.rf.cc4d0616a86431c3cd1f239cf8cf6a21.txt  \n",
            " extracting: safety_helmet_dataset/train/labels/helmet-105-_jpg.rf.48aa03d515fff5b8e7861cab37526a63.txt  \n",
            " extracting: safety_helmet_dataset/train/labels/helmet-107-_jpg.rf.b454f2ccc612fe7e086cf5b3ff524cc9.txt  \n",
            " extracting: safety_helmet_dataset/train/labels/helmet-109-_jpg.rf.6cc47279e3faaa0b6cdc0c0bc36440d5.txt  \n",
            " extracting: safety_helmet_dataset/train/labels/helmet-11-_jpg.rf.720aa94258c6e1f49bbbe5fd96511556.txt  \n",
            " extracting: safety_helmet_dataset/train/labels/helmet-111-_jpg.rf.d9ae3f52320430f9d1d8b5136f78570c.txt  \n",
            " extracting: safety_helmet_dataset/train/labels/helmet-112-_jpg.rf.f00f7148d7e542af98c4bd18d019e68b.txt  \n",
            " extracting: safety_helmet_dataset/train/labels/helmet-113-_jpg.rf.224e4c979640131b66a548756f8a6396.txt  \n",
            " extracting: safety_helmet_dataset/train/labels/helmet-114-_jpg.rf.d8259906a6cf89d0015bba5734cde3c3.txt  \n",
            " extracting: safety_helmet_dataset/train/labels/helmet-116-_jpg.rf.b7c7200e6fd051f752d9f141b9885d68.txt  \n",
            " extracting: safety_helmet_dataset/train/labels/helmet-117-_jpg.rf.404d7f2f0f46232cbc2deabc201e1016.txt  \n",
            " extracting: safety_helmet_dataset/train/labels/helmet-118-_jpg.rf.e3a36b381008ff5c8c85ceb02523784f.txt  \n",
            " extracting: safety_helmet_dataset/train/labels/helmet-119-_jpg.rf.964b33d9cacc04d12dc99e7533ce0dd3.txt  \n",
            " extracting: safety_helmet_dataset/train/labels/helmet-120-_jpg.rf.f530c7ecab6fe237e14c5ad1cc924819.txt  \n",
            " extracting: safety_helmet_dataset/train/labels/helmet-121-_jpg.rf.20381c82bfeb582fce3686d0dac2aaef.txt  \n",
            " extracting: safety_helmet_dataset/train/labels/helmet-122-_jpg.rf.39a492e72dfb52958eb40069f66c99b5.txt  \n",
            " extracting: safety_helmet_dataset/train/labels/helmet-123-_jpg.rf.6bb94e1850ea850d15eb0dd1c9819474.txt  \n",
            " extracting: safety_helmet_dataset/train/labels/helmet-124-_jpg.rf.3a947a28e854ae61c0134b2111ead331.txt  \n",
            " extracting: safety_helmet_dataset/train/labels/helmet-125-_jpg.rf.03ccd602b9af3a5a7ed4ca3a88e525e4.txt  \n",
            " extracting: safety_helmet_dataset/train/labels/helmet-126-_jpg.rf.fa2774a7f2f8d82d5d89ab0b40ebad3a.txt  \n",
            " extracting: safety_helmet_dataset/train/labels/helmet-127-_jpg.rf.9e3ddf7ff547da30bf61af647f8de409.txt  \n",
            " extracting: safety_helmet_dataset/train/labels/helmet-13-_jpg.rf.40efdceb104dcedeb1d02fc8ecd350b8.txt  \n",
            " extracting: safety_helmet_dataset/train/labels/helmet-130-_jpg.rf.0fa06ee00c5448d26e169b863b255afe.txt  \n",
            " extracting: safety_helmet_dataset/train/labels/helmet-132-_jpg.rf.7486afccb791ebec90d72f131d47c273.txt  \n",
            " extracting: safety_helmet_dataset/train/labels/helmet-133-_jpg.rf.b4e2d85403d25e4d000e18d7dac3577d.txt  \n",
            " extracting: safety_helmet_dataset/train/labels/helmet-134-_jpg.rf.0911b364e8b92da714e4a2b9c449dcd6.txt  \n",
            " extracting: safety_helmet_dataset/train/labels/helmet-137-_jpg.rf.8a1aa29e7a6b5287fad67eb59a931a78.txt  \n",
            " extracting: safety_helmet_dataset/train/labels/helmet-138-_jpg.rf.d2bb7bae39092aa8ad417cccbdf59916.txt  \n",
            " extracting: safety_helmet_dataset/train/labels/helmet-14-_jpg.rf.3ed8f53664663594b0342458cbd99d5d.txt  \n",
            " extracting: safety_helmet_dataset/train/labels/helmet-140-_jpg.rf.4f45ab70bfa6a3f7a5de18e01409bf88.txt  \n",
            " extracting: safety_helmet_dataset/train/labels/helmet-141-_jpg.rf.909b11046d94f9186fe1b85053dd4854.txt  \n",
            " extracting: safety_helmet_dataset/train/labels/helmet-143-_jpg.rf.d8e1dbbf4cdfb80254cda13db83c5ec3.txt  \n",
            " extracting: safety_helmet_dataset/train/labels/helmet-144-_jpg.rf.59a6d722a276123f52d1833f95dc8e70.txt  \n",
            " extracting: safety_helmet_dataset/train/labels/helmet-145-_jpg.rf.1ac11e1098bfa617be08d5165fa26129.txt  \n",
            " extracting: safety_helmet_dataset/train/labels/helmet-147-_jpg.rf.d2a522d47c2d27c4ff785bf1361459e5.txt  \n",
            " extracting: safety_helmet_dataset/train/labels/helmet-148-_jpg.rf.99de3e8d3fc6be5c7cc6e332579cbcf1.txt  \n",
            " extracting: safety_helmet_dataset/train/labels/helmet-149-_jpg.rf.441c95407956075154a4c1a9f882d91f.txt  \n",
            " extracting: safety_helmet_dataset/train/labels/helmet-15-_jpg.rf.0338c2dde1356d26d993c63cf88f36da.txt  \n",
            " extracting: safety_helmet_dataset/train/labels/helmet-150-_jpg.rf.bb7106c65187da5386ab666cc45e2181.txt  \n",
            " extracting: safety_helmet_dataset/train/labels/helmet-152-_jpg.rf.88e2101ea7f3ba9e8fcd72cc4995827f.txt  \n",
            " extracting: safety_helmet_dataset/train/labels/helmet-153-_jpg.rf.18e487eff750b541a438f7cc33614587.txt  \n",
            " extracting: safety_helmet_dataset/train/labels/helmet-154-_jpg.rf.77808fd85bd1e7adfecdd1657b411d3f.txt  \n",
            " extracting: safety_helmet_dataset/train/labels/helmet-156-_jpg.rf.23b6deca5c4f14a5c8fb34c51374650a.txt  \n",
            " extracting: safety_helmet_dataset/train/labels/helmet-157-_jpg.rf.45dbcbf44cfbd35054428fd8ca663380.txt  \n",
            " extracting: safety_helmet_dataset/train/labels/helmet-158-_jpg.rf.a27e6cbc2f69cf97e9e656f347e332fc.txt  \n",
            " extracting: safety_helmet_dataset/train/labels/helmet-16-_jpg.rf.c286c44d8312568e142d0f07fe625a08.txt  \n",
            " extracting: safety_helmet_dataset/train/labels/helmet-161-_jpg.rf.9ada0ffdee16c259938ef7ee64e475ca.txt  \n",
            " extracting: safety_helmet_dataset/train/labels/helmet-162-_jpg.rf.513467c655febc46b86f431db224bb26.txt  \n",
            " extracting: safety_helmet_dataset/train/labels/helmet-167-_jpg.rf.c30b8276e6c57e53b17c6006c030fa3b.txt  \n",
            " extracting: safety_helmet_dataset/train/labels/helmet-169-_jpg.rf.212d55f0902078c25c5281a653027896.txt  \n",
            " extracting: safety_helmet_dataset/train/labels/helmet-171-_jpg.rf.4041924bb221559b6618ab30a2b86d76.txt  \n",
            " extracting: safety_helmet_dataset/train/labels/helmet-172-_jpg.rf.31b629f98d6485342d28f5fd59881882.txt  \n",
            " extracting: safety_helmet_dataset/train/labels/helmet-173-_jpg.rf.e3032a54be1d76f58f4a8279b3be68f2.txt  \n",
            " extracting: safety_helmet_dataset/train/labels/helmet-174-_jpg.rf.d6a904739bdde8e347654670f0576733.txt  \n",
            " extracting: safety_helmet_dataset/train/labels/helmet-175-_jpg.rf.ff68e936e9be0004a9f10103249cfcb7.txt  \n",
            " extracting: safety_helmet_dataset/train/labels/helmet-176-_jpg.rf.d93897916ffeab46f19dfe63e825851a.txt  \n",
            " extracting: safety_helmet_dataset/train/labels/helmet-178-_jpg.rf.cf01a9f28f492cecfdfd697156183020.txt  \n",
            " extracting: safety_helmet_dataset/train/labels/helmet-179-_jpg.rf.ce2a028e34b0a6e3f0f2f05e089b7e66.txt  \n",
            " extracting: safety_helmet_dataset/train/labels/helmet-18-_jpg.rf.960b66d2c91906246bd79c052abd1aab.txt  \n",
            " extracting: safety_helmet_dataset/train/labels/helmet-180-_jpg.rf.8f11677cc2bc011122c5f626c0105754.txt  \n",
            " extracting: safety_helmet_dataset/train/labels/helmet-181-_jpg.rf.770dd1548526e3ff1e63d5f8232922c2.txt  \n",
            " extracting: safety_helmet_dataset/train/labels/helmet-183-_jpg.rf.acb8d10f7049fed8fb1c59711fa53b4a.txt  \n",
            " extracting: safety_helmet_dataset/train/labels/helmet-184-_jpg.rf.1c8cb75ff49798eef6bac6711aaf2caa.txt  \n",
            " extracting: safety_helmet_dataset/train/labels/helmet-185-_jpg.rf.9d66c220f5bfc54d034538a9d5dec28e.txt  \n",
            " extracting: safety_helmet_dataset/train/labels/helmet-186-_jpg.rf.b64a48ff00541833564bdcbf30adba58.txt  \n",
            " extracting: safety_helmet_dataset/train/labels/helmet-188-_jpg.rf.3abfffaeed0b33f7a5362702956b47ef.txt  \n",
            " extracting: safety_helmet_dataset/train/labels/helmet-19-_jpg.rf.65727e86a52839d9482b48a7fd94d279.txt  \n",
            " extracting: safety_helmet_dataset/train/labels/helmet-190-_jpg.rf.931b32bcffcacc3cb04cf232998277aa.txt  \n",
            " extracting: safety_helmet_dataset/train/labels/helmet-191-_jpg.rf.461b65e2c7190c734f7323e431617d9f.txt  \n",
            " extracting: safety_helmet_dataset/train/labels/helmet-192-_jpg.rf.66bc61ba0849da267c372742eb7f07a4.txt  \n",
            " extracting: safety_helmet_dataset/train/labels/helmet-193-_jpg.rf.bca63785ee0461fca4dbbe92d3f5520d.txt  \n",
            " extracting: safety_helmet_dataset/train/labels/helmet-195-_jpg.rf.8050df8a0ee447e5f8b8a60dec6f0bd9.txt  \n",
            " extracting: safety_helmet_dataset/train/labels/helmet-199-_jpg.rf.1610989ded5fce3982eb4bf4cd8aa34f.txt  \n",
            " extracting: safety_helmet_dataset/train/labels/helmet-20-_jpg.rf.4f26a2e78ff329708133ee8af41b63d1.txt  \n",
            " extracting: safety_helmet_dataset/train/labels/helmet-200-_jpg.rf.4873ed5511bafeee0b6555918fa4cdec.txt  \n",
            " extracting: safety_helmet_dataset/train/labels/helmet-201-_jpg.rf.7b932097ef26be35998ea5ec4e73088c.txt  \n",
            " extracting: safety_helmet_dataset/train/labels/helmet-202-_jpg.rf.d03d4b304fea4a50fc97ddd71a127fe3.txt  \n",
            " extracting: safety_helmet_dataset/train/labels/helmet-203-_jpg.rf.4180e7d4e5833dd12305ef54ac342e43.txt  \n",
            " extracting: safety_helmet_dataset/train/labels/helmet-204-_jpg.rf.ab2de6a7e58a7e09f672c46a16d8f987.txt  \n",
            " extracting: safety_helmet_dataset/train/labels/helmet-205-_jpg.rf.81954f3a7b05a62181adbf889114ecfe.txt  \n",
            " extracting: safety_helmet_dataset/train/labels/helmet-206-_jpg.rf.f113dc237d88f45efa0b998fc99213a3.txt  \n",
            " extracting: safety_helmet_dataset/train/labels/helmet-207-_jpg.rf.f63d668e898e19b99ddfa81c965ef19a.txt  \n",
            " extracting: safety_helmet_dataset/train/labels/helmet-208-_jpg.rf.ddda2ac90d32e4e28a5b26107d0dd78c.txt  \n",
            " extracting: safety_helmet_dataset/train/labels/helmet-21-_jpg.rf.d4d5696a5564c9e3e5b3066940e09657.txt  \n",
            " extracting: safety_helmet_dataset/train/labels/helmet-212-_jpg.rf.b7992145b86fb6a89956740758bd852c.txt  \n",
            " extracting: safety_helmet_dataset/train/labels/helmet-213-_jpg.rf.990346ea6a7b3fb86c4df76265bfafaa.txt  \n",
            " extracting: safety_helmet_dataset/train/labels/helmet-216-_jpg.rf.8230e1323090bc432cb242467ed25bc6.txt  \n",
            " extracting: safety_helmet_dataset/train/labels/helmet-217-_jpg.rf.443a6526a8e37488a70e0222c5c90292.txt  \n",
            " extracting: safety_helmet_dataset/train/labels/helmet-218-_jpg.rf.f99ba5460184e58da4359481961aa959.txt  \n",
            " extracting: safety_helmet_dataset/train/labels/helmet-219-_jpg.rf.812fcc8d80062a3eb8ba4e7895cb2cdc.txt  \n",
            " extracting: safety_helmet_dataset/train/labels/helmet-220-_jpg.rf.514668bdb49b3deea9e153f3deeaf89f.txt  \n",
            " extracting: safety_helmet_dataset/train/labels/helmet-223-_jpg.rf.89746b926afa8fa5b6873d9af9323797.txt  \n",
            " extracting: safety_helmet_dataset/train/labels/helmet-224-_jpg.rf.df654551f3068f9804046f0b9790f531.txt  \n",
            " extracting: safety_helmet_dataset/train/labels/helmet-225-_jpg.rf.43df31869510a2ae87d8ec23f014802f.txt  \n",
            " extracting: safety_helmet_dataset/train/labels/helmet-226-_jpg.rf.5df6568834119f071bfb5bafe255af02.txt  \n",
            " extracting: safety_helmet_dataset/train/labels/helmet-227-_jpg.rf.5c6334f6aa33811571f2b05c5e57d348.txt  \n",
            " extracting: safety_helmet_dataset/train/labels/helmet-229-_jpg.rf.b804fb2b24fbca184c4b57b662ace667.txt  \n",
            " extracting: safety_helmet_dataset/train/labels/helmet-23-_jpg.rf.0f9adcee7ae2cc5b3f48852f0aec28db.txt  \n",
            " extracting: safety_helmet_dataset/train/labels/helmet-230-_jpg.rf.a9fe99fbbc401e7ea4132a34ea8846df.txt  \n",
            " extracting: safety_helmet_dataset/train/labels/helmet-231-_jpg.rf.e267178a707e2c775ef45f9e4d20e9ee.txt  \n",
            " extracting: safety_helmet_dataset/train/labels/helmet-232-_jpg.rf.cae6a92d5cd8cc7cca0e7b3ccf4f39ec.txt  \n",
            " extracting: safety_helmet_dataset/train/labels/helmet-234-_jpg.rf.47beb19520db0a509a88928ca12c5900.txt  \n",
            " extracting: safety_helmet_dataset/train/labels/helmet-235-_jpg.rf.21dde72041d6f716051f00b479405003.txt  \n",
            " extracting: safety_helmet_dataset/train/labels/helmet-236-_jpg.rf.a412c905dffedcc152ba9cf82b4629e6.txt  \n",
            " extracting: safety_helmet_dataset/train/labels/helmet-237-_jpg.rf.1b396798df07a84e0f54e4a405555202.txt  \n",
            " extracting: safety_helmet_dataset/train/labels/helmet-238-_jpg.rf.636ba09d448d92da455ba431579a1585.txt  \n",
            " extracting: safety_helmet_dataset/train/labels/helmet-239-_jpg.rf.f48bd0aab25711b654ec2ff2d5f0023d.txt  \n",
            " extracting: safety_helmet_dataset/train/labels/helmet-240-_jpg.rf.542458251772304f0d2e28705cfb3941.txt  \n",
            " extracting: safety_helmet_dataset/train/labels/helmet-241-_jpg.rf.28e980ec01a344551a47e8dea9c37540.txt  \n",
            " extracting: safety_helmet_dataset/train/labels/helmet-243-_jpg.rf.405c46de1b293c543a61e731d899a0db.txt  \n",
            " extracting: safety_helmet_dataset/train/labels/helmet-245-_jpg.rf.585b46893822d8186b5e406dbaed7b3e.txt  \n",
            " extracting: safety_helmet_dataset/train/labels/helmet-247-_jpg.rf.cb6dcfeb3c3f5d265f20d044e8a619de.txt  \n",
            " extracting: safety_helmet_dataset/train/labels/helmet-248-_jpg.rf.2a44ee435b81065076a1de655280d674.txt  \n",
            " extracting: safety_helmet_dataset/train/labels/helmet-249-_jpg.rf.e44a6751e580bb7826ac64de87b82594.txt  \n",
            " extracting: safety_helmet_dataset/train/labels/helmet-25-_jpg.rf.d205a6c9237770cc62ad512978b9bb54.txt  \n",
            " extracting: safety_helmet_dataset/train/labels/helmet-251-_jpg.rf.eeb45f29fd46945c63a97b61c21fc148.txt  \n",
            " extracting: safety_helmet_dataset/train/labels/helmet-253-_jpg.rf.d80003a41c41b753ba7c03e642ed87e2.txt  \n",
            " extracting: safety_helmet_dataset/train/labels/helmet-254-_jpg.rf.7fb1c2f622d0e59885656b4759a6f87b.txt  \n",
            " extracting: safety_helmet_dataset/train/labels/helmet-255-_jpg.rf.216ac61acfff2377751b3825ed3b52b3.txt  \n",
            " extracting: safety_helmet_dataset/train/labels/helmet-257-_jpg.rf.4dc549a016c0d7f6f9cf5b14fcc7a7e5.txt  \n",
            " extracting: safety_helmet_dataset/train/labels/helmet-258-_jpg.rf.badd816d55235133dfe02696017d7565.txt  \n",
            " extracting: safety_helmet_dataset/train/labels/helmet-259-_jpg.rf.c610dc34f9ad1e6ebf65638eba4bc718.txt  \n",
            " extracting: safety_helmet_dataset/train/labels/helmet-260-_jpg.rf.95c268b67f5338ebaa52066370e2181e.txt  \n",
            " extracting: safety_helmet_dataset/train/labels/helmet-261-_jpg.rf.cfd010578681e548f0438a621acca0b8.txt  \n",
            " extracting: safety_helmet_dataset/train/labels/helmet-263-_jpg.rf.b0190282ccce92280c612c59cc2bb4db.txt  \n",
            " extracting: safety_helmet_dataset/train/labels/helmet-264-_jpg.rf.280e6a8f3c418260a43957fa8580354d.txt  \n",
            " extracting: safety_helmet_dataset/train/labels/helmet-265-_jpg.rf.b7d8c7dfd0e2c48a315ae608004b50ce.txt  \n",
            " extracting: safety_helmet_dataset/train/labels/helmet-266-_jpg.rf.661994a0c176688fa4907e027a151c22.txt  \n",
            " extracting: safety_helmet_dataset/train/labels/helmet-267-_jpg.rf.9cfbdf4078e8ca4a23d6088aa63b5f0b.txt  \n",
            " extracting: safety_helmet_dataset/train/labels/helmet-27-_jpg.rf.de3cb283a0eb1977730fb426a3bfb683.txt  \n",
            " extracting: safety_helmet_dataset/train/labels/helmet-270-_jpg.rf.0a9d30b245fe9d8a5bcd3683954a5570.txt  \n",
            " extracting: safety_helmet_dataset/train/labels/helmet-271-_jpg.rf.f32dc8e4993f6a2524ed11d688666295.txt  \n",
            " extracting: safety_helmet_dataset/train/labels/helmet-273-_jpg.rf.a683aa28a88bc4c4e5699dc0119ba949.txt  \n",
            " extracting: safety_helmet_dataset/train/labels/helmet-274-_jpg.rf.9d560cfe3dd0d301f00f46b6822805cd.txt  \n",
            " extracting: safety_helmet_dataset/train/labels/helmet-277-_jpg.rf.64ec23f8bb53c39b01d429f7542e0ee3.txt  \n",
            " extracting: safety_helmet_dataset/train/labels/helmet-278-_jpg.rf.117a52a019b09daf86a770a0b00bf136.txt  \n",
            " extracting: safety_helmet_dataset/train/labels/helmet-28-_jpg.rf.1ba58295ba73bd5daa6fa529ac07d23e.txt  \n",
            " extracting: safety_helmet_dataset/train/labels/helmet-281-_jpg.rf.080594d5d8e303d93d4f0d915af883d8.txt  \n",
            " extracting: safety_helmet_dataset/train/labels/helmet-282-_jpg.rf.357da7e7de7b761fdd457f480fb94cda.txt  \n",
            " extracting: safety_helmet_dataset/train/labels/helmet-284-_jpg.rf.97809ec7737810a8db5cc8c68f328c99.txt  \n",
            " extracting: safety_helmet_dataset/train/labels/helmet-285-_jpg.rf.8a47dfd6d534b72fbaa498bb85eac35b.txt  \n",
            " extracting: safety_helmet_dataset/train/labels/helmet-286-_jpg.rf.6ba20f5e65376c4b8d258d5f68e901df.txt  \n",
            " extracting: safety_helmet_dataset/train/labels/helmet-287-_jpg.rf.184c947adf7bbd0c5069f17c960a673c.txt  \n",
            " extracting: safety_helmet_dataset/train/labels/helmet-288-_jpg.rf.64f35b34036f3d38eb4b54a35fe5f620.txt  \n",
            " extracting: safety_helmet_dataset/train/labels/helmet-289-_jpg.rf.1487c27b1aa2d839bf5862bdee546f61.txt  \n",
            " extracting: safety_helmet_dataset/train/labels/helmet-290-_jpg.rf.d3dda8a249ff510a0913f5c49238414b.txt  \n",
            " extracting: safety_helmet_dataset/train/labels/helmet-291-_jpg.rf.cfa382184ad9b0eee2222d7b0468ce50.txt  \n",
            " extracting: safety_helmet_dataset/train/labels/helmet-294-_jpg.rf.ca3aa52673d4edb75b583fcad0fc49a6.txt  \n",
            " extracting: safety_helmet_dataset/train/labels/helmet-295-_jpg.rf.63600252bb458dc053f546c828e600c9.txt  \n",
            " extracting: safety_helmet_dataset/train/labels/helmet-296-_jpg.rf.abab89b5a3be3c103194b48c08b28f47.txt  \n",
            " extracting: safety_helmet_dataset/train/labels/helmet-297-_jpg.rf.3679139f053756c1889599d49d48e644.txt  \n",
            " extracting: safety_helmet_dataset/train/labels/helmet-299-_jpg.rf.6f759d14f6c42d22ae12b938b0fc62b9.txt  \n",
            " extracting: safety_helmet_dataset/train/labels/helmet-3-_jpg.rf.61ed0ab9202a3d098baf58c6ee718495.txt  \n",
            " extracting: safety_helmet_dataset/train/labels/helmet-301-_jpg.rf.259e8a217fd3e8769277a3b64737a9b8.txt  \n",
            " extracting: safety_helmet_dataset/train/labels/helmet-302-_jpg.rf.c76a55a9d2a1918b7e6b6208b5009150.txt  \n",
            " extracting: safety_helmet_dataset/train/labels/helmet-303-_jpg.rf.d8eb58ef7c9085d5f04812a44ce2c2db.txt  \n",
            " extracting: safety_helmet_dataset/train/labels/helmet-305-_jpg.rf.50db01aa535be0b68da00041babd8621.txt  \n",
            " extracting: safety_helmet_dataset/train/labels/helmet-308-_jpg.rf.d2a2b70a166a0ce35eb766a06b93730f.txt  \n",
            " extracting: safety_helmet_dataset/train/labels/helmet-309-_jpg.rf.4e2f572d97ba6d306766decefa25f5c8.txt  \n",
            " extracting: safety_helmet_dataset/train/labels/helmet-31-_jpg.rf.a0ab17f909082fe28f2a06e75a76fc74.txt  \n",
            " extracting: safety_helmet_dataset/train/labels/helmet-313-_jpg.rf.46b7fde8361bc39063a4abb7315edcba.txt  \n",
            " extracting: safety_helmet_dataset/train/labels/helmet-314-_jpg.rf.31881c4c314a1e95eeaf2e4f3dffcba9.txt  \n",
            " extracting: safety_helmet_dataset/train/labels/helmet-315-_jpg.rf.31bf326465c150d555a12f3b44a3fb83.txt  \n",
            " extracting: safety_helmet_dataset/train/labels/helmet-316-_jpg.rf.801d92b774384af1363a6dc49202d985.txt  \n",
            " extracting: safety_helmet_dataset/train/labels/helmet-317-_jpg.rf.d63720825cdde4b2b8f9e3eb6644f40e.txt  \n",
            " extracting: safety_helmet_dataset/train/labels/helmet-318-_jpg.rf.0afd4f88ffe0125cfdde303ed24fe674.txt  \n",
            " extracting: safety_helmet_dataset/train/labels/helmet-319-_jpg.rf.6a4b83cf10e39473cc41f73ff6f377df.txt  \n",
            " extracting: safety_helmet_dataset/train/labels/helmet-32-_jpg.rf.6264387c61243ec2fa0977b8c7af9840.txt  \n",
            " extracting: safety_helmet_dataset/train/labels/helmet-320-_jpg.rf.59c659fe18a95ec331167410355052a9.txt  \n",
            " extracting: safety_helmet_dataset/train/labels/helmet-321-_jpg.rf.042de956137bbe85d1dadc10e537d071.txt  \n",
            " extracting: safety_helmet_dataset/train/labels/helmet-323-_jpg.rf.53b34ea8322574227f270983e96be524.txt  \n",
            " extracting: safety_helmet_dataset/train/labels/helmet-324-_jpg.rf.af956d04d37a24eaa540472bd7625364.txt  \n",
            " extracting: safety_helmet_dataset/train/labels/helmet-325-_jpg.rf.b10167a27a1d1d9951de1e3e8cd6ea6f.txt  \n",
            " extracting: safety_helmet_dataset/train/labels/helmet-326-_jpg.rf.32a15a7c7de0bd6694b12399643bce0b.txt  \n",
            " extracting: safety_helmet_dataset/train/labels/helmet-327-_jpg.rf.5928771c9a8d7386ed0f6e0bebeed34a.txt  \n",
            " extracting: safety_helmet_dataset/train/labels/helmet-329-_jpg.rf.38321d466f77663da4d336a2bdf25cbe.txt  \n",
            " extracting: safety_helmet_dataset/train/labels/helmet-33-_jpg.rf.b095df4853b4d11deabc060e5c11b211.txt  \n",
            " extracting: safety_helmet_dataset/train/labels/helmet-330-_jpg.rf.efcafc9b47865dafa83d7dcb04866448.txt  \n",
            " extracting: safety_helmet_dataset/train/labels/helmet-333-_jpg.rf.cb92d6d1fbdf93cf4e3397082ee4fb7a.txt  \n",
            " extracting: safety_helmet_dataset/train/labels/helmet-334-_jpg.rf.9eb3a5be4353cbdd4a71ec472010a285.txt  \n",
            " extracting: safety_helmet_dataset/train/labels/helmet-335-_jpg.rf.83a3b6d0671961b5f38351cbf5a04b0b.txt  \n",
            " extracting: safety_helmet_dataset/train/labels/helmet-336-_jpg.rf.a64b098570fa75e2ba002a4bedb7a35a.txt  \n",
            " extracting: safety_helmet_dataset/train/labels/helmet-337-_jpg.rf.130979fa2ac811777ee0367bfbdd7955.txt  \n",
            " extracting: safety_helmet_dataset/train/labels/helmet-338-_jpg.rf.89d3cd78fadea06a0caafca74200bee9.txt  \n",
            " extracting: safety_helmet_dataset/train/labels/helmet-34-_jpg.rf.a11582c2c7bcb360af0ddccff5e69baa.txt  \n",
            " extracting: safety_helmet_dataset/train/labels/helmet-340-_jpg.rf.b3e087dc84f4ec8cffdd965c3c167d40.txt  \n",
            " extracting: safety_helmet_dataset/train/labels/helmet-344-_jpg.rf.2d7a9b126842c0a7d8c4a0a446d16188.txt  \n",
            " extracting: safety_helmet_dataset/train/labels/helmet-345-_jpg.rf.351f2a7f1afc4a777795fb012c71487d.txt  \n",
            " extracting: safety_helmet_dataset/train/labels/helmet-346-_jpg.rf.ef722b3abdf8e04748e27c610ad6a8d3.txt  \n",
            " extracting: safety_helmet_dataset/train/labels/helmet-347-_jpg.rf.04324487b1fdb6fed6f9dae6148be8f8.txt  \n",
            " extracting: safety_helmet_dataset/train/labels/helmet-349-_jpg.rf.16ac01a567c5fafbe4b31291331960a2.txt  \n",
            " extracting: safety_helmet_dataset/train/labels/helmet-351-_jpg.rf.e929125dedb278efc8ece0f80a729667.txt  \n",
            " extracting: safety_helmet_dataset/train/labels/helmet-352-_jpg.rf.f7c019e6fd9bad3783384406602e35bc.txt  \n",
            " extracting: safety_helmet_dataset/train/labels/helmet-354-_jpg.rf.569f5ffd294691019bb4e1c102db2dbd.txt  \n",
            " extracting: safety_helmet_dataset/train/labels/helmet-356-_jpg.rf.bf58f9958ad43b946820dd3cc760df98.txt  \n",
            " extracting: safety_helmet_dataset/train/labels/helmet-357-_jpg.rf.c7fc77b1f50426cc420fae6aa06d5daa.txt  \n",
            " extracting: safety_helmet_dataset/train/labels/helmet-359-_jpg.rf.08ab0ce7df40018c2b7e8164e2cbe800.txt  \n",
            " extracting: safety_helmet_dataset/train/labels/helmet-36-_jpg.rf.f3aef26712edd7c69f09d50a012a9f21.txt  \n",
            " extracting: safety_helmet_dataset/train/labels/helmet-360-_jpg.rf.0c58b4364e67a1bff6fd776a1b9c7576.txt  \n",
            " extracting: safety_helmet_dataset/train/labels/helmet-362-_jpg.rf.8bf31d5a5ad0a3d0d45833b8fd40d874.txt  \n",
            " extracting: safety_helmet_dataset/train/labels/helmet-363-_jpg.rf.004c94c8cfb5c1d9f348eeab58a08916.txt  \n",
            " extracting: safety_helmet_dataset/train/labels/helmet-364-_jpg.rf.a3fbe180f154557a5b2780b1dc4ec179.txt  \n",
            " extracting: safety_helmet_dataset/train/labels/helmet-365-_jpg.rf.ce7108093f38d966e72f0ec94d6058f3.txt  \n",
            " extracting: safety_helmet_dataset/train/labels/helmet-366-_jpg.rf.4422cb58e7647a40fdec018704969e07.txt  \n",
            " extracting: safety_helmet_dataset/train/labels/helmet-367-_jpg.rf.6469bb5351acd26d266782259068b438.txt  \n",
            " extracting: safety_helmet_dataset/train/labels/helmet-369-_jpg.rf.d13408f5dcdd96d22c033d9fa96379a1.txt  \n",
            " extracting: safety_helmet_dataset/train/labels/helmet-37-_jpg.rf.38ba4edb2397594df07498a37f3f50b7.txt  \n",
            " extracting: safety_helmet_dataset/train/labels/helmet-370-_jpg.rf.ce197d9ab00d2728981a0b088f788d8a.txt  \n",
            " extracting: safety_helmet_dataset/train/labels/helmet-371-_jpg.rf.16f29fda4d210ab2549de379e8ee91e6.txt  \n",
            " extracting: safety_helmet_dataset/train/labels/helmet-372-_jpg.rf.bf21d246843400b24a3b2e39a28f6bab.txt  \n",
            " extracting: safety_helmet_dataset/train/labels/helmet-373-_jpg.rf.1a5cd1fd2d95b9a54766ea2dd4ef53c8.txt  \n",
            " extracting: safety_helmet_dataset/train/labels/helmet-374-_jpg.rf.bd7a55697a1f2ba5335056687fd720fa.txt  \n",
            " extracting: safety_helmet_dataset/train/labels/helmet-375-_jpg.rf.95f97e9aa38b83861d626a7465186bdb.txt  \n",
            " extracting: safety_helmet_dataset/train/labels/helmet-377-_jpg.rf.70971dd9055d4306f84df20f8823ba5e.txt  \n",
            " extracting: safety_helmet_dataset/train/labels/helmet-378-_jpg.rf.b0fae4d3ea4450c37dabd24d764f55c1.txt  \n",
            " extracting: safety_helmet_dataset/train/labels/helmet-379-_jpg.rf.a436261861683bfdf89195cb192efcfc.txt  \n",
            " extracting: safety_helmet_dataset/train/labels/helmet-380-_jpg.rf.feddd6c2dbf04f61d50241b663ee9aad.txt  \n",
            " extracting: safety_helmet_dataset/train/labels/helmet-381-_jpg.rf.1dbc794bc6c2f183d156926a3a6118c9.txt  \n",
            " extracting: safety_helmet_dataset/train/labels/helmet-382-_jpg.rf.d7b96906f80ebc53080f74c848436e28.txt  \n",
            " extracting: safety_helmet_dataset/train/labels/helmet-383-_jpg.rf.1cd3188dff4c4bb97d5e0da38dd772d0.txt  \n",
            " extracting: safety_helmet_dataset/train/labels/helmet-384-_jpg.rf.f2c364fc76be9ceadaf6cf76e16c7486.txt  \n",
            " extracting: safety_helmet_dataset/train/labels/helmet-385-_jpg.rf.44a07c4652717edad66ec2275f9b4c1b.txt  \n",
            " extracting: safety_helmet_dataset/train/labels/helmet-386-_jpg.rf.b0d49b9728198b2d49e0049941a1ff9c.txt  \n",
            " extracting: safety_helmet_dataset/train/labels/helmet-387-_jpg.rf.adbce4323678e9db352aa02c0a4159bc.txt  \n",
            " extracting: safety_helmet_dataset/train/labels/helmet-39-_jpg.rf.ff1c62de412b6931a4690a4eaef5794c.txt  \n",
            " extracting: safety_helmet_dataset/train/labels/helmet-392-_jpg.rf.f476b5c3c5db939b38ceb431f884c4e0.txt  \n",
            " extracting: safety_helmet_dataset/train/labels/helmet-393-_jpg.rf.3f8434ee85fd1092c703fe70470d3406.txt  \n",
            " extracting: safety_helmet_dataset/train/labels/helmet-395-_jpg.rf.dde5007d1e7f01fdb3d912d6471581ff.txt  \n",
            " extracting: safety_helmet_dataset/train/labels/helmet-396-_jpg.rf.4a3d8c35af5557657badbc1594672727.txt  \n",
            " extracting: safety_helmet_dataset/train/labels/helmet-397-_jpg.rf.8ae1cde13e09c52b46201717a173f3f6.txt  \n",
            " extracting: safety_helmet_dataset/train/labels/helmet-398-_jpg.rf.a8b702cc4d1fb3e1356d7deb31a641eb.txt  \n",
            " extracting: safety_helmet_dataset/train/labels/helmet-4-_jpg.rf.c6f822d9660d9321cdc8f48343ddaafd.txt  \n",
            " extracting: safety_helmet_dataset/train/labels/helmet-40-_jpg.rf.d5bafb151f7ce9b565baa1b010187dc3.txt  \n",
            " extracting: safety_helmet_dataset/train/labels/helmet-400-_jpg.rf.6c4b62e95442b516f6cca6c0cee1e126.txt  \n",
            " extracting: safety_helmet_dataset/train/labels/helmet-401-_jpg.rf.2b80639233edce0a9c77e75537257848.txt  \n",
            " extracting: safety_helmet_dataset/train/labels/helmet-402-_jpg.rf.c6377fb246b0a1c44182263e3c2d33cb.txt  \n",
            " extracting: safety_helmet_dataset/train/labels/helmet-403-_jpg.rf.10ffa27618e408ba8298736b4271a2d1.txt  \n",
            " extracting: safety_helmet_dataset/train/labels/helmet-404-_jpg.rf.0e329cc36871e8624c445de39b3f89f5.txt  \n",
            " extracting: safety_helmet_dataset/train/labels/helmet-405-_jpg.rf.fb9e170bebbc1904e626742bc2683c4a.txt  \n",
            " extracting: safety_helmet_dataset/train/labels/helmet-406-_jpg.rf.f7a176e07c8e471b394e42a85059e86b.txt  \n",
            " extracting: safety_helmet_dataset/train/labels/helmet-407-_jpg.rf.e2926233eedd0a14550a74712c2f60e3.txt  \n",
            " extracting: safety_helmet_dataset/train/labels/helmet-409-_jpg.rf.0ac6f021412d51018d0a1f7d1a5431b1.txt  \n",
            " extracting: safety_helmet_dataset/train/labels/helmet-41-_jpg.rf.a1359688ee5d269163c831a56e412fb4.txt  \n",
            " extracting: safety_helmet_dataset/train/labels/helmet-410-_jpg.rf.70c094ee14b3a977229d7f98ec0e3ce8.txt  \n",
            " extracting: safety_helmet_dataset/train/labels/helmet-411-_jpg.rf.435e091836dc8546824c93c91c8bb238.txt  \n",
            " extracting: safety_helmet_dataset/train/labels/helmet-412-_jpg.rf.e24dffcc013e22e33eb85323003f6bd5.txt  \n",
            " extracting: safety_helmet_dataset/train/labels/helmet-413-_jpg.rf.612f83ca447d4b9b08b9be4d5cc222d3.txt  \n",
            " extracting: safety_helmet_dataset/train/labels/helmet-414-_jpg.rf.347b078d0eb6ecc02e88f405b6152b3f.txt  \n",
            " extracting: safety_helmet_dataset/train/labels/helmet-415-_jpg.rf.b0caa62dc165515be246f8862326c66e.txt  \n",
            " extracting: safety_helmet_dataset/train/labels/helmet-417-_jpg.rf.865520fcb3a9a8c09e6d47fdedaf658f.txt  \n",
            " extracting: safety_helmet_dataset/train/labels/helmet-418-_jpg.rf.7cdb31edfb3734f449fc8537c11827e0.txt  \n",
            " extracting: safety_helmet_dataset/train/labels/helmet-419-_jpg.rf.6189b62b740200997e1cde3b80cc4487.txt  \n",
            " extracting: safety_helmet_dataset/train/labels/helmet-42-_jpg.rf.5da8df5f5a3a8958909bcf6a5eb5c0f4.txt  \n",
            " extracting: safety_helmet_dataset/train/labels/helmet-420-_jpg.rf.7eabe0caaf8c738edcb4bef752f25cf2.txt  \n",
            " extracting: safety_helmet_dataset/train/labels/helmet-421-_jpg.rf.f0fb35d8f5e258308a5a70bd8e552ce7.txt  \n",
            " extracting: safety_helmet_dataset/train/labels/helmet-422-_jpg.rf.30c93011c547e03534286435202ba90d.txt  \n",
            " extracting: safety_helmet_dataset/train/labels/helmet-424-_jpg.rf.3d2e7b659968ef7ee10d874c6979f0cb.txt  \n",
            " extracting: safety_helmet_dataset/train/labels/helmet-425-_jpg.rf.872a3d6751b69596009713e1f3b4c35c.txt  \n",
            " extracting: safety_helmet_dataset/train/labels/helmet-427-_jpg.rf.96d05b2e42d87dab51ee9fcb2c45d449.txt  \n",
            " extracting: safety_helmet_dataset/train/labels/helmet-428-_jpg.rf.65a8809776b5d742393ba35fea787387.txt  \n",
            " extracting: safety_helmet_dataset/train/labels/helmet-429-_jpg.rf.e30d1b5455c433d2494c6aaaa3deece6.txt  \n",
            " extracting: safety_helmet_dataset/train/labels/helmet-43-_jpg.rf.ce934d7b05f7733f5961b477edd19564.txt  \n",
            " extracting: safety_helmet_dataset/train/labels/helmet-430-_jpg.rf.c979e114022e936f903785fed4ba61a6.txt  \n",
            " extracting: safety_helmet_dataset/train/labels/helmet-432-_jpg.rf.f47b4de333e4251295d1b8360a412b35.txt  \n",
            " extracting: safety_helmet_dataset/train/labels/helmet-433-_jpg.rf.2d86ca159dad6eb61d5d5c8a74896f4d.txt  \n",
            " extracting: safety_helmet_dataset/train/labels/helmet-434-_jpg.rf.06c9699d0ebe3948442061e63277fa41.txt  \n",
            " extracting: safety_helmet_dataset/train/labels/helmet-436-_jpg.rf.6ff1dbf65b34efa90534782d5cca76a8.txt  \n",
            " extracting: safety_helmet_dataset/train/labels/helmet-437-_jpg.rf.df0bf7729bb9bb24ba179f2c76475fbf.txt  \n",
            " extracting: safety_helmet_dataset/train/labels/helmet-44-_jpg.rf.e3099dd0b9a3a4c6da4201f4da940097.txt  \n",
            " extracting: safety_helmet_dataset/train/labels/helmet-440-_jpg.rf.4075723309d5a7737ea76037e5eb4f90.txt  \n",
            " extracting: safety_helmet_dataset/train/labels/helmet-441-_jpg.rf.d64c371b9a42c279cbea0808b12e8247.txt  \n",
            " extracting: safety_helmet_dataset/train/labels/helmet-442-_jpg.rf.d1a53352a22f552b154d5a971e0883ef.txt  \n",
            " extracting: safety_helmet_dataset/train/labels/helmet-445-_jpg.rf.f5e24d575bac47e4f51f6982fdac0356.txt  \n",
            " extracting: safety_helmet_dataset/train/labels/helmet-446-_jpg.rf.3223cdc28b76f7e567b43e45ab1e0ca6.txt  \n",
            " extracting: safety_helmet_dataset/train/labels/helmet-45-_jpg.rf.f12d8d1833cbcf2482f3db7625a9ef3b.txt  \n",
            " extracting: safety_helmet_dataset/train/labels/helmet-450-_jpg.rf.15dc1d7069b831470255516e818a1666.txt  \n",
            " extracting: safety_helmet_dataset/train/labels/helmet-451-_jpg.rf.05be3379bf8f305dc1163afd0ea4fff4.txt  \n",
            " extracting: safety_helmet_dataset/train/labels/helmet-454-_jpg.rf.1b80189485c99ffd0f5963a60c85c5f4.txt  \n",
            " extracting: safety_helmet_dataset/train/labels/helmet-455-_jpg.rf.0a2ba08b4610a2f5711d71165f6529a3.txt  \n",
            " extracting: safety_helmet_dataset/train/labels/helmet-456-_jpg.rf.95c7e1cb4ad4209fe9dbd642aba85e57.txt  \n",
            " extracting: safety_helmet_dataset/train/labels/helmet-458-_jpg.rf.5ca4671d20a8bbc341d3fade3dcd798f.txt  \n",
            " extracting: safety_helmet_dataset/train/labels/helmet-46-_jpg.rf.25adca2e5a72f18850f1f4110caf2b34.txt  \n",
            " extracting: safety_helmet_dataset/train/labels/helmet-460-_jpg.rf.2afb386a764e71285c8cb02ea4d8b417.txt  \n",
            " extracting: safety_helmet_dataset/train/labels/helmet-462-_jpg.rf.29079ddc03b1412816d04aeb3b29b7aa.txt  \n",
            " extracting: safety_helmet_dataset/train/labels/helmet-463-_jpg.rf.14f20827a97c4d2deaec41d84d2b7edd.txt  \n",
            " extracting: safety_helmet_dataset/train/labels/helmet-464-_jpg.rf.4ef25f60d96344106d0cdc013dfbcc27.txt  \n",
            " extracting: safety_helmet_dataset/train/labels/helmet-466-_jpg.rf.437f862ace129af3794caf7f7caf5057.txt  \n",
            " extracting: safety_helmet_dataset/train/labels/helmet-467-_jpg.rf.fbe4f44aa3bc34ed77166d3959f6b7bf.txt  \n",
            " extracting: safety_helmet_dataset/train/labels/helmet-468-_jpg.rf.87379cee52bf94293bcaa372915e138f.txt  \n",
            " extracting: safety_helmet_dataset/train/labels/helmet-470-_jpg.rf.b9bf799e8111c811fceb405694b3b200.txt  \n",
            " extracting: safety_helmet_dataset/train/labels/helmet-472-_jpg.rf.9bcb626bfbc6ecc464129ecc5f15a0d4.txt  \n",
            " extracting: safety_helmet_dataset/train/labels/helmet-473-_jpg.rf.8bc50314af1c616d02c2a004225767a7.txt  \n",
            " extracting: safety_helmet_dataset/train/labels/helmet-474-_jpg.rf.dda38902ba7d358ed4aa29c4b4897db3.txt  \n",
            " extracting: safety_helmet_dataset/train/labels/helmet-475-_jpg.rf.d350ed6483db62838aa70260c3025c44.txt  \n",
            " extracting: safety_helmet_dataset/train/labels/helmet-476-_jpg.rf.33cedc3b1ca1ca4101bb43574be84e30.txt  \n",
            " extracting: safety_helmet_dataset/train/labels/helmet-477-_jpg.rf.3c9399be40d3193c1963da984cca3bdb.txt  \n",
            " extracting: safety_helmet_dataset/train/labels/helmet-478-_jpg.rf.97ff481b3e374f248d8abd5e18478689.txt  \n",
            " extracting: safety_helmet_dataset/train/labels/helmet-479-_jpg.rf.4342b622f9c20b7d1dc556bcc9749291.txt  \n",
            " extracting: safety_helmet_dataset/train/labels/helmet-48-_jpg.rf.89fff4bc37feed89059a48405e8f7918.txt  \n",
            " extracting: safety_helmet_dataset/train/labels/helmet-480-_jpg.rf.868fe21176326e8fbb131886084d20e0.txt  \n",
            " extracting: safety_helmet_dataset/train/labels/helmet-483-_jpg.rf.5e7edcb76539f0bf66cb5a985e9af228.txt  \n",
            " extracting: safety_helmet_dataset/train/labels/helmet-484-_jpg.rf.b07d63f743e17f8465ae901eaffc7689.txt  \n",
            " extracting: safety_helmet_dataset/train/labels/helmet-485-_jpg.rf.2b5162254fab1105820e806e8bc01ae4.txt  \n",
            " extracting: safety_helmet_dataset/train/labels/helmet-487-_jpg.rf.255809c8b3f09dfd30a32d323ac96654.txt  \n",
            " extracting: safety_helmet_dataset/train/labels/helmet-489-_jpg.rf.ba6b7f990ce3bc0abeb083b12e8497a3.txt  \n",
            " extracting: safety_helmet_dataset/train/labels/helmet-49-_jpg.rf.07ddc709bd318cda7b981b4eb454526b.txt  \n",
            " extracting: safety_helmet_dataset/train/labels/helmet-490-_jpg.rf.6975fec2d3cd2923662a72843f197102.txt  \n",
            " extracting: safety_helmet_dataset/train/labels/helmet-492-_jpg.rf.5eb339bfbb30e61ead9fc2a206633df3.txt  \n",
            " extracting: safety_helmet_dataset/train/labels/helmet-493-_jpg.rf.b060332d995d448144d265ad8e03dd0d.txt  \n",
            " extracting: safety_helmet_dataset/train/labels/helmet-494-_jpg.rf.c6957fbb5a0e1c9bb7081222ac1eda83.txt  \n",
            " extracting: safety_helmet_dataset/train/labels/helmet-495-_jpg.rf.6ae184386dd822860ab5c97cb9885060.txt  \n",
            " extracting: safety_helmet_dataset/train/labels/helmet-497-_jpg.rf.1ad6224f78726ab3e3ec0c2d8df7826b.txt  \n",
            " extracting: safety_helmet_dataset/train/labels/helmet-498-_jpg.rf.0cbfa614b9e6c2983fcb072cfa05cf08.txt  \n",
            " extracting: safety_helmet_dataset/train/labels/helmet-499-_jpg.rf.f594b1489151a1689d8c7cf7e09f9957.txt  \n",
            " extracting: safety_helmet_dataset/train/labels/helmet-50-_jpg.rf.21921e6fc5012f8dc3f35d4b13a43ff9.txt  \n",
            " extracting: safety_helmet_dataset/train/labels/helmet-501-_jpg.rf.09cb9fa116b036adc38aaa7c7f53d5ff.txt  \n",
            " extracting: safety_helmet_dataset/train/labels/helmet-503-_jpg.rf.13b19788998e58b51effa59cc04a4e95.txt  \n",
            " extracting: safety_helmet_dataset/train/labels/helmet-505-_jpg.rf.2a951b7866b139d9bcd232786df75282.txt  \n",
            " extracting: safety_helmet_dataset/train/labels/helmet-506-_jpg.rf.879d455f4e48ba183d6bbb491357ee0e.txt  \n",
            " extracting: safety_helmet_dataset/train/labels/helmet-508-_jpg.rf.0b7688bb919d161e94ca7ccba237e536.txt  \n",
            " extracting: safety_helmet_dataset/train/labels/helmet-509-_jpg.rf.b36397c54da6ffa17dcb61d32a05abcc.txt  \n",
            " extracting: safety_helmet_dataset/train/labels/helmet-510-_jpg.rf.836c281754eaaaa907b8398fb46efcf9.txt  \n",
            " extracting: safety_helmet_dataset/train/labels/helmet-511-_jpg.rf.ca2588a1e9fa871a507fc5c109bef126.txt  \n",
            " extracting: safety_helmet_dataset/train/labels/helmet-513-_jpg.rf.d8c1e0a42aeb4731fc6b1f461cd4ad26.txt  \n",
            " extracting: safety_helmet_dataset/train/labels/helmet-515-_jpg.rf.d898ac5d730e1dcf3d3bef7faf7cabfc.txt  \n",
            " extracting: safety_helmet_dataset/train/labels/helmet-516-_jpg.rf.306531a0f91a7f9a83e355e129ae1454.txt  \n",
            " extracting: safety_helmet_dataset/train/labels/helmet-517-_jpg.rf.f40b73cc430ed01cfd3a5ba13939a732.txt  \n",
            " extracting: safety_helmet_dataset/train/labels/helmet-519-_jpg.rf.98120d32fee6983beb6f75a51de20ee7.txt  \n",
            " extracting: safety_helmet_dataset/train/labels/helmet-52-_jpg.rf.e2134cd14915d252f0416ce53ac8d180.txt  \n",
            " extracting: safety_helmet_dataset/train/labels/helmet-524-_jpg.rf.6af38c835bedf5ee4f1f5581e177a314.txt  \n",
            " extracting: safety_helmet_dataset/train/labels/helmet-53-_jpg.rf.ad0869401cde97b888eeb5ec5c914435.txt  \n",
            " extracting: safety_helmet_dataset/train/labels/helmet-530-_jpg.rf.e59276ab90009af110ba9b0a18073a5c.txt  \n",
            " extracting: safety_helmet_dataset/train/labels/helmet-531-_jpg.rf.f4ee3231949a68aa3a00b6fcd1a2e361.txt  \n",
            " extracting: safety_helmet_dataset/train/labels/helmet-533-_jpg.rf.a365c917d31b1c22dd43c54987a0e580.txt  \n",
            " extracting: safety_helmet_dataset/train/labels/helmet-536-_jpg.rf.de561f99a6477e87cecb364b735839cb.txt  \n",
            " extracting: safety_helmet_dataset/train/labels/helmet-539-_jpg.rf.b92ef53ac52a45eb8169dbaccb5c9305.txt  \n",
            " extracting: safety_helmet_dataset/train/labels/helmet-54-_jpg.rf.23c506363e9f10518c987a6aeb2c97c4.txt  \n",
            " extracting: safety_helmet_dataset/train/labels/helmet-540-_jpg.rf.58c864cf6d4b16ea89050cae44f24662.txt  \n",
            " extracting: safety_helmet_dataset/train/labels/helmet-541-_jpg.rf.3e1aa96a5be780e9d2b5a85257ce672f.txt  \n",
            " extracting: safety_helmet_dataset/train/labels/helmet-542-_jpg.rf.9531dd93b44d7e58533e08a57680e125.txt  \n",
            " extracting: safety_helmet_dataset/train/labels/helmet-55-_jpg.rf.20e09134107418c2fa57f7fad44579f4.txt  \n",
            " extracting: safety_helmet_dataset/train/labels/helmet-56-_jpg.rf.f99d8e02c59c91dd337d8626b9d55129.txt  \n",
            " extracting: safety_helmet_dataset/train/labels/helmet-59-_jpg.rf.998c1357f61cff42961d816997d71fef.txt  \n",
            " extracting: safety_helmet_dataset/train/labels/helmet-6-_jpg.rf.aabb9e6f2c42cbc55e13a0c6921e8873.txt  \n",
            " extracting: safety_helmet_dataset/train/labels/helmet-61-_jpg.rf.7c7b4a28d8bc36b92018c26bbb74db9d.txt  \n",
            " extracting: safety_helmet_dataset/train/labels/helmet-62-_jpg.rf.90891e25d0f049ed41e9a187e477da63.txt  \n",
            " extracting: safety_helmet_dataset/train/labels/helmet-63-_jpg.rf.f366581975df5c2ebe6df25be67ba6d4.txt  \n",
            " extracting: safety_helmet_dataset/train/labels/helmet-66-_jpg.rf.5806337263214aee8285e1c0a6dd89a9.txt  \n",
            " extracting: safety_helmet_dataset/train/labels/helmet-67-_jpg.rf.30f539d214c2516fe3a8af2ede619d2a.txt  \n",
            " extracting: safety_helmet_dataset/train/labels/helmet-68-_jpg.rf.be526e7eb851bbe807dcf6bc0ed60385.txt  \n",
            " extracting: safety_helmet_dataset/train/labels/helmet-70-_jpg.rf.b3e4f5b592b2986a0cefa9cff26c0f40.txt  \n",
            " extracting: safety_helmet_dataset/train/labels/helmet-71-_jpg.rf.8e7b5f0601442cbc1507015432a3416d.txt  \n",
            " extracting: safety_helmet_dataset/train/labels/helmet-72-_jpg.rf.60433ceda95cc2f913fec76c2a24fa2f.txt  \n",
            " extracting: safety_helmet_dataset/train/labels/helmet-73-_jpg.rf.43e20f2777babade4697cb642cb872ea.txt  \n",
            " extracting: safety_helmet_dataset/train/labels/helmet-75-_jpg.rf.4b452d9017071bf43f710f4ba363834b.txt  \n",
            " extracting: safety_helmet_dataset/train/labels/helmet-77-_jpg.rf.82ac31a4f17b93ea03fe2fc4c836fd06.txt  \n",
            " extracting: safety_helmet_dataset/train/labels/helmet-79-_jpg.rf.e244076b4dcfaa289084af3844d0372a.txt  \n",
            " extracting: safety_helmet_dataset/train/labels/helmet-80-_jpg.rf.bb0ef8a0e948bece6c7eac2025c9a69d.txt  \n",
            " extracting: safety_helmet_dataset/train/labels/helmet-84-_jpg.rf.788aa0f3a871edc718f6dad41ce534a5.txt  \n",
            " extracting: safety_helmet_dataset/train/labels/helmet-86-_jpg.rf.0a18cb0880d33ea425231b26a79062b6.txt  \n",
            " extracting: safety_helmet_dataset/train/labels/helmet-87-_jpg.rf.ee8c335a7717c5dc6b0a878b0b931bda.txt  \n",
            " extracting: safety_helmet_dataset/train/labels/helmet-88-_jpg.rf.a2eccae3327bb28818d9d7220856c02d.txt  \n",
            " extracting: safety_helmet_dataset/train/labels/helmet-9-_jpg.rf.cf87d72624a37527823ead2929fa353c.txt  \n",
            " extracting: safety_helmet_dataset/train/labels/helmet-90-_jpg.rf.a4311dcc395cd85c8041f5761f96290e.txt  \n",
            " extracting: safety_helmet_dataset/train/labels/helmet-91-_jpg.rf.48104620e77b6cb8a86128b01fff2d84.txt  \n",
            " extracting: safety_helmet_dataset/train/labels/helmet-92-_jpg.rf.c907c5cfa28f067fc88d2c46c14e62bd.txt  \n",
            " extracting: safety_helmet_dataset/train/labels/helmet-93-_jpg.rf.c7eae903caff5c39269febf7a490b875.txt  \n",
            " extracting: safety_helmet_dataset/train/labels/helmet-94-_jpg.rf.da3ad6e0183409607978bbc249afccb6.txt  \n",
            " extracting: safety_helmet_dataset/train/labels/helmet-95-_jpg.rf.c8585273a44227b5b1942469f0c2c3a1.txt  \n",
            " extracting: safety_helmet_dataset/train/labels/helmet-96-_jpg.rf.5be30e3bb7e97c3e0bb7594aea681dbb.txt  \n",
            " extracting: safety_helmet_dataset/train/labels/helmet-99-_jpg.rf.a4a0a07f648ef61a142b78a0317d8835.txt  \n",
            " extracting: safety_helmet_dataset/train/labels/person-1-_jpg.rf.0cbdbfbb70f61f84fe4c68bdbe25ce4d.txt  \n",
            " extracting: safety_helmet_dataset/train/labels/person-10-_jpg.rf.3ec9db7a8b08a02f55a7f9d7ffa36654.txt  \n",
            " extracting: safety_helmet_dataset/train/labels/person-100-_jpg.rf.431684a07749af19d93ffb0308930131.txt  \n",
            " extracting: safety_helmet_dataset/train/labels/person-102-_jpg.rf.cd0f3378b7012490dd45400578ad68f2.txt  \n",
            " extracting: safety_helmet_dataset/train/labels/person-103-_jpg.rf.a5381645372e0b8b9c7e0f550e052ed8.txt  \n",
            " extracting: safety_helmet_dataset/train/labels/person-104-_jpg.rf.375aac99f1c6c086ee09269ba8f340b4.txt  \n",
            " extracting: safety_helmet_dataset/train/labels/person-106-_jpg.rf.cb1b66baee8d080f85a07cca7d5f8b88.txt  \n",
            " extracting: safety_helmet_dataset/train/labels/person-107-_jpg.rf.2b0ce69a247dbbafe65dd025ec0747d3.txt  \n",
            " extracting: safety_helmet_dataset/train/labels/person-109-_jpg.rf.978b37fb235cd151eb16cf539129786c.txt  \n",
            " extracting: safety_helmet_dataset/train/labels/person-110-_jpg.rf.3635bc61d5d8d6cc7632568844a46deb.txt  \n",
            " extracting: safety_helmet_dataset/train/labels/person-111-_jpg.rf.60a9df392e66b3c51302c5770359d847.txt  \n",
            " extracting: safety_helmet_dataset/train/labels/person-112-_jpg.rf.72be6312ae24802b097c1c1f84f65b4b.txt  \n",
            " extracting: safety_helmet_dataset/train/labels/person-113-_jpg.rf.d7ea2e4e8a6c2912769c84d9335b34be.txt  \n",
            " extracting: safety_helmet_dataset/train/labels/person-114-_jpg.rf.8dd0ff63b83951922ff49cf51edcdc84.txt  \n",
            " extracting: safety_helmet_dataset/train/labels/person-115-_jpg.rf.9ea39099cf4cff5fe624150e432b976c.txt  \n",
            " extracting: safety_helmet_dataset/train/labels/person-116-_jpg.rf.a0248492d0cb594a5a778827c7c1ff7e.txt  \n",
            " extracting: safety_helmet_dataset/train/labels/person-118-_jpg.rf.4696d97011330df84f5f64b3bf398464.txt  \n",
            " extracting: safety_helmet_dataset/train/labels/person-119-_jpg.rf.6c49ad6efb79ee522f5a44696f9f6034.txt  \n",
            " extracting: safety_helmet_dataset/train/labels/person-120-_jpg.rf.861aba63049d54871b8e383e8f8a25bb.txt  \n",
            " extracting: safety_helmet_dataset/train/labels/person-121-_jpg.rf.5c8070c85c75868abd36bdd703032ac0.txt  \n",
            " extracting: safety_helmet_dataset/train/labels/person-123-_jpg.rf.c53c445a0437ebb7076e1a3e725d5cd4.txt  \n",
            " extracting: safety_helmet_dataset/train/labels/person-124-_jpg.rf.258c686ea94c7c7526d13d133bd99af8.txt  \n",
            " extracting: safety_helmet_dataset/train/labels/person-127-_jpg.rf.f10b9c8ae920b4963023b28fd7c0af3d.txt  \n",
            " extracting: safety_helmet_dataset/train/labels/person-128-_jpg.rf.1a66909815adb0b6536d5c28871eff30.txt  \n",
            " extracting: safety_helmet_dataset/train/labels/person-13-_jpg.rf.2aff4376848ddeecbe4bfd53394bc4d7.txt  \n",
            " extracting: safety_helmet_dataset/train/labels/person-132-_jpg.rf.e35c9a6c9c07eff8e764b59ecfbcff8f.txt  \n",
            " extracting: safety_helmet_dataset/train/labels/person-134-_jpg.rf.5c4a0bf92be86371e1611c0e6b2f6507.txt  \n",
            " extracting: safety_helmet_dataset/train/labels/person-135-_jpg.rf.220ed2a30c4c9715b523c876b4415d8e.txt  \n",
            " extracting: safety_helmet_dataset/train/labels/person-136-_jpg.rf.7e37bb000ad8ea524ecbd17c3fbc116f.txt  \n",
            " extracting: safety_helmet_dataset/train/labels/person-137-_jpg.rf.8f91d2fd36c4c698b085ec87d5316229.txt  \n",
            " extracting: safety_helmet_dataset/train/labels/person-139-_jpg.rf.3ab36ae0b9c8c3444cdda393855d3928.txt  \n",
            " extracting: safety_helmet_dataset/train/labels/person-14-_jpg.rf.580be59143e9ca11f35cc396c400d052.txt  \n",
            " extracting: safety_helmet_dataset/train/labels/person-140-_jpg.rf.224f30a03098f5197938c4689a21a4dd.txt  \n",
            " extracting: safety_helmet_dataset/train/labels/person-142-_jpg.rf.9b5ddcf1d11e1c5102eb635c0f4f8b53.txt  \n",
            " extracting: safety_helmet_dataset/train/labels/person-144-_jpg.rf.a382a33b199e447706574af61ae96859.txt  \n",
            " extracting: safety_helmet_dataset/train/labels/person-145-_jpg.rf.626f1d0c6960475c8856c2545697b8a4.txt  \n",
            " extracting: safety_helmet_dataset/train/labels/person-146-_jpg.rf.fa18e438c313d9cb8e0b7eb04f844b10.txt  \n",
            " extracting: safety_helmet_dataset/train/labels/person-149-_jpg.rf.e3a5f8a4f2354c0f9dad189c41efa520.txt  \n",
            " extracting: safety_helmet_dataset/train/labels/person-150-_jpg.rf.dd71981bc95cd7ee5891653532fc959b.txt  \n",
            " extracting: safety_helmet_dataset/train/labels/person-151-_jpg.rf.d4c62ef6c53ee15607c11ce0412da58f.txt  \n",
            " extracting: safety_helmet_dataset/train/labels/person-153-_jpg.rf.cc0362f5c1de7bc5d728e1432e1a8656.txt  \n",
            " extracting: safety_helmet_dataset/train/labels/person-154-_jpg.rf.a645df5125cf824459b9065d25046de0.txt  \n",
            " extracting: safety_helmet_dataset/train/labels/person-155-_jpg.rf.a6126722d7c7ea8dcb62b4c11d2da5cb.txt  \n",
            " extracting: safety_helmet_dataset/train/labels/person-156-_jpg.rf.f45f5cf7772eed638e12acc046159b1f.txt  \n",
            " extracting: safety_helmet_dataset/train/labels/person-157-_jpg.rf.539849b0b384eba553bbae36c2b8cbcd.txt  \n",
            " extracting: safety_helmet_dataset/train/labels/person-16-_jpg.rf.4a80c5f5213dc6c24f3614b802c92200.txt  \n",
            " extracting: safety_helmet_dataset/train/labels/person-160-_jpg.rf.23f0e5c059f17197aea0b9c109c89030.txt  \n",
            " extracting: safety_helmet_dataset/train/labels/person-161-_jpg.rf.7152852278db22a5ef5e611347d0a463.txt  \n",
            " extracting: safety_helmet_dataset/train/labels/person-163-_jpg.rf.dd628a9141908f2c0cd83909903a8321.txt  \n",
            " extracting: safety_helmet_dataset/train/labels/person-164-_jpg.rf.f32adca18458c418ae27f4718679466a.txt  \n",
            " extracting: safety_helmet_dataset/train/labels/person-165-_jpg.rf.61063f68b16697315e65cead22239c58.txt  \n",
            " extracting: safety_helmet_dataset/train/labels/person-166-_jpg.rf.10b3ebee9d222e289119738e585a3d7d.txt  \n",
            " extracting: safety_helmet_dataset/train/labels/person-167-_jpg.rf.4c11565e6bf6d889d9a4ec44116cef95.txt  \n",
            " extracting: safety_helmet_dataset/train/labels/person-169-_jpg.rf.677d30598b79df67c3787af6ffdc6797.txt  \n",
            " extracting: safety_helmet_dataset/train/labels/person-17-_jpg.rf.291d13f177b31d4c8c2b7ffeb51e54e4.txt  \n",
            " extracting: safety_helmet_dataset/train/labels/person-170-_jpg.rf.81bb02ab5a41d43a5d3314127168100a.txt  \n",
            " extracting: safety_helmet_dataset/train/labels/person-171-_jpg.rf.181361ebc2c7e51df87b3575a4cb6d74.txt  \n",
            " extracting: safety_helmet_dataset/train/labels/person-172-_jpg.rf.e4ad3fb30b1f3e3579153cf54f204089.txt  \n",
            " extracting: safety_helmet_dataset/train/labels/person-173-_jpg.rf.35d44c8916db44a9ebc839a68af73a26.txt  \n",
            " extracting: safety_helmet_dataset/train/labels/person-174-_jpg.rf.e89ed9b157d54eebd7a4ce6bbe2fbb85.txt  \n",
            " extracting: safety_helmet_dataset/train/labels/person-176-_jpg.rf.f47725b3e96882ee3c85dc128f19477a.txt  \n",
            " extracting: safety_helmet_dataset/train/labels/person-177-_jpg.rf.c9bb67dcf387bbadade47bb71d7cac2d.txt  \n",
            " extracting: safety_helmet_dataset/train/labels/person-178-_jpg.rf.a88235df6475aba7c3e12386db576e42.txt  \n",
            " extracting: safety_helmet_dataset/train/labels/person-179-_jpg.rf.37a477516b727ceda4c7d8ccbaa7fc00.txt  \n",
            " extracting: safety_helmet_dataset/train/labels/person-18-_jpg.rf.c179e114e23ad4deaa77b9910a564d44.txt  \n",
            " extracting: safety_helmet_dataset/train/labels/person-180-_jpg.rf.666415c9e0cc7ce1c9e134ee109c2479.txt  \n",
            " extracting: safety_helmet_dataset/train/labels/person-182-_jpg.rf.5fb2fdee218df3059fabfb4fce335a5b.txt  \n",
            " extracting: safety_helmet_dataset/train/labels/person-183-_jpg.rf.15034e53c2412fcf6b579044838d24d1.txt  \n",
            " extracting: safety_helmet_dataset/train/labels/person-184-_jpg.rf.64c5dc10c2e8831e2bd3364a0a55d5c7.txt  \n",
            " extracting: safety_helmet_dataset/train/labels/person-185-_jpg.rf.1ab88f1cf0e9eda4954adcb989c401c2.txt  \n",
            " extracting: safety_helmet_dataset/train/labels/person-186-_jpg.rf.f843298cc460ec6753fb2d575a3a7bc9.txt  \n",
            " extracting: safety_helmet_dataset/train/labels/person-187-_jpg.rf.1aa4464ad3e99217ec288c5ae09deed0.txt  \n",
            " extracting: safety_helmet_dataset/train/labels/person-188-_jpg.rf.03595df1828a9fb1ff61ad2cdf8d5c57.txt  \n",
            " extracting: safety_helmet_dataset/train/labels/person-189-_jpg.rf.2becdffdc84e351433f4971b9d2f189a.txt  \n",
            " extracting: safety_helmet_dataset/train/labels/person-19-_jpg.rf.2b3de5cc51d7c459e59fcf64577a7988.txt  \n",
            " extracting: safety_helmet_dataset/train/labels/person-190-_jpg.rf.ec1a6b07328d24a62fe9cc2518977743.txt  \n",
            " extracting: safety_helmet_dataset/train/labels/person-191-_jpg.rf.844d5f6b0c9c8b0c0bdeda2e1f3ff07a.txt  \n",
            " extracting: safety_helmet_dataset/train/labels/person-192-_jpg.rf.cc9769186ccb2a0af474a700701f60b6.txt  \n",
            " extracting: safety_helmet_dataset/train/labels/person-195-_jpg.rf.80adb9cc9cabc98e7c0a328389ad00ba.txt  \n",
            " extracting: safety_helmet_dataset/train/labels/person-196-_jpg.rf.19d01b94689d74ed132c97da611ded8f.txt  \n",
            " extracting: safety_helmet_dataset/train/labels/person-197-_jpg.rf.95852e51f60f83eba68a85deb508e91e.txt  \n",
            " extracting: safety_helmet_dataset/train/labels/person-198-_jpg.rf.f18c48e9b6cfc8a985a422e23c40f292.txt  \n",
            " extracting: safety_helmet_dataset/train/labels/person-199-_jpg.rf.8ce892b0a78ded3083ccec9fabd25744.txt  \n",
            " extracting: safety_helmet_dataset/train/labels/person-200-_jpg.rf.f99b901c86a13d62682c3be0877d8010.txt  \n",
            " extracting: safety_helmet_dataset/train/labels/person-201-_jpg.rf.facd4438e46a5e7f851226812c756be5.txt  \n",
            " extracting: safety_helmet_dataset/train/labels/person-202-_jpg.rf.3e015484493e71d2d2ffb7350e532377.txt  \n",
            " extracting: safety_helmet_dataset/train/labels/person-203-_jpg.rf.e9c614e383536290179aca043845260d.txt  \n",
            " extracting: safety_helmet_dataset/train/labels/person-204-_jpg.rf.2a92519c87ecf218bf8b47f550a407f6.txt  \n",
            " extracting: safety_helmet_dataset/train/labels/person-206-_jpg.rf.57eae1f8dd50b5ef0a6bea0c4ce9991f.txt  \n",
            " extracting: safety_helmet_dataset/train/labels/person-207-_jpg.rf.46580b62d700d7d47080d8a04a24a513.txt  \n",
            " extracting: safety_helmet_dataset/train/labels/person-208-_jpg.rf.78dd3a04d36238603ce8ba820648adec.txt  \n",
            " extracting: safety_helmet_dataset/train/labels/person-209-_jpg.rf.54c0ca914e0607b0a37597862f5248be.txt  \n",
            " extracting: safety_helmet_dataset/train/labels/person-21-_jpg.rf.736ae7193c3fb377ce37ba901e107b9a.txt  \n",
            " extracting: safety_helmet_dataset/train/labels/person-211-_jpg.rf.08fab8435a5066c9e0616e5870228d32.txt  \n",
            " extracting: safety_helmet_dataset/train/labels/person-213-_jpg.rf.cf7af6e6845f3c054fadb1dede63f346.txt  \n",
            " extracting: safety_helmet_dataset/train/labels/person-214-_jpg.rf.eeb917ddd6a9f6e49d9426c71043d660.txt  \n",
            " extracting: safety_helmet_dataset/train/labels/person-215-_jpg.rf.f8f2f538f3b309c8d28b7976cbc6006b.txt  \n",
            " extracting: safety_helmet_dataset/train/labels/person-217-_jpg.rf.a0be4124ac6088ab29e0837e804348e7.txt  \n",
            " extracting: safety_helmet_dataset/train/labels/person-218-_jpg.rf.c46f2bb7c40de49f2342d9b8e9856207.txt  \n",
            " extracting: safety_helmet_dataset/train/labels/person-219-_jpg.rf.c1c648b830684d0104ea471cce8709ce.txt  \n",
            " extracting: safety_helmet_dataset/train/labels/person-22-_jpg.rf.c50dd31c351bf729bde5f49a41b07359.txt  \n",
            " extracting: safety_helmet_dataset/train/labels/person-220-_jpg.rf.d8c2c0526d0ba03d2f948efae35a7825.txt  \n",
            " extracting: safety_helmet_dataset/train/labels/person-222-_jpg.rf.247e4df15efbaa6ab133fc9d9d467655.txt  \n",
            " extracting: safety_helmet_dataset/train/labels/person-226-_jpg.rf.1b91027f01904e2ac6a1aa219cec9c44.txt  \n",
            " extracting: safety_helmet_dataset/train/labels/person-228-_jpg.rf.1e852d2dbf9b264e1d27a349e838aa39.txt  \n",
            " extracting: safety_helmet_dataset/train/labels/person-23-_jpg.rf.d62f20dd00591b82b450ca5b9256c987.txt  \n",
            " extracting: safety_helmet_dataset/train/labels/person-230-_jpg.rf.d3f9046433e594ce04bb3f7ccd59c29d.txt  \n",
            " extracting: safety_helmet_dataset/train/labels/person-232-_jpg.rf.9a26896191b7aa6fce1314a9f35e5fc1.txt  \n",
            " extracting: safety_helmet_dataset/train/labels/person-233-_jpg.rf.889c2c8a4af02c49e96f4ff8255e982b.txt  \n",
            " extracting: safety_helmet_dataset/train/labels/person-235-_jpg.rf.38e4bc5fbc8ea8330f69306c80c6e335.txt  \n",
            " extracting: safety_helmet_dataset/train/labels/person-236-_jpg.rf.09eb9fc8ff0e5998cfe321cb8c904cdd.txt  \n",
            " extracting: safety_helmet_dataset/train/labels/person-238-_jpg.rf.5f5ddbb43ba4a14fc2766e5789f3befb.txt  \n",
            " extracting: safety_helmet_dataset/train/labels/person-239-_jpg.rf.9f097a4af7a651879ce7a14ff892363a.txt  \n",
            " extracting: safety_helmet_dataset/train/labels/person-24-_jpg.rf.fca4d30e8adea8f980d1a2775d7fec31.txt  \n",
            " extracting: safety_helmet_dataset/train/labels/person-240-_jpg.rf.dd1ff21dfa2f97f6f41c1d89ec640d35.txt  \n",
            " extracting: safety_helmet_dataset/train/labels/person-242-_jpg.rf.dd1345fc3ad635142a380d8c68385481.txt  \n",
            " extracting: safety_helmet_dataset/train/labels/person-244-_jpg.rf.070739b5311be54133cf2a218cf31ac4.txt  \n",
            " extracting: safety_helmet_dataset/train/labels/person-245-_jpg.rf.f9680715613472889bfcf617b0946b29.txt  \n",
            " extracting: safety_helmet_dataset/train/labels/person-247-_jpg.rf.de156ceeceffa0ffeed966be57b99aa0.txt  \n",
            " extracting: safety_helmet_dataset/train/labels/person-248-_jpg.rf.10d92d3d19dbcacfb5b7ec9ceb772f9d.txt  \n",
            " extracting: safety_helmet_dataset/train/labels/person-249-_jpg.rf.e8883cd96cd29371aceb50e1ea924c81.txt  \n",
            " extracting: safety_helmet_dataset/train/labels/person-25-_jpg.rf.9066d63754111ad92605658aaee4dcfb.txt  \n",
            " extracting: safety_helmet_dataset/train/labels/person-250-_jpg.rf.a10ce50ec6f1cb35d3aeb2d7cf9e124d.txt  \n",
            " extracting: safety_helmet_dataset/train/labels/person-251-_jpg.rf.a3e23104b23e6004bdb085754905c0da.txt  \n",
            " extracting: safety_helmet_dataset/train/labels/person-253-_jpg.rf.4e751d57ccce0087c5926f0b907da08c.txt  \n",
            " extracting: safety_helmet_dataset/train/labels/person-254-_jpg.rf.836fc4ca8869b96fd0b3ae7e56ed8510.txt  \n",
            " extracting: safety_helmet_dataset/train/labels/person-256-_jpg.rf.ae2778691baae90ba3311f7ecdd91f19.txt  \n",
            " extracting: safety_helmet_dataset/train/labels/person-257-_jpg.rf.d92c4345e45509288f5385d103ff1304.txt  \n",
            " extracting: safety_helmet_dataset/train/labels/person-258-_jpg.rf.7ec09a77a5054aa4c644f4ed80b2326e.txt  \n",
            " extracting: safety_helmet_dataset/train/labels/person-26-_jpg.rf.d3af6f7d8295a2fa41473c7418949112.txt  \n",
            " extracting: safety_helmet_dataset/train/labels/person-260-_jpg.rf.d2e33678085e031cdfbad9535a3eaef0.txt  \n",
            " extracting: safety_helmet_dataset/train/labels/person-263-_jpg.rf.6d678d2cb3a626fcc89c0f2c9ac63570.txt  \n",
            " extracting: safety_helmet_dataset/train/labels/person-266-_jpg.rf.e8fa050731838cdedc1708757fb3488f.txt  \n",
            " extracting: safety_helmet_dataset/train/labels/person-268-_jpg.rf.41659970c92de44f829824abf138db9d.txt  \n",
            " extracting: safety_helmet_dataset/train/labels/person-269-_jpg.rf.1f261969b8f9d06f94314160f2d94d29.txt  \n",
            " extracting: safety_helmet_dataset/train/labels/person-271-_jpg.rf.2e8e4f4ad71e006c09e70e17aa9b995b.txt  \n",
            " extracting: safety_helmet_dataset/train/labels/person-272-_jpg.rf.4a92af24af4bc42c487d449f89c3b110.txt  \n",
            " extracting: safety_helmet_dataset/train/labels/person-273-_jpg.rf.746aed347718bb3e908bb4e92a59d8d4.txt  \n",
            " extracting: safety_helmet_dataset/train/labels/person-274-_jpg.rf.fa11028402f2beb31363c30f26d6ae9c.txt  \n",
            " extracting: safety_helmet_dataset/train/labels/person-275-_jpg.rf.f84f31540b399d34a48ca1f71732e600.txt  \n",
            " extracting: safety_helmet_dataset/train/labels/person-276-_jpg.rf.e001ce9adff2ce7281f85db65df1d647.txt  \n",
            " extracting: safety_helmet_dataset/train/labels/person-277-_jpg.rf.e40829a0ecf810c363076c1e099fd8f6.txt  \n",
            " extracting: safety_helmet_dataset/train/labels/person-278-_jpg.rf.f4484a62f7bdc4b1787bd8e560b5bca2.txt  \n",
            " extracting: safety_helmet_dataset/train/labels/person-279-_jpg.rf.2529eb3a418a4f424679b966625e0095.txt  \n",
            " extracting: safety_helmet_dataset/train/labels/person-28-_jpg.rf.fd304f1cc3aae1d9fb20dec0aa43f09c.txt  \n",
            " extracting: safety_helmet_dataset/train/labels/person-280-_jpg.rf.d64f5ffb5f42e569dc68aeb74f8a6aec.txt  \n",
            " extracting: safety_helmet_dataset/train/labels/person-281-_jpg.rf.83fc29d38b6cddd0bf4b8a2e04e0bfcb.txt  \n",
            " extracting: safety_helmet_dataset/train/labels/person-282-_jpg.rf.2757633c51070586fbae7e4fcfc2ef20.txt  \n",
            " extracting: safety_helmet_dataset/train/labels/person-284-_jpg.rf.5794bb4d71b30b8da6e5f90af7723318.txt  \n",
            " extracting: safety_helmet_dataset/train/labels/person-285-_jpg.rf.063d6af14536ec664e759bfcbfb33eba.txt  \n",
            " extracting: safety_helmet_dataset/train/labels/person-286-_jpg.rf.410c3ec29dc359717e9389067830fa18.txt  \n",
            " extracting: safety_helmet_dataset/train/labels/person-287-_jpg.rf.088fcca5be0b0b9ae9250865f7d415ac.txt  \n",
            " extracting: safety_helmet_dataset/train/labels/person-289-_jpg.rf.ff8e0cede27f119bf274b9ec4c3b4f08.txt  \n",
            " extracting: safety_helmet_dataset/train/labels/person-29-_jpg.rf.329dd10517cea8168cff9c540ce37d02.txt  \n",
            " extracting: safety_helmet_dataset/train/labels/person-290-_jpg.rf.ea96b6d6b896a89829c093311f08a22b.txt  \n",
            " extracting: safety_helmet_dataset/train/labels/person-292-_jpg.rf.bea42e0203630e598cebafba2868e08b.txt  \n",
            " extracting: safety_helmet_dataset/train/labels/person-293-_jpg.rf.21d8c69caa3d830efd5c603fa305cfaf.txt  \n",
            " extracting: safety_helmet_dataset/train/labels/person-295-_jpg.rf.07ca3095842c20c2327be08560d6a499.txt  \n",
            " extracting: safety_helmet_dataset/train/labels/person-298-_jpg.rf.df31dd383755ee079207331627091420.txt  \n",
            " extracting: safety_helmet_dataset/train/labels/person-299-_jpg.rf.ceccfbba54717861b68ee33b4e614b87.txt  \n",
            " extracting: safety_helmet_dataset/train/labels/person-3-_jpg.rf.52ccdb2db664735bae065e53d1ca76e4.txt  \n",
            " extracting: safety_helmet_dataset/train/labels/person-30-_jpg.rf.37eedd58a749a0b29faf434855b697af.txt  \n",
            " extracting: safety_helmet_dataset/train/labels/person-300-_jpg.rf.846d96199f2fecd1040c59e87e18fc99.txt  \n",
            " extracting: safety_helmet_dataset/train/labels/person-301-_jpg.rf.4e25e2b761b00303c48d4716b0423335.txt  \n",
            " extracting: safety_helmet_dataset/train/labels/person-302-_jpg.rf.4783f924900f54569071cf950b3c7b93.txt  \n",
            " extracting: safety_helmet_dataset/train/labels/person-303-_jpg.rf.86f4d6676398453659505508f4b7d8aa.txt  \n",
            " extracting: safety_helmet_dataset/train/labels/person-304-_jpg.rf.445dc55b1c648f72353b54df69d710c1.txt  \n",
            " extracting: safety_helmet_dataset/train/labels/person-305-_jpg.rf.86f090e7f4fffb9cfa1b4822d67e83fa.txt  \n",
            " extracting: safety_helmet_dataset/train/labels/person-306-_jpg.rf.d5f21e45e735eef28f63fd27b8dbc0d1.txt  \n",
            " extracting: safety_helmet_dataset/train/labels/person-308-_jpg.rf.e6e89809ddd801a51a0a9905e33e4fe4.txt  \n",
            " extracting: safety_helmet_dataset/train/labels/person-309-_jpg.rf.57866f9523e5965d7aecee9c651e7a83.txt  \n",
            " extracting: safety_helmet_dataset/train/labels/person-31-_jpg.rf.ab0d55def548a83b90491c3a6e7a9684.txt  \n",
            " extracting: safety_helmet_dataset/train/labels/person-310-_jpg.rf.701a07e7ed3e259f454153819afcdf09.txt  \n",
            " extracting: safety_helmet_dataset/train/labels/person-311-_jpg.rf.95bca4f4ee401bf34a17386c41675946.txt  \n",
            " extracting: safety_helmet_dataset/train/labels/person-317-_jpg.rf.cfb10b2fce679b21ecebeb8e53ace951.txt  \n",
            " extracting: safety_helmet_dataset/train/labels/person-318-_jpg.rf.80029e3019d94892ac837ff4d721b07b.txt  \n",
            " extracting: safety_helmet_dataset/train/labels/person-319-_jpg.rf.fc6f91a607fb900f329c37a19656a8f2.txt  \n",
            " extracting: safety_helmet_dataset/train/labels/person-32-_jpg.rf.edda15b88cf1fb875b2882fa4b165ed2.txt  \n",
            " extracting: safety_helmet_dataset/train/labels/person-320-_jpg.rf.162353507ff9ce5e667c225d017ad142.txt  \n",
            " extracting: safety_helmet_dataset/train/labels/person-322-_jpg.rf.bbc5460ee2c0d5c8cbbd4bcc5248e36d.txt  \n",
            " extracting: safety_helmet_dataset/train/labels/person-323-_jpg.rf.4a70c1ab94c567410692ac97f1232c24.txt  \n",
            " extracting: safety_helmet_dataset/train/labels/person-324-_jpg.rf.cc3ec14703d0798edcab29f00d5f0e6a.txt  \n",
            " extracting: safety_helmet_dataset/train/labels/person-325-_jpg.rf.73c32009e9dcd111e9533027f5ba08f8.txt  \n",
            " extracting: safety_helmet_dataset/train/labels/person-326-_jpg.rf.0dc4cab9995c58a8f7f6ea0b0b0736e6.txt  \n",
            " extracting: safety_helmet_dataset/train/labels/person-328-_jpg.rf.b8b55a327b5a0ec92ba6cb4ec8a06e85.txt  \n",
            " extracting: safety_helmet_dataset/train/labels/person-329-_jpg.rf.007ab4b6c1fabea81d5e28a05c5fe41f.txt  \n",
            " extracting: safety_helmet_dataset/train/labels/person-330-_jpg.rf.4e063752ad942f470996b3e5d940d55f.txt  \n",
            " extracting: safety_helmet_dataset/train/labels/person-331-_jpg.rf.e935e1a708677467812b0c2d63715b95.txt  \n",
            " extracting: safety_helmet_dataset/train/labels/person-332-_jpg.rf.6d3432235b97c5ff8a8af147babcdecd.txt  \n",
            " extracting: safety_helmet_dataset/train/labels/person-333-_jpg.rf.e2656199a7fb287290e1c3ef3222ceb3.txt  \n",
            " extracting: safety_helmet_dataset/train/labels/person-335-_jpg.rf.64437d0f62a3d5392e6973da96795f31.txt  \n",
            " extracting: safety_helmet_dataset/train/labels/person-336-_jpg.rf.828cd77a7a8f329313eaae6435be13a7.txt  \n",
            " extracting: safety_helmet_dataset/train/labels/person-34-_jpg.rf.6e420a61802a7a538e7e156af28f25fb.txt  \n",
            " extracting: safety_helmet_dataset/train/labels/person-340-_jpg.rf.a1ede3d62d8e15301e15c59209a6995e.txt  \n",
            " extracting: safety_helmet_dataset/train/labels/person-343-_jpg.rf.4d24aa258044c53cfcaad53dfc44c2e8.txt  \n",
            " extracting: safety_helmet_dataset/train/labels/person-344-_jpg.rf.14d75968b16bd50fce0130de95feadce.txt  \n",
            " extracting: safety_helmet_dataset/train/labels/person-348-_jpg.rf.dd078df7e2803312feea96d78ef8b8df.txt  \n",
            " extracting: safety_helmet_dataset/train/labels/person-350-_jpg.rf.244db8b178f1cc6aee176e0def97988d.txt  \n",
            " extracting: safety_helmet_dataset/train/labels/person-351-_jpg.rf.0dd4cc2f79a86fa58998332fd54def6d.txt  \n",
            " extracting: safety_helmet_dataset/train/labels/person-352-_jpg.rf.7779a53bb008269abb9941487f5a1707.txt  \n",
            " extracting: safety_helmet_dataset/train/labels/person-353-_jpg.rf.c85cb6cc6005d56295c548fa985ae340.txt  \n",
            " extracting: safety_helmet_dataset/train/labels/person-354-_jpg.rf.fcaea012e0688a69f17cc7b3d7aa48cc.txt  \n",
            " extracting: safety_helmet_dataset/train/labels/person-355-_jpg.rf.a9f7353631fa181cf2e46707a4b80b40.txt  \n",
            " extracting: safety_helmet_dataset/train/labels/person-357-_jpg.rf.6d39952820737743fadeab3ceeaacbcd.txt  \n",
            " extracting: safety_helmet_dataset/train/labels/person-358-_jpg.rf.b1d5d216fcd0a565c261b9ce623f347f.txt  \n",
            " extracting: safety_helmet_dataset/train/labels/person-36-_jpg.rf.168d37ec03c5567071311cf5ab30ba76.txt  \n",
            " extracting: safety_helmet_dataset/train/labels/person-360-_jpg.rf.8ee43142b26fe9b071db8a1ddb3a9e5c.txt  \n",
            " extracting: safety_helmet_dataset/train/labels/person-361-_jpg.rf.909df5ef2ae0d37e1159ad6f123ed89d.txt  \n",
            " extracting: safety_helmet_dataset/train/labels/person-362-_jpg.rf.5744cd387b3bbf826690b17e59285eef.txt  \n",
            " extracting: safety_helmet_dataset/train/labels/person-363-_jpg.rf.903afa5de5ca4932f7369cedbefdf148.txt  \n",
            " extracting: safety_helmet_dataset/train/labels/person-365-_jpg.rf.62c43e5eb54b1bb474f313d2e9ba036d.txt  \n",
            " extracting: safety_helmet_dataset/train/labels/person-366-_jpg.rf.b49f2f4344c902665f87e768d07ad686.txt  \n",
            " extracting: safety_helmet_dataset/train/labels/person-367-_jpg.rf.fc4d0331275e57511a33a6b00972a34d.txt  \n",
            " extracting: safety_helmet_dataset/train/labels/person-369-_jpg.rf.12b35926d9ecfdd6e808590d2ae78620.txt  \n",
            " extracting: safety_helmet_dataset/train/labels/person-37-_jpg.rf.ab80fb4f6167d7198bf1bc3ac973bc65.txt  \n",
            " extracting: safety_helmet_dataset/train/labels/person-370-_jpg.rf.67a27a7b07e075790fee1fb1981bfa15.txt  \n",
            " extracting: safety_helmet_dataset/train/labels/person-371-_jpg.rf.48bad8e2f5981f7f6042a1fdbf31863f.txt  \n",
            " extracting: safety_helmet_dataset/train/labels/person-372-_jpg.rf.f3638e8a84bb2704c461807f8ec83546.txt  \n",
            " extracting: safety_helmet_dataset/train/labels/person-373-_jpg.rf.4aad15eb01c24303d1781612957044f2.txt  \n",
            " extracting: safety_helmet_dataset/train/labels/person-375-_jpg.rf.c57aa7289cfb32ef27505b0e1732dad0.txt  \n",
            " extracting: safety_helmet_dataset/train/labels/person-376-_jpg.rf.2cca38cf7da7ab76e92bb154a345aad2.txt  \n",
            " extracting: safety_helmet_dataset/train/labels/person-377-_jpg.rf.385fb7074cbde3fbfe5c9958ab0400ae.txt  \n",
            " extracting: safety_helmet_dataset/train/labels/person-378-_jpg.rf.0c982a512541af05aa5984d75d5daff7.txt  \n",
            " extracting: safety_helmet_dataset/train/labels/person-38-_jpg.rf.8f14eccadefdf5fa5243bb9d0fb795ce.txt  \n",
            " extracting: safety_helmet_dataset/train/labels/person-380-_jpg.rf.8000cde7953230e6d6011b46e5c7f1e9.txt  \n",
            " extracting: safety_helmet_dataset/train/labels/person-384-_jpg.rf.dcac585058483fddc52f44020c7d7934.txt  \n",
            " extracting: safety_helmet_dataset/train/labels/person-388-_jpg.rf.a771341df398046d3a99c5b34c416b59.txt  \n",
            " extracting: safety_helmet_dataset/train/labels/person-39-_jpg.rf.080c77c2933dab6bde3060baf76e8cc3.txt  \n",
            " extracting: safety_helmet_dataset/train/labels/person-390-_jpg.rf.0d2cefe87beb45dfeaf2a435f015ea88.txt  \n",
            " extracting: safety_helmet_dataset/train/labels/person-392-_jpg.rf.5f066ee034a2a58c7fa68f7b44f28d86.txt  \n",
            " extracting: safety_helmet_dataset/train/labels/person-393-_jpg.rf.48c4563b22cf0929eede09cd7c7bc7de.txt  \n",
            " extracting: safety_helmet_dataset/train/labels/person-396-_jpg.rf.ed625f3a93a5a052748806678ad75b69.txt  \n",
            " extracting: safety_helmet_dataset/train/labels/person-398-_jpg.rf.3e620baed5aa5b45c84654b2021986fa.txt  \n",
            " extracting: safety_helmet_dataset/train/labels/person-399-_jpg.rf.74d13e39e47fb0e78ae6c3ca8c4daf09.txt  \n",
            " extracting: safety_helmet_dataset/train/labels/person-40-_jpg.rf.36c78f4de322df1acfbadcf6240b2d4d.txt  \n",
            " extracting: safety_helmet_dataset/train/labels/person-401-_jpg.rf.1480ffe206505c73ef2a32c62328376b.txt  \n",
            " extracting: safety_helmet_dataset/train/labels/person-402-_jpg.rf.2e1286244c0038dd115877886e114efc.txt  \n",
            " extracting: safety_helmet_dataset/train/labels/person-403-_jpg.rf.0a4983bd731a02ced9b3f39b8899ba04.txt  \n",
            " extracting: safety_helmet_dataset/train/labels/person-405-_jpg.rf.ef1a85a299c7b788120a455b51cda222.txt  \n",
            " extracting: safety_helmet_dataset/train/labels/person-407-_jpg.rf.18d6ff6adc7e01fb2f6e6ecfde5d86e3.txt  \n",
            " extracting: safety_helmet_dataset/train/labels/person-409-_jpg.rf.603afa804461938e2089a0714b08ebad.txt  \n",
            " extracting: safety_helmet_dataset/train/labels/person-41-_jpg.rf.e410185ef7669900192298dd19a413b6.txt  \n",
            " extracting: safety_helmet_dataset/train/labels/person-411-_jpg.rf.6f115ce9f6d49ee855f3685fbf182796.txt  \n",
            " extracting: safety_helmet_dataset/train/labels/person-412-_jpg.rf.d706af9520aea20cebf3ff3b2e3504ac.txt  \n",
            " extracting: safety_helmet_dataset/train/labels/person-414-_jpg.rf.f1d1e7afd01b6e7644fb2bba18502c51.txt  \n",
            " extracting: safety_helmet_dataset/train/labels/person-415-_jpg.rf.fb476f46dac3c7b20fea397852064df7.txt  \n",
            " extracting: safety_helmet_dataset/train/labels/person-418-_jpg.rf.04348a552dfc017d34c94e5ddd5cb45e.txt  \n",
            " extracting: safety_helmet_dataset/train/labels/person-419-_jpg.rf.eda0bf408dfd8a64c5d11d12d398e9fa.txt  \n",
            " extracting: safety_helmet_dataset/train/labels/person-42-_jpg.rf.e4b536acc6c870f155b6f2e757b5ce33.txt  \n",
            " extracting: safety_helmet_dataset/train/labels/person-420-_jpg.rf.db10ac90c14d5e4d5d5d058073d810f5.txt  \n",
            " extracting: safety_helmet_dataset/train/labels/person-421-_jpg.rf.48c8e158a3941307cb1019de3d693577.txt  \n",
            " extracting: safety_helmet_dataset/train/labels/person-422-_jpg.rf.ed4ae7f4058cda335db40681602c5694.txt  \n",
            " extracting: safety_helmet_dataset/train/labels/person-425-_jpg.rf.93d12161aa7fb604d4c2e0a5369d0660.txt  \n",
            " extracting: safety_helmet_dataset/train/labels/person-426-_jpg.rf.a23c6c24508354a4cca858dec5c10eae.txt  \n",
            " extracting: safety_helmet_dataset/train/labels/person-427-_jpg.rf.5d63df9546b0933e652144af067bf194.txt  \n",
            " extracting: safety_helmet_dataset/train/labels/person-429-_jpg.rf.55cdc9b05b6f31443513feb440967a15.txt  \n",
            " extracting: safety_helmet_dataset/train/labels/person-43-_jpg.rf.b9f456672d4f3b8f6a676d9c651c9fb7.txt  \n",
            " extracting: safety_helmet_dataset/train/labels/person-432-_jpg.rf.5957a63c59ad099a6521d157d86a4b8a.txt  \n",
            " extracting: safety_helmet_dataset/train/labels/person-433-_jpg.rf.d18ee5b329324a191b0c979ff4d8eb04.txt  \n",
            " extracting: safety_helmet_dataset/train/labels/person-434-_jpg.rf.6afeaf4fea28b41a54e37b2840216e92.txt  \n",
            " extracting: safety_helmet_dataset/train/labels/person-435-_jpg.rf.061fc50b7cbcab571b4b6d7a74e55ebe.txt  \n",
            " extracting: safety_helmet_dataset/train/labels/person-436-_jpg.rf.101abde59790d6b02e23afcc66204efb.txt  \n",
            " extracting: safety_helmet_dataset/train/labels/person-437-_jpg.rf.1826d83bafbd475cb8a8113842e43b61.txt  \n",
            " extracting: safety_helmet_dataset/train/labels/person-438-_jpg.rf.8869b6c63ecb6fa2f9bf373b410a20d0.txt  \n",
            " extracting: safety_helmet_dataset/train/labels/person-439-_jpg.rf.9688360e0c3a00041aae2814ac1d622e.txt  \n",
            " extracting: safety_helmet_dataset/train/labels/person-44-_jpg.rf.6113960838e92e4346b6db400fb065a3.txt  \n",
            " extracting: safety_helmet_dataset/train/labels/person-440-_jpg.rf.479f9379494c86efbd7e75bcd45c3234.txt  \n",
            " extracting: safety_helmet_dataset/train/labels/person-441-_jpg.rf.65ba4408baffbeefe238ef4e0c4cd303.txt  \n",
            " extracting: safety_helmet_dataset/train/labels/person-442-_jpg.rf.958bb223e24663d9abee1983b40fb44e.txt  \n",
            " extracting: safety_helmet_dataset/train/labels/person-444-_jpg.rf.1d155af20708952369bef1394dc7dc9d.txt  \n",
            " extracting: safety_helmet_dataset/train/labels/person-446-_jpg.rf.e30ff51a595c0255579cb2731d997551.txt  \n",
            " extracting: safety_helmet_dataset/train/labels/person-447-_jpg.rf.d587af989cfb476273f00d2f0839eca3.txt  \n",
            " extracting: safety_helmet_dataset/train/labels/person-448-_jpg.rf.bb36f6a00d95d381ac25ebcb3685960e.txt  \n",
            " extracting: safety_helmet_dataset/train/labels/person-450-_jpg.rf.039f31f956a23643f656d59b2a776051.txt  \n",
            " extracting: safety_helmet_dataset/train/labels/person-451-_jpg.rf.251ae744c806a25dacddd89fab3ac780.txt  \n",
            " extracting: safety_helmet_dataset/train/labels/person-452-_jpg.rf.e482234edb79896c930c9a40e5d6596b.txt  \n",
            " extracting: safety_helmet_dataset/train/labels/person-455-_jpg.rf.4bd3716466bb8e252092bc9bd4759d20.txt  \n",
            " extracting: safety_helmet_dataset/train/labels/person-456-_jpg.rf.cdb50d6d1164d38155795733034f9dd4.txt  \n",
            " extracting: safety_helmet_dataset/train/labels/person-457-_jpg.rf.1f8143ff38921dbcb04c0deb59bb7f6c.txt  \n",
            " extracting: safety_helmet_dataset/train/labels/person-458-_jpg.rf.ab0b140e1e3849726a150fe2cc356bbc.txt  \n",
            " extracting: safety_helmet_dataset/train/labels/person-459-_jpg.rf.4b38ba6c4ae185f899bd7ca4535ccd84.txt  \n",
            " extracting: safety_helmet_dataset/train/labels/person-46-_jpg.rf.be75c4b5cd0405795bcc39e5f8479493.txt  \n",
            " extracting: safety_helmet_dataset/train/labels/person-460-_jpg.rf.07a109811adc0795f034118d0f007002.txt  \n",
            " extracting: safety_helmet_dataset/train/labels/person-461-_jpg.rf.e5ff2554651d4911e48a0ea2d9f1a84b.txt  \n",
            " extracting: safety_helmet_dataset/train/labels/person-465-_jpg.rf.3681d04a6017d5e7f44951331c052ff1.txt  \n",
            " extracting: safety_helmet_dataset/train/labels/person-466-_jpg.rf.5ea8d6d245ff6faf0cfd740b5d269ae7.txt  \n",
            " extracting: safety_helmet_dataset/train/labels/person-467-_jpg.rf.45fccd3717d297d3cc1dd8acdf156f9b.txt  \n",
            " extracting: safety_helmet_dataset/train/labels/person-468-_jpg.rf.bae2cab0c68bfdb2f72994279329c280.txt  \n",
            " extracting: safety_helmet_dataset/train/labels/person-469-_jpg.rf.64af220cbf1135e99b4a811fc57d5e68.txt  \n",
            " extracting: safety_helmet_dataset/train/labels/person-47-_jpg.rf.6fcff5e454c13ce10b46f496cfc206d5.txt  \n",
            " extracting: safety_helmet_dataset/train/labels/person-471-_jpg.rf.9d486b8b1da63662db3440eabd505250.txt  \n",
            " extracting: safety_helmet_dataset/train/labels/person-474-_jpg.rf.c4090dd1fb910c382150e874aaae4a1b.txt  \n",
            " extracting: safety_helmet_dataset/train/labels/person-475-_jpg.rf.5c4a2d1ec679c3c7f0ba40d7ee1d51ed.txt  \n",
            " extracting: safety_helmet_dataset/train/labels/person-476-_jpg.rf.33203530dda48678f0d6709f43b4b202.txt  \n",
            " extracting: safety_helmet_dataset/train/labels/person-477-_jpg.rf.482c3c8e40f9ea23ad8a22413e039f0c.txt  \n",
            " extracting: safety_helmet_dataset/train/labels/person-478-_jpg.rf.80cfea5875397a889e4e9b94b248f6e5.txt  \n",
            " extracting: safety_helmet_dataset/train/labels/person-48-_jpg.rf.37925956df00cb3654ad211ce8067ad8.txt  \n",
            " extracting: safety_helmet_dataset/train/labels/person-481-_jpg.rf.e2647a04e09502388fc218e9feae0e2f.txt  \n",
            " extracting: safety_helmet_dataset/train/labels/person-482-_jpg.rf.4e7d2fd67bfc817ce0ce43d478407d3d.txt  \n",
            " extracting: safety_helmet_dataset/train/labels/person-484-_jpg.rf.cd7f3435668ab8f93441cf9f8e124ffc.txt  \n",
            " extracting: safety_helmet_dataset/train/labels/person-485-_jpg.rf.f4322edbaecd2ba0d64a7f71af4f6ff6.txt  \n",
            " extracting: safety_helmet_dataset/train/labels/person-486-_jpg.rf.7c7579a72a14809fc312f2a7b1c5d9e6.txt  \n",
            " extracting: safety_helmet_dataset/train/labels/person-487-_jpg.rf.c03083379716e21407e38613ba6646f8.txt  \n",
            " extracting: safety_helmet_dataset/train/labels/person-488-_jpg.rf.c1388b7b9ceda78e7755002a8bb45b04.txt  \n",
            " extracting: safety_helmet_dataset/train/labels/person-49-_jpg.rf.7a033d7becb4b43de75e7637e26bc655.txt  \n",
            " extracting: safety_helmet_dataset/train/labels/person-490-_jpg.rf.2cb91aeeae6496d65df02089d46cf809.txt  \n",
            " extracting: safety_helmet_dataset/train/labels/person-492-_jpg.rf.56ca8b5d93434b34d97ad7634b3e1029.txt  \n",
            " extracting: safety_helmet_dataset/train/labels/person-493-_jpg.rf.b84f70fef237447e02e9a463c80aad7d.txt  \n",
            " extracting: safety_helmet_dataset/train/labels/person-494-_jpg.rf.de1066e729925093e5af69b5a8def244.txt  \n",
            " extracting: safety_helmet_dataset/train/labels/person-495-_jpg.rf.17dfe29b54bfcd3f9c9987561cf090a7.txt  \n",
            " extracting: safety_helmet_dataset/train/labels/person-496-_jpg.rf.2ef35fc28d5f8c5704cfe9ddf7ef6ee3.txt  \n",
            " extracting: safety_helmet_dataset/train/labels/person-498-_jpg.rf.78ed850cc519ccaf9b912ec388a6d782.txt  \n",
            " extracting: safety_helmet_dataset/train/labels/person-5-_jpg.rf.71927cd826c2af413538429550bc82dd.txt  \n",
            " extracting: safety_helmet_dataset/train/labels/person-501-_jpg.rf.553dfeb2de5b5213e0cfd0f4b89a0cbd.txt  \n",
            " extracting: safety_helmet_dataset/train/labels/person-502-_jpg.rf.202ed1c754d7563ef88eb171f4d3cbc4.txt  \n",
            " extracting: safety_helmet_dataset/train/labels/person-503-_jpg.rf.5579e978603eeffc6b7f7f3853024681.txt  \n",
            " extracting: safety_helmet_dataset/train/labels/person-504-_jpg.rf.ce16ad9187f1da1cafe1048738f6b76e.txt  \n",
            " extracting: safety_helmet_dataset/train/labels/person-505-_jpg.rf.5357b04db8b2e5a51d0a06ecb30c9540.txt  \n",
            " extracting: safety_helmet_dataset/train/labels/person-507-_jpg.rf.8cdc784a2d783b73fb3078be07da645a.txt  \n",
            " extracting: safety_helmet_dataset/train/labels/person-51-_jpg.rf.91d9cd753f5819fd682d5826e60853e6.txt  \n",
            " extracting: safety_helmet_dataset/train/labels/person-510-_jpg.rf.4df50bfc04650bfdd47fb5382dad132f.txt  \n",
            " extracting: safety_helmet_dataset/train/labels/person-511-_jpg.rf.f606d6bade0217e0c3114c0ce608bf4c.txt  \n",
            " extracting: safety_helmet_dataset/train/labels/person-512-_jpg.rf.202beff8dea11014a1080b712dc9297c.txt  \n",
            " extracting: safety_helmet_dataset/train/labels/person-513-_jpg.rf.97feb5445f81456cb5f4c9aec7deac9f.txt  \n",
            " extracting: safety_helmet_dataset/train/labels/person-514-_jpg.rf.c76ec59a1ecd20855a52648c6e6dfd6c.txt  \n",
            " extracting: safety_helmet_dataset/train/labels/person-515-_jpg.rf.7acf6fc0cd1fb1a536a0e110c81a202d.txt  \n",
            " extracting: safety_helmet_dataset/train/labels/person-516-_jpg.rf.c96d48877060b8e7b36bc1a7501b0ecd.txt  \n",
            " extracting: safety_helmet_dataset/train/labels/person-517-_jpg.rf.d16e357a23085ad0bf90b262ec78d615.txt  \n",
            " extracting: safety_helmet_dataset/train/labels/person-518-_jpg.rf.6a2d464db6dbb4b00a22593a1178fe7d.txt  \n",
            " extracting: safety_helmet_dataset/train/labels/person-519-_jpg.rf.76d60aa7d315f43f9a4c664a35a10e1e.txt  \n",
            " extracting: safety_helmet_dataset/train/labels/person-52-_jpg.rf.82da20e7d5643ae169496d4b789f0874.txt  \n",
            " extracting: safety_helmet_dataset/train/labels/person-520-_jpg.rf.8f42071aae0d0c86ac37741c0191de10.txt  \n",
            " extracting: safety_helmet_dataset/train/labels/person-523-_jpg.rf.fca4056c36486c8a87fe3a339dbfbc56.txt  \n",
            " extracting: safety_helmet_dataset/train/labels/person-524-_jpg.rf.4d77f5d2a14530de71dd3b487a8513fb.txt  \n",
            " extracting: safety_helmet_dataset/train/labels/person-525-_jpg.rf.c8d4886675199e86602eb33e7dceb901.txt  \n",
            " extracting: safety_helmet_dataset/train/labels/person-526-_jpg.rf.507c9ebf7d34c217548e4f66c440247d.txt  \n",
            " extracting: safety_helmet_dataset/train/labels/person-528-_jpg.rf.5eb2f2be2e8c1e74e2003af43e254958.txt  \n",
            " extracting: safety_helmet_dataset/train/labels/person-529-_jpg.rf.d3b40f1fa81e8d1bc6ea472c3a2b3638.txt  \n",
            " extracting: safety_helmet_dataset/train/labels/person-530-_jpg.rf.b388c2ee4dc1038e72c429314e899f83.txt  \n",
            " extracting: safety_helmet_dataset/train/labels/person-531-_jpg.rf.a0504b8908f933b73d938241c3dc111b.txt  \n",
            " extracting: safety_helmet_dataset/train/labels/person-532-_jpg.rf.668aaed16b4314af4cd87bbbff2ff5ff.txt  \n",
            " extracting: safety_helmet_dataset/train/labels/person-534-_jpg.rf.b6d1b9c2ae86db599e7cca0091d66d48.txt  \n",
            " extracting: safety_helmet_dataset/train/labels/person-536-_jpg.rf.7a997ea90eb749846fdf558c9f7d1067.txt  \n",
            " extracting: safety_helmet_dataset/train/labels/person-537-_jpg.rf.3700230ecfa5935e236a78f0048447dc.txt  \n",
            " extracting: safety_helmet_dataset/train/labels/person-538-_jpg.rf.8a5fd0f577cae54f289bd6a215b34f04.txt  \n",
            " extracting: safety_helmet_dataset/train/labels/person-539-_jpg.rf.87509f30f3eb84254675feef06301e9e.txt  \n",
            " extracting: safety_helmet_dataset/train/labels/person-540-_jpg.rf.e902e8566e61db30970df8613aab0126.txt  \n",
            " extracting: safety_helmet_dataset/train/labels/person-541-_jpg.rf.3398496dc13021ed8a66d597d62b4c26.txt  \n",
            " extracting: safety_helmet_dataset/train/labels/person-542-_jpg.rf.340537b557495e2def2a0aff53a76ad3.txt  \n",
            " extracting: safety_helmet_dataset/train/labels/person-543-_jpg.rf.fbe177a0386c58d54353fd82a4591642.txt  \n",
            " extracting: safety_helmet_dataset/train/labels/person-544-_jpg.rf.ef36164134e487ff5dbfa618c8d55129.txt  \n",
            " extracting: safety_helmet_dataset/train/labels/person-545-_jpg.rf.6e07e3548fb4240b8cc0146ba36fc07a.txt  \n",
            " extracting: safety_helmet_dataset/train/labels/person-55-_jpg.rf.188aee5c251d5d87b19829ad4d023987.txt  \n",
            " extracting: safety_helmet_dataset/train/labels/person-56-_jpg.rf.2d01f40c23bf27d55614ac98e313ea96.txt  \n",
            " extracting: safety_helmet_dataset/train/labels/person-57-_jpg.rf.459e98efaf11b8de983491418a0c8440.txt  \n",
            " extracting: safety_helmet_dataset/train/labels/person-58-_jpg.rf.057224fed2288c848ac495af6a6c575f.txt  \n",
            " extracting: safety_helmet_dataset/train/labels/person-59-_jpg.rf.a5db91031b22711d1a0d7e5b9bb0b604.txt  \n",
            " extracting: safety_helmet_dataset/train/labels/person-6-_jpg.rf.67d0c20a60e036a4de712dac4dbdee98.txt  \n",
            " extracting: safety_helmet_dataset/train/labels/person-60-_jpg.rf.b8d79da514f054c4bdcdab842482ae31.txt  \n",
            " extracting: safety_helmet_dataset/train/labels/person-62-_jpg.rf.9dccbd66bfea4c1ae521e3e89dca29bb.txt  \n",
            " extracting: safety_helmet_dataset/train/labels/person-63-_jpg.rf.29320427edac392b26f56b10bf273fe5.txt  \n",
            " extracting: safety_helmet_dataset/train/labels/person-64-_jpg.rf.ddaacd385dd249b56c31d5764eda4dde.txt  \n",
            " extracting: safety_helmet_dataset/train/labels/person-65-_jpg.rf.43598eb614929dfc59410cf218b24b42.txt  \n",
            " extracting: safety_helmet_dataset/train/labels/person-66-_jpg.rf.2b43b1594ec720216ef50dd95ecf157a.txt  \n",
            " extracting: safety_helmet_dataset/train/labels/person-67-_jpg.rf.7ec3c01fd3655e80b6a02cbd951a764a.txt  \n",
            " extracting: safety_helmet_dataset/train/labels/person-68-_jpg.rf.83315eabf8ed3e89ce4167e25ee50245.txt  \n",
            " extracting: safety_helmet_dataset/train/labels/person-69-_jpg.rf.4d5c740ca1d41b5f3db6ded12ae2d88c.txt  \n",
            " extracting: safety_helmet_dataset/train/labels/person-7-_jpg.rf.bdb0e7b2fbf5413f132d0adab7cba391.txt  \n",
            " extracting: safety_helmet_dataset/train/labels/person-71-_jpg.rf.54bc3c5b2a7af21202443618e509f9ae.txt  \n",
            " extracting: safety_helmet_dataset/train/labels/person-72-_jpg.rf.43161d60fc0e95b48b5b2fb668354c14.txt  \n",
            " extracting: safety_helmet_dataset/train/labels/person-73-_jpg.rf.0e6a5dad8ba077fdf66c5a888f3cad9c.txt  \n",
            " extracting: safety_helmet_dataset/train/labels/person-74-_jpg.rf.7356b07117505baa8d1e7b4e1baf1846.txt  \n",
            " extracting: safety_helmet_dataset/train/labels/person-75-_jpg.rf.6356c5b128d1463cc891dde5378c8891.txt  \n",
            " extracting: safety_helmet_dataset/train/labels/person-80-_jpg.rf.263265f523742e787bf4fabac470e951.txt  \n",
            " extracting: safety_helmet_dataset/train/labels/person-81-_jpg.rf.eb897ddd675c6f363bdcf98887ff0ef6.txt  \n",
            " extracting: safety_helmet_dataset/train/labels/person-82-_jpg.rf.549dbd067b06149e683146d885132a29.txt  \n",
            " extracting: safety_helmet_dataset/train/labels/person-83-_jpg.rf.d0545370fd90eac9da6f8aecafb4537f.txt  \n",
            " extracting: safety_helmet_dataset/train/labels/person-84-_jpg.rf.5d4684ed6da2c87c47d0b3edc2c2282e.txt  \n",
            " extracting: safety_helmet_dataset/train/labels/person-86-_jpg.rf.ed2ea3ff5ba05f07b0e2426a1aeed4f0.txt  \n",
            " extracting: safety_helmet_dataset/train/labels/person-87-_jpg.rf.d78e4b469ed5afb7806634d1620b2cfd.txt  \n",
            " extracting: safety_helmet_dataset/train/labels/person-88-_jpg.rf.34667b5f1b8a130ee60c79b666d0dc39.txt  \n",
            " extracting: safety_helmet_dataset/train/labels/person-90-_jpg.rf.60ddd45fe837ccbcf33165089bf6adff.txt  \n",
            " extracting: safety_helmet_dataset/train/labels/person-91-_jpg.rf.9b81e71a03f4a96873997c6196c7ab68.txt  \n",
            " extracting: safety_helmet_dataset/train/labels/person-92-_jpg.rf.646bbf7ee7949ead27cc558200fa0f7a.txt  \n",
            " extracting: safety_helmet_dataset/train/labels/person-94-_jpg.rf.d0cbea098cd71240250afa5d3b982f68.txt  \n",
            " extracting: safety_helmet_dataset/train/labels/person-97-_jpg.rf.c70f1692f699e37fbffb3eab661ca504.txt  \n",
            " extracting: safety_helmet_dataset/train/labels/person-98-_jpg.rf.def95299d78387cedab80dacac672a07.txt  \n",
            "   creating: safety_helmet_dataset/valid/\n",
            "   creating: safety_helmet_dataset/valid/images/\n",
            " extracting: safety_helmet_dataset/valid/images/helmet-100-_jpg.rf.4322c86f0efaff251b2d8d2f564c5b3d.jpg  \n",
            " extracting: safety_helmet_dataset/valid/images/helmet-104-_jpg.rf.a672b709fc55cd7b76835f7a74e80999.jpg  \n",
            " extracting: safety_helmet_dataset/valid/images/helmet-106-_jpg.rf.23f52c20a165bb6bda9596e6a94511af.jpg  \n",
            " extracting: safety_helmet_dataset/valid/images/helmet-115-_jpg.rf.adf9d98fbf240dfb5737d49bbee17141.jpg  \n",
            " extracting: safety_helmet_dataset/valid/images/helmet-128-_jpg.rf.8d0f268c6770083b136a4f53dc51b907.jpg  \n",
            " extracting: safety_helmet_dataset/valid/images/helmet-129-_jpg.rf.a5ff53dd508eef5b27ad83beda869f62.jpg  \n",
            " extracting: safety_helmet_dataset/valid/images/helmet-131-_jpg.rf.6bf2deda6b745c951f997db2363007c8.jpg  \n",
            " extracting: safety_helmet_dataset/valid/images/helmet-142-_jpg.rf.64eceea1d4ee1af9b6f42fdcd34902b8.jpg  \n",
            " extracting: safety_helmet_dataset/valid/images/helmet-146-_jpg.rf.ddad19c4b328f6c9cb57c569bab10a9f.jpg  \n",
            " extracting: safety_helmet_dataset/valid/images/helmet-151-_jpg.rf.d43c05164f32fcf78a7b8cde37bea81a.jpg  \n",
            " extracting: safety_helmet_dataset/valid/images/helmet-159-_jpg.rf.26c7ced74e60dbdee5ec8f05b5f1bd6f.jpg  \n",
            " extracting: safety_helmet_dataset/valid/images/helmet-160-_jpg.rf.b8e21f7f4217f83e4c7b97aa771dc2e9.jpg  \n",
            " extracting: safety_helmet_dataset/valid/images/helmet-163-_jpg.rf.0e60f49d52962b254aaeaee8483d3819.jpg  \n",
            " extracting: safety_helmet_dataset/valid/images/helmet-165-_jpg.rf.f6f0d1a435daad6270c57c5ea4078345.jpg  \n",
            " extracting: safety_helmet_dataset/valid/images/helmet-166-_jpg.rf.15ade6b4fddb30be109ce5e75ecb6bf0.jpg  \n",
            " extracting: safety_helmet_dataset/valid/images/helmet-168-_jpg.rf.50e1f3b4ec551f47e82008d9cc66028e.jpg  \n",
            " extracting: safety_helmet_dataset/valid/images/helmet-17-_jpg.rf.912591bb3b0de4b9a9caf7ccccbaf57e.jpg  \n",
            " extracting: safety_helmet_dataset/valid/images/helmet-177-_jpg.rf.fc9bd4d8050acca6c5dc44d175ac23e4.jpg  \n",
            " extracting: safety_helmet_dataset/valid/images/helmet-187-_jpg.rf.1c9627ac0536b23a4013a662e452f41f.jpg  \n",
            " extracting: safety_helmet_dataset/valid/images/helmet-189-_jpg.rf.c9ebe456ea0c8c9fcdecc2707cef54ee.jpg  \n",
            " extracting: safety_helmet_dataset/valid/images/helmet-194-_jpg.rf.c12d545fa77607bbc910ff765535bb82.jpg  \n",
            " extracting: safety_helmet_dataset/valid/images/helmet-197-_jpg.rf.48980cec59144aaaabd6777f5d567793.jpg  \n",
            " extracting: safety_helmet_dataset/valid/images/helmet-198-_jpg.rf.60fc92ca2f7d8754c2bd1fee34b174c2.jpg  \n",
            " extracting: safety_helmet_dataset/valid/images/helmet-210-_jpg.rf.9fcdef3da63bb19079de377023b2dfc0.jpg  \n",
            " extracting: safety_helmet_dataset/valid/images/helmet-211-_jpg.rf.c6cecf70edd3c4fcd49ee2b91a9968a3.jpg  \n",
            " extracting: safety_helmet_dataset/valid/images/helmet-214-_jpg.rf.3854c9f197e2cc2ffe8d067ca9b08002.jpg  \n",
            " extracting: safety_helmet_dataset/valid/images/helmet-215-_jpg.rf.a82e8a8704b0d10a33dd359fbeb0e9b3.jpg  \n",
            " extracting: safety_helmet_dataset/valid/images/helmet-22-_jpg.rf.89c4aa1ebc05b09eee3896f73868799d.jpg  \n",
            " extracting: safety_helmet_dataset/valid/images/helmet-221-_jpg.rf.f8e5be019408c2041dbd6f513523d53d.jpg  \n",
            " extracting: safety_helmet_dataset/valid/images/helmet-222-_jpg.rf.ea66175225c96b5573f78172fafe3c08.jpg  \n",
            " extracting: safety_helmet_dataset/valid/images/helmet-228-_jpg.rf.1a618dc4e39616d2fa0ed07dbd1b7faa.jpg  \n",
            " extracting: safety_helmet_dataset/valid/images/helmet-233-_jpg.rf.4e9ee9b536bf4e27527f0990e8c43aab.jpg  \n",
            " extracting: safety_helmet_dataset/valid/images/helmet-244-_jpg.rf.8df117b24ee893595a3606d84102232f.jpg  \n",
            " extracting: safety_helmet_dataset/valid/images/helmet-250-_jpg.rf.55fa1930c062da34f5d622898931f94c.jpg  \n",
            " extracting: safety_helmet_dataset/valid/images/helmet-252-_jpg.rf.3223b4d78da1fcd6fb9ccad6537df035.jpg  \n",
            " extracting: safety_helmet_dataset/valid/images/helmet-268-_jpg.rf.4477977a8562bef81f1051e8bcae8fbb.jpg  \n",
            " extracting: safety_helmet_dataset/valid/images/helmet-272-_jpg.rf.d4c6a91da8415e2ad4717e33ee2aea47.jpg  \n",
            " extracting: safety_helmet_dataset/valid/images/helmet-275-_jpg.rf.c20b8bfb04327fcd4fb1ebf9d52bc849.jpg  \n",
            " extracting: safety_helmet_dataset/valid/images/helmet-279-_jpg.rf.8fe4ea55a4144e6582bec1047136e8dc.jpg  \n",
            " extracting: safety_helmet_dataset/valid/images/helmet-280-_jpg.rf.4988dc927efb91e28b2cb24c383570d0.jpg  \n",
            " extracting: safety_helmet_dataset/valid/images/helmet-283-_jpg.rf.8c5dc1d9441d280b61213d397422a555.jpg  \n",
            " extracting: safety_helmet_dataset/valid/images/helmet-29-_jpg.rf.898beb37461370edbda693d84ea3ff9f.jpg  \n",
            " extracting: safety_helmet_dataset/valid/images/helmet-292-_jpg.rf.3f06cb1aba4b137a86233ef42c162299.jpg  \n",
            " extracting: safety_helmet_dataset/valid/images/helmet-293-_jpg.rf.4bc35d252b4a8001e18bea9c773d6574.jpg  \n",
            " extracting: safety_helmet_dataset/valid/images/helmet-300-_jpg.rf.c08cd5d5339a2ed66e81584e0b14b196.jpg  \n",
            " extracting: safety_helmet_dataset/valid/images/helmet-304-_jpg.rf.b77894f20e52bed937eb08098cb4ab97.jpg  \n",
            " extracting: safety_helmet_dataset/valid/images/helmet-306-_jpg.rf.4b7d26190b3ecf8098e4421781d9fa5e.jpg  \n",
            " extracting: safety_helmet_dataset/valid/images/helmet-310-_jpg.rf.014358050fb01fc5205efcc7110acb38.jpg  \n",
            " extracting: safety_helmet_dataset/valid/images/helmet-311-_jpg.rf.e8f85315e7c12c7dd65b565dfbd14b6f.jpg  \n",
            " extracting: safety_helmet_dataset/valid/images/helmet-312-_jpg.rf.a61014ebaf0b13360eafc787abd03db7.jpg  \n",
            " extracting: safety_helmet_dataset/valid/images/helmet-322-_jpg.rf.bfcb62ea30b2f16d3d757d1e0890f62b.jpg  \n",
            " extracting: safety_helmet_dataset/valid/images/helmet-331-_jpg.rf.14b79dd60e72fc6074ef42e2932e4e27.jpg  \n",
            " extracting: safety_helmet_dataset/valid/images/helmet-332-_jpg.rf.3eaa8c74cdc8b804755ede1a67b86842.jpg  \n",
            " extracting: safety_helmet_dataset/valid/images/helmet-339-_jpg.rf.5d184a5c7b24c855d238dbe53ff2bc69.jpg  \n",
            " extracting: safety_helmet_dataset/valid/images/helmet-343-_jpg.rf.f3e1fabf943e941cac77590ddf19130f.jpg  \n",
            " extracting: safety_helmet_dataset/valid/images/helmet-353-_jpg.rf.c579f9652c0f70f6c33fb900c04441fc.jpg  \n",
            " extracting: safety_helmet_dataset/valid/images/helmet-355-_jpg.rf.18f0a84fbcf1c256960004880ea31d2d.jpg  \n",
            " extracting: safety_helmet_dataset/valid/images/helmet-358-_jpg.rf.3da906b8ffb74bf9544ff7637692f77e.jpg  \n",
            " extracting: safety_helmet_dataset/valid/images/helmet-361-_jpg.rf.016df3556f0f494e7a03cc53a295b302.jpg  \n",
            " extracting: safety_helmet_dataset/valid/images/helmet-368-_jpg.rf.97c1d6d66ecc6ba40a457c1dc449f10e.jpg  \n",
            " extracting: safety_helmet_dataset/valid/images/helmet-376-_jpg.rf.9fbdb7088f12badcc1a40f8c99269fe7.jpg  \n",
            " extracting: safety_helmet_dataset/valid/images/helmet-38-_jpg.rf.f7c70acad80f3fe26ec82f49d5a6c17c.jpg  \n",
            " extracting: safety_helmet_dataset/valid/images/helmet-388-_jpg.rf.1b83486f6e00c22a88aaec5bc7c5fe72.jpg  \n",
            " extracting: safety_helmet_dataset/valid/images/helmet-389-_jpg.rf.eb25d555b5fde5fd134863c583ee1f40.jpg  \n",
            " extracting: safety_helmet_dataset/valid/images/helmet-391-_jpg.rf.a573e15f3704c3c49087016e4f467584.jpg  \n",
            " extracting: safety_helmet_dataset/valid/images/helmet-394-_jpg.rf.5c9f06c4266883580f804d436270771d.jpg  \n",
            " extracting: safety_helmet_dataset/valid/images/helmet-399-_jpg.rf.3312cafb7c8d050de9a93fc5a2cd39fd.jpg  \n",
            " extracting: safety_helmet_dataset/valid/images/helmet-416-_jpg.rf.1ac3a8942223e0ac40f3e6962c273c4b.jpg  \n",
            " extracting: safety_helmet_dataset/valid/images/helmet-423-_jpg.rf.3334160959d5282c3c54b112b3d34a7f.jpg  \n",
            " extracting: safety_helmet_dataset/valid/images/helmet-435-_jpg.rf.58709501e83d4bc8f8850a0ecb66a487.jpg  \n",
            " extracting: safety_helmet_dataset/valid/images/helmet-438-_jpg.rf.c2b9bd66a53684d1f167f4d20bde2678.jpg  \n",
            " extracting: safety_helmet_dataset/valid/images/helmet-439-_jpg.rf.374e19940dbe996533afec697ccb684c.jpg  \n",
            " extracting: safety_helmet_dataset/valid/images/helmet-443-_jpg.rf.6f7a8cb1bc9f5d9e2a66a0faba70b127.jpg  \n",
            " extracting: safety_helmet_dataset/valid/images/helmet-444-_jpg.rf.0a257ea5028454de7d7cbdcca6f58129.jpg  \n",
            " extracting: safety_helmet_dataset/valid/images/helmet-447-_jpg.rf.e708f9ba593492c572630cdd754c0eee.jpg  \n",
            " extracting: safety_helmet_dataset/valid/images/helmet-448-_jpg.rf.027595416d712cd6cc8d96e2d41af1d7.jpg  \n",
            " extracting: safety_helmet_dataset/valid/images/helmet-452-_jpg.rf.bc93dff1dd8b09d06c075a4086e51a45.jpg  \n",
            " extracting: safety_helmet_dataset/valid/images/helmet-453-_jpg.rf.f9f34c55d59497eb3df49f28fd50dcfd.jpg  \n",
            " extracting: safety_helmet_dataset/valid/images/helmet-457-_jpg.rf.6e5d417f04aae5aae6a3b64c3ea5844c.jpg  \n",
            " extracting: safety_helmet_dataset/valid/images/helmet-459-_jpg.rf.d4b46cf7f802b85d4f37339948aa9d74.jpg  \n",
            " extracting: safety_helmet_dataset/valid/images/helmet-469-_jpg.rf.3643ff5429100e64dcd6672fd13848ea.jpg  \n",
            " extracting: safety_helmet_dataset/valid/images/helmet-47-_jpg.rf.2981ceff0308501c526946b23964a2a8.jpg  \n",
            " extracting: safety_helmet_dataset/valid/images/helmet-471-_jpg.rf.0fe45e907a342843a6b6cd0e61dd7f65.jpg  \n",
            " extracting: safety_helmet_dataset/valid/images/helmet-481-_jpg.rf.9a602846d42d2530981da2d8b8249647.jpg  \n",
            " extracting: safety_helmet_dataset/valid/images/helmet-488-_jpg.rf.2d2c046d71f27f13916c1435c6cdf9a2.jpg  \n",
            " extracting: safety_helmet_dataset/valid/images/helmet-491-_jpg.rf.3bd9b8d57e2c8531f164a8f108d34ff6.jpg  \n",
            " extracting: safety_helmet_dataset/valid/images/helmet-496-_jpg.rf.6edac0fb39c52a0da9c372373b01e16a.jpg  \n",
            " extracting: safety_helmet_dataset/valid/images/helmet-5-_jpg.rf.743d6204e875ee0e14819f2db9c21388.jpg  \n",
            " extracting: safety_helmet_dataset/valid/images/helmet-502-_jpg.rf.33f61d8847bb50ec476273d4e87929a0.jpg  \n",
            " extracting: safety_helmet_dataset/valid/images/helmet-504-_jpg.rf.616f3aff2bb99435cdd8a721021ebb8d.jpg  \n",
            " extracting: safety_helmet_dataset/valid/images/helmet-507-_jpg.rf.69c2ee053134ca4ca1daa10dc29c9d81.jpg  \n",
            " extracting: safety_helmet_dataset/valid/images/helmet-512-_jpg.rf.9b9ae5863d6b61d2bbcf5c7dc912a0ce.jpg  \n",
            " extracting: safety_helmet_dataset/valid/images/helmet-518-_jpg.rf.a6e6475964f1b26f6f36299a42c076c8.jpg  \n",
            " extracting: safety_helmet_dataset/valid/images/helmet-520-_jpg.rf.71c356abf5d59138a943e3fb86d13b78.jpg  \n",
            " extracting: safety_helmet_dataset/valid/images/helmet-522-_jpg.rf.f734767361be96d87ef8fd9d856ba1f8.jpg  \n",
            " extracting: safety_helmet_dataset/valid/images/helmet-526-_jpg.rf.de731aa12fbf4679b2de8495805fa7d1.jpg  \n",
            " extracting: safety_helmet_dataset/valid/images/helmet-527-_jpg.rf.37a3fa10f173d7c5f0ccdfcedae8a303.jpg  \n",
            " extracting: safety_helmet_dataset/valid/images/helmet-528-_jpg.rf.df97f23e237a310689acef2c4439ff5b.jpg  \n",
            " extracting: safety_helmet_dataset/valid/images/helmet-529-_jpg.rf.bfd6c42e9dd4d9353e51c42bf1a081f0.jpg  \n",
            " extracting: safety_helmet_dataset/valid/images/helmet-532-_jpg.rf.095c99234090d23a11f460b974720439.jpg  \n",
            " extracting: safety_helmet_dataset/valid/images/helmet-534-_jpg.rf.4c29a98e81da82e4f2595c3b79ec103a.jpg  \n",
            " extracting: safety_helmet_dataset/valid/images/helmet-535-_jpg.rf.deee090126d27f960f64b4495f31c879.jpg  \n",
            " extracting: safety_helmet_dataset/valid/images/helmet-537-_jpg.rf.3547539557eeccfcb1a99cd43d2aff3f.jpg  \n",
            " extracting: safety_helmet_dataset/valid/images/helmet-65-_jpg.rf.40c6bafe64cbc2cfc87bd8a58742360c.jpg  \n",
            " extracting: safety_helmet_dataset/valid/images/helmet-7-_jpg.rf.8bf3f81cc8f466150b4d428e96413de9.jpg  \n",
            " extracting: safety_helmet_dataset/valid/images/helmet-74-_jpg.rf.07c076df89072210287a2341c7cd4da5.jpg  \n",
            " extracting: safety_helmet_dataset/valid/images/helmet-76-_jpg.rf.d7ac639d9b492b80ae8d34d40e7c90b3.jpg  \n",
            " extracting: safety_helmet_dataset/valid/images/helmet-78-_jpg.rf.7227a93ed4a62acc0fd000acc1230893.jpg  \n",
            " extracting: safety_helmet_dataset/valid/images/helmet-82-_jpg.rf.0d45c6cda466f9839b242d94b78cd91a.jpg  \n",
            " extracting: safety_helmet_dataset/valid/images/helmet-89-_jpg.rf.d5d07568a62a1dacf9090ba233ae26d2.jpg  \n",
            " extracting: safety_helmet_dataset/valid/images/helmet-97-_jpg.rf.3f727f2fae0c2dbba231a96719f067a6.jpg  \n",
            " extracting: safety_helmet_dataset/valid/images/person-101-_jpg.rf.77a936a848153291067df8b528138f1a.jpg  \n",
            " extracting: safety_helmet_dataset/valid/images/person-108-_jpg.rf.dd51be493db4704e6c430997160ee47b.jpg  \n",
            " extracting: safety_helmet_dataset/valid/images/person-11-_jpg.rf.72c063388ee0acf0bfdf9b8cc120293a.jpg  \n",
            " extracting: safety_helmet_dataset/valid/images/person-12-_jpg.rf.8e029defa4ba507f55592264cee08507.jpg  \n",
            " extracting: safety_helmet_dataset/valid/images/person-125-_jpg.rf.ab563965b281e6b0e6547afa58219fb4.jpg  \n",
            " extracting: safety_helmet_dataset/valid/images/person-126-_jpg.rf.dc6fca0109edefa8e1aeea6649726e84.jpg  \n",
            " extracting: safety_helmet_dataset/valid/images/person-129-_jpg.rf.930c0f81897ce21765407bfea19d9093.jpg  \n",
            " extracting: safety_helmet_dataset/valid/images/person-130-_jpg.rf.c74b0433485573ec08bc70a7b16e4503.jpg  \n",
            " extracting: safety_helmet_dataset/valid/images/person-133-_jpg.rf.5ddade6848a1c1678c8ce7eaf1e7a0ae.jpg  \n",
            " extracting: safety_helmet_dataset/valid/images/person-141-_jpg.rf.b3500d1c72a3bf0c1637b4c9aee5bb8a.jpg  \n",
            " extracting: safety_helmet_dataset/valid/images/person-148-_jpg.rf.3791e1637c02b9906440d0038e4dd23e.jpg  \n",
            " extracting: safety_helmet_dataset/valid/images/person-15-_jpg.rf.b1e69cdc69ca1612b02dd50cff73c6b6.jpg  \n",
            " extracting: safety_helmet_dataset/valid/images/person-158-_jpg.rf.6d701d50d6e3d7b04335679eac35e3e6.jpg  \n",
            " extracting: safety_helmet_dataset/valid/images/person-162-_jpg.rf.371a8db951dcc3a3cbaf015b12165ebf.jpg  \n",
            " extracting: safety_helmet_dataset/valid/images/person-168-_jpg.rf.942b46889f092458507710a30ea4d190.jpg  \n",
            " extracting: safety_helmet_dataset/valid/images/person-175-_jpg.rf.187e2bd39d39d4d7dda89a1728545ecb.jpg  \n",
            " extracting: safety_helmet_dataset/valid/images/person-193-_jpg.rf.ad5d22760c9897f7f4c748cd8b5fc555.jpg  \n",
            " extracting: safety_helmet_dataset/valid/images/person-194-_jpg.rf.6fc76566ffc370dc64fe27b86ba3aa76.jpg  \n",
            " extracting: safety_helmet_dataset/valid/images/person-2-_jpg.rf.900c71a094bb153dbf6638707dd18800.jpg  \n",
            " extracting: safety_helmet_dataset/valid/images/person-20-_jpg.rf.ba32d93f964a39ce462c1beddf1643f1.jpg  \n",
            " extracting: safety_helmet_dataset/valid/images/person-205-_jpg.rf.de9e81c38ffd409d95ddfe839da1cba3.jpg  \n",
            " extracting: safety_helmet_dataset/valid/images/person-210-_jpg.rf.4dbc1b4e34180c9cbe20ebe3edf09207.jpg  \n",
            " extracting: safety_helmet_dataset/valid/images/person-224-_jpg.rf.ea0fd403e83bde9559ac74ec1f7726bf.jpg  \n",
            " extracting: safety_helmet_dataset/valid/images/person-227-_jpg.rf.fb99ff9999eceaa6609a3ee4793a9e5a.jpg  \n",
            " extracting: safety_helmet_dataset/valid/images/person-229-_jpg.rf.ae93e93b8f0c0fad753846cf09c2ee53.jpg  \n",
            " extracting: safety_helmet_dataset/valid/images/person-231-_jpg.rf.e4bbd1140606fb1218cd61a81c70c6cb.jpg  \n",
            " extracting: safety_helmet_dataset/valid/images/person-237-_jpg.rf.ee0b5cceb9c08b1ee3202399c9f9fc36.jpg  \n",
            " extracting: safety_helmet_dataset/valid/images/person-241-_jpg.rf.d31e3aeeb55a74f9b78f7d58bc96125e.jpg  \n",
            " extracting: safety_helmet_dataset/valid/images/person-243-_jpg.rf.1c36c50afa7013debf379c863ec2c17f.jpg  \n",
            " extracting: safety_helmet_dataset/valid/images/person-246-_jpg.rf.855b0e1e3c0255f2ba2f7a09798087cc.jpg  \n",
            " extracting: safety_helmet_dataset/valid/images/person-255-_jpg.rf.d41f103ac473db1603f9d54d66421a6f.jpg  \n",
            " extracting: safety_helmet_dataset/valid/images/person-259-_jpg.rf.e5f10cf8dca90f4773946a6cddc18cdb.jpg  \n",
            " extracting: safety_helmet_dataset/valid/images/person-261-_jpg.rf.2f06a615b00bad4339167361730de553.jpg  \n",
            " extracting: safety_helmet_dataset/valid/images/person-264-_jpg.rf.43112f579d640727f5610da54050adc4.jpg  \n",
            " extracting: safety_helmet_dataset/valid/images/person-265-_jpg.rf.2b475c25bc1840d9ea31585311757ccd.jpg  \n",
            " extracting: safety_helmet_dataset/valid/images/person-27-_jpg.rf.e5e314045acb56a4de4b5dad2f9953ba.jpg  \n",
            " extracting: safety_helmet_dataset/valid/images/person-270-_jpg.rf.3506d2bd8024801866d8d6be071db86c.jpg  \n",
            " extracting: safety_helmet_dataset/valid/images/person-283-_jpg.rf.4456b6483d5f79fcb665b2b4721b9cf9.jpg  \n",
            " extracting: safety_helmet_dataset/valid/images/person-291-_jpg.rf.054fcfda83002a18b178e372baf96ff2.jpg  \n",
            " extracting: safety_helmet_dataset/valid/images/person-296-_jpg.rf.015935d32128d86be278d62d5f8e1991.jpg  \n",
            " extracting: safety_helmet_dataset/valid/images/person-297-_jpg.rf.1a429324d4d65f806242b6400539b6a3.jpg  \n",
            " extracting: safety_helmet_dataset/valid/images/person-307-_jpg.rf.f55b952e31c4dbf7ed8a9645ea6243fb.jpg  \n",
            " extracting: safety_helmet_dataset/valid/images/person-314-_jpg.rf.1ff9d1105fb4dd1f1298383423cb705a.jpg  \n",
            " extracting: safety_helmet_dataset/valid/images/person-316-_jpg.rf.a2b1512684d1b374d40ba229a3b0af86.jpg  \n",
            " extracting: safety_helmet_dataset/valid/images/person-33-_jpg.rf.0da91493c0c441be34aac96e8561abd9.jpg  \n",
            " extracting: safety_helmet_dataset/valid/images/person-338-_jpg.rf.ead651092dd1eecf7410f660e6b4bea5.jpg  \n",
            " extracting: safety_helmet_dataset/valid/images/person-341-_jpg.rf.bb5c4115d2cb3e91075c9b46c1f5e857.jpg  \n",
            " extracting: safety_helmet_dataset/valid/images/person-342-_jpg.rf.2eb023247d78d1eb2e801b4f53cf2833.jpg  \n",
            " extracting: safety_helmet_dataset/valid/images/person-345-_jpg.rf.e07dd918a286002fc49d2bbd1575fe00.jpg  \n",
            " extracting: safety_helmet_dataset/valid/images/person-346-_jpg.rf.3f48291fecb6bc2ad49b7a642fba118c.jpg  \n",
            " extracting: safety_helmet_dataset/valid/images/person-359-_jpg.rf.0caad398b95e1edb899cba8822005022.jpg  \n",
            " extracting: safety_helmet_dataset/valid/images/person-368-_jpg.rf.0ad5c4ffea7d2ce8cc1f27202d13458f.jpg  \n",
            " extracting: safety_helmet_dataset/valid/images/person-374-_jpg.rf.ad96f58e4347d3c9f2d43189e3c9ff05.jpg  \n",
            " extracting: safety_helmet_dataset/valid/images/person-381-_jpg.rf.901f71015f7f3136f8e78ea6d0b4b3d5.jpg  \n",
            " extracting: safety_helmet_dataset/valid/images/person-383-_jpg.rf.223110289af8ee79c32b7a44107e8e48.jpg  \n",
            " extracting: safety_helmet_dataset/valid/images/person-385-_jpg.rf.be0268dc016974b563ae066da4879a77.jpg  \n",
            " extracting: safety_helmet_dataset/valid/images/person-386-_jpg.rf.ed14c00ec32b174aa6aafa6cea32cf4e.jpg  \n",
            " extracting: safety_helmet_dataset/valid/images/person-389-_jpg.rf.e98808963315b92cf6d54c7939cca805.jpg  \n",
            " extracting: safety_helmet_dataset/valid/images/person-391-_jpg.rf.75f289f088bd0e7c5738da463d2203be.jpg  \n",
            " extracting: safety_helmet_dataset/valid/images/person-394-_jpg.rf.918078e3d1ce0202a3ed8f5b7040a11d.jpg  \n",
            " extracting: safety_helmet_dataset/valid/images/person-397-_jpg.rf.0c5cbc752c73ae8a9782e0bd829abbf9.jpg  \n",
            " extracting: safety_helmet_dataset/valid/images/person-4-_jpg.rf.5d1cbbf9730fdcbcf33c6fa43cb48087.jpg  \n",
            " extracting: safety_helmet_dataset/valid/images/person-400-_jpg.rf.75313356a7ee4032f2998d5d74476432.jpg  \n",
            " extracting: safety_helmet_dataset/valid/images/person-404-_jpg.rf.140615ed52ff8a0074f9af3a202687c9.jpg  \n",
            " extracting: safety_helmet_dataset/valid/images/person-406-_jpg.rf.5c17a8966b899784e52769e16cf0c1b7.jpg  \n",
            " extracting: safety_helmet_dataset/valid/images/person-408-_jpg.rf.d9567d0551ed1a4912896618c57e60f4.jpg  \n",
            " extracting: safety_helmet_dataset/valid/images/person-410-_jpg.rf.822cc32dba416e24bee07c5932548f62.jpg  \n",
            " extracting: safety_helmet_dataset/valid/images/person-413-_jpg.rf.53080ab6b0d3546958e1396803cc7d40.jpg  \n",
            " extracting: safety_helmet_dataset/valid/images/person-416-_jpg.rf.b373dc2a8b6079cb3596a08482481ca2.jpg  \n",
            " extracting: safety_helmet_dataset/valid/images/person-417-_jpg.rf.bbe27b22bb2ddb400dbb4a34dac02813.jpg  \n",
            " extracting: safety_helmet_dataset/valid/images/person-423-_jpg.rf.7bc52911d33b67fafa7155ac8bbb5db1.jpg  \n",
            " extracting: safety_helmet_dataset/valid/images/person-424-_jpg.rf.e0f1309c9e37dfd39401d3ff2591a5c9.jpg  \n",
            " extracting: safety_helmet_dataset/valid/images/person-431-_jpg.rf.591a8618a20396608e1f0f0709ddd19e.jpg  \n",
            " extracting: safety_helmet_dataset/valid/images/person-443-_jpg.rf.82b51d459f1fdac8cae308f3f03e527e.jpg  \n",
            " extracting: safety_helmet_dataset/valid/images/person-445-_jpg.rf.02141ec4ae7348bac0228eaf224ca3a1.jpg  \n",
            " extracting: safety_helmet_dataset/valid/images/person-449-_jpg.rf.97edd4c2e85454d79ea09c0085ebe49e.jpg  \n",
            " extracting: safety_helmet_dataset/valid/images/person-45-_jpg.rf.ef98663687cc9cc95137e0e05a6ab9a2.jpg  \n",
            " extracting: safety_helmet_dataset/valid/images/person-453-_jpg.rf.820ceedeb33794d9cd5c65f8fe9b5fed.jpg  \n",
            " extracting: safety_helmet_dataset/valid/images/person-454-_jpg.rf.23183f75cc71e5aab12b6eeaeb6760dc.jpg  \n",
            " extracting: safety_helmet_dataset/valid/images/person-462-_jpg.rf.c5be08f83d28e4be48f230a825cfc279.jpg  \n",
            " extracting: safety_helmet_dataset/valid/images/person-472-_jpg.rf.d9ea6cd07cf545ce51e3190219e6bb4d.jpg  \n",
            " extracting: safety_helmet_dataset/valid/images/person-473-_jpg.rf.417468527f1ce12e808beb832a642625.jpg  \n",
            " extracting: safety_helmet_dataset/valid/images/person-479-_jpg.rf.62978b6b1e4d4f0f1e5634544e1bc0cb.jpg  \n",
            " extracting: safety_helmet_dataset/valid/images/person-480-_jpg.rf.c8b5aafabdb485312ac307eacf76c852.jpg  \n",
            " extracting: safety_helmet_dataset/valid/images/person-489-_jpg.rf.771c366e27f0171d9060edc553cc30a9.jpg  \n",
            " extracting: safety_helmet_dataset/valid/images/person-491-_jpg.rf.f5655dab5154452a6a93132f3ac25db0.jpg  \n",
            " extracting: safety_helmet_dataset/valid/images/person-50-_jpg.rf.cfe95bd7f814b3440bd24bb751531d87.jpg  \n",
            " extracting: safety_helmet_dataset/valid/images/person-500-_jpg.rf.1aff6abe95748208292a0831128342b0.jpg  \n",
            " extracting: safety_helmet_dataset/valid/images/person-506-_jpg.rf.0e3ccd2b0fb901b9ee41f9a495a7838d.jpg  \n",
            " extracting: safety_helmet_dataset/valid/images/person-508-_jpg.rf.64dea799b7e7eca303d05eb6fd2a6326.jpg  \n",
            " extracting: safety_helmet_dataset/valid/images/person-521-_jpg.rf.1849542a16b91f8b14c63926898b6b92.jpg  \n",
            " extracting: safety_helmet_dataset/valid/images/person-527-_jpg.rf.b2ffeb9c8563d34225cf03b76d2820ca.jpg  \n",
            " extracting: safety_helmet_dataset/valid/images/person-53-_jpg.rf.246b027d81da44b92e409e927b9ac837.jpg  \n",
            " extracting: safety_helmet_dataset/valid/images/person-54-_jpg.rf.b9e8fadb970c1c96e9e9e703be062127.jpg  \n",
            " extracting: safety_helmet_dataset/valid/images/person-546-_jpg.rf.f89704650645994b505ec02feac92f92.jpg  \n",
            " extracting: safety_helmet_dataset/valid/images/person-61-_jpg.rf.6936c29dbe53ecc3bd4077e0a2ba1b5c.jpg  \n",
            " extracting: safety_helmet_dataset/valid/images/person-70-_jpg.rf.43e2529e32d1bc801791991463f44fd9.jpg  \n",
            " extracting: safety_helmet_dataset/valid/images/person-76-_jpg.rf.bc8df08276766832737379732b5395cf.jpg  \n",
            " extracting: safety_helmet_dataset/valid/images/person-78-_jpg.rf.4c16f50ea031c4bb2bf7486e6e73f8f8.jpg  \n",
            " extracting: safety_helmet_dataset/valid/images/person-79-_jpg.rf.3c203cbddf63250703de197c68014039.jpg  \n",
            " extracting: safety_helmet_dataset/valid/images/person-8-_jpg.rf.0298fbce0e4f76b77ac22f811d500757.jpg  \n",
            " extracting: safety_helmet_dataset/valid/images/person-85-_jpg.rf.4a2b527ef88d2a128ada2ff26b7edb26.jpg  \n",
            " extracting: safety_helmet_dataset/valid/images/person-89-_jpg.rf.66facefcdf46b51cb4c44832a13b676c.jpg  \n",
            " extracting: safety_helmet_dataset/valid/images/person-93-_jpg.rf.86fcdb07f1404596d611420703982ea3.jpg  \n",
            " extracting: safety_helmet_dataset/valid/images/person-95-_jpg.rf.65345abc5357181bfc87b7c513bf670b.jpg  \n",
            " extracting: safety_helmet_dataset/valid/images/person-96-_jpg.rf.f8c824a55725ddb829611b32f2cb6990.jpg  \n",
            " extracting: safety_helmet_dataset/valid/images/person-99-_jpg.rf.2d54fe4629b578fde3f0f46cd67c4756.jpg  \n",
            "   creating: safety_helmet_dataset/valid/labels/\n",
            " extracting: safety_helmet_dataset/valid/labels/helmet-100-_jpg.rf.4322c86f0efaff251b2d8d2f564c5b3d.txt  \n",
            " extracting: safety_helmet_dataset/valid/labels/helmet-104-_jpg.rf.a672b709fc55cd7b76835f7a74e80999.txt  \n",
            " extracting: safety_helmet_dataset/valid/labels/helmet-106-_jpg.rf.23f52c20a165bb6bda9596e6a94511af.txt  \n",
            " extracting: safety_helmet_dataset/valid/labels/helmet-115-_jpg.rf.adf9d98fbf240dfb5737d49bbee17141.txt  \n",
            " extracting: safety_helmet_dataset/valid/labels/helmet-128-_jpg.rf.8d0f268c6770083b136a4f53dc51b907.txt  \n",
            " extracting: safety_helmet_dataset/valid/labels/helmet-129-_jpg.rf.a5ff53dd508eef5b27ad83beda869f62.txt  \n",
            " extracting: safety_helmet_dataset/valid/labels/helmet-131-_jpg.rf.6bf2deda6b745c951f997db2363007c8.txt  \n",
            " extracting: safety_helmet_dataset/valid/labels/helmet-142-_jpg.rf.64eceea1d4ee1af9b6f42fdcd34902b8.txt  \n",
            " extracting: safety_helmet_dataset/valid/labels/helmet-146-_jpg.rf.ddad19c4b328f6c9cb57c569bab10a9f.txt  \n",
            " extracting: safety_helmet_dataset/valid/labels/helmet-151-_jpg.rf.d43c05164f32fcf78a7b8cde37bea81a.txt  \n",
            " extracting: safety_helmet_dataset/valid/labels/helmet-159-_jpg.rf.26c7ced74e60dbdee5ec8f05b5f1bd6f.txt  \n",
            " extracting: safety_helmet_dataset/valid/labels/helmet-160-_jpg.rf.b8e21f7f4217f83e4c7b97aa771dc2e9.txt  \n",
            " extracting: safety_helmet_dataset/valid/labels/helmet-163-_jpg.rf.0e60f49d52962b254aaeaee8483d3819.txt  \n",
            " extracting: safety_helmet_dataset/valid/labels/helmet-165-_jpg.rf.f6f0d1a435daad6270c57c5ea4078345.txt  \n",
            " extracting: safety_helmet_dataset/valid/labels/helmet-166-_jpg.rf.15ade6b4fddb30be109ce5e75ecb6bf0.txt  \n",
            " extracting: safety_helmet_dataset/valid/labels/helmet-168-_jpg.rf.50e1f3b4ec551f47e82008d9cc66028e.txt  \n",
            " extracting: safety_helmet_dataset/valid/labels/helmet-17-_jpg.rf.912591bb3b0de4b9a9caf7ccccbaf57e.txt  \n",
            " extracting: safety_helmet_dataset/valid/labels/helmet-177-_jpg.rf.fc9bd4d8050acca6c5dc44d175ac23e4.txt  \n",
            " extracting: safety_helmet_dataset/valid/labels/helmet-187-_jpg.rf.1c9627ac0536b23a4013a662e452f41f.txt  \n",
            " extracting: safety_helmet_dataset/valid/labels/helmet-189-_jpg.rf.c9ebe456ea0c8c9fcdecc2707cef54ee.txt  \n",
            " extracting: safety_helmet_dataset/valid/labels/helmet-194-_jpg.rf.c12d545fa77607bbc910ff765535bb82.txt  \n",
            " extracting: safety_helmet_dataset/valid/labels/helmet-197-_jpg.rf.48980cec59144aaaabd6777f5d567793.txt  \n",
            " extracting: safety_helmet_dataset/valid/labels/helmet-198-_jpg.rf.60fc92ca2f7d8754c2bd1fee34b174c2.txt  \n",
            " extracting: safety_helmet_dataset/valid/labels/helmet-210-_jpg.rf.9fcdef3da63bb19079de377023b2dfc0.txt  \n",
            " extracting: safety_helmet_dataset/valid/labels/helmet-211-_jpg.rf.c6cecf70edd3c4fcd49ee2b91a9968a3.txt  \n",
            " extracting: safety_helmet_dataset/valid/labels/helmet-214-_jpg.rf.3854c9f197e2cc2ffe8d067ca9b08002.txt  \n",
            " extracting: safety_helmet_dataset/valid/labels/helmet-215-_jpg.rf.a82e8a8704b0d10a33dd359fbeb0e9b3.txt  \n",
            " extracting: safety_helmet_dataset/valid/labels/helmet-22-_jpg.rf.89c4aa1ebc05b09eee3896f73868799d.txt  \n",
            " extracting: safety_helmet_dataset/valid/labels/helmet-221-_jpg.rf.f8e5be019408c2041dbd6f513523d53d.txt  \n",
            " extracting: safety_helmet_dataset/valid/labels/helmet-222-_jpg.rf.ea66175225c96b5573f78172fafe3c08.txt  \n",
            " extracting: safety_helmet_dataset/valid/labels/helmet-228-_jpg.rf.1a618dc4e39616d2fa0ed07dbd1b7faa.txt  \n",
            " extracting: safety_helmet_dataset/valid/labels/helmet-233-_jpg.rf.4e9ee9b536bf4e27527f0990e8c43aab.txt  \n",
            " extracting: safety_helmet_dataset/valid/labels/helmet-244-_jpg.rf.8df117b24ee893595a3606d84102232f.txt  \n",
            " extracting: safety_helmet_dataset/valid/labels/helmet-250-_jpg.rf.55fa1930c062da34f5d622898931f94c.txt  \n",
            " extracting: safety_helmet_dataset/valid/labels/helmet-252-_jpg.rf.3223b4d78da1fcd6fb9ccad6537df035.txt  \n",
            " extracting: safety_helmet_dataset/valid/labels/helmet-268-_jpg.rf.4477977a8562bef81f1051e8bcae8fbb.txt  \n",
            " extracting: safety_helmet_dataset/valid/labels/helmet-272-_jpg.rf.d4c6a91da8415e2ad4717e33ee2aea47.txt  \n",
            " extracting: safety_helmet_dataset/valid/labels/helmet-275-_jpg.rf.c20b8bfb04327fcd4fb1ebf9d52bc849.txt  \n",
            " extracting: safety_helmet_dataset/valid/labels/helmet-279-_jpg.rf.8fe4ea55a4144e6582bec1047136e8dc.txt  \n",
            " extracting: safety_helmet_dataset/valid/labels/helmet-280-_jpg.rf.4988dc927efb91e28b2cb24c383570d0.txt  \n",
            " extracting: safety_helmet_dataset/valid/labels/helmet-283-_jpg.rf.8c5dc1d9441d280b61213d397422a555.txt  \n",
            " extracting: safety_helmet_dataset/valid/labels/helmet-29-_jpg.rf.898beb37461370edbda693d84ea3ff9f.txt  \n",
            " extracting: safety_helmet_dataset/valid/labels/helmet-292-_jpg.rf.3f06cb1aba4b137a86233ef42c162299.txt  \n",
            " extracting: safety_helmet_dataset/valid/labels/helmet-293-_jpg.rf.4bc35d252b4a8001e18bea9c773d6574.txt  \n",
            " extracting: safety_helmet_dataset/valid/labels/helmet-300-_jpg.rf.c08cd5d5339a2ed66e81584e0b14b196.txt  \n",
            " extracting: safety_helmet_dataset/valid/labels/helmet-304-_jpg.rf.b77894f20e52bed937eb08098cb4ab97.txt  \n",
            " extracting: safety_helmet_dataset/valid/labels/helmet-306-_jpg.rf.4b7d26190b3ecf8098e4421781d9fa5e.txt  \n",
            " extracting: safety_helmet_dataset/valid/labels/helmet-310-_jpg.rf.014358050fb01fc5205efcc7110acb38.txt  \n",
            " extracting: safety_helmet_dataset/valid/labels/helmet-311-_jpg.rf.e8f85315e7c12c7dd65b565dfbd14b6f.txt  \n",
            " extracting: safety_helmet_dataset/valid/labels/helmet-312-_jpg.rf.a61014ebaf0b13360eafc787abd03db7.txt  \n",
            " extracting: safety_helmet_dataset/valid/labels/helmet-322-_jpg.rf.bfcb62ea30b2f16d3d757d1e0890f62b.txt  \n",
            " extracting: safety_helmet_dataset/valid/labels/helmet-331-_jpg.rf.14b79dd60e72fc6074ef42e2932e4e27.txt  \n",
            " extracting: safety_helmet_dataset/valid/labels/helmet-332-_jpg.rf.3eaa8c74cdc8b804755ede1a67b86842.txt  \n",
            " extracting: safety_helmet_dataset/valid/labels/helmet-339-_jpg.rf.5d184a5c7b24c855d238dbe53ff2bc69.txt  \n",
            " extracting: safety_helmet_dataset/valid/labels/helmet-343-_jpg.rf.f3e1fabf943e941cac77590ddf19130f.txt  \n",
            " extracting: safety_helmet_dataset/valid/labels/helmet-353-_jpg.rf.c579f9652c0f70f6c33fb900c04441fc.txt  \n",
            " extracting: safety_helmet_dataset/valid/labels/helmet-355-_jpg.rf.18f0a84fbcf1c256960004880ea31d2d.txt  \n",
            " extracting: safety_helmet_dataset/valid/labels/helmet-358-_jpg.rf.3da906b8ffb74bf9544ff7637692f77e.txt  \n",
            " extracting: safety_helmet_dataset/valid/labels/helmet-361-_jpg.rf.016df3556f0f494e7a03cc53a295b302.txt  \n",
            " extracting: safety_helmet_dataset/valid/labels/helmet-368-_jpg.rf.97c1d6d66ecc6ba40a457c1dc449f10e.txt  \n",
            " extracting: safety_helmet_dataset/valid/labels/helmet-376-_jpg.rf.9fbdb7088f12badcc1a40f8c99269fe7.txt  \n",
            " extracting: safety_helmet_dataset/valid/labels/helmet-38-_jpg.rf.f7c70acad80f3fe26ec82f49d5a6c17c.txt  \n",
            " extracting: safety_helmet_dataset/valid/labels/helmet-388-_jpg.rf.1b83486f6e00c22a88aaec5bc7c5fe72.txt  \n",
            " extracting: safety_helmet_dataset/valid/labels/helmet-389-_jpg.rf.eb25d555b5fde5fd134863c583ee1f40.txt  \n",
            " extracting: safety_helmet_dataset/valid/labels/helmet-391-_jpg.rf.a573e15f3704c3c49087016e4f467584.txt  \n",
            " extracting: safety_helmet_dataset/valid/labels/helmet-394-_jpg.rf.5c9f06c4266883580f804d436270771d.txt  \n",
            " extracting: safety_helmet_dataset/valid/labels/helmet-399-_jpg.rf.3312cafb7c8d050de9a93fc5a2cd39fd.txt  \n",
            " extracting: safety_helmet_dataset/valid/labels/helmet-416-_jpg.rf.1ac3a8942223e0ac40f3e6962c273c4b.txt  \n",
            " extracting: safety_helmet_dataset/valid/labels/helmet-423-_jpg.rf.3334160959d5282c3c54b112b3d34a7f.txt  \n",
            " extracting: safety_helmet_dataset/valid/labels/helmet-435-_jpg.rf.58709501e83d4bc8f8850a0ecb66a487.txt  \n",
            " extracting: safety_helmet_dataset/valid/labels/helmet-438-_jpg.rf.c2b9bd66a53684d1f167f4d20bde2678.txt  \n",
            " extracting: safety_helmet_dataset/valid/labels/helmet-439-_jpg.rf.374e19940dbe996533afec697ccb684c.txt  \n",
            " extracting: safety_helmet_dataset/valid/labels/helmet-443-_jpg.rf.6f7a8cb1bc9f5d9e2a66a0faba70b127.txt  \n",
            " extracting: safety_helmet_dataset/valid/labels/helmet-444-_jpg.rf.0a257ea5028454de7d7cbdcca6f58129.txt  \n",
            " extracting: safety_helmet_dataset/valid/labels/helmet-447-_jpg.rf.e708f9ba593492c572630cdd754c0eee.txt  \n",
            " extracting: safety_helmet_dataset/valid/labels/helmet-448-_jpg.rf.027595416d712cd6cc8d96e2d41af1d7.txt  \n",
            " extracting: safety_helmet_dataset/valid/labels/helmet-452-_jpg.rf.bc93dff1dd8b09d06c075a4086e51a45.txt  \n",
            " extracting: safety_helmet_dataset/valid/labels/helmet-453-_jpg.rf.f9f34c55d59497eb3df49f28fd50dcfd.txt  \n",
            " extracting: safety_helmet_dataset/valid/labels/helmet-457-_jpg.rf.6e5d417f04aae5aae6a3b64c3ea5844c.txt  \n",
            " extracting: safety_helmet_dataset/valid/labels/helmet-459-_jpg.rf.d4b46cf7f802b85d4f37339948aa9d74.txt  \n",
            " extracting: safety_helmet_dataset/valid/labels/helmet-469-_jpg.rf.3643ff5429100e64dcd6672fd13848ea.txt  \n",
            " extracting: safety_helmet_dataset/valid/labels/helmet-47-_jpg.rf.2981ceff0308501c526946b23964a2a8.txt  \n",
            " extracting: safety_helmet_dataset/valid/labels/helmet-471-_jpg.rf.0fe45e907a342843a6b6cd0e61dd7f65.txt  \n",
            " extracting: safety_helmet_dataset/valid/labels/helmet-481-_jpg.rf.9a602846d42d2530981da2d8b8249647.txt  \n",
            " extracting: safety_helmet_dataset/valid/labels/helmet-488-_jpg.rf.2d2c046d71f27f13916c1435c6cdf9a2.txt  \n",
            " extracting: safety_helmet_dataset/valid/labels/helmet-491-_jpg.rf.3bd9b8d57e2c8531f164a8f108d34ff6.txt  \n",
            " extracting: safety_helmet_dataset/valid/labels/helmet-496-_jpg.rf.6edac0fb39c52a0da9c372373b01e16a.txt  \n",
            " extracting: safety_helmet_dataset/valid/labels/helmet-5-_jpg.rf.743d6204e875ee0e14819f2db9c21388.txt  \n",
            " extracting: safety_helmet_dataset/valid/labels/helmet-502-_jpg.rf.33f61d8847bb50ec476273d4e87929a0.txt  \n",
            " extracting: safety_helmet_dataset/valid/labels/helmet-504-_jpg.rf.616f3aff2bb99435cdd8a721021ebb8d.txt  \n",
            " extracting: safety_helmet_dataset/valid/labels/helmet-507-_jpg.rf.69c2ee053134ca4ca1daa10dc29c9d81.txt  \n",
            " extracting: safety_helmet_dataset/valid/labels/helmet-512-_jpg.rf.9b9ae5863d6b61d2bbcf5c7dc912a0ce.txt  \n",
            " extracting: safety_helmet_dataset/valid/labels/helmet-518-_jpg.rf.a6e6475964f1b26f6f36299a42c076c8.txt  \n",
            " extracting: safety_helmet_dataset/valid/labels/helmet-520-_jpg.rf.71c356abf5d59138a943e3fb86d13b78.txt  \n",
            " extracting: safety_helmet_dataset/valid/labels/helmet-522-_jpg.rf.f734767361be96d87ef8fd9d856ba1f8.txt  \n",
            " extracting: safety_helmet_dataset/valid/labels/helmet-526-_jpg.rf.de731aa12fbf4679b2de8495805fa7d1.txt  \n",
            " extracting: safety_helmet_dataset/valid/labels/helmet-527-_jpg.rf.37a3fa10f173d7c5f0ccdfcedae8a303.txt  \n",
            " extracting: safety_helmet_dataset/valid/labels/helmet-528-_jpg.rf.df97f23e237a310689acef2c4439ff5b.txt  \n",
            " extracting: safety_helmet_dataset/valid/labels/helmet-529-_jpg.rf.bfd6c42e9dd4d9353e51c42bf1a081f0.txt  \n",
            " extracting: safety_helmet_dataset/valid/labels/helmet-532-_jpg.rf.095c99234090d23a11f460b974720439.txt  \n",
            " extracting: safety_helmet_dataset/valid/labels/helmet-534-_jpg.rf.4c29a98e81da82e4f2595c3b79ec103a.txt  \n",
            " extracting: safety_helmet_dataset/valid/labels/helmet-535-_jpg.rf.deee090126d27f960f64b4495f31c879.txt  \n",
            " extracting: safety_helmet_dataset/valid/labels/helmet-537-_jpg.rf.3547539557eeccfcb1a99cd43d2aff3f.txt  \n",
            " extracting: safety_helmet_dataset/valid/labels/helmet-65-_jpg.rf.40c6bafe64cbc2cfc87bd8a58742360c.txt  \n",
            " extracting: safety_helmet_dataset/valid/labels/helmet-7-_jpg.rf.8bf3f81cc8f466150b4d428e96413de9.txt  \n",
            " extracting: safety_helmet_dataset/valid/labels/helmet-74-_jpg.rf.07c076df89072210287a2341c7cd4da5.txt  \n",
            " extracting: safety_helmet_dataset/valid/labels/helmet-76-_jpg.rf.d7ac639d9b492b80ae8d34d40e7c90b3.txt  \n",
            " extracting: safety_helmet_dataset/valid/labels/helmet-78-_jpg.rf.7227a93ed4a62acc0fd000acc1230893.txt  \n",
            " extracting: safety_helmet_dataset/valid/labels/helmet-82-_jpg.rf.0d45c6cda466f9839b242d94b78cd91a.txt  \n",
            " extracting: safety_helmet_dataset/valid/labels/helmet-89-_jpg.rf.d5d07568a62a1dacf9090ba233ae26d2.txt  \n",
            " extracting: safety_helmet_dataset/valid/labels/helmet-97-_jpg.rf.3f727f2fae0c2dbba231a96719f067a6.txt  \n",
            " extracting: safety_helmet_dataset/valid/labels/person-101-_jpg.rf.77a936a848153291067df8b528138f1a.txt  \n",
            " extracting: safety_helmet_dataset/valid/labels/person-108-_jpg.rf.dd51be493db4704e6c430997160ee47b.txt  \n",
            " extracting: safety_helmet_dataset/valid/labels/person-11-_jpg.rf.72c063388ee0acf0bfdf9b8cc120293a.txt  \n",
            " extracting: safety_helmet_dataset/valid/labels/person-12-_jpg.rf.8e029defa4ba507f55592264cee08507.txt  \n",
            " extracting: safety_helmet_dataset/valid/labels/person-125-_jpg.rf.ab563965b281e6b0e6547afa58219fb4.txt  \n",
            " extracting: safety_helmet_dataset/valid/labels/person-126-_jpg.rf.dc6fca0109edefa8e1aeea6649726e84.txt  \n",
            " extracting: safety_helmet_dataset/valid/labels/person-129-_jpg.rf.930c0f81897ce21765407bfea19d9093.txt  \n",
            " extracting: safety_helmet_dataset/valid/labels/person-130-_jpg.rf.c74b0433485573ec08bc70a7b16e4503.txt  \n",
            " extracting: safety_helmet_dataset/valid/labels/person-133-_jpg.rf.5ddade6848a1c1678c8ce7eaf1e7a0ae.txt  \n",
            " extracting: safety_helmet_dataset/valid/labels/person-141-_jpg.rf.b3500d1c72a3bf0c1637b4c9aee5bb8a.txt  \n",
            " extracting: safety_helmet_dataset/valid/labels/person-148-_jpg.rf.3791e1637c02b9906440d0038e4dd23e.txt  \n",
            " extracting: safety_helmet_dataset/valid/labels/person-15-_jpg.rf.b1e69cdc69ca1612b02dd50cff73c6b6.txt  \n",
            " extracting: safety_helmet_dataset/valid/labels/person-158-_jpg.rf.6d701d50d6e3d7b04335679eac35e3e6.txt  \n",
            " extracting: safety_helmet_dataset/valid/labels/person-162-_jpg.rf.371a8db951dcc3a3cbaf015b12165ebf.txt  \n",
            " extracting: safety_helmet_dataset/valid/labels/person-168-_jpg.rf.942b46889f092458507710a30ea4d190.txt  \n",
            " extracting: safety_helmet_dataset/valid/labels/person-175-_jpg.rf.187e2bd39d39d4d7dda89a1728545ecb.txt  \n",
            " extracting: safety_helmet_dataset/valid/labels/person-193-_jpg.rf.ad5d22760c9897f7f4c748cd8b5fc555.txt  \n",
            " extracting: safety_helmet_dataset/valid/labels/person-194-_jpg.rf.6fc76566ffc370dc64fe27b86ba3aa76.txt  \n",
            " extracting: safety_helmet_dataset/valid/labels/person-2-_jpg.rf.900c71a094bb153dbf6638707dd18800.txt  \n",
            " extracting: safety_helmet_dataset/valid/labels/person-20-_jpg.rf.ba32d93f964a39ce462c1beddf1643f1.txt  \n",
            " extracting: safety_helmet_dataset/valid/labels/person-205-_jpg.rf.de9e81c38ffd409d95ddfe839da1cba3.txt  \n",
            " extracting: safety_helmet_dataset/valid/labels/person-210-_jpg.rf.4dbc1b4e34180c9cbe20ebe3edf09207.txt  \n",
            " extracting: safety_helmet_dataset/valid/labels/person-224-_jpg.rf.ea0fd403e83bde9559ac74ec1f7726bf.txt  \n",
            " extracting: safety_helmet_dataset/valid/labels/person-227-_jpg.rf.fb99ff9999eceaa6609a3ee4793a9e5a.txt  \n",
            " extracting: safety_helmet_dataset/valid/labels/person-229-_jpg.rf.ae93e93b8f0c0fad753846cf09c2ee53.txt  \n",
            " extracting: safety_helmet_dataset/valid/labels/person-231-_jpg.rf.e4bbd1140606fb1218cd61a81c70c6cb.txt  \n",
            " extracting: safety_helmet_dataset/valid/labels/person-237-_jpg.rf.ee0b5cceb9c08b1ee3202399c9f9fc36.txt  \n",
            " extracting: safety_helmet_dataset/valid/labels/person-241-_jpg.rf.d31e3aeeb55a74f9b78f7d58bc96125e.txt  \n",
            " extracting: safety_helmet_dataset/valid/labels/person-243-_jpg.rf.1c36c50afa7013debf379c863ec2c17f.txt  \n",
            " extracting: safety_helmet_dataset/valid/labels/person-246-_jpg.rf.855b0e1e3c0255f2ba2f7a09798087cc.txt  \n",
            " extracting: safety_helmet_dataset/valid/labels/person-255-_jpg.rf.d41f103ac473db1603f9d54d66421a6f.txt  \n",
            " extracting: safety_helmet_dataset/valid/labels/person-259-_jpg.rf.e5f10cf8dca90f4773946a6cddc18cdb.txt  \n",
            " extracting: safety_helmet_dataset/valid/labels/person-261-_jpg.rf.2f06a615b00bad4339167361730de553.txt  \n",
            " extracting: safety_helmet_dataset/valid/labels/person-264-_jpg.rf.43112f579d640727f5610da54050adc4.txt  \n",
            " extracting: safety_helmet_dataset/valid/labels/person-265-_jpg.rf.2b475c25bc1840d9ea31585311757ccd.txt  \n",
            " extracting: safety_helmet_dataset/valid/labels/person-27-_jpg.rf.e5e314045acb56a4de4b5dad2f9953ba.txt  \n",
            " extracting: safety_helmet_dataset/valid/labels/person-270-_jpg.rf.3506d2bd8024801866d8d6be071db86c.txt  \n",
            " extracting: safety_helmet_dataset/valid/labels/person-283-_jpg.rf.4456b6483d5f79fcb665b2b4721b9cf9.txt  \n",
            " extracting: safety_helmet_dataset/valid/labels/person-291-_jpg.rf.054fcfda83002a18b178e372baf96ff2.txt  \n",
            " extracting: safety_helmet_dataset/valid/labels/person-296-_jpg.rf.015935d32128d86be278d62d5f8e1991.txt  \n",
            " extracting: safety_helmet_dataset/valid/labels/person-297-_jpg.rf.1a429324d4d65f806242b6400539b6a3.txt  \n",
            " extracting: safety_helmet_dataset/valid/labels/person-307-_jpg.rf.f55b952e31c4dbf7ed8a9645ea6243fb.txt  \n",
            " extracting: safety_helmet_dataset/valid/labels/person-314-_jpg.rf.1ff9d1105fb4dd1f1298383423cb705a.txt  \n",
            " extracting: safety_helmet_dataset/valid/labels/person-316-_jpg.rf.a2b1512684d1b374d40ba229a3b0af86.txt  \n",
            " extracting: safety_helmet_dataset/valid/labels/person-33-_jpg.rf.0da91493c0c441be34aac96e8561abd9.txt  \n",
            " extracting: safety_helmet_dataset/valid/labels/person-338-_jpg.rf.ead651092dd1eecf7410f660e6b4bea5.txt  \n",
            " extracting: safety_helmet_dataset/valid/labels/person-341-_jpg.rf.bb5c4115d2cb3e91075c9b46c1f5e857.txt  \n",
            " extracting: safety_helmet_dataset/valid/labels/person-342-_jpg.rf.2eb023247d78d1eb2e801b4f53cf2833.txt  \n",
            " extracting: safety_helmet_dataset/valid/labels/person-345-_jpg.rf.e07dd918a286002fc49d2bbd1575fe00.txt  \n",
            " extracting: safety_helmet_dataset/valid/labels/person-346-_jpg.rf.3f48291fecb6bc2ad49b7a642fba118c.txt  \n",
            " extracting: safety_helmet_dataset/valid/labels/person-359-_jpg.rf.0caad398b95e1edb899cba8822005022.txt  \n",
            " extracting: safety_helmet_dataset/valid/labels/person-368-_jpg.rf.0ad5c4ffea7d2ce8cc1f27202d13458f.txt  \n",
            " extracting: safety_helmet_dataset/valid/labels/person-374-_jpg.rf.ad96f58e4347d3c9f2d43189e3c9ff05.txt  \n",
            " extracting: safety_helmet_dataset/valid/labels/person-381-_jpg.rf.901f71015f7f3136f8e78ea6d0b4b3d5.txt  \n",
            " extracting: safety_helmet_dataset/valid/labels/person-383-_jpg.rf.223110289af8ee79c32b7a44107e8e48.txt  \n",
            " extracting: safety_helmet_dataset/valid/labels/person-385-_jpg.rf.be0268dc016974b563ae066da4879a77.txt  \n",
            " extracting: safety_helmet_dataset/valid/labels/person-386-_jpg.rf.ed14c00ec32b174aa6aafa6cea32cf4e.txt  \n",
            " extracting: safety_helmet_dataset/valid/labels/person-389-_jpg.rf.e98808963315b92cf6d54c7939cca805.txt  \n",
            " extracting: safety_helmet_dataset/valid/labels/person-391-_jpg.rf.75f289f088bd0e7c5738da463d2203be.txt  \n",
            " extracting: safety_helmet_dataset/valid/labels/person-394-_jpg.rf.918078e3d1ce0202a3ed8f5b7040a11d.txt  \n",
            " extracting: safety_helmet_dataset/valid/labels/person-397-_jpg.rf.0c5cbc752c73ae8a9782e0bd829abbf9.txt  \n",
            " extracting: safety_helmet_dataset/valid/labels/person-4-_jpg.rf.5d1cbbf9730fdcbcf33c6fa43cb48087.txt  \n",
            " extracting: safety_helmet_dataset/valid/labels/person-400-_jpg.rf.75313356a7ee4032f2998d5d74476432.txt  \n",
            " extracting: safety_helmet_dataset/valid/labels/person-404-_jpg.rf.140615ed52ff8a0074f9af3a202687c9.txt  \n",
            " extracting: safety_helmet_dataset/valid/labels/person-406-_jpg.rf.5c17a8966b899784e52769e16cf0c1b7.txt  \n",
            " extracting: safety_helmet_dataset/valid/labels/person-408-_jpg.rf.d9567d0551ed1a4912896618c57e60f4.txt  \n",
            " extracting: safety_helmet_dataset/valid/labels/person-410-_jpg.rf.822cc32dba416e24bee07c5932548f62.txt  \n",
            " extracting: safety_helmet_dataset/valid/labels/person-413-_jpg.rf.53080ab6b0d3546958e1396803cc7d40.txt  \n",
            " extracting: safety_helmet_dataset/valid/labels/person-416-_jpg.rf.b373dc2a8b6079cb3596a08482481ca2.txt  \n",
            " extracting: safety_helmet_dataset/valid/labels/person-417-_jpg.rf.bbe27b22bb2ddb400dbb4a34dac02813.txt  \n",
            " extracting: safety_helmet_dataset/valid/labels/person-423-_jpg.rf.7bc52911d33b67fafa7155ac8bbb5db1.txt  \n",
            " extracting: safety_helmet_dataset/valid/labels/person-424-_jpg.rf.e0f1309c9e37dfd39401d3ff2591a5c9.txt  \n",
            " extracting: safety_helmet_dataset/valid/labels/person-431-_jpg.rf.591a8618a20396608e1f0f0709ddd19e.txt  \n",
            " extracting: safety_helmet_dataset/valid/labels/person-443-_jpg.rf.82b51d459f1fdac8cae308f3f03e527e.txt  \n",
            " extracting: safety_helmet_dataset/valid/labels/person-445-_jpg.rf.02141ec4ae7348bac0228eaf224ca3a1.txt  \n",
            " extracting: safety_helmet_dataset/valid/labels/person-449-_jpg.rf.97edd4c2e85454d79ea09c0085ebe49e.txt  \n",
            " extracting: safety_helmet_dataset/valid/labels/person-45-_jpg.rf.ef98663687cc9cc95137e0e05a6ab9a2.txt  \n",
            " extracting: safety_helmet_dataset/valid/labels/person-453-_jpg.rf.820ceedeb33794d9cd5c65f8fe9b5fed.txt  \n",
            " extracting: safety_helmet_dataset/valid/labels/person-454-_jpg.rf.23183f75cc71e5aab12b6eeaeb6760dc.txt  \n",
            " extracting: safety_helmet_dataset/valid/labels/person-462-_jpg.rf.c5be08f83d28e4be48f230a825cfc279.txt  \n",
            " extracting: safety_helmet_dataset/valid/labels/person-472-_jpg.rf.d9ea6cd07cf545ce51e3190219e6bb4d.txt  \n",
            " extracting: safety_helmet_dataset/valid/labels/person-473-_jpg.rf.417468527f1ce12e808beb832a642625.txt  \n",
            " extracting: safety_helmet_dataset/valid/labels/person-479-_jpg.rf.62978b6b1e4d4f0f1e5634544e1bc0cb.txt  \n",
            " extracting: safety_helmet_dataset/valid/labels/person-480-_jpg.rf.c8b5aafabdb485312ac307eacf76c852.txt  \n",
            " extracting: safety_helmet_dataset/valid/labels/person-489-_jpg.rf.771c366e27f0171d9060edc553cc30a9.txt  \n",
            " extracting: safety_helmet_dataset/valid/labels/person-491-_jpg.rf.f5655dab5154452a6a93132f3ac25db0.txt  \n",
            " extracting: safety_helmet_dataset/valid/labels/person-50-_jpg.rf.cfe95bd7f814b3440bd24bb751531d87.txt  \n",
            " extracting: safety_helmet_dataset/valid/labels/person-500-_jpg.rf.1aff6abe95748208292a0831128342b0.txt  \n",
            " extracting: safety_helmet_dataset/valid/labels/person-506-_jpg.rf.0e3ccd2b0fb901b9ee41f9a495a7838d.txt  \n",
            " extracting: safety_helmet_dataset/valid/labels/person-508-_jpg.rf.64dea799b7e7eca303d05eb6fd2a6326.txt  \n",
            " extracting: safety_helmet_dataset/valid/labels/person-521-_jpg.rf.1849542a16b91f8b14c63926898b6b92.txt  \n",
            " extracting: safety_helmet_dataset/valid/labels/person-527-_jpg.rf.b2ffeb9c8563d34225cf03b76d2820ca.txt  \n",
            " extracting: safety_helmet_dataset/valid/labels/person-53-_jpg.rf.246b027d81da44b92e409e927b9ac837.txt  \n",
            " extracting: safety_helmet_dataset/valid/labels/person-54-_jpg.rf.b9e8fadb970c1c96e9e9e703be062127.txt  \n",
            " extracting: safety_helmet_dataset/valid/labels/person-546-_jpg.rf.f89704650645994b505ec02feac92f92.txt  \n",
            " extracting: safety_helmet_dataset/valid/labels/person-61-_jpg.rf.6936c29dbe53ecc3bd4077e0a2ba1b5c.txt  \n",
            " extracting: safety_helmet_dataset/valid/labels/person-70-_jpg.rf.43e2529e32d1bc801791991463f44fd9.txt  \n",
            " extracting: safety_helmet_dataset/valid/labels/person-76-_jpg.rf.bc8df08276766832737379732b5395cf.txt  \n",
            " extracting: safety_helmet_dataset/valid/labels/person-78-_jpg.rf.4c16f50ea031c4bb2bf7486e6e73f8f8.txt  \n",
            " extracting: safety_helmet_dataset/valid/labels/person-79-_jpg.rf.3c203cbddf63250703de197c68014039.txt  \n",
            " extracting: safety_helmet_dataset/valid/labels/person-8-_jpg.rf.0298fbce0e4f76b77ac22f811d500757.txt  \n",
            " extracting: safety_helmet_dataset/valid/labels/person-85-_jpg.rf.4a2b527ef88d2a128ada2ff26b7edb26.txt  \n",
            " extracting: safety_helmet_dataset/valid/labels/person-89-_jpg.rf.66facefcdf46b51cb4c44832a13b676c.txt  \n",
            " extracting: safety_helmet_dataset/valid/labels/person-93-_jpg.rf.86fcdb07f1404596d611420703982ea3.txt  \n",
            " extracting: safety_helmet_dataset/valid/labels/person-95-_jpg.rf.65345abc5357181bfc87b7c513bf670b.txt  \n",
            " extracting: safety_helmet_dataset/valid/labels/person-96-_jpg.rf.f8c824a55725ddb829611b32f2cb6990.txt  \n",
            " extracting: safety_helmet_dataset/valid/labels/person-99-_jpg.rf.2d54fe4629b578fde3f0f46cd67c4756.txt  \n"
          ]
        }
      ]
    },
    {
      "cell_type": "code",
      "source": [],
      "metadata": {
        "id": "lS6rAnr-eRC1"
      },
      "execution_count": null,
      "outputs": []
    },
    {
      "cell_type": "code",
      "source": [
        "%cd yolov10\n",
        "!pip install -q -r requirements.txt\n",
        "!pip install -e ."
      ],
      "metadata": {
        "colab": {
          "base_uri": "https://localhost:8080/"
        },
        "id": "ORMX519DxVPX",
        "outputId": "769d0cbd-58cf-4af9-ab09-5f6b9040e0e7"
      },
      "execution_count": 5,
      "outputs": [
        {
          "output_type": "stream",
          "name": "stdout",
          "text": [
            "/content/yolov10\n",
            "\u001b[2K     \u001b[90m━━━━━━━━━━━━━━━━━━━━━━━━━━━━━━━━━━━━━━━━\u001b[0m \u001b[32m619.9/619.9 MB\u001b[0m \u001b[31m1.8 MB/s\u001b[0m eta \u001b[36m0:00:00\u001b[0m\n",
            "\u001b[2K     \u001b[90m━━━━━━━━━━━━━━━━━━━━━━━━━━━━━━━━━━━━━━━━\u001b[0m \u001b[32m6.0/6.0 MB\u001b[0m \u001b[31m88.9 MB/s\u001b[0m eta \u001b[36m0:00:00\u001b[0m\n",
            "\u001b[2K     \u001b[90m━━━━━━━━━━━━━━━━━━━━━━━━━━━━━━━━━━━━━━━━\u001b[0m \u001b[32m14.6/14.6 MB\u001b[0m \u001b[31m90.9 MB/s\u001b[0m eta \u001b[36m0:00:00\u001b[0m\n",
            "\u001b[2K     \u001b[90m━━━━━━━━━━━━━━━━━━━━━━━━━━━━━━━━━━━━━━━━\u001b[0m \u001b[32m5.9/5.9 MB\u001b[0m \u001b[31m66.1 MB/s\u001b[0m eta \u001b[36m0:00:00\u001b[0m\n",
            "\u001b[2K     \u001b[90m━━━━━━━━━━━━━━━━━━━━━━━━━━━━━━━━━━━━━━━━\u001b[0m \u001b[32m426.2/426.2 kB\u001b[0m \u001b[31m44.0 MB/s\u001b[0m eta \u001b[36m0:00:00\u001b[0m\n",
            "\u001b[2K     \u001b[90m━━━━━━━━━━━━━━━━━━━━━━━━━━━━━━━━━━━━━━━━\u001b[0m \u001b[32m38.6/38.6 MB\u001b[0m \u001b[31m14.4 MB/s\u001b[0m eta \u001b[36m0:00:00\u001b[0m\n",
            "\u001b[2K     \u001b[90m━━━━━━━━━━━━━━━━━━━━━━━━━━━━━━━━━━━━━━━━\u001b[0m \u001b[32m2.3/2.3 MB\u001b[0m \u001b[31m92.7 MB/s\u001b[0m eta \u001b[36m0:00:00\u001b[0m\n",
            "\u001b[2K     \u001b[90m━━━━━━━━━━━━━━━━━━━━━━━━━━━━━━━━━━━━━━━━\u001b[0m \u001b[32m199.8/199.8 MB\u001b[0m \u001b[31m2.2 MB/s\u001b[0m eta \u001b[36m0:00:00\u001b[0m\n",
            "\u001b[2K     \u001b[90m━━━━━━━━━━━━━━━━━━━━━━━━━━━━━━━━━━━━━━━━\u001b[0m \u001b[32m12.3/12.3 MB\u001b[0m \u001b[31m100.5 MB/s\u001b[0m eta \u001b[36m0:00:00\u001b[0m\n",
            "\u001b[2K     \u001b[90m━━━━━━━━━━━━━━━━━━━━━━━━━━━━━━━━━━━━━━━━\u001b[0m \u001b[32m62.2/62.2 MB\u001b[0m \u001b[31m10.2 MB/s\u001b[0m eta \u001b[36m0:00:00\u001b[0m\n",
            "\u001b[2K     \u001b[90m━━━━━━━━━━━━━━━━━━━━━━━━━━━━━━━━━━━━━━━━\u001b[0m \u001b[32m288.2/288.2 kB\u001b[0m \u001b[31m34.6 MB/s\u001b[0m eta \u001b[36m0:00:00\u001b[0m\n",
            "\u001b[2K     \u001b[90m━━━━━━━━━━━━━━━━━━━━━━━━━━━━━━━━━━━━━━━━\u001b[0m \u001b[32m401.7/401.7 kB\u001b[0m \u001b[31m44.1 MB/s\u001b[0m eta \u001b[36m0:00:00\u001b[0m\n",
            "\u001b[2K     \u001b[90m━━━━━━━━━━━━━━━━━━━━━━━━━━━━━━━━━━━━━━━━\u001b[0m \u001b[32m21.0/21.0 MB\u001b[0m \u001b[31m80.6 MB/s\u001b[0m eta \u001b[36m0:00:00\u001b[0m\n",
            "\u001b[2K     \u001b[90m━━━━━━━━━━━━━━━━━━━━━━━━━━━━━━━━━━━━━━━━\u001b[0m \u001b[32m849.3/849.3 kB\u001b[0m \u001b[31m63.9 MB/s\u001b[0m eta \u001b[36m0:00:00\u001b[0m\n",
            "\u001b[2K     \u001b[90m━━━━━━━━━━━━━━━━━━━━━━━━━━━━━━━━━━━━━━━━\u001b[0m \u001b[32m11.8/11.8 MB\u001b[0m \u001b[31m108.3 MB/s\u001b[0m eta \u001b[36m0:00:00\u001b[0m\n",
            "\u001b[2K     \u001b[90m━━━━━━━━━━━━━━━━━━━━━━━━━━━━━━━━━━━━━━━━\u001b[0m \u001b[32m557.1/557.1 MB\u001b[0m \u001b[31m2.8 MB/s\u001b[0m eta \u001b[36m0:00:00\u001b[0m\n",
            "\u001b[2K     \u001b[90m━━━━━━━━━━━━━━━━━━━━━━━━━━━━━━━━━━━━━━━━\u001b[0m \u001b[32m317.1/317.1 MB\u001b[0m \u001b[31m4.0 MB/s\u001b[0m eta \u001b[36m0:00:00\u001b[0m\n",
            "\u001b[2K     \u001b[90m━━━━━━━━━━━━━━━━━━━━━━━━━━━━━━━━━━━━━━━━\u001b[0m \u001b[32m168.4/168.4 MB\u001b[0m \u001b[31m6.9 MB/s\u001b[0m eta \u001b[36m0:00:00\u001b[0m\n",
            "\u001b[2K     \u001b[90m━━━━━━━━━━━━━━━━━━━━━━━━━━━━━━━━━━━━━━━━\u001b[0m \u001b[32m54.6/54.6 MB\u001b[0m \u001b[31m11.6 MB/s\u001b[0m eta \u001b[36m0:00:00\u001b[0m\n",
            "\u001b[2K     \u001b[90m━━━━━━━━━━━━━━━━━━━━━━━━━━━━━━━━━━━━━━━━\u001b[0m \u001b[32m102.6/102.6 MB\u001b[0m \u001b[31m8.8 MB/s\u001b[0m eta \u001b[36m0:00:00\u001b[0m\n",
            "\u001b[2K     \u001b[90m━━━━━━━━━━━━━━━━━━━━━━━━━━━━━━━━━━━━━━━━\u001b[0m \u001b[32m173.2/173.2 MB\u001b[0m \u001b[31m6.7 MB/s\u001b[0m eta \u001b[36m0:00:00\u001b[0m\n",
            "\u001b[2K     \u001b[90m━━━━━━━━━━━━━━━━━━━━━━━━━━━━━━━━━━━━━━━━\u001b[0m \u001b[32m177.1/177.1 MB\u001b[0m \u001b[31m7.0 MB/s\u001b[0m eta \u001b[36m0:00:00\u001b[0m\n",
            "\u001b[2K     \u001b[90m━━━━━━━━━━━━━━━━━━━━━━━━━━━━━━━━━━━━━━━━\u001b[0m \u001b[32m98.6/98.6 kB\u001b[0m \u001b[31m13.6 MB/s\u001b[0m eta \u001b[36m0:00:00\u001b[0m\n",
            "\u001b[2K     \u001b[90m━━━━━━━━━━━━━━━━━━━━━━━━━━━━━━━━━━━━━━━━\u001b[0m \u001b[32m63.3/63.3 MB\u001b[0m \u001b[31m10.1 MB/s\u001b[0m eta \u001b[36m0:00:00\u001b[0m\n",
            "\u001b[2K     \u001b[90m━━━━━━━━━━━━━━━━━━━━━━━━━━━━━━━━━━━━━━━━\u001b[0m \u001b[32m46.0/46.0 kB\u001b[0m \u001b[31m6.6 MB/s\u001b[0m eta \u001b[36m0:00:00\u001b[0m\n",
            "\u001b[2K     \u001b[90m━━━━━━━━━━━━━━━━━━━━━━━━━━━━━━━━━━━━━━━━\u001b[0m \u001b[32m92.0/92.0 kB\u001b[0m \u001b[31m13.6 MB/s\u001b[0m eta \u001b[36m0:00:00\u001b[0m\n",
            "\u001b[?25h  Preparing metadata (setup.py) ... \u001b[?25l\u001b[?25hdone\n",
            "\u001b[2K     \u001b[90m━━━━━━━━━━━━━━━━━━━━━━━━━━━━━━━━━━━━━━━━\u001b[0m \u001b[32m315.9/315.9 kB\u001b[0m \u001b[31m37.0 MB/s\u001b[0m eta \u001b[36m0:00:00\u001b[0m\n",
            "\u001b[2K     \u001b[90m━━━━━━━━━━━━━━━━━━━━━━━━━━━━━━━━━━━━━━━━\u001b[0m \u001b[32m75.6/75.6 kB\u001b[0m \u001b[31m11.0 MB/s\u001b[0m eta \u001b[36m0:00:00\u001b[0m\n",
            "\u001b[2K     \u001b[90m━━━━━━━━━━━━━━━━━━━━━━━━━━━━━━━━━━━━━━━━\u001b[0m \u001b[32m141.1/141.1 kB\u001b[0m \u001b[31m19.0 MB/s\u001b[0m eta \u001b[36m0:00:00\u001b[0m\n",
            "\u001b[2K     \u001b[90m━━━━━━━━━━━━━━━━━━━━━━━━━━━━━━━━━━━━━━━━\u001b[0m \u001b[32m10.1/10.1 MB\u001b[0m \u001b[31m61.7 MB/s\u001b[0m eta \u001b[36m0:00:00\u001b[0m\n",
            "\u001b[2K     \u001b[90m━━━━━━━━━━━━━━━━━━━━━━━━━━━━━━━━━━━━━━━━\u001b[0m \u001b[32m62.4/62.4 kB\u001b[0m \u001b[31m9.7 MB/s\u001b[0m eta \u001b[36m0:00:00\u001b[0m\n",
            "\u001b[2K     \u001b[90m━━━━━━━━━━━━━━━━━━━━━━━━━━━━━━━━━━━━━━━━\u001b[0m \u001b[32m129.9/129.9 kB\u001b[0m \u001b[31m16.9 MB/s\u001b[0m eta \u001b[36m0:00:00\u001b[0m\n",
            "\u001b[2K     \u001b[90m━━━━━━━━━━━━━━━━━━━━━━━━━━━━━━━━━━━━━━━━\u001b[0m \u001b[32m96.4/96.4 kB\u001b[0m \u001b[31m11.6 MB/s\u001b[0m eta \u001b[36m0:00:00\u001b[0m\n",
            "\u001b[2K     \u001b[90m━━━━━━━━━━━━━━━━━━━━━━━━━━━━━━━━━━━━━━━━\u001b[0m \u001b[32m77.9/77.9 kB\u001b[0m \u001b[31m11.1 MB/s\u001b[0m eta \u001b[36m0:00:00\u001b[0m\n",
            "\u001b[2K     \u001b[90m━━━━━━━━━━━━━━━━━━━━━━━━━━━━━━━━━━━━━━━━\u001b[0m \u001b[32m58.3/58.3 kB\u001b[0m \u001b[31m8.8 MB/s\u001b[0m eta \u001b[36m0:00:00\u001b[0m\n",
            "\u001b[2K     \u001b[90m━━━━━━━━━━━━━━━━━━━━━━━━━━━━━━━━━━━━━━━━\u001b[0m \u001b[32m86.8/86.8 kB\u001b[0m \u001b[31m12.2 MB/s\u001b[0m eta \u001b[36m0:00:00\u001b[0m\n",
            "\u001b[2K     \u001b[90m━━━━━━━━━━━━━━━━━━━━━━━━━━━━━━━━━━━━━━━━\u001b[0m \u001b[32m71.9/71.9 kB\u001b[0m \u001b[31m10.2 MB/s\u001b[0m eta \u001b[36m0:00:00\u001b[0m\n",
            "\u001b[2K     \u001b[90m━━━━━━━━━━━━━━━━━━━━━━━━━━━━━━━━━━━━━━━━\u001b[0m \u001b[32m53.6/53.6 kB\u001b[0m \u001b[31m6.6 MB/s\u001b[0m eta \u001b[36m0:00:00\u001b[0m\n",
            "\u001b[2K     \u001b[90m━━━━━━━━━━━━━━━━━━━━━━━━━━━━━━━━━━━━━━━━\u001b[0m \u001b[32m307.7/307.7 kB\u001b[0m \u001b[31m36.8 MB/s\u001b[0m eta \u001b[36m0:00:00\u001b[0m\n",
            "\u001b[2K     \u001b[90m━━━━━━━━━━━━━━━━━━━━━━━━━━━━━━━━━━━━━━━━\u001b[0m \u001b[32m341.4/341.4 kB\u001b[0m \u001b[31m37.5 MB/s\u001b[0m eta \u001b[36m0:00:00\u001b[0m\n",
            "\u001b[2K     \u001b[90m━━━━━━━━━━━━━━━━━━━━━━━━━━━━━━━━━━━━━━━━\u001b[0m \u001b[32m3.4/3.4 MB\u001b[0m \u001b[31m94.3 MB/s\u001b[0m eta \u001b[36m0:00:00\u001b[0m\n",
            "\u001b[2K     \u001b[90m━━━━━━━━━━━━━━━━━━━━━━━━━━━━━━━━━━━━━━━━\u001b[0m \u001b[32m1.2/1.2 MB\u001b[0m \u001b[31m71.9 MB/s\u001b[0m eta \u001b[36m0:00:00\u001b[0m\n",
            "\u001b[?25h  Building wheel for ffmpy (setup.py) ... \u001b[?25l\u001b[?25hdone\n",
            "\u001b[31mERROR: pip's dependency resolver does not currently take into account all the packages that are installed. This behaviour is the source of the following dependency conflicts.\n",
            "torchaudio 2.3.0+cu121 requires torch==2.3.0, but you have torch 2.0.1 which is incompatible.\n",
            "torchtext 0.18.0 requires torch>=2.3.0, but you have torch 2.0.1 which is incompatible.\u001b[0m\u001b[31m\n",
            "\u001b[0mObtaining file:///content/yolov10\n",
            "  Installing build dependencies ... \u001b[?25l\u001b[?25hdone\n",
            "  Checking if build backend supports build_editable ... \u001b[?25l\u001b[?25hdone\n",
            "  Getting requirements to build editable ... \u001b[?25l\u001b[?25hdone\n",
            "  Preparing editable metadata (pyproject.toml) ... \u001b[?25l\u001b[?25hdone\n",
            "Requirement already satisfied: matplotlib>=3.3.0 in /usr/local/lib/python3.10/dist-packages (from ultralytics==8.1.34) (3.7.1)\n",
            "Requirement already satisfied: opencv-python>=4.6.0 in /usr/local/lib/python3.10/dist-packages (from ultralytics==8.1.34) (4.9.0.80)\n",
            "Requirement already satisfied: pillow>=7.1.2 in /usr/local/lib/python3.10/dist-packages (from ultralytics==8.1.34) (9.4.0)\n",
            "Requirement already satisfied: pyyaml>=5.3.1 in /usr/local/lib/python3.10/dist-packages (from ultralytics==8.1.34) (6.0.1)\n",
            "Requirement already satisfied: requests>=2.23.0 in /usr/local/lib/python3.10/dist-packages (from ultralytics==8.1.34) (2.31.0)\n",
            "Requirement already satisfied: scipy>=1.4.1 in /usr/local/lib/python3.10/dist-packages (from ultralytics==8.1.34) (1.13.0)\n",
            "Requirement already satisfied: torch>=1.8.0 in /usr/local/lib/python3.10/dist-packages (from ultralytics==8.1.34) (2.0.1)\n",
            "Requirement already satisfied: torchvision>=0.9.0 in /usr/local/lib/python3.10/dist-packages (from ultralytics==8.1.34) (0.15.2)\n",
            "Requirement already satisfied: tqdm>=4.64.0 in /usr/local/lib/python3.10/dist-packages (from ultralytics==8.1.34) (4.66.4)\n",
            "Requirement already satisfied: psutil in /usr/local/lib/python3.10/dist-packages (from ultralytics==8.1.34) (5.9.8)\n",
            "Requirement already satisfied: py-cpuinfo in /usr/local/lib/python3.10/dist-packages (from ultralytics==8.1.34) (9.0.0)\n",
            "Collecting thop>=0.1.1 (from ultralytics==8.1.34)\n",
            "  Downloading thop-0.1.1.post2209072238-py3-none-any.whl (15 kB)\n",
            "Requirement already satisfied: pandas>=1.1.4 in /usr/local/lib/python3.10/dist-packages (from ultralytics==8.1.34) (2.0.3)\n",
            "Requirement already satisfied: seaborn>=0.11.0 in /usr/local/lib/python3.10/dist-packages (from ultralytics==8.1.34) (0.13.1)\n",
            "Requirement already satisfied: contourpy>=1.0.1 in /usr/local/lib/python3.10/dist-packages (from matplotlib>=3.3.0->ultralytics==8.1.34) (1.2.1)\n",
            "Requirement already satisfied: cycler>=0.10 in /usr/local/lib/python3.10/dist-packages (from matplotlib>=3.3.0->ultralytics==8.1.34) (0.12.1)\n",
            "Requirement already satisfied: fonttools>=4.22.0 in /usr/local/lib/python3.10/dist-packages (from matplotlib>=3.3.0->ultralytics==8.1.34) (4.53.0)\n",
            "Requirement already satisfied: kiwisolver>=1.0.1 in /usr/local/lib/python3.10/dist-packages (from matplotlib>=3.3.0->ultralytics==8.1.34) (1.4.5)\n",
            "Requirement already satisfied: numpy>=1.20 in /usr/local/lib/python3.10/dist-packages (from matplotlib>=3.3.0->ultralytics==8.1.34) (1.25.2)\n",
            "Requirement already satisfied: packaging>=20.0 in /usr/local/lib/python3.10/dist-packages (from matplotlib>=3.3.0->ultralytics==8.1.34) (24.1)\n",
            "Requirement already satisfied: pyparsing>=2.3.1 in /usr/local/lib/python3.10/dist-packages (from matplotlib>=3.3.0->ultralytics==8.1.34) (3.1.2)\n",
            "Requirement already satisfied: python-dateutil>=2.7 in /usr/local/lib/python3.10/dist-packages (from matplotlib>=3.3.0->ultralytics==8.1.34) (2.8.2)\n",
            "Requirement already satisfied: pytz>=2020.1 in /usr/local/lib/python3.10/dist-packages (from pandas>=1.1.4->ultralytics==8.1.34) (2023.4)\n",
            "Requirement already satisfied: tzdata>=2022.1 in /usr/local/lib/python3.10/dist-packages (from pandas>=1.1.4->ultralytics==8.1.34) (2024.1)\n",
            "Requirement already satisfied: charset-normalizer<4,>=2 in /usr/local/lib/python3.10/dist-packages (from requests>=2.23.0->ultralytics==8.1.34) (3.3.2)\n",
            "Requirement already satisfied: idna<4,>=2.5 in /usr/local/lib/python3.10/dist-packages (from requests>=2.23.0->ultralytics==8.1.34) (3.7)\n",
            "Requirement already satisfied: urllib3<3,>=1.21.1 in /usr/local/lib/python3.10/dist-packages (from requests>=2.23.0->ultralytics==8.1.34) (2.0.7)\n",
            "Requirement already satisfied: certifi>=2017.4.17 in /usr/local/lib/python3.10/dist-packages (from requests>=2.23.0->ultralytics==8.1.34) (2024.6.2)\n",
            "Requirement already satisfied: filelock in /usr/local/lib/python3.10/dist-packages (from torch>=1.8.0->ultralytics==8.1.34) (3.15.4)\n",
            "Requirement already satisfied: typing-extensions in /usr/local/lib/python3.10/dist-packages (from torch>=1.8.0->ultralytics==8.1.34) (4.12.2)\n",
            "Requirement already satisfied: sympy in /usr/local/lib/python3.10/dist-packages (from torch>=1.8.0->ultralytics==8.1.34) (1.12.1)\n",
            "Requirement already satisfied: networkx in /usr/local/lib/python3.10/dist-packages (from torch>=1.8.0->ultralytics==8.1.34) (3.3)\n",
            "Requirement already satisfied: jinja2 in /usr/local/lib/python3.10/dist-packages (from torch>=1.8.0->ultralytics==8.1.34) (3.1.4)\n",
            "Requirement already satisfied: nvidia-cuda-nvrtc-cu11==11.7.99 in /usr/local/lib/python3.10/dist-packages (from torch>=1.8.0->ultralytics==8.1.34) (11.7.99)\n",
            "Requirement already satisfied: nvidia-cuda-runtime-cu11==11.7.99 in /usr/local/lib/python3.10/dist-packages (from torch>=1.8.0->ultralytics==8.1.34) (11.7.99)\n",
            "Requirement already satisfied: nvidia-cuda-cupti-cu11==11.7.101 in /usr/local/lib/python3.10/dist-packages (from torch>=1.8.0->ultralytics==8.1.34) (11.7.101)\n",
            "Requirement already satisfied: nvidia-cudnn-cu11==8.5.0.96 in /usr/local/lib/python3.10/dist-packages (from torch>=1.8.0->ultralytics==8.1.34) (8.5.0.96)\n",
            "Requirement already satisfied: nvidia-cublas-cu11==11.10.3.66 in /usr/local/lib/python3.10/dist-packages (from torch>=1.8.0->ultralytics==8.1.34) (11.10.3.66)\n",
            "Requirement already satisfied: nvidia-cufft-cu11==10.9.0.58 in /usr/local/lib/python3.10/dist-packages (from torch>=1.8.0->ultralytics==8.1.34) (10.9.0.58)\n",
            "Requirement already satisfied: nvidia-curand-cu11==10.2.10.91 in /usr/local/lib/python3.10/dist-packages (from torch>=1.8.0->ultralytics==8.1.34) (10.2.10.91)\n",
            "Requirement already satisfied: nvidia-cusolver-cu11==11.4.0.1 in /usr/local/lib/python3.10/dist-packages (from torch>=1.8.0->ultralytics==8.1.34) (11.4.0.1)\n",
            "Requirement already satisfied: nvidia-cusparse-cu11==11.7.4.91 in /usr/local/lib/python3.10/dist-packages (from torch>=1.8.0->ultralytics==8.1.34) (11.7.4.91)\n",
            "Requirement already satisfied: nvidia-nccl-cu11==2.14.3 in /usr/local/lib/python3.10/dist-packages (from torch>=1.8.0->ultralytics==8.1.34) (2.14.3)\n",
            "Requirement already satisfied: nvidia-nvtx-cu11==11.7.91 in /usr/local/lib/python3.10/dist-packages (from torch>=1.8.0->ultralytics==8.1.34) (11.7.91)\n",
            "Requirement already satisfied: triton==2.0.0 in /usr/local/lib/python3.10/dist-packages (from torch>=1.8.0->ultralytics==8.1.34) (2.0.0)\n",
            "Requirement already satisfied: setuptools in /usr/local/lib/python3.10/dist-packages (from nvidia-cublas-cu11==11.10.3.66->torch>=1.8.0->ultralytics==8.1.34) (67.7.2)\n",
            "Requirement already satisfied: wheel in /usr/local/lib/python3.10/dist-packages (from nvidia-cublas-cu11==11.10.3.66->torch>=1.8.0->ultralytics==8.1.34) (0.43.0)\n",
            "Requirement already satisfied: cmake in /usr/local/lib/python3.10/dist-packages (from triton==2.0.0->torch>=1.8.0->ultralytics==8.1.34) (3.27.9)\n",
            "Requirement already satisfied: lit in /usr/local/lib/python3.10/dist-packages (from triton==2.0.0->torch>=1.8.0->ultralytics==8.1.34) (18.1.8)\n",
            "Requirement already satisfied: six>=1.5 in /usr/local/lib/python3.10/dist-packages (from python-dateutil>=2.7->matplotlib>=3.3.0->ultralytics==8.1.34) (1.16.0)\n",
            "Requirement already satisfied: MarkupSafe>=2.0 in /usr/local/lib/python3.10/dist-packages (from jinja2->torch>=1.8.0->ultralytics==8.1.34) (2.1.5)\n",
            "Requirement already satisfied: mpmath<1.4.0,>=1.1.0 in /usr/local/lib/python3.10/dist-packages (from sympy->torch>=1.8.0->ultralytics==8.1.34) (1.3.0)\n",
            "Building wheels for collected packages: ultralytics\n",
            "  Building editable for ultralytics (pyproject.toml) ... \u001b[?25l\u001b[?25hdone\n",
            "  Created wheel for ultralytics: filename=ultralytics-8.1.34-0.editable-py3-none-any.whl size=20531 sha256=2bf1515ada29452caf56ca84b61ebab6f2851bc4ebc3f9ad7efa425e0000ce68\n",
            "  Stored in directory: /tmp/pip-ephem-wheel-cache-1bpdaxyt/wheels/51/93/e8/22d2e815ced343915c15d86b2a00d95eb0a997d012527fbea7\n",
            "Successfully built ultralytics\n",
            "Installing collected packages: thop, ultralytics\n",
            "Successfully installed thop-0.1.1.post2209072238 ultralytics-8.1.34\n"
          ]
        }
      ]
    },
    {
      "cell_type": "code",
      "source": [
        "from ultralytics import YOLOv10\n",
        "MODEL_PATH = 'yolov10n.pt'\n",
        "model = YOLOv10(MODEL_PATH)\n"
      ],
      "metadata": {
        "id": "cd8ez62NyVqG"
      },
      "execution_count": 6,
      "outputs": []
    },
    {
      "cell_type": "code",
      "source": [
        "YAML_PATH = '../safety_helmet_dataset/data.yaml'\n",
        "EPOCHS = 50\n",
        "IMG_SIZE = 320\n",
        "BATCH_SIZE = 64"
      ],
      "metadata": {
        "id": "VhZ9Zf2PzLMn"
      },
      "execution_count": 8,
      "outputs": []
    },
    {
      "cell_type": "code",
      "source": [
        "model.train(data = YAML_PATH,\n",
        "            epochs = EPOCHS,\n",
        "            batch = BATCH_SIZE,\n",
        "            imgsz = IMG_SIZE)"
      ],
      "metadata": {
        "colab": {
          "base_uri": "https://localhost:8080/"
        },
        "id": "I2fdEAlPzlwg",
        "outputId": "c8d3dc1d-378b-45dd-eb37-c0b43f60ef36"
      },
      "execution_count": 9,
      "outputs": [
        {
          "output_type": "stream",
          "name": "stdout",
          "text": [
            "New https://pypi.org/project/ultralytics/8.2.50 available 😃 Update with 'pip install -U ultralytics'\n",
            "Ultralytics YOLOv8.1.34 🚀 Python-3.10.12 torch-2.0.1+cu117 CUDA:0 (Tesla T4, 15102MiB)\n",
            "\u001b[34m\u001b[1mengine/trainer: \u001b[0mtask=detect, mode=train, model=yolov10n.pt, data=../safety_helmet_dataset/data.yaml, epochs=50, time=None, patience=100, batch=64, imgsz=320, save=True, save_period=-1, val_period=1, cache=False, device=None, workers=8, project=None, name=train, exist_ok=False, pretrained=True, optimizer=auto, verbose=True, seed=0, deterministic=True, single_cls=False, rect=False, cos_lr=False, close_mosaic=10, resume=False, amp=True, fraction=1.0, profile=False, freeze=None, multi_scale=False, overlap_mask=True, mask_ratio=4, dropout=0.0, val=True, split=val, save_json=False, save_hybrid=False, conf=None, iou=0.7, max_det=300, half=False, dnn=False, plots=True, source=None, vid_stride=1, stream_buffer=False, visualize=False, augment=False, agnostic_nms=False, classes=None, retina_masks=False, embed=None, show=False, save_frames=False, save_txt=False, save_conf=False, save_crop=False, show_labels=True, show_conf=True, show_boxes=True, line_width=None, format=torchscript, keras=False, optimize=False, int8=False, dynamic=False, simplify=False, opset=None, workspace=4, nms=False, lr0=0.01, lrf=0.01, momentum=0.937, weight_decay=0.0005, warmup_epochs=3.0, warmup_momentum=0.8, warmup_bias_lr=0.1, box=7.5, cls=0.5, dfl=1.5, pose=12.0, kobj=1.0, label_smoothing=0.0, nbs=64, hsv_h=0.015, hsv_s=0.7, hsv_v=0.4, degrees=0.0, translate=0.1, scale=0.5, shear=0.0, perspective=0.0, flipud=0.0, fliplr=0.5, bgr=0.0, mosaic=1.0, mixup=0.0, copy_paste=0.0, auto_augment=randaugment, erasing=0.4, crop_fraction=1.0, cfg=None, tracker=botsort.yaml, save_dir=/content/yolov10/runs/detect/train\n",
            "Downloading https://ultralytics.com/assets/Arial.ttf to '/root/.config/yolov10/Arial.ttf'...\n"
          ]
        },
        {
          "output_type": "stream",
          "name": "stderr",
          "text": [
            "100%|██████████| 755k/755k [00:00<00:00, 111MB/s]\n"
          ]
        },
        {
          "output_type": "stream",
          "name": "stdout",
          "text": [
            "Overriding model.yaml nc=80 with nc=3\n",
            "\n",
            "                   from  n    params  module                                       arguments                     \n",
            "  0                  -1  1       464  ultralytics.nn.modules.conv.Conv             [3, 16, 3, 2]                 \n",
            "  1                  -1  1      4672  ultralytics.nn.modules.conv.Conv             [16, 32, 3, 2]                \n",
            "  2                  -1  1      7360  ultralytics.nn.modules.block.C2f             [32, 32, 1, True]             \n",
            "  3                  -1  1     18560  ultralytics.nn.modules.conv.Conv             [32, 64, 3, 2]                \n",
            "  4                  -1  2     49664  ultralytics.nn.modules.block.C2f             [64, 64, 2, True]             \n",
            "  5                  -1  1      9856  ultralytics.nn.modules.block.SCDown          [64, 128, 3, 2]               \n",
            "  6                  -1  2    197632  ultralytics.nn.modules.block.C2f             [128, 128, 2, True]           \n",
            "  7                  -1  1     36096  ultralytics.nn.modules.block.SCDown          [128, 256, 3, 2]              \n",
            "  8                  -1  1    460288  ultralytics.nn.modules.block.C2f             [256, 256, 1, True]           \n",
            "  9                  -1  1    164608  ultralytics.nn.modules.block.SPPF            [256, 256, 5]                 \n",
            " 10                  -1  1    249728  ultralytics.nn.modules.block.PSA             [256, 256]                    \n",
            " 11                  -1  1         0  torch.nn.modules.upsampling.Upsample         [None, 2, 'nearest']          \n",
            " 12             [-1, 6]  1         0  ultralytics.nn.modules.conv.Concat           [1]                           \n",
            " 13                  -1  1    148224  ultralytics.nn.modules.block.C2f             [384, 128, 1]                 \n",
            " 14                  -1  1         0  torch.nn.modules.upsampling.Upsample         [None, 2, 'nearest']          \n",
            " 15             [-1, 4]  1         0  ultralytics.nn.modules.conv.Concat           [1]                           \n",
            " 16                  -1  1     37248  ultralytics.nn.modules.block.C2f             [192, 64, 1]                  \n",
            " 17                  -1  1     36992  ultralytics.nn.modules.conv.Conv             [64, 64, 3, 2]                \n",
            " 18            [-1, 13]  1         0  ultralytics.nn.modules.conv.Concat           [1]                           \n",
            " 19                  -1  1    123648  ultralytics.nn.modules.block.C2f             [192, 128, 1]                 \n",
            " 20                  -1  1     18048  ultralytics.nn.modules.block.SCDown          [128, 128, 3, 2]              \n",
            " 21            [-1, 10]  1         0  ultralytics.nn.modules.conv.Concat           [1]                           \n",
            " 22                  -1  1    282624  ultralytics.nn.modules.block.C2fCIB          [384, 256, 1, True, True]     \n",
            " 23        [16, 19, 22]  1    862498  ultralytics.nn.modules.head.v10Detect        [3, [64, 128, 256]]           \n",
            "YOLOv10n summary: 385 layers, 2708210 parameters, 2708194 gradients, 8.4 GFLOPs\n",
            "\n",
            "Transferred 493/595 items from pretrained weights\n",
            "\u001b[34m\u001b[1mTensorBoard: \u001b[0mStart with 'tensorboard --logdir /content/yolov10/runs/detect/train', view at http://localhost:6006/\n",
            "Freezing layer 'model.23.dfl.conv.weight'\n",
            "\u001b[34m\u001b[1mAMP: \u001b[0mrunning Automatic Mixed Precision (AMP) checks with YOLOv8n...\n",
            "Downloading https://github.com/ultralytics/assets/releases/download/v8.1.0/yolov8n.pt to 'yolov8n.pt'...\n"
          ]
        },
        {
          "output_type": "stream",
          "name": "stderr",
          "text": [
            "100%|██████████| 6.23M/6.23M [00:00<00:00, 235MB/s]\n"
          ]
        },
        {
          "output_type": "stream",
          "name": "stdout",
          "text": [
            "\u001b[34m\u001b[1mAMP: \u001b[0mchecks passed ✅\n"
          ]
        },
        {
          "output_type": "stream",
          "name": "stderr",
          "text": [
            "\u001b[34m\u001b[1mtrain: \u001b[0mScanning /content/safety_helmet_dataset/train/labels... 761 images, 0 backgrounds, 0 corrupt: 100%|██████████| 761/761 [00:00<00:00, 951.85it/s]\n"
          ]
        },
        {
          "output_type": "stream",
          "name": "stdout",
          "text": [
            "\u001b[34m\u001b[1mtrain: \u001b[0mNew cache created: /content/safety_helmet_dataset/train/labels.cache\n",
            "\u001b[34m\u001b[1malbumentations: \u001b[0mBlur(p=0.01, blur_limit=(3, 7)), MedianBlur(p=0.01, blur_limit=(3, 7)), ToGray(p=0.01), CLAHE(p=0.01, clip_limit=(1, 4.0), tile_grid_size=(8, 8))\n"
          ]
        },
        {
          "output_type": "stream",
          "name": "stderr",
          "text": [
            "/usr/lib/python3.10/multiprocessing/popen_fork.py:66: RuntimeWarning: os.fork() was called. os.fork() is incompatible with multithreaded code, and JAX is multithreaded, so this will likely lead to a deadlock.\n",
            "  self.pid = os.fork()\n",
            "\u001b[34m\u001b[1mval: \u001b[0mScanning /content/safety_helmet_dataset/valid/labels... 218 images, 0 backgrounds, 0 corrupt: 100%|██████████| 218/218 [00:00<00:00, 625.48it/s]"
          ]
        },
        {
          "output_type": "stream",
          "name": "stdout",
          "text": [
            "\u001b[34m\u001b[1mval: \u001b[0mNew cache created: /content/safety_helmet_dataset/valid/labels.cache\n"
          ]
        },
        {
          "output_type": "stream",
          "name": "stderr",
          "text": [
            "\n"
          ]
        },
        {
          "output_type": "stream",
          "name": "stdout",
          "text": [
            "Plotting labels to /content/yolov10/runs/detect/train/labels.jpg... \n",
            "\u001b[34m\u001b[1moptimizer:\u001b[0m 'optimizer=auto' found, ignoring 'lr0=0.01' and 'momentum=0.937' and determining best 'optimizer', 'lr0' and 'momentum' automatically... \n",
            "\u001b[34m\u001b[1moptimizer:\u001b[0m AdamW(lr=0.001429, momentum=0.9) with parameter groups 95 weight(decay=0.0), 108 weight(decay=0.0005), 107 bias(decay=0.0)\n",
            "\u001b[34m\u001b[1mTensorBoard: \u001b[0mmodel graph visualization added ✅\n",
            "Image sizes 320 train, 320 val\n",
            "Using 2 dataloader workers\n",
            "Logging results to \u001b[1m/content/yolov10/runs/detect/train\u001b[0m\n",
            "Starting training for 50 epochs...\n",
            "\n",
            "      Epoch    GPU_mem     box_om     cls_om     dfl_om     box_oo     cls_oo     dfl_oo  Instances       Size\n"
          ]
        },
        {
          "output_type": "stream",
          "name": "stderr",
          "text": [
            "       1/50      3.04G      1.769      3.404      1.529        1.7      3.864      1.382        238        320: 100%|██████████| 12/12 [00:09<00:00,  1.32it/s]\n",
            "                 Class     Images  Instances      Box(P          R      mAP50  mAP50-95): 100%|██████████| 2/2 [00:02<00:00,  1.05s/it]"
          ]
        },
        {
          "output_type": "stream",
          "name": "stdout",
          "text": [
            "                   all        218        586    0.00467      0.356     0.0841     0.0402\n"
          ]
        },
        {
          "output_type": "stream",
          "name": "stderr",
          "text": [
            "\n"
          ]
        },
        {
          "output_type": "stream",
          "name": "stdout",
          "text": [
            "\n",
            "      Epoch    GPU_mem     box_om     cls_om     dfl_om     box_oo     cls_oo     dfl_oo  Instances       Size\n"
          ]
        },
        {
          "output_type": "stream",
          "name": "stderr",
          "text": [
            "       2/50      3.09G      1.652      2.576      1.356      1.512      3.017      1.243        261        320: 100%|██████████| 12/12 [00:07<00:00,  1.53it/s]\n",
            "                 Class     Images  Instances      Box(P          R      mAP50  mAP50-95): 100%|██████████| 2/2 [00:02<00:00,  1.32s/it]"
          ]
        },
        {
          "output_type": "stream",
          "name": "stdout",
          "text": [
            "                   all        218        586    0.00478       0.33     0.0932     0.0504\n"
          ]
        },
        {
          "output_type": "stream",
          "name": "stderr",
          "text": [
            "\n"
          ]
        },
        {
          "output_type": "stream",
          "name": "stdout",
          "text": [
            "\n",
            "      Epoch    GPU_mem     box_om     cls_om     dfl_om     box_oo     cls_oo     dfl_oo  Instances       Size\n"
          ]
        },
        {
          "output_type": "stream",
          "name": "stderr",
          "text": [
            "       3/50      3.09G       1.69      1.737      1.345      1.535      2.421       1.22        265        320: 100%|██████████| 12/12 [00:04<00:00,  2.42it/s]\n",
            "                 Class     Images  Instances      Box(P          R      mAP50  mAP50-95): 100%|██████████| 2/2 [00:01<00:00,  1.71it/s]"
          ]
        },
        {
          "output_type": "stream",
          "name": "stdout",
          "text": [
            "                   all        218        586    0.00415      0.281     0.0776      0.037\n"
          ]
        },
        {
          "output_type": "stream",
          "name": "stderr",
          "text": [
            "\n"
          ]
        },
        {
          "output_type": "stream",
          "name": "stdout",
          "text": [
            "\n",
            "      Epoch    GPU_mem     box_om     cls_om     dfl_om     box_oo     cls_oo     dfl_oo  Instances       Size\n"
          ]
        },
        {
          "output_type": "stream",
          "name": "stderr",
          "text": [
            "       4/50      3.07G      1.614      1.437      1.332      1.533      2.321      1.228        254        320: 100%|██████████| 12/12 [00:06<00:00,  1.88it/s]\n",
            "                 Class     Images  Instances      Box(P          R      mAP50  mAP50-95): 100%|██████████| 2/2 [00:03<00:00,  1.57s/it]"
          ]
        },
        {
          "output_type": "stream",
          "name": "stdout",
          "text": [
            "                   all        218        586    0.00443      0.301     0.0667     0.0271\n"
          ]
        },
        {
          "output_type": "stream",
          "name": "stderr",
          "text": [
            "\n"
          ]
        },
        {
          "output_type": "stream",
          "name": "stdout",
          "text": [
            "\n",
            "      Epoch    GPU_mem     box_om     cls_om     dfl_om     box_oo     cls_oo     dfl_oo  Instances       Size\n"
          ]
        },
        {
          "output_type": "stream",
          "name": "stderr",
          "text": [
            "       5/50      3.07G      1.635      1.413      1.374      1.572      2.253      1.266        261        320: 100%|██████████| 12/12 [00:04<00:00,  2.43it/s]\n",
            "                 Class     Images  Instances      Box(P          R      mAP50  mAP50-95): 100%|██████████| 2/2 [00:01<00:00,  1.62it/s]"
          ]
        },
        {
          "output_type": "stream",
          "name": "stdout",
          "text": [
            "                   all        218        586      0.861     0.0365      0.174     0.0804\n"
          ]
        },
        {
          "output_type": "stream",
          "name": "stderr",
          "text": [
            "\n"
          ]
        },
        {
          "output_type": "stream",
          "name": "stdout",
          "text": [
            "\n",
            "      Epoch    GPU_mem     box_om     cls_om     dfl_om     box_oo     cls_oo     dfl_oo  Instances       Size\n"
          ]
        },
        {
          "output_type": "stream",
          "name": "stderr",
          "text": [
            "       6/50      3.07G      1.629      1.395      1.371      1.558      2.181      1.259        232        320: 100%|██████████| 12/12 [00:05<00:00,  2.12it/s]\n",
            "                 Class     Images  Instances      Box(P          R      mAP50  mAP50-95): 100%|██████████| 2/2 [00:02<00:00,  1.47s/it]"
          ]
        },
        {
          "output_type": "stream",
          "name": "stdout",
          "text": [
            "                   all        218        586      0.806     0.0304      0.092     0.0387\n"
          ]
        },
        {
          "output_type": "stream",
          "name": "stderr",
          "text": [
            "\n"
          ]
        },
        {
          "output_type": "stream",
          "name": "stdout",
          "text": [
            "\n",
            "      Epoch    GPU_mem     box_om     cls_om     dfl_om     box_oo     cls_oo     dfl_oo  Instances       Size\n"
          ]
        },
        {
          "output_type": "stream",
          "name": "stderr",
          "text": [
            "       7/50      3.09G      1.671      1.385      1.373      1.635      2.059      1.278        278        320: 100%|██████████| 12/12 [00:05<00:00,  2.26it/s]\n",
            "                 Class     Images  Instances      Box(P          R      mAP50  mAP50-95): 100%|██████████| 2/2 [00:01<00:00,  1.41it/s]"
          ]
        },
        {
          "output_type": "stream",
          "name": "stdout",
          "text": [
            "                   all        218        586      0.764      0.137      0.247      0.111\n"
          ]
        },
        {
          "output_type": "stream",
          "name": "stderr",
          "text": [
            "\n"
          ]
        },
        {
          "output_type": "stream",
          "name": "stdout",
          "text": [
            "\n",
            "      Epoch    GPU_mem     box_om     cls_om     dfl_om     box_oo     cls_oo     dfl_oo  Instances       Size\n"
          ]
        },
        {
          "output_type": "stream",
          "name": "stderr",
          "text": [
            "       8/50      3.08G      1.646      1.391      1.361      1.637      2.012      1.268        263        320: 100%|██████████| 12/12 [00:05<00:00,  2.11it/s]\n",
            "                 Class     Images  Instances      Box(P          R      mAP50  mAP50-95): 100%|██████████| 2/2 [00:02<00:00,  1.15s/it]"
          ]
        },
        {
          "output_type": "stream",
          "name": "stdout",
          "text": [
            "                   all        218        586      0.688       0.13      0.199     0.0967\n"
          ]
        },
        {
          "output_type": "stream",
          "name": "stderr",
          "text": [
            "\n"
          ]
        },
        {
          "output_type": "stream",
          "name": "stdout",
          "text": [
            "\n",
            "      Epoch    GPU_mem     box_om     cls_om     dfl_om     box_oo     cls_oo     dfl_oo  Instances       Size\n"
          ]
        },
        {
          "output_type": "stream",
          "name": "stderr",
          "text": [
            "       9/50      3.06G      1.654      1.349      1.385      1.678      1.918      1.301        250        320: 100%|██████████| 12/12 [00:05<00:00,  2.22it/s]\n",
            "                 Class     Images  Instances      Box(P          R      mAP50  mAP50-95): 100%|██████████| 2/2 [00:01<00:00,  1.37it/s]"
          ]
        },
        {
          "output_type": "stream",
          "name": "stdout",
          "text": [
            "                   all        218        586      0.643      0.232      0.255      0.111\n"
          ]
        },
        {
          "output_type": "stream",
          "name": "stderr",
          "text": [
            "\n"
          ]
        },
        {
          "output_type": "stream",
          "name": "stdout",
          "text": [
            "\n",
            "      Epoch    GPU_mem     box_om     cls_om     dfl_om     box_oo     cls_oo     dfl_oo  Instances       Size\n"
          ]
        },
        {
          "output_type": "stream",
          "name": "stderr",
          "text": [
            "      10/50      3.08G       1.62      1.326      1.351       1.63      1.826      1.274        228        320: 100%|██████████| 12/12 [00:04<00:00,  2.41it/s]\n",
            "                 Class     Images  Instances      Box(P          R      mAP50  mAP50-95): 100%|██████████| 2/2 [00:02<00:00,  1.27s/it]"
          ]
        },
        {
          "output_type": "stream",
          "name": "stdout",
          "text": [
            "                   all        218        586      0.614      0.215      0.221     0.0938\n"
          ]
        },
        {
          "output_type": "stream",
          "name": "stderr",
          "text": [
            "\n"
          ]
        },
        {
          "output_type": "stream",
          "name": "stdout",
          "text": [
            "\n",
            "      Epoch    GPU_mem     box_om     cls_om     dfl_om     box_oo     cls_oo     dfl_oo  Instances       Size\n"
          ]
        },
        {
          "output_type": "stream",
          "name": "stderr",
          "text": [
            "      11/50      3.07G      1.633      1.332      1.368      1.663      1.815      1.299        278        320: 100%|██████████| 12/12 [00:06<00:00,  1.77it/s]\n",
            "                 Class     Images  Instances      Box(P          R      mAP50  mAP50-95): 100%|██████████| 2/2 [00:01<00:00,  1.26it/s]"
          ]
        },
        {
          "output_type": "stream",
          "name": "stdout",
          "text": [
            "                   all        218        586      0.553      0.234      0.186     0.0742\n"
          ]
        },
        {
          "output_type": "stream",
          "name": "stderr",
          "text": [
            "\n"
          ]
        },
        {
          "output_type": "stream",
          "name": "stdout",
          "text": [
            "\n",
            "      Epoch    GPU_mem     box_om     cls_om     dfl_om     box_oo     cls_oo     dfl_oo  Instances       Size\n"
          ]
        },
        {
          "output_type": "stream",
          "name": "stderr",
          "text": [
            "      12/50      3.09G      1.628      1.324      1.347      1.662      1.729      1.281        261        320: 100%|██████████| 12/12 [00:04<00:00,  2.41it/s]\n",
            "                 Class     Images  Instances      Box(P          R      mAP50  mAP50-95): 100%|██████████| 2/2 [00:01<00:00,  1.14it/s]"
          ]
        },
        {
          "output_type": "stream",
          "name": "stdout",
          "text": [
            "                   all        218        586      0.712      0.374      0.432      0.198\n"
          ]
        },
        {
          "output_type": "stream",
          "name": "stderr",
          "text": [
            "\n"
          ]
        },
        {
          "output_type": "stream",
          "name": "stdout",
          "text": [
            "\n",
            "      Epoch    GPU_mem     box_om     cls_om     dfl_om     box_oo     cls_oo     dfl_oo  Instances       Size\n"
          ]
        },
        {
          "output_type": "stream",
          "name": "stderr",
          "text": [
            "      13/50      3.06G      1.608       1.29      1.348      1.625      1.673      1.279        275        320: 100%|██████████| 12/12 [00:07<00:00,  1.66it/s]\n",
            "                 Class     Images  Instances      Box(P          R      mAP50  mAP50-95): 100%|██████████| 2/2 [00:01<00:00,  1.23it/s]"
          ]
        },
        {
          "output_type": "stream",
          "name": "stdout",
          "text": [
            "                   all        218        586      0.663      0.304      0.379       0.16\n"
          ]
        },
        {
          "output_type": "stream",
          "name": "stderr",
          "text": [
            "\n"
          ]
        },
        {
          "output_type": "stream",
          "name": "stdout",
          "text": [
            "\n",
            "      Epoch    GPU_mem     box_om     cls_om     dfl_om     box_oo     cls_oo     dfl_oo  Instances       Size\n"
          ]
        },
        {
          "output_type": "stream",
          "name": "stderr",
          "text": [
            "      14/50      3.07G      1.594      1.264      1.335      1.625      1.639      1.266        258        320: 100%|██████████| 12/12 [00:04<00:00,  2.50it/s]\n",
            "                 Class     Images  Instances      Box(P          R      mAP50  mAP50-95): 100%|██████████| 2/2 [00:01<00:00,  1.40it/s]"
          ]
        },
        {
          "output_type": "stream",
          "name": "stdout",
          "text": [
            "                   all        218        586      0.478      0.439      0.421      0.189\n"
          ]
        },
        {
          "output_type": "stream",
          "name": "stderr",
          "text": [
            "\n"
          ]
        },
        {
          "output_type": "stream",
          "name": "stdout",
          "text": [
            "\n",
            "      Epoch    GPU_mem     box_om     cls_om     dfl_om     box_oo     cls_oo     dfl_oo  Instances       Size\n"
          ]
        },
        {
          "output_type": "stream",
          "name": "stderr",
          "text": [
            "      15/50      3.07G      1.589      1.237      1.343      1.608      1.585      1.268        227        320: 100%|██████████| 12/12 [00:08<00:00,  1.50it/s]\n",
            "                 Class     Images  Instances      Box(P          R      mAP50  mAP50-95): 100%|██████████| 2/2 [00:01<00:00,  1.11it/s]"
          ]
        },
        {
          "output_type": "stream",
          "name": "stdout",
          "text": [
            "                   all        218        586      0.645      0.421      0.403      0.152\n"
          ]
        },
        {
          "output_type": "stream",
          "name": "stderr",
          "text": [
            "\n"
          ]
        },
        {
          "output_type": "stream",
          "name": "stdout",
          "text": [
            "\n",
            "      Epoch    GPU_mem     box_om     cls_om     dfl_om     box_oo     cls_oo     dfl_oo  Instances       Size\n"
          ]
        },
        {
          "output_type": "stream",
          "name": "stderr",
          "text": [
            "      16/50      3.06G      1.595      1.241      1.361      1.611      1.598      1.299        283        320: 100%|██████████| 12/12 [00:04<00:00,  2.41it/s]\n",
            "                 Class     Images  Instances      Box(P          R      mAP50  mAP50-95): 100%|██████████| 2/2 [00:01<00:00,  1.56it/s]"
          ]
        },
        {
          "output_type": "stream",
          "name": "stdout",
          "text": [
            "                   all        218        586      0.695      0.357      0.458      0.189\n"
          ]
        },
        {
          "output_type": "stream",
          "name": "stderr",
          "text": [
            "\n"
          ]
        },
        {
          "output_type": "stream",
          "name": "stdout",
          "text": [
            "\n",
            "      Epoch    GPU_mem     box_om     cls_om     dfl_om     box_oo     cls_oo     dfl_oo  Instances       Size\n"
          ]
        },
        {
          "output_type": "stream",
          "name": "stderr",
          "text": [
            "      17/50      3.09G      1.562      1.191      1.339      1.607      1.492      1.284        260        320: 100%|██████████| 12/12 [00:07<00:00,  1.65it/s]\n",
            "                 Class     Images  Instances      Box(P          R      mAP50  mAP50-95): 100%|██████████| 2/2 [00:02<00:00,  1.10s/it]"
          ]
        },
        {
          "output_type": "stream",
          "name": "stdout",
          "text": [
            "                   all        218        586      0.712      0.469      0.521      0.217\n"
          ]
        },
        {
          "output_type": "stream",
          "name": "stderr",
          "text": [
            "\n"
          ]
        },
        {
          "output_type": "stream",
          "name": "stdout",
          "text": [
            "\n",
            "      Epoch    GPU_mem     box_om     cls_om     dfl_om     box_oo     cls_oo     dfl_oo  Instances       Size\n"
          ]
        },
        {
          "output_type": "stream",
          "name": "stderr",
          "text": [
            "      18/50      3.08G      1.529      1.133      1.308      1.588       1.43      1.268        259        320: 100%|██████████| 12/12 [00:05<00:00,  2.38it/s]\n",
            "                 Class     Images  Instances      Box(P          R      mAP50  mAP50-95): 100%|██████████| 2/2 [00:01<00:00,  1.56it/s]"
          ]
        },
        {
          "output_type": "stream",
          "name": "stdout",
          "text": [
            "                   all        218        586      0.584       0.59      0.603      0.254\n"
          ]
        },
        {
          "output_type": "stream",
          "name": "stderr",
          "text": [
            "\n"
          ]
        },
        {
          "output_type": "stream",
          "name": "stdout",
          "text": [
            "\n",
            "      Epoch    GPU_mem     box_om     cls_om     dfl_om     box_oo     cls_oo     dfl_oo  Instances       Size\n"
          ]
        },
        {
          "output_type": "stream",
          "name": "stderr",
          "text": [
            "      19/50      3.07G       1.52      1.127      1.309      1.575      1.414      1.262        224        320: 100%|██████████| 12/12 [00:07<00:00,  1.63it/s]\n",
            "                 Class     Images  Instances      Box(P          R      mAP50  mAP50-95): 100%|██████████| 2/2 [00:03<00:00,  1.60s/it]"
          ]
        },
        {
          "output_type": "stream",
          "name": "stdout",
          "text": [
            "                   all        218        586      0.525      0.624      0.576      0.251\n"
          ]
        },
        {
          "output_type": "stream",
          "name": "stderr",
          "text": [
            "\n"
          ]
        },
        {
          "output_type": "stream",
          "name": "stdout",
          "text": [
            "\n",
            "      Epoch    GPU_mem     box_om     cls_om     dfl_om     box_oo     cls_oo     dfl_oo  Instances       Size\n"
          ]
        },
        {
          "output_type": "stream",
          "name": "stderr",
          "text": [
            "      20/50      3.09G      1.516      1.112      1.306      1.572      1.393      1.256        260        320: 100%|██████████| 12/12 [00:04<00:00,  2.41it/s]\n",
            "                 Class     Images  Instances      Box(P          R      mAP50  mAP50-95): 100%|██████████| 2/2 [00:01<00:00,  1.60it/s]"
          ]
        },
        {
          "output_type": "stream",
          "name": "stdout",
          "text": [
            "                   all        218        586      0.657      0.549      0.582      0.237\n"
          ]
        },
        {
          "output_type": "stream",
          "name": "stderr",
          "text": [
            "\n"
          ]
        },
        {
          "output_type": "stream",
          "name": "stdout",
          "text": [
            "\n",
            "      Epoch    GPU_mem     box_om     cls_om     dfl_om     box_oo     cls_oo     dfl_oo  Instances       Size\n"
          ]
        },
        {
          "output_type": "stream",
          "name": "stderr",
          "text": [
            "      21/50      3.09G       1.54      1.123      1.305      1.603      1.384      1.273        244        320: 100%|██████████| 12/12 [00:06<00:00,  1.98it/s]\n",
            "                 Class     Images  Instances      Box(P          R      mAP50  mAP50-95): 100%|██████████| 2/2 [00:03<00:00,  1.51s/it]"
          ]
        },
        {
          "output_type": "stream",
          "name": "stdout",
          "text": [
            "                   all        218        586      0.685      0.551      0.545      0.238\n"
          ]
        },
        {
          "output_type": "stream",
          "name": "stderr",
          "text": [
            "\n"
          ]
        },
        {
          "output_type": "stream",
          "name": "stdout",
          "text": [
            "\n",
            "      Epoch    GPU_mem     box_om     cls_om     dfl_om     box_oo     cls_oo     dfl_oo  Instances       Size\n"
          ]
        },
        {
          "output_type": "stream",
          "name": "stderr",
          "text": [
            "      22/50      3.06G      1.512       1.11      1.295      1.579      1.348      1.256        252        320: 100%|██████████| 12/12 [00:05<00:00,  2.28it/s]\n",
            "                 Class     Images  Instances      Box(P          R      mAP50  mAP50-95): 100%|██████████| 2/2 [00:01<00:00,  1.52it/s]"
          ]
        },
        {
          "output_type": "stream",
          "name": "stdout",
          "text": [
            "                   all        218        586      0.608      0.676      0.649      0.273\n"
          ]
        },
        {
          "output_type": "stream",
          "name": "stderr",
          "text": [
            "\n"
          ]
        },
        {
          "output_type": "stream",
          "name": "stdout",
          "text": [
            "\n",
            "      Epoch    GPU_mem     box_om     cls_om     dfl_om     box_oo     cls_oo     dfl_oo  Instances       Size\n"
          ]
        },
        {
          "output_type": "stream",
          "name": "stderr",
          "text": [
            "      23/50      3.08G      1.485      1.078      1.283      1.544      1.312      1.245        322        320: 100%|██████████| 12/12 [00:05<00:00,  2.20it/s]\n",
            "                 Class     Images  Instances      Box(P          R      mAP50  mAP50-95): 100%|██████████| 2/2 [00:02<00:00,  1.42s/it]"
          ]
        },
        {
          "output_type": "stream",
          "name": "stdout",
          "text": [
            "                   all        218        586      0.692      0.607      0.676      0.301\n"
          ]
        },
        {
          "output_type": "stream",
          "name": "stderr",
          "text": [
            "\n"
          ]
        },
        {
          "output_type": "stream",
          "name": "stdout",
          "text": [
            "\n",
            "      Epoch    GPU_mem     box_om     cls_om     dfl_om     box_oo     cls_oo     dfl_oo  Instances       Size\n"
          ]
        },
        {
          "output_type": "stream",
          "name": "stderr",
          "text": [
            "      24/50      3.06G      1.476      1.038      1.272      1.538      1.263      1.224        249        320: 100%|██████████| 12/12 [00:05<00:00,  2.04it/s]\n",
            "                 Class     Images  Instances      Box(P          R      mAP50  mAP50-95): 100%|██████████| 2/2 [00:01<00:00,  1.37it/s]"
          ]
        },
        {
          "output_type": "stream",
          "name": "stdout",
          "text": [
            "                   all        218        586      0.744      0.544      0.676      0.333\n"
          ]
        },
        {
          "output_type": "stream",
          "name": "stderr",
          "text": [
            "\n"
          ]
        },
        {
          "output_type": "stream",
          "name": "stdout",
          "text": [
            "\n",
            "      Epoch    GPU_mem     box_om     cls_om     dfl_om     box_oo     cls_oo     dfl_oo  Instances       Size\n"
          ]
        },
        {
          "output_type": "stream",
          "name": "stderr",
          "text": [
            "      25/50      3.09G      1.503      1.049      1.285      1.553      1.281      1.247        279        320: 100%|██████████| 12/12 [00:04<00:00,  2.42it/s]\n",
            "                 Class     Images  Instances      Box(P          R      mAP50  mAP50-95): 100%|██████████| 2/2 [00:02<00:00,  1.19s/it]"
          ]
        },
        {
          "output_type": "stream",
          "name": "stdout",
          "text": [
            "                   all        218        586      0.663      0.639      0.655      0.318\n"
          ]
        },
        {
          "output_type": "stream",
          "name": "stderr",
          "text": [
            "\n"
          ]
        },
        {
          "output_type": "stream",
          "name": "stdout",
          "text": [
            "\n",
            "      Epoch    GPU_mem     box_om     cls_om     dfl_om     box_oo     cls_oo     dfl_oo  Instances       Size\n"
          ]
        },
        {
          "output_type": "stream",
          "name": "stderr",
          "text": [
            "      26/50      3.09G      1.453      1.041      1.288       1.52      1.275       1.25        228        320: 100%|██████████| 12/12 [00:07<00:00,  1.70it/s]\n",
            "                 Class     Images  Instances      Box(P          R      mAP50  mAP50-95): 100%|██████████| 2/2 [00:01<00:00,  1.24it/s]"
          ]
        },
        {
          "output_type": "stream",
          "name": "stdout",
          "text": [
            "                   all        218        586      0.714      0.624      0.725      0.346\n"
          ]
        },
        {
          "output_type": "stream",
          "name": "stderr",
          "text": [
            "\n"
          ]
        },
        {
          "output_type": "stream",
          "name": "stdout",
          "text": [
            "\n",
            "      Epoch    GPU_mem     box_om     cls_om     dfl_om     box_oo     cls_oo     dfl_oo  Instances       Size\n"
          ]
        },
        {
          "output_type": "stream",
          "name": "stderr",
          "text": [
            "      27/50      3.08G      1.431      1.002      1.267      1.497      1.227      1.239        259        320: 100%|██████████| 12/12 [00:05<00:00,  2.35it/s]\n",
            "                 Class     Images  Instances      Box(P          R      mAP50  mAP50-95): 100%|██████████| 2/2 [00:01<00:00,  1.40it/s]"
          ]
        },
        {
          "output_type": "stream",
          "name": "stdout",
          "text": [
            "                   all        218        586      0.678      0.575      0.627      0.302\n"
          ]
        },
        {
          "output_type": "stream",
          "name": "stderr",
          "text": [
            "\n"
          ]
        },
        {
          "output_type": "stream",
          "name": "stdout",
          "text": [
            "\n",
            "      Epoch    GPU_mem     box_om     cls_om     dfl_om     box_oo     cls_oo     dfl_oo  Instances       Size\n"
          ]
        },
        {
          "output_type": "stream",
          "name": "stderr",
          "text": [
            "      28/50      3.07G      1.452     0.9872      1.273      1.501      1.215      1.228        264        320: 100%|██████████| 12/12 [00:07<00:00,  1.51it/s]\n",
            "                 Class     Images  Instances      Box(P          R      mAP50  mAP50-95): 100%|██████████| 2/2 [00:02<00:00,  1.01s/it]"
          ]
        },
        {
          "output_type": "stream",
          "name": "stdout",
          "text": [
            "                   all        218        586      0.666      0.727      0.736      0.339\n"
          ]
        },
        {
          "output_type": "stream",
          "name": "stderr",
          "text": [
            "\n"
          ]
        },
        {
          "output_type": "stream",
          "name": "stdout",
          "text": [
            "\n",
            "      Epoch    GPU_mem     box_om     cls_om     dfl_om     box_oo     cls_oo     dfl_oo  Instances       Size\n"
          ]
        },
        {
          "output_type": "stream",
          "name": "stderr",
          "text": [
            "      29/50      3.09G      1.441     0.9971      1.268      1.492      1.239      1.227        252        320: 100%|██████████| 12/12 [00:05<00:00,  2.39it/s]\n",
            "                 Class     Images  Instances      Box(P          R      mAP50  mAP50-95): 100%|██████████| 2/2 [00:01<00:00,  1.46it/s]"
          ]
        },
        {
          "output_type": "stream",
          "name": "stdout",
          "text": [
            "                   all        218        586      0.718      0.707       0.72      0.349\n"
          ]
        },
        {
          "output_type": "stream",
          "name": "stderr",
          "text": [
            "\n"
          ]
        },
        {
          "output_type": "stream",
          "name": "stdout",
          "text": [
            "\n",
            "      Epoch    GPU_mem     box_om     cls_om     dfl_om     box_oo     cls_oo     dfl_oo  Instances       Size\n"
          ]
        },
        {
          "output_type": "stream",
          "name": "stderr",
          "text": [
            "      30/50      3.06G      1.429     0.9731      1.256      1.506      1.174       1.23        241        320: 100%|██████████| 12/12 [00:07<00:00,  1.69it/s]\n",
            "                 Class     Images  Instances      Box(P          R      mAP50  mAP50-95): 100%|██████████| 2/2 [00:02<00:00,  1.20s/it]"
          ]
        },
        {
          "output_type": "stream",
          "name": "stdout",
          "text": [
            "                   all        218        586      0.713      0.755      0.769      0.367\n"
          ]
        },
        {
          "output_type": "stream",
          "name": "stderr",
          "text": [
            "\n"
          ]
        },
        {
          "output_type": "stream",
          "name": "stdout",
          "text": [
            "\n",
            "      Epoch    GPU_mem     box_om     cls_om     dfl_om     box_oo     cls_oo     dfl_oo  Instances       Size\n"
          ]
        },
        {
          "output_type": "stream",
          "name": "stderr",
          "text": [
            "      31/50      3.08G      1.425     0.9656      1.254      1.505      1.183      1.229        282        320: 100%|██████████| 12/12 [00:05<00:00,  2.40it/s]\n",
            "                 Class     Images  Instances      Box(P          R      mAP50  mAP50-95): 100%|██████████| 2/2 [00:01<00:00,  1.74it/s]"
          ]
        },
        {
          "output_type": "stream",
          "name": "stdout",
          "text": [
            "                   all        218        586      0.584      0.687      0.671      0.327\n"
          ]
        },
        {
          "output_type": "stream",
          "name": "stderr",
          "text": [
            "\n"
          ]
        },
        {
          "output_type": "stream",
          "name": "stdout",
          "text": [
            "\n",
            "      Epoch    GPU_mem     box_om     cls_om     dfl_om     box_oo     cls_oo     dfl_oo  Instances       Size\n"
          ]
        },
        {
          "output_type": "stream",
          "name": "stderr",
          "text": [
            "      32/50      3.08G      1.419      0.967      1.264      1.486      1.178      1.238        309        320: 100%|██████████| 12/12 [00:06<00:00,  1.83it/s]\n",
            "                 Class     Images  Instances      Box(P          R      mAP50  mAP50-95): 100%|██████████| 2/2 [00:03<00:00,  1.70s/it]"
          ]
        },
        {
          "output_type": "stream",
          "name": "stdout",
          "text": [
            "                   all        218        586      0.727      0.687      0.745      0.367\n"
          ]
        },
        {
          "output_type": "stream",
          "name": "stderr",
          "text": [
            "\n"
          ]
        },
        {
          "output_type": "stream",
          "name": "stdout",
          "text": [
            "\n",
            "      Epoch    GPU_mem     box_om     cls_om     dfl_om     box_oo     cls_oo     dfl_oo  Instances       Size\n"
          ]
        },
        {
          "output_type": "stream",
          "name": "stderr",
          "text": [
            "      33/50      3.09G      1.411     0.9594      1.255      1.485      1.165      1.228        264        320: 100%|██████████| 12/12 [00:05<00:00,  2.38it/s]\n",
            "                 Class     Images  Instances      Box(P          R      mAP50  mAP50-95): 100%|██████████| 2/2 [00:01<00:00,  1.49it/s]"
          ]
        },
        {
          "output_type": "stream",
          "name": "stdout",
          "text": [
            "                   all        218        586      0.794      0.662      0.768      0.365\n"
          ]
        },
        {
          "output_type": "stream",
          "name": "stderr",
          "text": [
            "\n"
          ]
        },
        {
          "output_type": "stream",
          "name": "stdout",
          "text": [
            "\n",
            "      Epoch    GPU_mem     box_om     cls_om     dfl_om     box_oo     cls_oo     dfl_oo  Instances       Size\n"
          ]
        },
        {
          "output_type": "stream",
          "name": "stderr",
          "text": [
            "      34/50      3.06G      1.374     0.9302      1.233      1.438      1.129      1.202        247        320: 100%|██████████| 12/12 [00:05<00:00,  2.04it/s]\n",
            "                 Class     Images  Instances      Box(P          R      mAP50  mAP50-95): 100%|██████████| 2/2 [00:02<00:00,  1.33s/it]"
          ]
        },
        {
          "output_type": "stream",
          "name": "stdout",
          "text": [
            "                   all        218        586       0.72      0.755      0.783      0.388\n"
          ]
        },
        {
          "output_type": "stream",
          "name": "stderr",
          "text": [
            "\n"
          ]
        },
        {
          "output_type": "stream",
          "name": "stdout",
          "text": [
            "\n",
            "      Epoch    GPU_mem     box_om     cls_om     dfl_om     box_oo     cls_oo     dfl_oo  Instances       Size\n"
          ]
        },
        {
          "output_type": "stream",
          "name": "stderr",
          "text": [
            "      35/50      3.09G       1.38     0.9253      1.232      1.472      1.096      1.205        281        320: 100%|██████████| 12/12 [00:05<00:00,  2.06it/s]\n",
            "                 Class     Images  Instances      Box(P          R      mAP50  mAP50-95): 100%|██████████| 2/2 [00:01<00:00,  1.50it/s]"
          ]
        },
        {
          "output_type": "stream",
          "name": "stdout",
          "text": [
            "                   all        218        586      0.793      0.728      0.788      0.388\n"
          ]
        },
        {
          "output_type": "stream",
          "name": "stderr",
          "text": [
            "\n"
          ]
        },
        {
          "output_type": "stream",
          "name": "stdout",
          "text": [
            "\n",
            "      Epoch    GPU_mem     box_om     cls_om     dfl_om     box_oo     cls_oo     dfl_oo  Instances       Size\n"
          ]
        },
        {
          "output_type": "stream",
          "name": "stderr",
          "text": [
            "      36/50      3.09G      1.368      0.898      1.221      1.439      1.077      1.194        262        320: 100%|██████████| 12/12 [00:05<00:00,  2.38it/s]\n",
            "                 Class     Images  Instances      Box(P          R      mAP50  mAP50-95): 100%|██████████| 2/2 [00:02<00:00,  1.16s/it]"
          ]
        },
        {
          "output_type": "stream",
          "name": "stdout",
          "text": [
            "                   all        218        586      0.713      0.781      0.797      0.403\n"
          ]
        },
        {
          "output_type": "stream",
          "name": "stderr",
          "text": [
            "\n"
          ]
        },
        {
          "output_type": "stream",
          "name": "stdout",
          "text": [
            "\n",
            "      Epoch    GPU_mem     box_om     cls_om     dfl_om     box_oo     cls_oo     dfl_oo  Instances       Size\n"
          ]
        },
        {
          "output_type": "stream",
          "name": "stderr",
          "text": [
            "      37/50      3.09G      1.351     0.8865      1.215      1.425      1.071       1.19        266        320: 100%|██████████| 12/12 [00:05<00:00,  2.10it/s]\n",
            "                 Class     Images  Instances      Box(P          R      mAP50  mAP50-95): 100%|██████████| 2/2 [00:01<00:00,  1.63it/s]"
          ]
        },
        {
          "output_type": "stream",
          "name": "stdout",
          "text": [
            "                   all        218        586      0.806      0.689      0.796      0.401\n"
          ]
        },
        {
          "output_type": "stream",
          "name": "stderr",
          "text": [
            "\n"
          ]
        },
        {
          "output_type": "stream",
          "name": "stdout",
          "text": [
            "\n",
            "      Epoch    GPU_mem     box_om     cls_om     dfl_om     box_oo     cls_oo     dfl_oo  Instances       Size\n"
          ]
        },
        {
          "output_type": "stream",
          "name": "stderr",
          "text": [
            "      38/50      3.08G      1.322     0.8806      1.214      1.397      1.075      1.189        278        320: 100%|██████████| 12/12 [00:05<00:00,  2.26it/s]\n",
            "                 Class     Images  Instances      Box(P          R      mAP50  mAP50-95): 100%|██████████| 2/2 [00:02<00:00,  1.03s/it]"
          ]
        },
        {
          "output_type": "stream",
          "name": "stdout",
          "text": [
            "                   all        218        586       0.81      0.692      0.775      0.397\n"
          ]
        },
        {
          "output_type": "stream",
          "name": "stderr",
          "text": [
            "\n"
          ]
        },
        {
          "output_type": "stream",
          "name": "stdout",
          "text": [
            "\n",
            "      Epoch    GPU_mem     box_om     cls_om     dfl_om     box_oo     cls_oo     dfl_oo  Instances       Size\n"
          ]
        },
        {
          "output_type": "stream",
          "name": "stderr",
          "text": [
            "      39/50      3.09G      1.327      0.857      1.208      1.396      1.033      1.188        265        320: 100%|██████████| 12/12 [00:06<00:00,  1.93it/s]\n",
            "                 Class     Images  Instances      Box(P          R      mAP50  mAP50-95): 100%|██████████| 2/2 [00:01<00:00,  1.30it/s]"
          ]
        },
        {
          "output_type": "stream",
          "name": "stdout",
          "text": [
            "                   all        218        586      0.844      0.699      0.796      0.407\n"
          ]
        },
        {
          "output_type": "stream",
          "name": "stderr",
          "text": [
            "\n"
          ]
        },
        {
          "output_type": "stream",
          "name": "stdout",
          "text": [
            "\n",
            "      Epoch    GPU_mem     box_om     cls_om     dfl_om     box_oo     cls_oo     dfl_oo  Instances       Size\n"
          ]
        },
        {
          "output_type": "stream",
          "name": "stderr",
          "text": [
            "      40/50      3.07G      1.318     0.8587      1.202      1.396      1.039      1.182        264        320: 100%|██████████| 12/12 [00:04<00:00,  2.41it/s]\n",
            "                 Class     Images  Instances      Box(P          R      mAP50  mAP50-95): 100%|██████████| 2/2 [00:02<00:00,  1.02s/it]"
          ]
        },
        {
          "output_type": "stream",
          "name": "stdout",
          "text": [
            "                   all        218        586      0.822      0.672      0.784       0.38\n"
          ]
        },
        {
          "output_type": "stream",
          "name": "stderr",
          "text": [
            "\n"
          ]
        },
        {
          "output_type": "stream",
          "name": "stdout",
          "text": [
            "Closing dataloader mosaic\n",
            "\u001b[34m\u001b[1malbumentations: \u001b[0mBlur(p=0.01, blur_limit=(3, 7)), MedianBlur(p=0.01, blur_limit=(3, 7)), ToGray(p=0.01), CLAHE(p=0.01, clip_limit=(1, 4.0), tile_grid_size=(8, 8))\n"
          ]
        },
        {
          "output_type": "stream",
          "name": "stderr",
          "text": [
            "/usr/lib/python3.10/multiprocessing/popen_fork.py:66: RuntimeWarning: os.fork() was called. os.fork() is incompatible with multithreaded code, and JAX is multithreaded, so this will likely lead to a deadlock.\n",
            "  self.pid = os.fork()\n"
          ]
        },
        {
          "output_type": "stream",
          "name": "stdout",
          "text": [
            "\n",
            "      Epoch    GPU_mem     box_om     cls_om     dfl_om     box_oo     cls_oo     dfl_oo  Instances       Size\n"
          ]
        },
        {
          "output_type": "stream",
          "name": "stderr",
          "text": [
            "      41/50      3.09G      1.305     0.8251      1.185      1.375     0.9058      1.167        154        320: 100%|██████████| 12/12 [00:09<00:00,  1.30it/s]\n",
            "                 Class     Images  Instances      Box(P          R      mAP50  mAP50-95): 100%|██████████| 2/2 [00:01<00:00,  1.64it/s]"
          ]
        },
        {
          "output_type": "stream",
          "name": "stdout",
          "text": [
            "                   all        218        586      0.751      0.743      0.807      0.408\n"
          ]
        },
        {
          "output_type": "stream",
          "name": "stderr",
          "text": [
            "\n"
          ]
        },
        {
          "output_type": "stream",
          "name": "stdout",
          "text": [
            "\n",
            "      Epoch    GPU_mem     box_om     cls_om     dfl_om     box_oo     cls_oo     dfl_oo  Instances       Size\n"
          ]
        },
        {
          "output_type": "stream",
          "name": "stderr",
          "text": [
            "      42/50      3.06G      1.277      0.736       1.19      1.345     0.8094      1.169        154        320: 100%|██████████| 12/12 [00:06<00:00,  1.90it/s]\n",
            "                 Class     Images  Instances      Box(P          R      mAP50  mAP50-95): 100%|██████████| 2/2 [00:02<00:00,  1.47s/it]"
          ]
        },
        {
          "output_type": "stream",
          "name": "stdout",
          "text": [
            "                   all        218        586      0.739      0.723      0.784        0.4\n"
          ]
        },
        {
          "output_type": "stream",
          "name": "stderr",
          "text": [
            "\n"
          ]
        },
        {
          "output_type": "stream",
          "name": "stdout",
          "text": [
            "\n",
            "      Epoch    GPU_mem     box_om     cls_om     dfl_om     box_oo     cls_oo     dfl_oo  Instances       Size\n"
          ]
        },
        {
          "output_type": "stream",
          "name": "stderr",
          "text": [
            "      43/50      3.06G      1.282     0.7155      1.183      1.359     0.7804      1.162        153        320: 100%|██████████| 12/12 [00:04<00:00,  2.54it/s]\n",
            "                 Class     Images  Instances      Box(P          R      mAP50  mAP50-95): 100%|██████████| 2/2 [00:01<00:00,  1.83it/s]"
          ]
        },
        {
          "output_type": "stream",
          "name": "stdout",
          "text": [
            "                   all        218        586       0.77      0.722      0.795       0.39\n"
          ]
        },
        {
          "output_type": "stream",
          "name": "stderr",
          "text": [
            "\n"
          ]
        },
        {
          "output_type": "stream",
          "name": "stdout",
          "text": [
            "\n",
            "      Epoch    GPU_mem     box_om     cls_om     dfl_om     box_oo     cls_oo     dfl_oo  Instances       Size\n"
          ]
        },
        {
          "output_type": "stream",
          "name": "stderr",
          "text": [
            "      44/50      3.06G      1.249      0.699      1.175      1.308     0.7606      1.147        147        320: 100%|██████████| 12/12 [00:04<00:00,  2.44it/s]\n",
            "                 Class     Images  Instances      Box(P          R      mAP50  mAP50-95): 100%|██████████| 2/2 [00:02<00:00,  1.08s/it]"
          ]
        },
        {
          "output_type": "stream",
          "name": "stdout",
          "text": [
            "                   all        218        586      0.756      0.684      0.794       0.38\n"
          ]
        },
        {
          "output_type": "stream",
          "name": "stderr",
          "text": [
            "\n"
          ]
        },
        {
          "output_type": "stream",
          "name": "stdout",
          "text": [
            "\n",
            "      Epoch    GPU_mem     box_om     cls_om     dfl_om     box_oo     cls_oo     dfl_oo  Instances       Size\n"
          ]
        },
        {
          "output_type": "stream",
          "name": "stderr",
          "text": [
            "      45/50      3.06G      1.266     0.6825       1.18      1.339      0.743      1.163        156        320: 100%|██████████| 12/12 [00:06<00:00,  1.97it/s]\n",
            "                 Class     Images  Instances      Box(P          R      mAP50  mAP50-95): 100%|██████████| 2/2 [00:01<00:00,  1.66it/s]"
          ]
        },
        {
          "output_type": "stream",
          "name": "stdout",
          "text": [
            "                   all        218        586      0.746      0.738       0.81      0.419\n"
          ]
        },
        {
          "output_type": "stream",
          "name": "stderr",
          "text": [
            "\n"
          ]
        },
        {
          "output_type": "stream",
          "name": "stdout",
          "text": [
            "\n",
            "      Epoch    GPU_mem     box_om     cls_om     dfl_om     box_oo     cls_oo     dfl_oo  Instances       Size\n"
          ]
        },
        {
          "output_type": "stream",
          "name": "stderr",
          "text": [
            "      46/50      3.06G      1.218       0.68      1.162      1.282     0.7479      1.149        146        320: 100%|██████████| 12/12 [00:04<00:00,  2.61it/s]\n",
            "                 Class     Images  Instances      Box(P          R      mAP50  mAP50-95): 100%|██████████| 2/2 [00:01<00:00,  1.33it/s]"
          ]
        },
        {
          "output_type": "stream",
          "name": "stdout",
          "text": [
            "                   all        218        586      0.781       0.75      0.816      0.417\n"
          ]
        },
        {
          "output_type": "stream",
          "name": "stderr",
          "text": [
            "\n"
          ]
        },
        {
          "output_type": "stream",
          "name": "stdout",
          "text": [
            "\n",
            "      Epoch    GPU_mem     box_om     cls_om     dfl_om     box_oo     cls_oo     dfl_oo  Instances       Size\n"
          ]
        },
        {
          "output_type": "stream",
          "name": "stderr",
          "text": [
            "      47/50      3.04G      1.199     0.6487      1.142      1.258     0.6897      1.133        173        320: 100%|██████████| 12/12 [00:06<00:00,  1.72it/s]\n",
            "                 Class     Images  Instances      Box(P          R      mAP50  mAP50-95): 100%|██████████| 2/2 [00:01<00:00,  1.52it/s]"
          ]
        },
        {
          "output_type": "stream",
          "name": "stdout",
          "text": [
            "                   all        218        586      0.769      0.798       0.82       0.42\n"
          ]
        },
        {
          "output_type": "stream",
          "name": "stderr",
          "text": [
            "\n"
          ]
        },
        {
          "output_type": "stream",
          "name": "stdout",
          "text": [
            "\n",
            "      Epoch    GPU_mem     box_om     cls_om     dfl_om     box_oo     cls_oo     dfl_oo  Instances       Size\n"
          ]
        },
        {
          "output_type": "stream",
          "name": "stderr",
          "text": [
            "      48/50      3.06G       1.19     0.6487      1.138      1.259     0.7026      1.124        160        320: 100%|██████████| 12/12 [00:04<00:00,  2.61it/s]\n",
            "                 Class     Images  Instances      Box(P          R      mAP50  mAP50-95): 100%|██████████| 2/2 [00:01<00:00,  1.73it/s]"
          ]
        },
        {
          "output_type": "stream",
          "name": "stdout",
          "text": [
            "                   all        218        586      0.789      0.759      0.832      0.425\n"
          ]
        },
        {
          "output_type": "stream",
          "name": "stderr",
          "text": [
            "\n"
          ]
        },
        {
          "output_type": "stream",
          "name": "stdout",
          "text": [
            "\n",
            "      Epoch    GPU_mem     box_om     cls_om     dfl_om     box_oo     cls_oo     dfl_oo  Instances       Size\n"
          ]
        },
        {
          "output_type": "stream",
          "name": "stderr",
          "text": [
            "      49/50      3.06G      1.177       0.64      1.139      1.244     0.6829      1.121        153        320: 100%|██████████| 12/12 [00:07<00:00,  1.69it/s]\n",
            "                 Class     Images  Instances      Box(P          R      mAP50  mAP50-95): 100%|██████████| 2/2 [00:02<00:00,  1.43s/it]"
          ]
        },
        {
          "output_type": "stream",
          "name": "stdout",
          "text": [
            "                   all        218        586      0.806      0.787      0.843      0.425\n"
          ]
        },
        {
          "output_type": "stream",
          "name": "stderr",
          "text": [
            "\n"
          ]
        },
        {
          "output_type": "stream",
          "name": "stdout",
          "text": [
            "\n",
            "      Epoch    GPU_mem     box_om     cls_om     dfl_om     box_oo     cls_oo     dfl_oo  Instances       Size\n"
          ]
        },
        {
          "output_type": "stream",
          "name": "stderr",
          "text": [
            "      50/50      3.08G      1.164     0.6204      1.134       1.23     0.6659      1.121        164        320: 100%|██████████| 12/12 [00:04<00:00,  2.59it/s]\n",
            "                 Class     Images  Instances      Box(P          R      mAP50  mAP50-95): 100%|██████████| 2/2 [00:01<00:00,  1.80it/s]"
          ]
        },
        {
          "output_type": "stream",
          "name": "stdout",
          "text": [
            "                   all        218        586      0.798      0.762      0.842      0.429\n"
          ]
        },
        {
          "output_type": "stream",
          "name": "stderr",
          "text": [
            "\n"
          ]
        },
        {
          "output_type": "stream",
          "name": "stdout",
          "text": [
            "\n",
            "50 epochs completed in 0.125 hours.\n",
            "Optimizer stripped from /content/yolov10/runs/detect/train/weights/last.pt, 5.7MB\n",
            "Optimizer stripped from /content/yolov10/runs/detect/train/weights/best.pt, 5.7MB\n",
            "\n",
            "Validating /content/yolov10/runs/detect/train/weights/best.pt...\n",
            "Ultralytics YOLOv8.1.34 🚀 Python-3.10.12 torch-2.0.1+cu117 CUDA:0 (Tesla T4, 15102MiB)\n",
            "YOLOv10n summary (fused): 285 layers, 2695586 parameters, 0 gradients, 8.2 GFLOPs\n"
          ]
        },
        {
          "output_type": "stream",
          "name": "stderr",
          "text": [
            "                 Class     Images  Instances      Box(P          R      mAP50  mAP50-95): 100%|██████████| 2/2 [00:02<00:00,  1.40s/it]\n"
          ]
        },
        {
          "output_type": "stream",
          "name": "stdout",
          "text": [
            "                   all        218        586        0.8      0.762      0.841       0.43\n",
            "                  head        218         27      0.783       0.63      0.757       0.38\n",
            "                helmet        218        285      0.843      0.849      0.913      0.449\n",
            "                person        218        274      0.775      0.807      0.852       0.46\n",
            "Speed: 1.4ms preprocess, 1.5ms inference, 0.0ms loss, 0.1ms postprocess per image\n",
            "Results saved to \u001b[1m/content/yolov10/runs/detect/train\u001b[0m\n"
          ]
        },
        {
          "output_type": "execute_result",
          "data": {
            "text/plain": [
              "ultralytics.utils.metrics.DetMetrics object with attributes:\n",
              "\n",
              "ap_class_index: array([0, 1, 2])\n",
              "box: ultralytics.utils.metrics.Metric object\n",
              "confusion_matrix: <ultralytics.utils.metrics.ConfusionMatrix object at 0x7cb228611480>\n",
              "curves: ['Precision-Recall(B)', 'F1-Confidence(B)', 'Precision-Confidence(B)', 'Recall-Confidence(B)']\n",
              "curves_results: [[array([          0,    0.001001,    0.002002,    0.003003,    0.004004,    0.005005,    0.006006,    0.007007,    0.008008,    0.009009,     0.01001,    0.011011,    0.012012,    0.013013,    0.014014,    0.015015,    0.016016,    0.017017,    0.018018,    0.019019,     0.02002,    0.021021,    0.022022,    0.023023,\n",
              "          0.024024,    0.025025,    0.026026,    0.027027,    0.028028,    0.029029,     0.03003,    0.031031,    0.032032,    0.033033,    0.034034,    0.035035,    0.036036,    0.037037,    0.038038,    0.039039,     0.04004,    0.041041,    0.042042,    0.043043,    0.044044,    0.045045,    0.046046,    0.047047,\n",
              "          0.048048,    0.049049,     0.05005,    0.051051,    0.052052,    0.053053,    0.054054,    0.055055,    0.056056,    0.057057,    0.058058,    0.059059,     0.06006,    0.061061,    0.062062,    0.063063,    0.064064,    0.065065,    0.066066,    0.067067,    0.068068,    0.069069,     0.07007,    0.071071,\n",
              "          0.072072,    0.073073,    0.074074,    0.075075,    0.076076,    0.077077,    0.078078,    0.079079,     0.08008,    0.081081,    0.082082,    0.083083,    0.084084,    0.085085,    0.086086,    0.087087,    0.088088,    0.089089,     0.09009,    0.091091,    0.092092,    0.093093,    0.094094,    0.095095,\n",
              "          0.096096,    0.097097,    0.098098,    0.099099,      0.1001,      0.1011,      0.1021,      0.1031,      0.1041,     0.10511,     0.10611,     0.10711,     0.10811,     0.10911,     0.11011,     0.11111,     0.11211,     0.11311,     0.11411,     0.11512,     0.11612,     0.11712,     0.11812,     0.11912,\n",
              "           0.12012,     0.12112,     0.12212,     0.12312,     0.12412,     0.12513,     0.12613,     0.12713,     0.12813,     0.12913,     0.13013,     0.13113,     0.13213,     0.13313,     0.13413,     0.13514,     0.13614,     0.13714,     0.13814,     0.13914,     0.14014,     0.14114,     0.14214,     0.14314,\n",
              "           0.14414,     0.14515,     0.14615,     0.14715,     0.14815,     0.14915,     0.15015,     0.15115,     0.15215,     0.15315,     0.15415,     0.15516,     0.15616,     0.15716,     0.15816,     0.15916,     0.16016,     0.16116,     0.16216,     0.16316,     0.16416,     0.16517,     0.16617,     0.16717,\n",
              "           0.16817,     0.16917,     0.17017,     0.17117,     0.17217,     0.17317,     0.17417,     0.17518,     0.17618,     0.17718,     0.17818,     0.17918,     0.18018,     0.18118,     0.18218,     0.18318,     0.18418,     0.18519,     0.18619,     0.18719,     0.18819,     0.18919,     0.19019,     0.19119,\n",
              "           0.19219,     0.19319,     0.19419,      0.1952,      0.1962,      0.1972,      0.1982,      0.1992,      0.2002,      0.2012,      0.2022,      0.2032,      0.2042,     0.20521,     0.20621,     0.20721,     0.20821,     0.20921,     0.21021,     0.21121,     0.21221,     0.21321,     0.21421,     0.21522,\n",
              "           0.21622,     0.21722,     0.21822,     0.21922,     0.22022,     0.22122,     0.22222,     0.22322,     0.22422,     0.22523,     0.22623,     0.22723,     0.22823,     0.22923,     0.23023,     0.23123,     0.23223,     0.23323,     0.23423,     0.23524,     0.23624,     0.23724,     0.23824,     0.23924,\n",
              "           0.24024,     0.24124,     0.24224,     0.24324,     0.24424,     0.24525,     0.24625,     0.24725,     0.24825,     0.24925,     0.25025,     0.25125,     0.25225,     0.25325,     0.25425,     0.25526,     0.25626,     0.25726,     0.25826,     0.25926,     0.26026,     0.26126,     0.26226,     0.26326,\n",
              "           0.26426,     0.26527,     0.26627,     0.26727,     0.26827,     0.26927,     0.27027,     0.27127,     0.27227,     0.27327,     0.27427,     0.27528,     0.27628,     0.27728,     0.27828,     0.27928,     0.28028,     0.28128,     0.28228,     0.28328,     0.28428,     0.28529,     0.28629,     0.28729,\n",
              "           0.28829,     0.28929,     0.29029,     0.29129,     0.29229,     0.29329,     0.29429,      0.2953,      0.2963,      0.2973,      0.2983,      0.2993,      0.3003,      0.3013,      0.3023,      0.3033,      0.3043,     0.30531,     0.30631,     0.30731,     0.30831,     0.30931,     0.31031,     0.31131,\n",
              "           0.31231,     0.31331,     0.31431,     0.31532,     0.31632,     0.31732,     0.31832,     0.31932,     0.32032,     0.32132,     0.32232,     0.32332,     0.32432,     0.32533,     0.32633,     0.32733,     0.32833,     0.32933,     0.33033,     0.33133,     0.33233,     0.33333,     0.33433,     0.33534,\n",
              "           0.33634,     0.33734,     0.33834,     0.33934,     0.34034,     0.34134,     0.34234,     0.34334,     0.34434,     0.34535,     0.34635,     0.34735,     0.34835,     0.34935,     0.35035,     0.35135,     0.35235,     0.35335,     0.35435,     0.35536,     0.35636,     0.35736,     0.35836,     0.35936,\n",
              "           0.36036,     0.36136,     0.36236,     0.36336,     0.36436,     0.36537,     0.36637,     0.36737,     0.36837,     0.36937,     0.37037,     0.37137,     0.37237,     0.37337,     0.37437,     0.37538,     0.37638,     0.37738,     0.37838,     0.37938,     0.38038,     0.38138,     0.38238,     0.38338,\n",
              "           0.38438,     0.38539,     0.38639,     0.38739,     0.38839,     0.38939,     0.39039,     0.39139,     0.39239,     0.39339,     0.39439,      0.3954,      0.3964,      0.3974,      0.3984,      0.3994,      0.4004,      0.4014,      0.4024,      0.4034,      0.4044,     0.40541,     0.40641,     0.40741,\n",
              "           0.40841,     0.40941,     0.41041,     0.41141,     0.41241,     0.41341,     0.41441,     0.41542,     0.41642,     0.41742,     0.41842,     0.41942,     0.42042,     0.42142,     0.42242,     0.42342,     0.42442,     0.42543,     0.42643,     0.42743,     0.42843,     0.42943,     0.43043,     0.43143,\n",
              "           0.43243,     0.43343,     0.43443,     0.43544,     0.43644,     0.43744,     0.43844,     0.43944,     0.44044,     0.44144,     0.44244,     0.44344,     0.44444,     0.44545,     0.44645,     0.44745,     0.44845,     0.44945,     0.45045,     0.45145,     0.45245,     0.45345,     0.45445,     0.45546,\n",
              "           0.45646,     0.45746,     0.45846,     0.45946,     0.46046,     0.46146,     0.46246,     0.46346,     0.46446,     0.46547,     0.46647,     0.46747,     0.46847,     0.46947,     0.47047,     0.47147,     0.47247,     0.47347,     0.47447,     0.47548,     0.47648,     0.47748,     0.47848,     0.47948,\n",
              "           0.48048,     0.48148,     0.48248,     0.48348,     0.48448,     0.48549,     0.48649,     0.48749,     0.48849,     0.48949,     0.49049,     0.49149,     0.49249,     0.49349,     0.49449,      0.4955,      0.4965,      0.4975,      0.4985,      0.4995,      0.5005,      0.5015,      0.5025,      0.5035,\n",
              "            0.5045,     0.50551,     0.50651,     0.50751,     0.50851,     0.50951,     0.51051,     0.51151,     0.51251,     0.51351,     0.51451,     0.51552,     0.51652,     0.51752,     0.51852,     0.51952,     0.52052,     0.52152,     0.52252,     0.52352,     0.52452,     0.52553,     0.52653,     0.52753,\n",
              "           0.52853,     0.52953,     0.53053,     0.53153,     0.53253,     0.53353,     0.53453,     0.53554,     0.53654,     0.53754,     0.53854,     0.53954,     0.54054,     0.54154,     0.54254,     0.54354,     0.54454,     0.54555,     0.54655,     0.54755,     0.54855,     0.54955,     0.55055,     0.55155,\n",
              "           0.55255,     0.55355,     0.55455,     0.55556,     0.55656,     0.55756,     0.55856,     0.55956,     0.56056,     0.56156,     0.56256,     0.56356,     0.56456,     0.56557,     0.56657,     0.56757,     0.56857,     0.56957,     0.57057,     0.57157,     0.57257,     0.57357,     0.57457,     0.57558,\n",
              "           0.57658,     0.57758,     0.57858,     0.57958,     0.58058,     0.58158,     0.58258,     0.58358,     0.58458,     0.58559,     0.58659,     0.58759,     0.58859,     0.58959,     0.59059,     0.59159,     0.59259,     0.59359,     0.59459,      0.5956,      0.5966,      0.5976,      0.5986,      0.5996,\n",
              "            0.6006,      0.6016,      0.6026,      0.6036,      0.6046,     0.60561,     0.60661,     0.60761,     0.60861,     0.60961,     0.61061,     0.61161,     0.61261,     0.61361,     0.61461,     0.61562,     0.61662,     0.61762,     0.61862,     0.61962,     0.62062,     0.62162,     0.62262,     0.62362,\n",
              "           0.62462,     0.62563,     0.62663,     0.62763,     0.62863,     0.62963,     0.63063,     0.63163,     0.63263,     0.63363,     0.63463,     0.63564,     0.63664,     0.63764,     0.63864,     0.63964,     0.64064,     0.64164,     0.64264,     0.64364,     0.64464,     0.64565,     0.64665,     0.64765,\n",
              "           0.64865,     0.64965,     0.65065,     0.65165,     0.65265,     0.65365,     0.65465,     0.65566,     0.65666,     0.65766,     0.65866,     0.65966,     0.66066,     0.66166,     0.66266,     0.66366,     0.66466,     0.66567,     0.66667,     0.66767,     0.66867,     0.66967,     0.67067,     0.67167,\n",
              "           0.67267,     0.67367,     0.67467,     0.67568,     0.67668,     0.67768,     0.67868,     0.67968,     0.68068,     0.68168,     0.68268,     0.68368,     0.68468,     0.68569,     0.68669,     0.68769,     0.68869,     0.68969,     0.69069,     0.69169,     0.69269,     0.69369,     0.69469,      0.6957,\n",
              "            0.6967,      0.6977,      0.6987,      0.6997,      0.7007,      0.7017,      0.7027,      0.7037,      0.7047,     0.70571,     0.70671,     0.70771,     0.70871,     0.70971,     0.71071,     0.71171,     0.71271,     0.71371,     0.71471,     0.71572,     0.71672,     0.71772,     0.71872,     0.71972,\n",
              "           0.72072,     0.72172,     0.72272,     0.72372,     0.72472,     0.72573,     0.72673,     0.72773,     0.72873,     0.72973,     0.73073,     0.73173,     0.73273,     0.73373,     0.73473,     0.73574,     0.73674,     0.73774,     0.73874,     0.73974,     0.74074,     0.74174,     0.74274,     0.74374,\n",
              "           0.74474,     0.74575,     0.74675,     0.74775,     0.74875,     0.74975,     0.75075,     0.75175,     0.75275,     0.75375,     0.75475,     0.75576,     0.75676,     0.75776,     0.75876,     0.75976,     0.76076,     0.76176,     0.76276,     0.76376,     0.76476,     0.76577,     0.76677,     0.76777,\n",
              "           0.76877,     0.76977,     0.77077,     0.77177,     0.77277,     0.77377,     0.77477,     0.77578,     0.77678,     0.77778,     0.77878,     0.77978,     0.78078,     0.78178,     0.78278,     0.78378,     0.78478,     0.78579,     0.78679,     0.78779,     0.78879,     0.78979,     0.79079,     0.79179,\n",
              "           0.79279,     0.79379,     0.79479,      0.7958,      0.7968,      0.7978,      0.7988,      0.7998,      0.8008,      0.8018,      0.8028,      0.8038,      0.8048,     0.80581,     0.80681,     0.80781,     0.80881,     0.80981,     0.81081,     0.81181,     0.81281,     0.81381,     0.81481,     0.81582,\n",
              "           0.81682,     0.81782,     0.81882,     0.81982,     0.82082,     0.82182,     0.82282,     0.82382,     0.82482,     0.82583,     0.82683,     0.82783,     0.82883,     0.82983,     0.83083,     0.83183,     0.83283,     0.83383,     0.83483,     0.83584,     0.83684,     0.83784,     0.83884,     0.83984,\n",
              "           0.84084,     0.84184,     0.84284,     0.84384,     0.84484,     0.84585,     0.84685,     0.84785,     0.84885,     0.84985,     0.85085,     0.85185,     0.85285,     0.85385,     0.85485,     0.85586,     0.85686,     0.85786,     0.85886,     0.85986,     0.86086,     0.86186,     0.86286,     0.86386,\n",
              "           0.86486,     0.86587,     0.86687,     0.86787,     0.86887,     0.86987,     0.87087,     0.87187,     0.87287,     0.87387,     0.87487,     0.87588,     0.87688,     0.87788,     0.87888,     0.87988,     0.88088,     0.88188,     0.88288,     0.88388,     0.88488,     0.88589,     0.88689,     0.88789,\n",
              "           0.88889,     0.88989,     0.89089,     0.89189,     0.89289,     0.89389,     0.89489,      0.8959,      0.8969,      0.8979,      0.8989,      0.8999,      0.9009,      0.9019,      0.9029,      0.9039,      0.9049,     0.90591,     0.90691,     0.90791,     0.90891,     0.90991,     0.91091,     0.91191,\n",
              "           0.91291,     0.91391,     0.91491,     0.91592,     0.91692,     0.91792,     0.91892,     0.91992,     0.92092,     0.92192,     0.92292,     0.92392,     0.92492,     0.92593,     0.92693,     0.92793,     0.92893,     0.92993,     0.93093,     0.93193,     0.93293,     0.93393,     0.93493,     0.93594,\n",
              "           0.93694,     0.93794,     0.93894,     0.93994,     0.94094,     0.94194,     0.94294,     0.94394,     0.94494,     0.94595,     0.94695,     0.94795,     0.94895,     0.94995,     0.95095,     0.95195,     0.95295,     0.95395,     0.95495,     0.95596,     0.95696,     0.95796,     0.95896,     0.95996,\n",
              "           0.96096,     0.96196,     0.96296,     0.96396,     0.96496,     0.96597,     0.96697,     0.96797,     0.96897,     0.96997,     0.97097,     0.97197,     0.97297,     0.97397,     0.97497,     0.97598,     0.97698,     0.97798,     0.97898,     0.97998,     0.98098,     0.98198,     0.98298,     0.98398,\n",
              "           0.98498,     0.98599,     0.98699,     0.98799,     0.98899,     0.98999,     0.99099,     0.99199,     0.99299,     0.99399,     0.99499,       0.996,       0.997,       0.998,       0.999,           1]), array([[          1,           1,           1, ...,  0.00033037,  0.00016519,           0],\n",
              "       [          1,           1,           1, ...,    0.006309,   0.0031545,           0],\n",
              "       [          1,           1,           1, ...,   0.0030973,   0.0015487,           0]]), 'Recall', 'Precision'], [array([          0,    0.001001,    0.002002,    0.003003,    0.004004,    0.005005,    0.006006,    0.007007,    0.008008,    0.009009,     0.01001,    0.011011,    0.012012,    0.013013,    0.014014,    0.015015,    0.016016,    0.017017,    0.018018,    0.019019,     0.02002,    0.021021,    0.022022,    0.023023,\n",
              "          0.024024,    0.025025,    0.026026,    0.027027,    0.028028,    0.029029,     0.03003,    0.031031,    0.032032,    0.033033,    0.034034,    0.035035,    0.036036,    0.037037,    0.038038,    0.039039,     0.04004,    0.041041,    0.042042,    0.043043,    0.044044,    0.045045,    0.046046,    0.047047,\n",
              "          0.048048,    0.049049,     0.05005,    0.051051,    0.052052,    0.053053,    0.054054,    0.055055,    0.056056,    0.057057,    0.058058,    0.059059,     0.06006,    0.061061,    0.062062,    0.063063,    0.064064,    0.065065,    0.066066,    0.067067,    0.068068,    0.069069,     0.07007,    0.071071,\n",
              "          0.072072,    0.073073,    0.074074,    0.075075,    0.076076,    0.077077,    0.078078,    0.079079,     0.08008,    0.081081,    0.082082,    0.083083,    0.084084,    0.085085,    0.086086,    0.087087,    0.088088,    0.089089,     0.09009,    0.091091,    0.092092,    0.093093,    0.094094,    0.095095,\n",
              "          0.096096,    0.097097,    0.098098,    0.099099,      0.1001,      0.1011,      0.1021,      0.1031,      0.1041,     0.10511,     0.10611,     0.10711,     0.10811,     0.10911,     0.11011,     0.11111,     0.11211,     0.11311,     0.11411,     0.11512,     0.11612,     0.11712,     0.11812,     0.11912,\n",
              "           0.12012,     0.12112,     0.12212,     0.12312,     0.12412,     0.12513,     0.12613,     0.12713,     0.12813,     0.12913,     0.13013,     0.13113,     0.13213,     0.13313,     0.13413,     0.13514,     0.13614,     0.13714,     0.13814,     0.13914,     0.14014,     0.14114,     0.14214,     0.14314,\n",
              "           0.14414,     0.14515,     0.14615,     0.14715,     0.14815,     0.14915,     0.15015,     0.15115,     0.15215,     0.15315,     0.15415,     0.15516,     0.15616,     0.15716,     0.15816,     0.15916,     0.16016,     0.16116,     0.16216,     0.16316,     0.16416,     0.16517,     0.16617,     0.16717,\n",
              "           0.16817,     0.16917,     0.17017,     0.17117,     0.17217,     0.17317,     0.17417,     0.17518,     0.17618,     0.17718,     0.17818,     0.17918,     0.18018,     0.18118,     0.18218,     0.18318,     0.18418,     0.18519,     0.18619,     0.18719,     0.18819,     0.18919,     0.19019,     0.19119,\n",
              "           0.19219,     0.19319,     0.19419,      0.1952,      0.1962,      0.1972,      0.1982,      0.1992,      0.2002,      0.2012,      0.2022,      0.2032,      0.2042,     0.20521,     0.20621,     0.20721,     0.20821,     0.20921,     0.21021,     0.21121,     0.21221,     0.21321,     0.21421,     0.21522,\n",
              "           0.21622,     0.21722,     0.21822,     0.21922,     0.22022,     0.22122,     0.22222,     0.22322,     0.22422,     0.22523,     0.22623,     0.22723,     0.22823,     0.22923,     0.23023,     0.23123,     0.23223,     0.23323,     0.23423,     0.23524,     0.23624,     0.23724,     0.23824,     0.23924,\n",
              "           0.24024,     0.24124,     0.24224,     0.24324,     0.24424,     0.24525,     0.24625,     0.24725,     0.24825,     0.24925,     0.25025,     0.25125,     0.25225,     0.25325,     0.25425,     0.25526,     0.25626,     0.25726,     0.25826,     0.25926,     0.26026,     0.26126,     0.26226,     0.26326,\n",
              "           0.26426,     0.26527,     0.26627,     0.26727,     0.26827,     0.26927,     0.27027,     0.27127,     0.27227,     0.27327,     0.27427,     0.27528,     0.27628,     0.27728,     0.27828,     0.27928,     0.28028,     0.28128,     0.28228,     0.28328,     0.28428,     0.28529,     0.28629,     0.28729,\n",
              "           0.28829,     0.28929,     0.29029,     0.29129,     0.29229,     0.29329,     0.29429,      0.2953,      0.2963,      0.2973,      0.2983,      0.2993,      0.3003,      0.3013,      0.3023,      0.3033,      0.3043,     0.30531,     0.30631,     0.30731,     0.30831,     0.30931,     0.31031,     0.31131,\n",
              "           0.31231,     0.31331,     0.31431,     0.31532,     0.31632,     0.31732,     0.31832,     0.31932,     0.32032,     0.32132,     0.32232,     0.32332,     0.32432,     0.32533,     0.32633,     0.32733,     0.32833,     0.32933,     0.33033,     0.33133,     0.33233,     0.33333,     0.33433,     0.33534,\n",
              "           0.33634,     0.33734,     0.33834,     0.33934,     0.34034,     0.34134,     0.34234,     0.34334,     0.34434,     0.34535,     0.34635,     0.34735,     0.34835,     0.34935,     0.35035,     0.35135,     0.35235,     0.35335,     0.35435,     0.35536,     0.35636,     0.35736,     0.35836,     0.35936,\n",
              "           0.36036,     0.36136,     0.36236,     0.36336,     0.36436,     0.36537,     0.36637,     0.36737,     0.36837,     0.36937,     0.37037,     0.37137,     0.37237,     0.37337,     0.37437,     0.37538,     0.37638,     0.37738,     0.37838,     0.37938,     0.38038,     0.38138,     0.38238,     0.38338,\n",
              "           0.38438,     0.38539,     0.38639,     0.38739,     0.38839,     0.38939,     0.39039,     0.39139,     0.39239,     0.39339,     0.39439,      0.3954,      0.3964,      0.3974,      0.3984,      0.3994,      0.4004,      0.4014,      0.4024,      0.4034,      0.4044,     0.40541,     0.40641,     0.40741,\n",
              "           0.40841,     0.40941,     0.41041,     0.41141,     0.41241,     0.41341,     0.41441,     0.41542,     0.41642,     0.41742,     0.41842,     0.41942,     0.42042,     0.42142,     0.42242,     0.42342,     0.42442,     0.42543,     0.42643,     0.42743,     0.42843,     0.42943,     0.43043,     0.43143,\n",
              "           0.43243,     0.43343,     0.43443,     0.43544,     0.43644,     0.43744,     0.43844,     0.43944,     0.44044,     0.44144,     0.44244,     0.44344,     0.44444,     0.44545,     0.44645,     0.44745,     0.44845,     0.44945,     0.45045,     0.45145,     0.45245,     0.45345,     0.45445,     0.45546,\n",
              "           0.45646,     0.45746,     0.45846,     0.45946,     0.46046,     0.46146,     0.46246,     0.46346,     0.46446,     0.46547,     0.46647,     0.46747,     0.46847,     0.46947,     0.47047,     0.47147,     0.47247,     0.47347,     0.47447,     0.47548,     0.47648,     0.47748,     0.47848,     0.47948,\n",
              "           0.48048,     0.48148,     0.48248,     0.48348,     0.48448,     0.48549,     0.48649,     0.48749,     0.48849,     0.48949,     0.49049,     0.49149,     0.49249,     0.49349,     0.49449,      0.4955,      0.4965,      0.4975,      0.4985,      0.4995,      0.5005,      0.5015,      0.5025,      0.5035,\n",
              "            0.5045,     0.50551,     0.50651,     0.50751,     0.50851,     0.50951,     0.51051,     0.51151,     0.51251,     0.51351,     0.51451,     0.51552,     0.51652,     0.51752,     0.51852,     0.51952,     0.52052,     0.52152,     0.52252,     0.52352,     0.52452,     0.52553,     0.52653,     0.52753,\n",
              "           0.52853,     0.52953,     0.53053,     0.53153,     0.53253,     0.53353,     0.53453,     0.53554,     0.53654,     0.53754,     0.53854,     0.53954,     0.54054,     0.54154,     0.54254,     0.54354,     0.54454,     0.54555,     0.54655,     0.54755,     0.54855,     0.54955,     0.55055,     0.55155,\n",
              "           0.55255,     0.55355,     0.55455,     0.55556,     0.55656,     0.55756,     0.55856,     0.55956,     0.56056,     0.56156,     0.56256,     0.56356,     0.56456,     0.56557,     0.56657,     0.56757,     0.56857,     0.56957,     0.57057,     0.57157,     0.57257,     0.57357,     0.57457,     0.57558,\n",
              "           0.57658,     0.57758,     0.57858,     0.57958,     0.58058,     0.58158,     0.58258,     0.58358,     0.58458,     0.58559,     0.58659,     0.58759,     0.58859,     0.58959,     0.59059,     0.59159,     0.59259,     0.59359,     0.59459,      0.5956,      0.5966,      0.5976,      0.5986,      0.5996,\n",
              "            0.6006,      0.6016,      0.6026,      0.6036,      0.6046,     0.60561,     0.60661,     0.60761,     0.60861,     0.60961,     0.61061,     0.61161,     0.61261,     0.61361,     0.61461,     0.61562,     0.61662,     0.61762,     0.61862,     0.61962,     0.62062,     0.62162,     0.62262,     0.62362,\n",
              "           0.62462,     0.62563,     0.62663,     0.62763,     0.62863,     0.62963,     0.63063,     0.63163,     0.63263,     0.63363,     0.63463,     0.63564,     0.63664,     0.63764,     0.63864,     0.63964,     0.64064,     0.64164,     0.64264,     0.64364,     0.64464,     0.64565,     0.64665,     0.64765,\n",
              "           0.64865,     0.64965,     0.65065,     0.65165,     0.65265,     0.65365,     0.65465,     0.65566,     0.65666,     0.65766,     0.65866,     0.65966,     0.66066,     0.66166,     0.66266,     0.66366,     0.66466,     0.66567,     0.66667,     0.66767,     0.66867,     0.66967,     0.67067,     0.67167,\n",
              "           0.67267,     0.67367,     0.67467,     0.67568,     0.67668,     0.67768,     0.67868,     0.67968,     0.68068,     0.68168,     0.68268,     0.68368,     0.68468,     0.68569,     0.68669,     0.68769,     0.68869,     0.68969,     0.69069,     0.69169,     0.69269,     0.69369,     0.69469,      0.6957,\n",
              "            0.6967,      0.6977,      0.6987,      0.6997,      0.7007,      0.7017,      0.7027,      0.7037,      0.7047,     0.70571,     0.70671,     0.70771,     0.70871,     0.70971,     0.71071,     0.71171,     0.71271,     0.71371,     0.71471,     0.71572,     0.71672,     0.71772,     0.71872,     0.71972,\n",
              "           0.72072,     0.72172,     0.72272,     0.72372,     0.72472,     0.72573,     0.72673,     0.72773,     0.72873,     0.72973,     0.73073,     0.73173,     0.73273,     0.73373,     0.73473,     0.73574,     0.73674,     0.73774,     0.73874,     0.73974,     0.74074,     0.74174,     0.74274,     0.74374,\n",
              "           0.74474,     0.74575,     0.74675,     0.74775,     0.74875,     0.74975,     0.75075,     0.75175,     0.75275,     0.75375,     0.75475,     0.75576,     0.75676,     0.75776,     0.75876,     0.75976,     0.76076,     0.76176,     0.76276,     0.76376,     0.76476,     0.76577,     0.76677,     0.76777,\n",
              "           0.76877,     0.76977,     0.77077,     0.77177,     0.77277,     0.77377,     0.77477,     0.77578,     0.77678,     0.77778,     0.77878,     0.77978,     0.78078,     0.78178,     0.78278,     0.78378,     0.78478,     0.78579,     0.78679,     0.78779,     0.78879,     0.78979,     0.79079,     0.79179,\n",
              "           0.79279,     0.79379,     0.79479,      0.7958,      0.7968,      0.7978,      0.7988,      0.7998,      0.8008,      0.8018,      0.8028,      0.8038,      0.8048,     0.80581,     0.80681,     0.80781,     0.80881,     0.80981,     0.81081,     0.81181,     0.81281,     0.81381,     0.81481,     0.81582,\n",
              "           0.81682,     0.81782,     0.81882,     0.81982,     0.82082,     0.82182,     0.82282,     0.82382,     0.82482,     0.82583,     0.82683,     0.82783,     0.82883,     0.82983,     0.83083,     0.83183,     0.83283,     0.83383,     0.83483,     0.83584,     0.83684,     0.83784,     0.83884,     0.83984,\n",
              "           0.84084,     0.84184,     0.84284,     0.84384,     0.84484,     0.84585,     0.84685,     0.84785,     0.84885,     0.84985,     0.85085,     0.85185,     0.85285,     0.85385,     0.85485,     0.85586,     0.85686,     0.85786,     0.85886,     0.85986,     0.86086,     0.86186,     0.86286,     0.86386,\n",
              "           0.86486,     0.86587,     0.86687,     0.86787,     0.86887,     0.86987,     0.87087,     0.87187,     0.87287,     0.87387,     0.87487,     0.87588,     0.87688,     0.87788,     0.87888,     0.87988,     0.88088,     0.88188,     0.88288,     0.88388,     0.88488,     0.88589,     0.88689,     0.88789,\n",
              "           0.88889,     0.88989,     0.89089,     0.89189,     0.89289,     0.89389,     0.89489,      0.8959,      0.8969,      0.8979,      0.8989,      0.8999,      0.9009,      0.9019,      0.9029,      0.9039,      0.9049,     0.90591,     0.90691,     0.90791,     0.90891,     0.90991,     0.91091,     0.91191,\n",
              "           0.91291,     0.91391,     0.91491,     0.91592,     0.91692,     0.91792,     0.91892,     0.91992,     0.92092,     0.92192,     0.92292,     0.92392,     0.92492,     0.92593,     0.92693,     0.92793,     0.92893,     0.92993,     0.93093,     0.93193,     0.93293,     0.93393,     0.93493,     0.93594,\n",
              "           0.93694,     0.93794,     0.93894,     0.93994,     0.94094,     0.94194,     0.94294,     0.94394,     0.94494,     0.94595,     0.94695,     0.94795,     0.94895,     0.94995,     0.95095,     0.95195,     0.95295,     0.95395,     0.95495,     0.95596,     0.95696,     0.95796,     0.95896,     0.95996,\n",
              "           0.96096,     0.96196,     0.96296,     0.96396,     0.96496,     0.96597,     0.96697,     0.96797,     0.96897,     0.96997,     0.97097,     0.97197,     0.97297,     0.97397,     0.97497,     0.97598,     0.97698,     0.97798,     0.97898,     0.97998,     0.98098,     0.98198,     0.98298,     0.98398,\n",
              "           0.98498,     0.98599,     0.98699,     0.98799,     0.98899,     0.98999,     0.99099,     0.99199,     0.99299,     0.99399,     0.99499,       0.996,       0.997,       0.998,       0.999,           1]), array([[   0.012147,     0.12677,     0.17363, ...,           0,           0,           0],\n",
              "       [   0.043266,     0.32622,     0.39088, ...,           0,           0,           0],\n",
              "       [   0.011229,     0.24495,     0.33101, ...,           0,           0,           0]]), 'Confidence', 'F1'], [array([          0,    0.001001,    0.002002,    0.003003,    0.004004,    0.005005,    0.006006,    0.007007,    0.008008,    0.009009,     0.01001,    0.011011,    0.012012,    0.013013,    0.014014,    0.015015,    0.016016,    0.017017,    0.018018,    0.019019,     0.02002,    0.021021,    0.022022,    0.023023,\n",
              "          0.024024,    0.025025,    0.026026,    0.027027,    0.028028,    0.029029,     0.03003,    0.031031,    0.032032,    0.033033,    0.034034,    0.035035,    0.036036,    0.037037,    0.038038,    0.039039,     0.04004,    0.041041,    0.042042,    0.043043,    0.044044,    0.045045,    0.046046,    0.047047,\n",
              "          0.048048,    0.049049,     0.05005,    0.051051,    0.052052,    0.053053,    0.054054,    0.055055,    0.056056,    0.057057,    0.058058,    0.059059,     0.06006,    0.061061,    0.062062,    0.063063,    0.064064,    0.065065,    0.066066,    0.067067,    0.068068,    0.069069,     0.07007,    0.071071,\n",
              "          0.072072,    0.073073,    0.074074,    0.075075,    0.076076,    0.077077,    0.078078,    0.079079,     0.08008,    0.081081,    0.082082,    0.083083,    0.084084,    0.085085,    0.086086,    0.087087,    0.088088,    0.089089,     0.09009,    0.091091,    0.092092,    0.093093,    0.094094,    0.095095,\n",
              "          0.096096,    0.097097,    0.098098,    0.099099,      0.1001,      0.1011,      0.1021,      0.1031,      0.1041,     0.10511,     0.10611,     0.10711,     0.10811,     0.10911,     0.11011,     0.11111,     0.11211,     0.11311,     0.11411,     0.11512,     0.11612,     0.11712,     0.11812,     0.11912,\n",
              "           0.12012,     0.12112,     0.12212,     0.12312,     0.12412,     0.12513,     0.12613,     0.12713,     0.12813,     0.12913,     0.13013,     0.13113,     0.13213,     0.13313,     0.13413,     0.13514,     0.13614,     0.13714,     0.13814,     0.13914,     0.14014,     0.14114,     0.14214,     0.14314,\n",
              "           0.14414,     0.14515,     0.14615,     0.14715,     0.14815,     0.14915,     0.15015,     0.15115,     0.15215,     0.15315,     0.15415,     0.15516,     0.15616,     0.15716,     0.15816,     0.15916,     0.16016,     0.16116,     0.16216,     0.16316,     0.16416,     0.16517,     0.16617,     0.16717,\n",
              "           0.16817,     0.16917,     0.17017,     0.17117,     0.17217,     0.17317,     0.17417,     0.17518,     0.17618,     0.17718,     0.17818,     0.17918,     0.18018,     0.18118,     0.18218,     0.18318,     0.18418,     0.18519,     0.18619,     0.18719,     0.18819,     0.18919,     0.19019,     0.19119,\n",
              "           0.19219,     0.19319,     0.19419,      0.1952,      0.1962,      0.1972,      0.1982,      0.1992,      0.2002,      0.2012,      0.2022,      0.2032,      0.2042,     0.20521,     0.20621,     0.20721,     0.20821,     0.20921,     0.21021,     0.21121,     0.21221,     0.21321,     0.21421,     0.21522,\n",
              "           0.21622,     0.21722,     0.21822,     0.21922,     0.22022,     0.22122,     0.22222,     0.22322,     0.22422,     0.22523,     0.22623,     0.22723,     0.22823,     0.22923,     0.23023,     0.23123,     0.23223,     0.23323,     0.23423,     0.23524,     0.23624,     0.23724,     0.23824,     0.23924,\n",
              "           0.24024,     0.24124,     0.24224,     0.24324,     0.24424,     0.24525,     0.24625,     0.24725,     0.24825,     0.24925,     0.25025,     0.25125,     0.25225,     0.25325,     0.25425,     0.25526,     0.25626,     0.25726,     0.25826,     0.25926,     0.26026,     0.26126,     0.26226,     0.26326,\n",
              "           0.26426,     0.26527,     0.26627,     0.26727,     0.26827,     0.26927,     0.27027,     0.27127,     0.27227,     0.27327,     0.27427,     0.27528,     0.27628,     0.27728,     0.27828,     0.27928,     0.28028,     0.28128,     0.28228,     0.28328,     0.28428,     0.28529,     0.28629,     0.28729,\n",
              "           0.28829,     0.28929,     0.29029,     0.29129,     0.29229,     0.29329,     0.29429,      0.2953,      0.2963,      0.2973,      0.2983,      0.2993,      0.3003,      0.3013,      0.3023,      0.3033,      0.3043,     0.30531,     0.30631,     0.30731,     0.30831,     0.30931,     0.31031,     0.31131,\n",
              "           0.31231,     0.31331,     0.31431,     0.31532,     0.31632,     0.31732,     0.31832,     0.31932,     0.32032,     0.32132,     0.32232,     0.32332,     0.32432,     0.32533,     0.32633,     0.32733,     0.32833,     0.32933,     0.33033,     0.33133,     0.33233,     0.33333,     0.33433,     0.33534,\n",
              "           0.33634,     0.33734,     0.33834,     0.33934,     0.34034,     0.34134,     0.34234,     0.34334,     0.34434,     0.34535,     0.34635,     0.34735,     0.34835,     0.34935,     0.35035,     0.35135,     0.35235,     0.35335,     0.35435,     0.35536,     0.35636,     0.35736,     0.35836,     0.35936,\n",
              "           0.36036,     0.36136,     0.36236,     0.36336,     0.36436,     0.36537,     0.36637,     0.36737,     0.36837,     0.36937,     0.37037,     0.37137,     0.37237,     0.37337,     0.37437,     0.37538,     0.37638,     0.37738,     0.37838,     0.37938,     0.38038,     0.38138,     0.38238,     0.38338,\n",
              "           0.38438,     0.38539,     0.38639,     0.38739,     0.38839,     0.38939,     0.39039,     0.39139,     0.39239,     0.39339,     0.39439,      0.3954,      0.3964,      0.3974,      0.3984,      0.3994,      0.4004,      0.4014,      0.4024,      0.4034,      0.4044,     0.40541,     0.40641,     0.40741,\n",
              "           0.40841,     0.40941,     0.41041,     0.41141,     0.41241,     0.41341,     0.41441,     0.41542,     0.41642,     0.41742,     0.41842,     0.41942,     0.42042,     0.42142,     0.42242,     0.42342,     0.42442,     0.42543,     0.42643,     0.42743,     0.42843,     0.42943,     0.43043,     0.43143,\n",
              "           0.43243,     0.43343,     0.43443,     0.43544,     0.43644,     0.43744,     0.43844,     0.43944,     0.44044,     0.44144,     0.44244,     0.44344,     0.44444,     0.44545,     0.44645,     0.44745,     0.44845,     0.44945,     0.45045,     0.45145,     0.45245,     0.45345,     0.45445,     0.45546,\n",
              "           0.45646,     0.45746,     0.45846,     0.45946,     0.46046,     0.46146,     0.46246,     0.46346,     0.46446,     0.46547,     0.46647,     0.46747,     0.46847,     0.46947,     0.47047,     0.47147,     0.47247,     0.47347,     0.47447,     0.47548,     0.47648,     0.47748,     0.47848,     0.47948,\n",
              "           0.48048,     0.48148,     0.48248,     0.48348,     0.48448,     0.48549,     0.48649,     0.48749,     0.48849,     0.48949,     0.49049,     0.49149,     0.49249,     0.49349,     0.49449,      0.4955,      0.4965,      0.4975,      0.4985,      0.4995,      0.5005,      0.5015,      0.5025,      0.5035,\n",
              "            0.5045,     0.50551,     0.50651,     0.50751,     0.50851,     0.50951,     0.51051,     0.51151,     0.51251,     0.51351,     0.51451,     0.51552,     0.51652,     0.51752,     0.51852,     0.51952,     0.52052,     0.52152,     0.52252,     0.52352,     0.52452,     0.52553,     0.52653,     0.52753,\n",
              "           0.52853,     0.52953,     0.53053,     0.53153,     0.53253,     0.53353,     0.53453,     0.53554,     0.53654,     0.53754,     0.53854,     0.53954,     0.54054,     0.54154,     0.54254,     0.54354,     0.54454,     0.54555,     0.54655,     0.54755,     0.54855,     0.54955,     0.55055,     0.55155,\n",
              "           0.55255,     0.55355,     0.55455,     0.55556,     0.55656,     0.55756,     0.55856,     0.55956,     0.56056,     0.56156,     0.56256,     0.56356,     0.56456,     0.56557,     0.56657,     0.56757,     0.56857,     0.56957,     0.57057,     0.57157,     0.57257,     0.57357,     0.57457,     0.57558,\n",
              "           0.57658,     0.57758,     0.57858,     0.57958,     0.58058,     0.58158,     0.58258,     0.58358,     0.58458,     0.58559,     0.58659,     0.58759,     0.58859,     0.58959,     0.59059,     0.59159,     0.59259,     0.59359,     0.59459,      0.5956,      0.5966,      0.5976,      0.5986,      0.5996,\n",
              "            0.6006,      0.6016,      0.6026,      0.6036,      0.6046,     0.60561,     0.60661,     0.60761,     0.60861,     0.60961,     0.61061,     0.61161,     0.61261,     0.61361,     0.61461,     0.61562,     0.61662,     0.61762,     0.61862,     0.61962,     0.62062,     0.62162,     0.62262,     0.62362,\n",
              "           0.62462,     0.62563,     0.62663,     0.62763,     0.62863,     0.62963,     0.63063,     0.63163,     0.63263,     0.63363,     0.63463,     0.63564,     0.63664,     0.63764,     0.63864,     0.63964,     0.64064,     0.64164,     0.64264,     0.64364,     0.64464,     0.64565,     0.64665,     0.64765,\n",
              "           0.64865,     0.64965,     0.65065,     0.65165,     0.65265,     0.65365,     0.65465,     0.65566,     0.65666,     0.65766,     0.65866,     0.65966,     0.66066,     0.66166,     0.66266,     0.66366,     0.66466,     0.66567,     0.66667,     0.66767,     0.66867,     0.66967,     0.67067,     0.67167,\n",
              "           0.67267,     0.67367,     0.67467,     0.67568,     0.67668,     0.67768,     0.67868,     0.67968,     0.68068,     0.68168,     0.68268,     0.68368,     0.68468,     0.68569,     0.68669,     0.68769,     0.68869,     0.68969,     0.69069,     0.69169,     0.69269,     0.69369,     0.69469,      0.6957,\n",
              "            0.6967,      0.6977,      0.6987,      0.6997,      0.7007,      0.7017,      0.7027,      0.7037,      0.7047,     0.70571,     0.70671,     0.70771,     0.70871,     0.70971,     0.71071,     0.71171,     0.71271,     0.71371,     0.71471,     0.71572,     0.71672,     0.71772,     0.71872,     0.71972,\n",
              "           0.72072,     0.72172,     0.72272,     0.72372,     0.72472,     0.72573,     0.72673,     0.72773,     0.72873,     0.72973,     0.73073,     0.73173,     0.73273,     0.73373,     0.73473,     0.73574,     0.73674,     0.73774,     0.73874,     0.73974,     0.74074,     0.74174,     0.74274,     0.74374,\n",
              "           0.74474,     0.74575,     0.74675,     0.74775,     0.74875,     0.74975,     0.75075,     0.75175,     0.75275,     0.75375,     0.75475,     0.75576,     0.75676,     0.75776,     0.75876,     0.75976,     0.76076,     0.76176,     0.76276,     0.76376,     0.76476,     0.76577,     0.76677,     0.76777,\n",
              "           0.76877,     0.76977,     0.77077,     0.77177,     0.77277,     0.77377,     0.77477,     0.77578,     0.77678,     0.77778,     0.77878,     0.77978,     0.78078,     0.78178,     0.78278,     0.78378,     0.78478,     0.78579,     0.78679,     0.78779,     0.78879,     0.78979,     0.79079,     0.79179,\n",
              "           0.79279,     0.79379,     0.79479,      0.7958,      0.7968,      0.7978,      0.7988,      0.7998,      0.8008,      0.8018,      0.8028,      0.8038,      0.8048,     0.80581,     0.80681,     0.80781,     0.80881,     0.80981,     0.81081,     0.81181,     0.81281,     0.81381,     0.81481,     0.81582,\n",
              "           0.81682,     0.81782,     0.81882,     0.81982,     0.82082,     0.82182,     0.82282,     0.82382,     0.82482,     0.82583,     0.82683,     0.82783,     0.82883,     0.82983,     0.83083,     0.83183,     0.83283,     0.83383,     0.83483,     0.83584,     0.83684,     0.83784,     0.83884,     0.83984,\n",
              "           0.84084,     0.84184,     0.84284,     0.84384,     0.84484,     0.84585,     0.84685,     0.84785,     0.84885,     0.84985,     0.85085,     0.85185,     0.85285,     0.85385,     0.85485,     0.85586,     0.85686,     0.85786,     0.85886,     0.85986,     0.86086,     0.86186,     0.86286,     0.86386,\n",
              "           0.86486,     0.86587,     0.86687,     0.86787,     0.86887,     0.86987,     0.87087,     0.87187,     0.87287,     0.87387,     0.87487,     0.87588,     0.87688,     0.87788,     0.87888,     0.87988,     0.88088,     0.88188,     0.88288,     0.88388,     0.88488,     0.88589,     0.88689,     0.88789,\n",
              "           0.88889,     0.88989,     0.89089,     0.89189,     0.89289,     0.89389,     0.89489,      0.8959,      0.8969,      0.8979,      0.8989,      0.8999,      0.9009,      0.9019,      0.9029,      0.9039,      0.9049,     0.90591,     0.90691,     0.90791,     0.90891,     0.90991,     0.91091,     0.91191,\n",
              "           0.91291,     0.91391,     0.91491,     0.91592,     0.91692,     0.91792,     0.91892,     0.91992,     0.92092,     0.92192,     0.92292,     0.92392,     0.92492,     0.92593,     0.92693,     0.92793,     0.92893,     0.92993,     0.93093,     0.93193,     0.93293,     0.93393,     0.93493,     0.93594,\n",
              "           0.93694,     0.93794,     0.93894,     0.93994,     0.94094,     0.94194,     0.94294,     0.94394,     0.94494,     0.94595,     0.94695,     0.94795,     0.94895,     0.94995,     0.95095,     0.95195,     0.95295,     0.95395,     0.95495,     0.95596,     0.95696,     0.95796,     0.95896,     0.95996,\n",
              "           0.96096,     0.96196,     0.96296,     0.96396,     0.96496,     0.96597,     0.96697,     0.96797,     0.96897,     0.96997,     0.97097,     0.97197,     0.97297,     0.97397,     0.97497,     0.97598,     0.97698,     0.97798,     0.97898,     0.97998,     0.98098,     0.98198,     0.98298,     0.98398,\n",
              "           0.98498,     0.98599,     0.98699,     0.98799,     0.98899,     0.98999,     0.99099,     0.99199,     0.99299,     0.99399,     0.99499,       0.996,       0.997,       0.998,       0.999,           1]), array([[  0.0061119,    0.068041,    0.095798, ...,           1,           1,           1],\n",
              "       [   0.022115,     0.19531,     0.24355, ...,           1,           1,           1],\n",
              "       [  0.0056464,     0.14016,     0.19983, ...,           1,           1,           1]]), 'Confidence', 'Precision'], [array([          0,    0.001001,    0.002002,    0.003003,    0.004004,    0.005005,    0.006006,    0.007007,    0.008008,    0.009009,     0.01001,    0.011011,    0.012012,    0.013013,    0.014014,    0.015015,    0.016016,    0.017017,    0.018018,    0.019019,     0.02002,    0.021021,    0.022022,    0.023023,\n",
              "          0.024024,    0.025025,    0.026026,    0.027027,    0.028028,    0.029029,     0.03003,    0.031031,    0.032032,    0.033033,    0.034034,    0.035035,    0.036036,    0.037037,    0.038038,    0.039039,     0.04004,    0.041041,    0.042042,    0.043043,    0.044044,    0.045045,    0.046046,    0.047047,\n",
              "          0.048048,    0.049049,     0.05005,    0.051051,    0.052052,    0.053053,    0.054054,    0.055055,    0.056056,    0.057057,    0.058058,    0.059059,     0.06006,    0.061061,    0.062062,    0.063063,    0.064064,    0.065065,    0.066066,    0.067067,    0.068068,    0.069069,     0.07007,    0.071071,\n",
              "          0.072072,    0.073073,    0.074074,    0.075075,    0.076076,    0.077077,    0.078078,    0.079079,     0.08008,    0.081081,    0.082082,    0.083083,    0.084084,    0.085085,    0.086086,    0.087087,    0.088088,    0.089089,     0.09009,    0.091091,    0.092092,    0.093093,    0.094094,    0.095095,\n",
              "          0.096096,    0.097097,    0.098098,    0.099099,      0.1001,      0.1011,      0.1021,      0.1031,      0.1041,     0.10511,     0.10611,     0.10711,     0.10811,     0.10911,     0.11011,     0.11111,     0.11211,     0.11311,     0.11411,     0.11512,     0.11612,     0.11712,     0.11812,     0.11912,\n",
              "           0.12012,     0.12112,     0.12212,     0.12312,     0.12412,     0.12513,     0.12613,     0.12713,     0.12813,     0.12913,     0.13013,     0.13113,     0.13213,     0.13313,     0.13413,     0.13514,     0.13614,     0.13714,     0.13814,     0.13914,     0.14014,     0.14114,     0.14214,     0.14314,\n",
              "           0.14414,     0.14515,     0.14615,     0.14715,     0.14815,     0.14915,     0.15015,     0.15115,     0.15215,     0.15315,     0.15415,     0.15516,     0.15616,     0.15716,     0.15816,     0.15916,     0.16016,     0.16116,     0.16216,     0.16316,     0.16416,     0.16517,     0.16617,     0.16717,\n",
              "           0.16817,     0.16917,     0.17017,     0.17117,     0.17217,     0.17317,     0.17417,     0.17518,     0.17618,     0.17718,     0.17818,     0.17918,     0.18018,     0.18118,     0.18218,     0.18318,     0.18418,     0.18519,     0.18619,     0.18719,     0.18819,     0.18919,     0.19019,     0.19119,\n",
              "           0.19219,     0.19319,     0.19419,      0.1952,      0.1962,      0.1972,      0.1982,      0.1992,      0.2002,      0.2012,      0.2022,      0.2032,      0.2042,     0.20521,     0.20621,     0.20721,     0.20821,     0.20921,     0.21021,     0.21121,     0.21221,     0.21321,     0.21421,     0.21522,\n",
              "           0.21622,     0.21722,     0.21822,     0.21922,     0.22022,     0.22122,     0.22222,     0.22322,     0.22422,     0.22523,     0.22623,     0.22723,     0.22823,     0.22923,     0.23023,     0.23123,     0.23223,     0.23323,     0.23423,     0.23524,     0.23624,     0.23724,     0.23824,     0.23924,\n",
              "           0.24024,     0.24124,     0.24224,     0.24324,     0.24424,     0.24525,     0.24625,     0.24725,     0.24825,     0.24925,     0.25025,     0.25125,     0.25225,     0.25325,     0.25425,     0.25526,     0.25626,     0.25726,     0.25826,     0.25926,     0.26026,     0.26126,     0.26226,     0.26326,\n",
              "           0.26426,     0.26527,     0.26627,     0.26727,     0.26827,     0.26927,     0.27027,     0.27127,     0.27227,     0.27327,     0.27427,     0.27528,     0.27628,     0.27728,     0.27828,     0.27928,     0.28028,     0.28128,     0.28228,     0.28328,     0.28428,     0.28529,     0.28629,     0.28729,\n",
              "           0.28829,     0.28929,     0.29029,     0.29129,     0.29229,     0.29329,     0.29429,      0.2953,      0.2963,      0.2973,      0.2983,      0.2993,      0.3003,      0.3013,      0.3023,      0.3033,      0.3043,     0.30531,     0.30631,     0.30731,     0.30831,     0.30931,     0.31031,     0.31131,\n",
              "           0.31231,     0.31331,     0.31431,     0.31532,     0.31632,     0.31732,     0.31832,     0.31932,     0.32032,     0.32132,     0.32232,     0.32332,     0.32432,     0.32533,     0.32633,     0.32733,     0.32833,     0.32933,     0.33033,     0.33133,     0.33233,     0.33333,     0.33433,     0.33534,\n",
              "           0.33634,     0.33734,     0.33834,     0.33934,     0.34034,     0.34134,     0.34234,     0.34334,     0.34434,     0.34535,     0.34635,     0.34735,     0.34835,     0.34935,     0.35035,     0.35135,     0.35235,     0.35335,     0.35435,     0.35536,     0.35636,     0.35736,     0.35836,     0.35936,\n",
              "           0.36036,     0.36136,     0.36236,     0.36336,     0.36436,     0.36537,     0.36637,     0.36737,     0.36837,     0.36937,     0.37037,     0.37137,     0.37237,     0.37337,     0.37437,     0.37538,     0.37638,     0.37738,     0.37838,     0.37938,     0.38038,     0.38138,     0.38238,     0.38338,\n",
              "           0.38438,     0.38539,     0.38639,     0.38739,     0.38839,     0.38939,     0.39039,     0.39139,     0.39239,     0.39339,     0.39439,      0.3954,      0.3964,      0.3974,      0.3984,      0.3994,      0.4004,      0.4014,      0.4024,      0.4034,      0.4044,     0.40541,     0.40641,     0.40741,\n",
              "           0.40841,     0.40941,     0.41041,     0.41141,     0.41241,     0.41341,     0.41441,     0.41542,     0.41642,     0.41742,     0.41842,     0.41942,     0.42042,     0.42142,     0.42242,     0.42342,     0.42442,     0.42543,     0.42643,     0.42743,     0.42843,     0.42943,     0.43043,     0.43143,\n",
              "           0.43243,     0.43343,     0.43443,     0.43544,     0.43644,     0.43744,     0.43844,     0.43944,     0.44044,     0.44144,     0.44244,     0.44344,     0.44444,     0.44545,     0.44645,     0.44745,     0.44845,     0.44945,     0.45045,     0.45145,     0.45245,     0.45345,     0.45445,     0.45546,\n",
              "           0.45646,     0.45746,     0.45846,     0.45946,     0.46046,     0.46146,     0.46246,     0.46346,     0.46446,     0.46547,     0.46647,     0.46747,     0.46847,     0.46947,     0.47047,     0.47147,     0.47247,     0.47347,     0.47447,     0.47548,     0.47648,     0.47748,     0.47848,     0.47948,\n",
              "           0.48048,     0.48148,     0.48248,     0.48348,     0.48448,     0.48549,     0.48649,     0.48749,     0.48849,     0.48949,     0.49049,     0.49149,     0.49249,     0.49349,     0.49449,      0.4955,      0.4965,      0.4975,      0.4985,      0.4995,      0.5005,      0.5015,      0.5025,      0.5035,\n",
              "            0.5045,     0.50551,     0.50651,     0.50751,     0.50851,     0.50951,     0.51051,     0.51151,     0.51251,     0.51351,     0.51451,     0.51552,     0.51652,     0.51752,     0.51852,     0.51952,     0.52052,     0.52152,     0.52252,     0.52352,     0.52452,     0.52553,     0.52653,     0.52753,\n",
              "           0.52853,     0.52953,     0.53053,     0.53153,     0.53253,     0.53353,     0.53453,     0.53554,     0.53654,     0.53754,     0.53854,     0.53954,     0.54054,     0.54154,     0.54254,     0.54354,     0.54454,     0.54555,     0.54655,     0.54755,     0.54855,     0.54955,     0.55055,     0.55155,\n",
              "           0.55255,     0.55355,     0.55455,     0.55556,     0.55656,     0.55756,     0.55856,     0.55956,     0.56056,     0.56156,     0.56256,     0.56356,     0.56456,     0.56557,     0.56657,     0.56757,     0.56857,     0.56957,     0.57057,     0.57157,     0.57257,     0.57357,     0.57457,     0.57558,\n",
              "           0.57658,     0.57758,     0.57858,     0.57958,     0.58058,     0.58158,     0.58258,     0.58358,     0.58458,     0.58559,     0.58659,     0.58759,     0.58859,     0.58959,     0.59059,     0.59159,     0.59259,     0.59359,     0.59459,      0.5956,      0.5966,      0.5976,      0.5986,      0.5996,\n",
              "            0.6006,      0.6016,      0.6026,      0.6036,      0.6046,     0.60561,     0.60661,     0.60761,     0.60861,     0.60961,     0.61061,     0.61161,     0.61261,     0.61361,     0.61461,     0.61562,     0.61662,     0.61762,     0.61862,     0.61962,     0.62062,     0.62162,     0.62262,     0.62362,\n",
              "           0.62462,     0.62563,     0.62663,     0.62763,     0.62863,     0.62963,     0.63063,     0.63163,     0.63263,     0.63363,     0.63463,     0.63564,     0.63664,     0.63764,     0.63864,     0.63964,     0.64064,     0.64164,     0.64264,     0.64364,     0.64464,     0.64565,     0.64665,     0.64765,\n",
              "           0.64865,     0.64965,     0.65065,     0.65165,     0.65265,     0.65365,     0.65465,     0.65566,     0.65666,     0.65766,     0.65866,     0.65966,     0.66066,     0.66166,     0.66266,     0.66366,     0.66466,     0.66567,     0.66667,     0.66767,     0.66867,     0.66967,     0.67067,     0.67167,\n",
              "           0.67267,     0.67367,     0.67467,     0.67568,     0.67668,     0.67768,     0.67868,     0.67968,     0.68068,     0.68168,     0.68268,     0.68368,     0.68468,     0.68569,     0.68669,     0.68769,     0.68869,     0.68969,     0.69069,     0.69169,     0.69269,     0.69369,     0.69469,      0.6957,\n",
              "            0.6967,      0.6977,      0.6987,      0.6997,      0.7007,      0.7017,      0.7027,      0.7037,      0.7047,     0.70571,     0.70671,     0.70771,     0.70871,     0.70971,     0.71071,     0.71171,     0.71271,     0.71371,     0.71471,     0.71572,     0.71672,     0.71772,     0.71872,     0.71972,\n",
              "           0.72072,     0.72172,     0.72272,     0.72372,     0.72472,     0.72573,     0.72673,     0.72773,     0.72873,     0.72973,     0.73073,     0.73173,     0.73273,     0.73373,     0.73473,     0.73574,     0.73674,     0.73774,     0.73874,     0.73974,     0.74074,     0.74174,     0.74274,     0.74374,\n",
              "           0.74474,     0.74575,     0.74675,     0.74775,     0.74875,     0.74975,     0.75075,     0.75175,     0.75275,     0.75375,     0.75475,     0.75576,     0.75676,     0.75776,     0.75876,     0.75976,     0.76076,     0.76176,     0.76276,     0.76376,     0.76476,     0.76577,     0.76677,     0.76777,\n",
              "           0.76877,     0.76977,     0.77077,     0.77177,     0.77277,     0.77377,     0.77477,     0.77578,     0.77678,     0.77778,     0.77878,     0.77978,     0.78078,     0.78178,     0.78278,     0.78378,     0.78478,     0.78579,     0.78679,     0.78779,     0.78879,     0.78979,     0.79079,     0.79179,\n",
              "           0.79279,     0.79379,     0.79479,      0.7958,      0.7968,      0.7978,      0.7988,      0.7998,      0.8008,      0.8018,      0.8028,      0.8038,      0.8048,     0.80581,     0.80681,     0.80781,     0.80881,     0.80981,     0.81081,     0.81181,     0.81281,     0.81381,     0.81481,     0.81582,\n",
              "           0.81682,     0.81782,     0.81882,     0.81982,     0.82082,     0.82182,     0.82282,     0.82382,     0.82482,     0.82583,     0.82683,     0.82783,     0.82883,     0.82983,     0.83083,     0.83183,     0.83283,     0.83383,     0.83483,     0.83584,     0.83684,     0.83784,     0.83884,     0.83984,\n",
              "           0.84084,     0.84184,     0.84284,     0.84384,     0.84484,     0.84585,     0.84685,     0.84785,     0.84885,     0.84985,     0.85085,     0.85185,     0.85285,     0.85385,     0.85485,     0.85586,     0.85686,     0.85786,     0.85886,     0.85986,     0.86086,     0.86186,     0.86286,     0.86386,\n",
              "           0.86486,     0.86587,     0.86687,     0.86787,     0.86887,     0.86987,     0.87087,     0.87187,     0.87287,     0.87387,     0.87487,     0.87588,     0.87688,     0.87788,     0.87888,     0.87988,     0.88088,     0.88188,     0.88288,     0.88388,     0.88488,     0.88589,     0.88689,     0.88789,\n",
              "           0.88889,     0.88989,     0.89089,     0.89189,     0.89289,     0.89389,     0.89489,      0.8959,      0.8969,      0.8979,      0.8989,      0.8999,      0.9009,      0.9019,      0.9029,      0.9039,      0.9049,     0.90591,     0.90691,     0.90791,     0.90891,     0.90991,     0.91091,     0.91191,\n",
              "           0.91291,     0.91391,     0.91491,     0.91592,     0.91692,     0.91792,     0.91892,     0.91992,     0.92092,     0.92192,     0.92292,     0.92392,     0.92492,     0.92593,     0.92693,     0.92793,     0.92893,     0.92993,     0.93093,     0.93193,     0.93293,     0.93393,     0.93493,     0.93594,\n",
              "           0.93694,     0.93794,     0.93894,     0.93994,     0.94094,     0.94194,     0.94294,     0.94394,     0.94494,     0.94595,     0.94695,     0.94795,     0.94895,     0.94995,     0.95095,     0.95195,     0.95295,     0.95395,     0.95495,     0.95596,     0.95696,     0.95796,     0.95896,     0.95996,\n",
              "           0.96096,     0.96196,     0.96296,     0.96396,     0.96496,     0.96597,     0.96697,     0.96797,     0.96897,     0.96997,     0.97097,     0.97197,     0.97297,     0.97397,     0.97497,     0.97598,     0.97698,     0.97798,     0.97898,     0.97998,     0.98098,     0.98198,     0.98298,     0.98398,\n",
              "           0.98498,     0.98599,     0.98699,     0.98799,     0.98899,     0.98999,     0.99099,     0.99199,     0.99299,     0.99399,     0.99499,       0.996,       0.997,       0.998,       0.999,           1]), array([[    0.96296,     0.92593,     0.92593, ...,           0,           0,           0],\n",
              "       [    0.99298,     0.98947,     0.98947, ...,           0,           0,           0],\n",
              "       [    0.99635,      0.9708,      0.9635, ...,           0,           0,           0]]), 'Confidence', 'Recall']]\n",
              "fitness: 0.47077473193241826\n",
              "keys: ['metrics/precision(B)', 'metrics/recall(B)', 'metrics/mAP50(B)', 'metrics/mAP50-95(B)']\n",
              "maps: array([    0.38006,     0.44932,     0.45958])\n",
              "names: {0: 'head', 1: 'helmet', 2: 'person'}\n",
              "plot: True\n",
              "results_dict: {'metrics/precision(B)': 0.8003055975073088, 'metrics/recall(B)': 0.7617739265709557, 'metrics/mAP50(B)': 0.8408700895455832, 'metrics/mAP50-95(B)': 0.42965302553095547, 'fitness': 0.47077473193241826}\n",
              "save_dir: PosixPath('/content/yolov10/runs/detect/train')\n",
              "speed: {'preprocess': 1.3693428914481347, 'inference': 1.4851126102132535, 'loss': 0.0001738924498951763, 'postprocess': 0.0533423292527505}\n",
              "task: 'detect'"
            ]
          },
          "metadata": {},
          "execution_count": 9
        }
      ]
    },
    {
      "cell_type": "code",
      "source": [
        "TRAINED_MODEL_PATH = 'runs/detect/train/weights/best.pt'\n",
        "model = YOLOv10(TRAINED_MODEL_PATH)\n",
        "\n",
        "model.val(data = YAML_PATH,\n",
        "          imgsz = IMG_SIZE,\n",
        "          split = 'test')"
      ],
      "metadata": {
        "colab": {
          "base_uri": "https://localhost:8080/"
        },
        "id": "d7s2kVf1eSeH",
        "outputId": "8cd2b807-7be5-4109-c939-286141a08688"
      },
      "execution_count": 10,
      "outputs": [
        {
          "output_type": "stream",
          "name": "stdout",
          "text": [
            "Ultralytics YOLOv8.1.34 🚀 Python-3.10.12 torch-2.0.1+cu117 CUDA:0 (Tesla T4, 15102MiB)\n",
            "YOLOv10n summary (fused): 285 layers, 2695586 parameters, 0 gradients, 8.2 GFLOPs\n"
          ]
        },
        {
          "output_type": "stream",
          "name": "stderr",
          "text": [
            "\u001b[34m\u001b[1mval: \u001b[0mScanning /content/safety_helmet_dataset/test/labels... 109 images, 0 backgrounds, 0 corrupt: 100%|██████████| 109/109 [00:00<00:00, 1130.44it/s]"
          ]
        },
        {
          "output_type": "stream",
          "name": "stdout",
          "text": [
            "\u001b[34m\u001b[1mval: \u001b[0mNew cache created: /content/safety_helmet_dataset/test/labels.cache\n"
          ]
        },
        {
          "output_type": "stream",
          "name": "stderr",
          "text": [
            "\n",
            "/usr/lib/python3.10/multiprocessing/popen_fork.py:66: RuntimeWarning: os.fork() was called. os.fork() is incompatible with multithreaded code, and JAX is multithreaded, so this will likely lead to a deadlock.\n",
            "  self.pid = os.fork()\n",
            "                 Class     Images  Instances      Box(P          R      mAP50  mAP50-95): 100%|██████████| 7/7 [00:03<00:00,  1.86it/s]\n"
          ]
        },
        {
          "output_type": "stream",
          "name": "stdout",
          "text": [
            "                   all        109        320      0.794      0.771      0.814      0.425\n",
            "                  head        109         16      0.823       0.75      0.798        0.4\n",
            "                helmet        109        162      0.815      0.845      0.903      0.454\n",
            "                person        109        142      0.744      0.717      0.741      0.422\n",
            "Speed: 0.6ms preprocess, 4.8ms inference, 0.0ms loss, 0.1ms postprocess per image\n",
            "Results saved to \u001b[1m/content/yolov10/runs/detect/val\u001b[0m\n"
          ]
        },
        {
          "output_type": "execute_result",
          "data": {
            "text/plain": [
              "ultralytics.utils.metrics.DetMetrics object with attributes:\n",
              "\n",
              "ap_class_index: array([0, 1, 2])\n",
              "box: ultralytics.utils.metrics.Metric object\n",
              "confusion_matrix: <ultralytics.utils.metrics.ConfusionMatrix object at 0x7cb211c5f700>\n",
              "curves: ['Precision-Recall(B)', 'F1-Confidence(B)', 'Precision-Confidence(B)', 'Recall-Confidence(B)']\n",
              "curves_results: [[array([          0,    0.001001,    0.002002,    0.003003,    0.004004,    0.005005,    0.006006,    0.007007,    0.008008,    0.009009,     0.01001,    0.011011,    0.012012,    0.013013,    0.014014,    0.015015,    0.016016,    0.017017,    0.018018,    0.019019,     0.02002,    0.021021,    0.022022,    0.023023,\n",
              "          0.024024,    0.025025,    0.026026,    0.027027,    0.028028,    0.029029,     0.03003,    0.031031,    0.032032,    0.033033,    0.034034,    0.035035,    0.036036,    0.037037,    0.038038,    0.039039,     0.04004,    0.041041,    0.042042,    0.043043,    0.044044,    0.045045,    0.046046,    0.047047,\n",
              "          0.048048,    0.049049,     0.05005,    0.051051,    0.052052,    0.053053,    0.054054,    0.055055,    0.056056,    0.057057,    0.058058,    0.059059,     0.06006,    0.061061,    0.062062,    0.063063,    0.064064,    0.065065,    0.066066,    0.067067,    0.068068,    0.069069,     0.07007,    0.071071,\n",
              "          0.072072,    0.073073,    0.074074,    0.075075,    0.076076,    0.077077,    0.078078,    0.079079,     0.08008,    0.081081,    0.082082,    0.083083,    0.084084,    0.085085,    0.086086,    0.087087,    0.088088,    0.089089,     0.09009,    0.091091,    0.092092,    0.093093,    0.094094,    0.095095,\n",
              "          0.096096,    0.097097,    0.098098,    0.099099,      0.1001,      0.1011,      0.1021,      0.1031,      0.1041,     0.10511,     0.10611,     0.10711,     0.10811,     0.10911,     0.11011,     0.11111,     0.11211,     0.11311,     0.11411,     0.11512,     0.11612,     0.11712,     0.11812,     0.11912,\n",
              "           0.12012,     0.12112,     0.12212,     0.12312,     0.12412,     0.12513,     0.12613,     0.12713,     0.12813,     0.12913,     0.13013,     0.13113,     0.13213,     0.13313,     0.13413,     0.13514,     0.13614,     0.13714,     0.13814,     0.13914,     0.14014,     0.14114,     0.14214,     0.14314,\n",
              "           0.14414,     0.14515,     0.14615,     0.14715,     0.14815,     0.14915,     0.15015,     0.15115,     0.15215,     0.15315,     0.15415,     0.15516,     0.15616,     0.15716,     0.15816,     0.15916,     0.16016,     0.16116,     0.16216,     0.16316,     0.16416,     0.16517,     0.16617,     0.16717,\n",
              "           0.16817,     0.16917,     0.17017,     0.17117,     0.17217,     0.17317,     0.17417,     0.17518,     0.17618,     0.17718,     0.17818,     0.17918,     0.18018,     0.18118,     0.18218,     0.18318,     0.18418,     0.18519,     0.18619,     0.18719,     0.18819,     0.18919,     0.19019,     0.19119,\n",
              "           0.19219,     0.19319,     0.19419,      0.1952,      0.1962,      0.1972,      0.1982,      0.1992,      0.2002,      0.2012,      0.2022,      0.2032,      0.2042,     0.20521,     0.20621,     0.20721,     0.20821,     0.20921,     0.21021,     0.21121,     0.21221,     0.21321,     0.21421,     0.21522,\n",
              "           0.21622,     0.21722,     0.21822,     0.21922,     0.22022,     0.22122,     0.22222,     0.22322,     0.22422,     0.22523,     0.22623,     0.22723,     0.22823,     0.22923,     0.23023,     0.23123,     0.23223,     0.23323,     0.23423,     0.23524,     0.23624,     0.23724,     0.23824,     0.23924,\n",
              "           0.24024,     0.24124,     0.24224,     0.24324,     0.24424,     0.24525,     0.24625,     0.24725,     0.24825,     0.24925,     0.25025,     0.25125,     0.25225,     0.25325,     0.25425,     0.25526,     0.25626,     0.25726,     0.25826,     0.25926,     0.26026,     0.26126,     0.26226,     0.26326,\n",
              "           0.26426,     0.26527,     0.26627,     0.26727,     0.26827,     0.26927,     0.27027,     0.27127,     0.27227,     0.27327,     0.27427,     0.27528,     0.27628,     0.27728,     0.27828,     0.27928,     0.28028,     0.28128,     0.28228,     0.28328,     0.28428,     0.28529,     0.28629,     0.28729,\n",
              "           0.28829,     0.28929,     0.29029,     0.29129,     0.29229,     0.29329,     0.29429,      0.2953,      0.2963,      0.2973,      0.2983,      0.2993,      0.3003,      0.3013,      0.3023,      0.3033,      0.3043,     0.30531,     0.30631,     0.30731,     0.30831,     0.30931,     0.31031,     0.31131,\n",
              "           0.31231,     0.31331,     0.31431,     0.31532,     0.31632,     0.31732,     0.31832,     0.31932,     0.32032,     0.32132,     0.32232,     0.32332,     0.32432,     0.32533,     0.32633,     0.32733,     0.32833,     0.32933,     0.33033,     0.33133,     0.33233,     0.33333,     0.33433,     0.33534,\n",
              "           0.33634,     0.33734,     0.33834,     0.33934,     0.34034,     0.34134,     0.34234,     0.34334,     0.34434,     0.34535,     0.34635,     0.34735,     0.34835,     0.34935,     0.35035,     0.35135,     0.35235,     0.35335,     0.35435,     0.35536,     0.35636,     0.35736,     0.35836,     0.35936,\n",
              "           0.36036,     0.36136,     0.36236,     0.36336,     0.36436,     0.36537,     0.36637,     0.36737,     0.36837,     0.36937,     0.37037,     0.37137,     0.37237,     0.37337,     0.37437,     0.37538,     0.37638,     0.37738,     0.37838,     0.37938,     0.38038,     0.38138,     0.38238,     0.38338,\n",
              "           0.38438,     0.38539,     0.38639,     0.38739,     0.38839,     0.38939,     0.39039,     0.39139,     0.39239,     0.39339,     0.39439,      0.3954,      0.3964,      0.3974,      0.3984,      0.3994,      0.4004,      0.4014,      0.4024,      0.4034,      0.4044,     0.40541,     0.40641,     0.40741,\n",
              "           0.40841,     0.40941,     0.41041,     0.41141,     0.41241,     0.41341,     0.41441,     0.41542,     0.41642,     0.41742,     0.41842,     0.41942,     0.42042,     0.42142,     0.42242,     0.42342,     0.42442,     0.42543,     0.42643,     0.42743,     0.42843,     0.42943,     0.43043,     0.43143,\n",
              "           0.43243,     0.43343,     0.43443,     0.43544,     0.43644,     0.43744,     0.43844,     0.43944,     0.44044,     0.44144,     0.44244,     0.44344,     0.44444,     0.44545,     0.44645,     0.44745,     0.44845,     0.44945,     0.45045,     0.45145,     0.45245,     0.45345,     0.45445,     0.45546,\n",
              "           0.45646,     0.45746,     0.45846,     0.45946,     0.46046,     0.46146,     0.46246,     0.46346,     0.46446,     0.46547,     0.46647,     0.46747,     0.46847,     0.46947,     0.47047,     0.47147,     0.47247,     0.47347,     0.47447,     0.47548,     0.47648,     0.47748,     0.47848,     0.47948,\n",
              "           0.48048,     0.48148,     0.48248,     0.48348,     0.48448,     0.48549,     0.48649,     0.48749,     0.48849,     0.48949,     0.49049,     0.49149,     0.49249,     0.49349,     0.49449,      0.4955,      0.4965,      0.4975,      0.4985,      0.4995,      0.5005,      0.5015,      0.5025,      0.5035,\n",
              "            0.5045,     0.50551,     0.50651,     0.50751,     0.50851,     0.50951,     0.51051,     0.51151,     0.51251,     0.51351,     0.51451,     0.51552,     0.51652,     0.51752,     0.51852,     0.51952,     0.52052,     0.52152,     0.52252,     0.52352,     0.52452,     0.52553,     0.52653,     0.52753,\n",
              "           0.52853,     0.52953,     0.53053,     0.53153,     0.53253,     0.53353,     0.53453,     0.53554,     0.53654,     0.53754,     0.53854,     0.53954,     0.54054,     0.54154,     0.54254,     0.54354,     0.54454,     0.54555,     0.54655,     0.54755,     0.54855,     0.54955,     0.55055,     0.55155,\n",
              "           0.55255,     0.55355,     0.55455,     0.55556,     0.55656,     0.55756,     0.55856,     0.55956,     0.56056,     0.56156,     0.56256,     0.56356,     0.56456,     0.56557,     0.56657,     0.56757,     0.56857,     0.56957,     0.57057,     0.57157,     0.57257,     0.57357,     0.57457,     0.57558,\n",
              "           0.57658,     0.57758,     0.57858,     0.57958,     0.58058,     0.58158,     0.58258,     0.58358,     0.58458,     0.58559,     0.58659,     0.58759,     0.58859,     0.58959,     0.59059,     0.59159,     0.59259,     0.59359,     0.59459,      0.5956,      0.5966,      0.5976,      0.5986,      0.5996,\n",
              "            0.6006,      0.6016,      0.6026,      0.6036,      0.6046,     0.60561,     0.60661,     0.60761,     0.60861,     0.60961,     0.61061,     0.61161,     0.61261,     0.61361,     0.61461,     0.61562,     0.61662,     0.61762,     0.61862,     0.61962,     0.62062,     0.62162,     0.62262,     0.62362,\n",
              "           0.62462,     0.62563,     0.62663,     0.62763,     0.62863,     0.62963,     0.63063,     0.63163,     0.63263,     0.63363,     0.63463,     0.63564,     0.63664,     0.63764,     0.63864,     0.63964,     0.64064,     0.64164,     0.64264,     0.64364,     0.64464,     0.64565,     0.64665,     0.64765,\n",
              "           0.64865,     0.64965,     0.65065,     0.65165,     0.65265,     0.65365,     0.65465,     0.65566,     0.65666,     0.65766,     0.65866,     0.65966,     0.66066,     0.66166,     0.66266,     0.66366,     0.66466,     0.66567,     0.66667,     0.66767,     0.66867,     0.66967,     0.67067,     0.67167,\n",
              "           0.67267,     0.67367,     0.67467,     0.67568,     0.67668,     0.67768,     0.67868,     0.67968,     0.68068,     0.68168,     0.68268,     0.68368,     0.68468,     0.68569,     0.68669,     0.68769,     0.68869,     0.68969,     0.69069,     0.69169,     0.69269,     0.69369,     0.69469,      0.6957,\n",
              "            0.6967,      0.6977,      0.6987,      0.6997,      0.7007,      0.7017,      0.7027,      0.7037,      0.7047,     0.70571,     0.70671,     0.70771,     0.70871,     0.70971,     0.71071,     0.71171,     0.71271,     0.71371,     0.71471,     0.71572,     0.71672,     0.71772,     0.71872,     0.71972,\n",
              "           0.72072,     0.72172,     0.72272,     0.72372,     0.72472,     0.72573,     0.72673,     0.72773,     0.72873,     0.72973,     0.73073,     0.73173,     0.73273,     0.73373,     0.73473,     0.73574,     0.73674,     0.73774,     0.73874,     0.73974,     0.74074,     0.74174,     0.74274,     0.74374,\n",
              "           0.74474,     0.74575,     0.74675,     0.74775,     0.74875,     0.74975,     0.75075,     0.75175,     0.75275,     0.75375,     0.75475,     0.75576,     0.75676,     0.75776,     0.75876,     0.75976,     0.76076,     0.76176,     0.76276,     0.76376,     0.76476,     0.76577,     0.76677,     0.76777,\n",
              "           0.76877,     0.76977,     0.77077,     0.77177,     0.77277,     0.77377,     0.77477,     0.77578,     0.77678,     0.77778,     0.77878,     0.77978,     0.78078,     0.78178,     0.78278,     0.78378,     0.78478,     0.78579,     0.78679,     0.78779,     0.78879,     0.78979,     0.79079,     0.79179,\n",
              "           0.79279,     0.79379,     0.79479,      0.7958,      0.7968,      0.7978,      0.7988,      0.7998,      0.8008,      0.8018,      0.8028,      0.8038,      0.8048,     0.80581,     0.80681,     0.80781,     0.80881,     0.80981,     0.81081,     0.81181,     0.81281,     0.81381,     0.81481,     0.81582,\n",
              "           0.81682,     0.81782,     0.81882,     0.81982,     0.82082,     0.82182,     0.82282,     0.82382,     0.82482,     0.82583,     0.82683,     0.82783,     0.82883,     0.82983,     0.83083,     0.83183,     0.83283,     0.83383,     0.83483,     0.83584,     0.83684,     0.83784,     0.83884,     0.83984,\n",
              "           0.84084,     0.84184,     0.84284,     0.84384,     0.84484,     0.84585,     0.84685,     0.84785,     0.84885,     0.84985,     0.85085,     0.85185,     0.85285,     0.85385,     0.85485,     0.85586,     0.85686,     0.85786,     0.85886,     0.85986,     0.86086,     0.86186,     0.86286,     0.86386,\n",
              "           0.86486,     0.86587,     0.86687,     0.86787,     0.86887,     0.86987,     0.87087,     0.87187,     0.87287,     0.87387,     0.87487,     0.87588,     0.87688,     0.87788,     0.87888,     0.87988,     0.88088,     0.88188,     0.88288,     0.88388,     0.88488,     0.88589,     0.88689,     0.88789,\n",
              "           0.88889,     0.88989,     0.89089,     0.89189,     0.89289,     0.89389,     0.89489,      0.8959,      0.8969,      0.8979,      0.8989,      0.8999,      0.9009,      0.9019,      0.9029,      0.9039,      0.9049,     0.90591,     0.90691,     0.90791,     0.90891,     0.90991,     0.91091,     0.91191,\n",
              "           0.91291,     0.91391,     0.91491,     0.91592,     0.91692,     0.91792,     0.91892,     0.91992,     0.92092,     0.92192,     0.92292,     0.92392,     0.92492,     0.92593,     0.92693,     0.92793,     0.92893,     0.92993,     0.93093,     0.93193,     0.93293,     0.93393,     0.93493,     0.93594,\n",
              "           0.93694,     0.93794,     0.93894,     0.93994,     0.94094,     0.94194,     0.94294,     0.94394,     0.94494,     0.94595,     0.94695,     0.94795,     0.94895,     0.94995,     0.95095,     0.95195,     0.95295,     0.95395,     0.95495,     0.95596,     0.95696,     0.95796,     0.95896,     0.95996,\n",
              "           0.96096,     0.96196,     0.96296,     0.96396,     0.96496,     0.96597,     0.96697,     0.96797,     0.96897,     0.96997,     0.97097,     0.97197,     0.97297,     0.97397,     0.97497,     0.97598,     0.97698,     0.97798,     0.97898,     0.97998,     0.98098,     0.98198,     0.98298,     0.98398,\n",
              "           0.98498,     0.98599,     0.98699,     0.98799,     0.98899,     0.98999,     0.99099,     0.99199,     0.99299,     0.99399,     0.99499,       0.996,       0.997,       0.998,       0.999,           1]), array([[          1,           1,           1, ...,    0.051118,    0.051118,           0],\n",
              "       [          1,           1,           1, ...,   0.0076822,   0.0038411,           0],\n",
              "       [     0.9375,      0.9375,      0.9375, ...,    0.054763,    0.054763,           0]]), 'Recall', 'Precision'], [array([          0,    0.001001,    0.002002,    0.003003,    0.004004,    0.005005,    0.006006,    0.007007,    0.008008,    0.009009,     0.01001,    0.011011,    0.012012,    0.013013,    0.014014,    0.015015,    0.016016,    0.017017,    0.018018,    0.019019,     0.02002,    0.021021,    0.022022,    0.023023,\n",
              "          0.024024,    0.025025,    0.026026,    0.027027,    0.028028,    0.029029,     0.03003,    0.031031,    0.032032,    0.033033,    0.034034,    0.035035,    0.036036,    0.037037,    0.038038,    0.039039,     0.04004,    0.041041,    0.042042,    0.043043,    0.044044,    0.045045,    0.046046,    0.047047,\n",
              "          0.048048,    0.049049,     0.05005,    0.051051,    0.052052,    0.053053,    0.054054,    0.055055,    0.056056,    0.057057,    0.058058,    0.059059,     0.06006,    0.061061,    0.062062,    0.063063,    0.064064,    0.065065,    0.066066,    0.067067,    0.068068,    0.069069,     0.07007,    0.071071,\n",
              "          0.072072,    0.073073,    0.074074,    0.075075,    0.076076,    0.077077,    0.078078,    0.079079,     0.08008,    0.081081,    0.082082,    0.083083,    0.084084,    0.085085,    0.086086,    0.087087,    0.088088,    0.089089,     0.09009,    0.091091,    0.092092,    0.093093,    0.094094,    0.095095,\n",
              "          0.096096,    0.097097,    0.098098,    0.099099,      0.1001,      0.1011,      0.1021,      0.1031,      0.1041,     0.10511,     0.10611,     0.10711,     0.10811,     0.10911,     0.11011,     0.11111,     0.11211,     0.11311,     0.11411,     0.11512,     0.11612,     0.11712,     0.11812,     0.11912,\n",
              "           0.12012,     0.12112,     0.12212,     0.12312,     0.12412,     0.12513,     0.12613,     0.12713,     0.12813,     0.12913,     0.13013,     0.13113,     0.13213,     0.13313,     0.13413,     0.13514,     0.13614,     0.13714,     0.13814,     0.13914,     0.14014,     0.14114,     0.14214,     0.14314,\n",
              "           0.14414,     0.14515,     0.14615,     0.14715,     0.14815,     0.14915,     0.15015,     0.15115,     0.15215,     0.15315,     0.15415,     0.15516,     0.15616,     0.15716,     0.15816,     0.15916,     0.16016,     0.16116,     0.16216,     0.16316,     0.16416,     0.16517,     0.16617,     0.16717,\n",
              "           0.16817,     0.16917,     0.17017,     0.17117,     0.17217,     0.17317,     0.17417,     0.17518,     0.17618,     0.17718,     0.17818,     0.17918,     0.18018,     0.18118,     0.18218,     0.18318,     0.18418,     0.18519,     0.18619,     0.18719,     0.18819,     0.18919,     0.19019,     0.19119,\n",
              "           0.19219,     0.19319,     0.19419,      0.1952,      0.1962,      0.1972,      0.1982,      0.1992,      0.2002,      0.2012,      0.2022,      0.2032,      0.2042,     0.20521,     0.20621,     0.20721,     0.20821,     0.20921,     0.21021,     0.21121,     0.21221,     0.21321,     0.21421,     0.21522,\n",
              "           0.21622,     0.21722,     0.21822,     0.21922,     0.22022,     0.22122,     0.22222,     0.22322,     0.22422,     0.22523,     0.22623,     0.22723,     0.22823,     0.22923,     0.23023,     0.23123,     0.23223,     0.23323,     0.23423,     0.23524,     0.23624,     0.23724,     0.23824,     0.23924,\n",
              "           0.24024,     0.24124,     0.24224,     0.24324,     0.24424,     0.24525,     0.24625,     0.24725,     0.24825,     0.24925,     0.25025,     0.25125,     0.25225,     0.25325,     0.25425,     0.25526,     0.25626,     0.25726,     0.25826,     0.25926,     0.26026,     0.26126,     0.26226,     0.26326,\n",
              "           0.26426,     0.26527,     0.26627,     0.26727,     0.26827,     0.26927,     0.27027,     0.27127,     0.27227,     0.27327,     0.27427,     0.27528,     0.27628,     0.27728,     0.27828,     0.27928,     0.28028,     0.28128,     0.28228,     0.28328,     0.28428,     0.28529,     0.28629,     0.28729,\n",
              "           0.28829,     0.28929,     0.29029,     0.29129,     0.29229,     0.29329,     0.29429,      0.2953,      0.2963,      0.2973,      0.2983,      0.2993,      0.3003,      0.3013,      0.3023,      0.3033,      0.3043,     0.30531,     0.30631,     0.30731,     0.30831,     0.30931,     0.31031,     0.31131,\n",
              "           0.31231,     0.31331,     0.31431,     0.31532,     0.31632,     0.31732,     0.31832,     0.31932,     0.32032,     0.32132,     0.32232,     0.32332,     0.32432,     0.32533,     0.32633,     0.32733,     0.32833,     0.32933,     0.33033,     0.33133,     0.33233,     0.33333,     0.33433,     0.33534,\n",
              "           0.33634,     0.33734,     0.33834,     0.33934,     0.34034,     0.34134,     0.34234,     0.34334,     0.34434,     0.34535,     0.34635,     0.34735,     0.34835,     0.34935,     0.35035,     0.35135,     0.35235,     0.35335,     0.35435,     0.35536,     0.35636,     0.35736,     0.35836,     0.35936,\n",
              "           0.36036,     0.36136,     0.36236,     0.36336,     0.36436,     0.36537,     0.36637,     0.36737,     0.36837,     0.36937,     0.37037,     0.37137,     0.37237,     0.37337,     0.37437,     0.37538,     0.37638,     0.37738,     0.37838,     0.37938,     0.38038,     0.38138,     0.38238,     0.38338,\n",
              "           0.38438,     0.38539,     0.38639,     0.38739,     0.38839,     0.38939,     0.39039,     0.39139,     0.39239,     0.39339,     0.39439,      0.3954,      0.3964,      0.3974,      0.3984,      0.3994,      0.4004,      0.4014,      0.4024,      0.4034,      0.4044,     0.40541,     0.40641,     0.40741,\n",
              "           0.40841,     0.40941,     0.41041,     0.41141,     0.41241,     0.41341,     0.41441,     0.41542,     0.41642,     0.41742,     0.41842,     0.41942,     0.42042,     0.42142,     0.42242,     0.42342,     0.42442,     0.42543,     0.42643,     0.42743,     0.42843,     0.42943,     0.43043,     0.43143,\n",
              "           0.43243,     0.43343,     0.43443,     0.43544,     0.43644,     0.43744,     0.43844,     0.43944,     0.44044,     0.44144,     0.44244,     0.44344,     0.44444,     0.44545,     0.44645,     0.44745,     0.44845,     0.44945,     0.45045,     0.45145,     0.45245,     0.45345,     0.45445,     0.45546,\n",
              "           0.45646,     0.45746,     0.45846,     0.45946,     0.46046,     0.46146,     0.46246,     0.46346,     0.46446,     0.46547,     0.46647,     0.46747,     0.46847,     0.46947,     0.47047,     0.47147,     0.47247,     0.47347,     0.47447,     0.47548,     0.47648,     0.47748,     0.47848,     0.47948,\n",
              "           0.48048,     0.48148,     0.48248,     0.48348,     0.48448,     0.48549,     0.48649,     0.48749,     0.48849,     0.48949,     0.49049,     0.49149,     0.49249,     0.49349,     0.49449,      0.4955,      0.4965,      0.4975,      0.4985,      0.4995,      0.5005,      0.5015,      0.5025,      0.5035,\n",
              "            0.5045,     0.50551,     0.50651,     0.50751,     0.50851,     0.50951,     0.51051,     0.51151,     0.51251,     0.51351,     0.51451,     0.51552,     0.51652,     0.51752,     0.51852,     0.51952,     0.52052,     0.52152,     0.52252,     0.52352,     0.52452,     0.52553,     0.52653,     0.52753,\n",
              "           0.52853,     0.52953,     0.53053,     0.53153,     0.53253,     0.53353,     0.53453,     0.53554,     0.53654,     0.53754,     0.53854,     0.53954,     0.54054,     0.54154,     0.54254,     0.54354,     0.54454,     0.54555,     0.54655,     0.54755,     0.54855,     0.54955,     0.55055,     0.55155,\n",
              "           0.55255,     0.55355,     0.55455,     0.55556,     0.55656,     0.55756,     0.55856,     0.55956,     0.56056,     0.56156,     0.56256,     0.56356,     0.56456,     0.56557,     0.56657,     0.56757,     0.56857,     0.56957,     0.57057,     0.57157,     0.57257,     0.57357,     0.57457,     0.57558,\n",
              "           0.57658,     0.57758,     0.57858,     0.57958,     0.58058,     0.58158,     0.58258,     0.58358,     0.58458,     0.58559,     0.58659,     0.58759,     0.58859,     0.58959,     0.59059,     0.59159,     0.59259,     0.59359,     0.59459,      0.5956,      0.5966,      0.5976,      0.5986,      0.5996,\n",
              "            0.6006,      0.6016,      0.6026,      0.6036,      0.6046,     0.60561,     0.60661,     0.60761,     0.60861,     0.60961,     0.61061,     0.61161,     0.61261,     0.61361,     0.61461,     0.61562,     0.61662,     0.61762,     0.61862,     0.61962,     0.62062,     0.62162,     0.62262,     0.62362,\n",
              "           0.62462,     0.62563,     0.62663,     0.62763,     0.62863,     0.62963,     0.63063,     0.63163,     0.63263,     0.63363,     0.63463,     0.63564,     0.63664,     0.63764,     0.63864,     0.63964,     0.64064,     0.64164,     0.64264,     0.64364,     0.64464,     0.64565,     0.64665,     0.64765,\n",
              "           0.64865,     0.64965,     0.65065,     0.65165,     0.65265,     0.65365,     0.65465,     0.65566,     0.65666,     0.65766,     0.65866,     0.65966,     0.66066,     0.66166,     0.66266,     0.66366,     0.66466,     0.66567,     0.66667,     0.66767,     0.66867,     0.66967,     0.67067,     0.67167,\n",
              "           0.67267,     0.67367,     0.67467,     0.67568,     0.67668,     0.67768,     0.67868,     0.67968,     0.68068,     0.68168,     0.68268,     0.68368,     0.68468,     0.68569,     0.68669,     0.68769,     0.68869,     0.68969,     0.69069,     0.69169,     0.69269,     0.69369,     0.69469,      0.6957,\n",
              "            0.6967,      0.6977,      0.6987,      0.6997,      0.7007,      0.7017,      0.7027,      0.7037,      0.7047,     0.70571,     0.70671,     0.70771,     0.70871,     0.70971,     0.71071,     0.71171,     0.71271,     0.71371,     0.71471,     0.71572,     0.71672,     0.71772,     0.71872,     0.71972,\n",
              "           0.72072,     0.72172,     0.72272,     0.72372,     0.72472,     0.72573,     0.72673,     0.72773,     0.72873,     0.72973,     0.73073,     0.73173,     0.73273,     0.73373,     0.73473,     0.73574,     0.73674,     0.73774,     0.73874,     0.73974,     0.74074,     0.74174,     0.74274,     0.74374,\n",
              "           0.74474,     0.74575,     0.74675,     0.74775,     0.74875,     0.74975,     0.75075,     0.75175,     0.75275,     0.75375,     0.75475,     0.75576,     0.75676,     0.75776,     0.75876,     0.75976,     0.76076,     0.76176,     0.76276,     0.76376,     0.76476,     0.76577,     0.76677,     0.76777,\n",
              "           0.76877,     0.76977,     0.77077,     0.77177,     0.77277,     0.77377,     0.77477,     0.77578,     0.77678,     0.77778,     0.77878,     0.77978,     0.78078,     0.78178,     0.78278,     0.78378,     0.78478,     0.78579,     0.78679,     0.78779,     0.78879,     0.78979,     0.79079,     0.79179,\n",
              "           0.79279,     0.79379,     0.79479,      0.7958,      0.7968,      0.7978,      0.7988,      0.7998,      0.8008,      0.8018,      0.8028,      0.8038,      0.8048,     0.80581,     0.80681,     0.80781,     0.80881,     0.80981,     0.81081,     0.81181,     0.81281,     0.81381,     0.81481,     0.81582,\n",
              "           0.81682,     0.81782,     0.81882,     0.81982,     0.82082,     0.82182,     0.82282,     0.82382,     0.82482,     0.82583,     0.82683,     0.82783,     0.82883,     0.82983,     0.83083,     0.83183,     0.83283,     0.83383,     0.83483,     0.83584,     0.83684,     0.83784,     0.83884,     0.83984,\n",
              "           0.84084,     0.84184,     0.84284,     0.84384,     0.84484,     0.84585,     0.84685,     0.84785,     0.84885,     0.84985,     0.85085,     0.85185,     0.85285,     0.85385,     0.85485,     0.85586,     0.85686,     0.85786,     0.85886,     0.85986,     0.86086,     0.86186,     0.86286,     0.86386,\n",
              "           0.86486,     0.86587,     0.86687,     0.86787,     0.86887,     0.86987,     0.87087,     0.87187,     0.87287,     0.87387,     0.87487,     0.87588,     0.87688,     0.87788,     0.87888,     0.87988,     0.88088,     0.88188,     0.88288,     0.88388,     0.88488,     0.88589,     0.88689,     0.88789,\n",
              "           0.88889,     0.88989,     0.89089,     0.89189,     0.89289,     0.89389,     0.89489,      0.8959,      0.8969,      0.8979,      0.8989,      0.8999,      0.9009,      0.9019,      0.9029,      0.9039,      0.9049,     0.90591,     0.90691,     0.90791,     0.90891,     0.90991,     0.91091,     0.91191,\n",
              "           0.91291,     0.91391,     0.91491,     0.91592,     0.91692,     0.91792,     0.91892,     0.91992,     0.92092,     0.92192,     0.92292,     0.92392,     0.92492,     0.92593,     0.92693,     0.92793,     0.92893,     0.92993,     0.93093,     0.93193,     0.93293,     0.93393,     0.93493,     0.93594,\n",
              "           0.93694,     0.93794,     0.93894,     0.93994,     0.94094,     0.94194,     0.94294,     0.94394,     0.94494,     0.94595,     0.94695,     0.94795,     0.94895,     0.94995,     0.95095,     0.95195,     0.95295,     0.95395,     0.95495,     0.95596,     0.95696,     0.95796,     0.95896,     0.95996,\n",
              "           0.96096,     0.96196,     0.96296,     0.96396,     0.96496,     0.96597,     0.96697,     0.96797,     0.96897,     0.96997,     0.97097,     0.97197,     0.97297,     0.97397,     0.97497,     0.97598,     0.97698,     0.97798,     0.97898,     0.97998,     0.98098,     0.98198,     0.98298,     0.98398,\n",
              "           0.98498,     0.98599,     0.98699,     0.98799,     0.98899,     0.98999,     0.99099,     0.99199,     0.99299,     0.99399,     0.99499,       0.996,       0.997,       0.998,       0.999,           1]), array([[   0.013687,     0.16086,     0.23738, ...,           0,           0,           0],\n",
              "       [   0.046271,     0.33402,     0.39133, ...,           0,           0,           0],\n",
              "       [   0.011972,     0.23577,     0.31413, ...,           0,           0,           0]]), 'Confidence', 'F1'], [array([          0,    0.001001,    0.002002,    0.003003,    0.004004,    0.005005,    0.006006,    0.007007,    0.008008,    0.009009,     0.01001,    0.011011,    0.012012,    0.013013,    0.014014,    0.015015,    0.016016,    0.017017,    0.018018,    0.019019,     0.02002,    0.021021,    0.022022,    0.023023,\n",
              "          0.024024,    0.025025,    0.026026,    0.027027,    0.028028,    0.029029,     0.03003,    0.031031,    0.032032,    0.033033,    0.034034,    0.035035,    0.036036,    0.037037,    0.038038,    0.039039,     0.04004,    0.041041,    0.042042,    0.043043,    0.044044,    0.045045,    0.046046,    0.047047,\n",
              "          0.048048,    0.049049,     0.05005,    0.051051,    0.052052,    0.053053,    0.054054,    0.055055,    0.056056,    0.057057,    0.058058,    0.059059,     0.06006,    0.061061,    0.062062,    0.063063,    0.064064,    0.065065,    0.066066,    0.067067,    0.068068,    0.069069,     0.07007,    0.071071,\n",
              "          0.072072,    0.073073,    0.074074,    0.075075,    0.076076,    0.077077,    0.078078,    0.079079,     0.08008,    0.081081,    0.082082,    0.083083,    0.084084,    0.085085,    0.086086,    0.087087,    0.088088,    0.089089,     0.09009,    0.091091,    0.092092,    0.093093,    0.094094,    0.095095,\n",
              "          0.096096,    0.097097,    0.098098,    0.099099,      0.1001,      0.1011,      0.1021,      0.1031,      0.1041,     0.10511,     0.10611,     0.10711,     0.10811,     0.10911,     0.11011,     0.11111,     0.11211,     0.11311,     0.11411,     0.11512,     0.11612,     0.11712,     0.11812,     0.11912,\n",
              "           0.12012,     0.12112,     0.12212,     0.12312,     0.12412,     0.12513,     0.12613,     0.12713,     0.12813,     0.12913,     0.13013,     0.13113,     0.13213,     0.13313,     0.13413,     0.13514,     0.13614,     0.13714,     0.13814,     0.13914,     0.14014,     0.14114,     0.14214,     0.14314,\n",
              "           0.14414,     0.14515,     0.14615,     0.14715,     0.14815,     0.14915,     0.15015,     0.15115,     0.15215,     0.15315,     0.15415,     0.15516,     0.15616,     0.15716,     0.15816,     0.15916,     0.16016,     0.16116,     0.16216,     0.16316,     0.16416,     0.16517,     0.16617,     0.16717,\n",
              "           0.16817,     0.16917,     0.17017,     0.17117,     0.17217,     0.17317,     0.17417,     0.17518,     0.17618,     0.17718,     0.17818,     0.17918,     0.18018,     0.18118,     0.18218,     0.18318,     0.18418,     0.18519,     0.18619,     0.18719,     0.18819,     0.18919,     0.19019,     0.19119,\n",
              "           0.19219,     0.19319,     0.19419,      0.1952,      0.1962,      0.1972,      0.1982,      0.1992,      0.2002,      0.2012,      0.2022,      0.2032,      0.2042,     0.20521,     0.20621,     0.20721,     0.20821,     0.20921,     0.21021,     0.21121,     0.21221,     0.21321,     0.21421,     0.21522,\n",
              "           0.21622,     0.21722,     0.21822,     0.21922,     0.22022,     0.22122,     0.22222,     0.22322,     0.22422,     0.22523,     0.22623,     0.22723,     0.22823,     0.22923,     0.23023,     0.23123,     0.23223,     0.23323,     0.23423,     0.23524,     0.23624,     0.23724,     0.23824,     0.23924,\n",
              "           0.24024,     0.24124,     0.24224,     0.24324,     0.24424,     0.24525,     0.24625,     0.24725,     0.24825,     0.24925,     0.25025,     0.25125,     0.25225,     0.25325,     0.25425,     0.25526,     0.25626,     0.25726,     0.25826,     0.25926,     0.26026,     0.26126,     0.26226,     0.26326,\n",
              "           0.26426,     0.26527,     0.26627,     0.26727,     0.26827,     0.26927,     0.27027,     0.27127,     0.27227,     0.27327,     0.27427,     0.27528,     0.27628,     0.27728,     0.27828,     0.27928,     0.28028,     0.28128,     0.28228,     0.28328,     0.28428,     0.28529,     0.28629,     0.28729,\n",
              "           0.28829,     0.28929,     0.29029,     0.29129,     0.29229,     0.29329,     0.29429,      0.2953,      0.2963,      0.2973,      0.2983,      0.2993,      0.3003,      0.3013,      0.3023,      0.3033,      0.3043,     0.30531,     0.30631,     0.30731,     0.30831,     0.30931,     0.31031,     0.31131,\n",
              "           0.31231,     0.31331,     0.31431,     0.31532,     0.31632,     0.31732,     0.31832,     0.31932,     0.32032,     0.32132,     0.32232,     0.32332,     0.32432,     0.32533,     0.32633,     0.32733,     0.32833,     0.32933,     0.33033,     0.33133,     0.33233,     0.33333,     0.33433,     0.33534,\n",
              "           0.33634,     0.33734,     0.33834,     0.33934,     0.34034,     0.34134,     0.34234,     0.34334,     0.34434,     0.34535,     0.34635,     0.34735,     0.34835,     0.34935,     0.35035,     0.35135,     0.35235,     0.35335,     0.35435,     0.35536,     0.35636,     0.35736,     0.35836,     0.35936,\n",
              "           0.36036,     0.36136,     0.36236,     0.36336,     0.36436,     0.36537,     0.36637,     0.36737,     0.36837,     0.36937,     0.37037,     0.37137,     0.37237,     0.37337,     0.37437,     0.37538,     0.37638,     0.37738,     0.37838,     0.37938,     0.38038,     0.38138,     0.38238,     0.38338,\n",
              "           0.38438,     0.38539,     0.38639,     0.38739,     0.38839,     0.38939,     0.39039,     0.39139,     0.39239,     0.39339,     0.39439,      0.3954,      0.3964,      0.3974,      0.3984,      0.3994,      0.4004,      0.4014,      0.4024,      0.4034,      0.4044,     0.40541,     0.40641,     0.40741,\n",
              "           0.40841,     0.40941,     0.41041,     0.41141,     0.41241,     0.41341,     0.41441,     0.41542,     0.41642,     0.41742,     0.41842,     0.41942,     0.42042,     0.42142,     0.42242,     0.42342,     0.42442,     0.42543,     0.42643,     0.42743,     0.42843,     0.42943,     0.43043,     0.43143,\n",
              "           0.43243,     0.43343,     0.43443,     0.43544,     0.43644,     0.43744,     0.43844,     0.43944,     0.44044,     0.44144,     0.44244,     0.44344,     0.44444,     0.44545,     0.44645,     0.44745,     0.44845,     0.44945,     0.45045,     0.45145,     0.45245,     0.45345,     0.45445,     0.45546,\n",
              "           0.45646,     0.45746,     0.45846,     0.45946,     0.46046,     0.46146,     0.46246,     0.46346,     0.46446,     0.46547,     0.46647,     0.46747,     0.46847,     0.46947,     0.47047,     0.47147,     0.47247,     0.47347,     0.47447,     0.47548,     0.47648,     0.47748,     0.47848,     0.47948,\n",
              "           0.48048,     0.48148,     0.48248,     0.48348,     0.48448,     0.48549,     0.48649,     0.48749,     0.48849,     0.48949,     0.49049,     0.49149,     0.49249,     0.49349,     0.49449,      0.4955,      0.4965,      0.4975,      0.4985,      0.4995,      0.5005,      0.5015,      0.5025,      0.5035,\n",
              "            0.5045,     0.50551,     0.50651,     0.50751,     0.50851,     0.50951,     0.51051,     0.51151,     0.51251,     0.51351,     0.51451,     0.51552,     0.51652,     0.51752,     0.51852,     0.51952,     0.52052,     0.52152,     0.52252,     0.52352,     0.52452,     0.52553,     0.52653,     0.52753,\n",
              "           0.52853,     0.52953,     0.53053,     0.53153,     0.53253,     0.53353,     0.53453,     0.53554,     0.53654,     0.53754,     0.53854,     0.53954,     0.54054,     0.54154,     0.54254,     0.54354,     0.54454,     0.54555,     0.54655,     0.54755,     0.54855,     0.54955,     0.55055,     0.55155,\n",
              "           0.55255,     0.55355,     0.55455,     0.55556,     0.55656,     0.55756,     0.55856,     0.55956,     0.56056,     0.56156,     0.56256,     0.56356,     0.56456,     0.56557,     0.56657,     0.56757,     0.56857,     0.56957,     0.57057,     0.57157,     0.57257,     0.57357,     0.57457,     0.57558,\n",
              "           0.57658,     0.57758,     0.57858,     0.57958,     0.58058,     0.58158,     0.58258,     0.58358,     0.58458,     0.58559,     0.58659,     0.58759,     0.58859,     0.58959,     0.59059,     0.59159,     0.59259,     0.59359,     0.59459,      0.5956,      0.5966,      0.5976,      0.5986,      0.5996,\n",
              "            0.6006,      0.6016,      0.6026,      0.6036,      0.6046,     0.60561,     0.60661,     0.60761,     0.60861,     0.60961,     0.61061,     0.61161,     0.61261,     0.61361,     0.61461,     0.61562,     0.61662,     0.61762,     0.61862,     0.61962,     0.62062,     0.62162,     0.62262,     0.62362,\n",
              "           0.62462,     0.62563,     0.62663,     0.62763,     0.62863,     0.62963,     0.63063,     0.63163,     0.63263,     0.63363,     0.63463,     0.63564,     0.63664,     0.63764,     0.63864,     0.63964,     0.64064,     0.64164,     0.64264,     0.64364,     0.64464,     0.64565,     0.64665,     0.64765,\n",
              "           0.64865,     0.64965,     0.65065,     0.65165,     0.65265,     0.65365,     0.65465,     0.65566,     0.65666,     0.65766,     0.65866,     0.65966,     0.66066,     0.66166,     0.66266,     0.66366,     0.66466,     0.66567,     0.66667,     0.66767,     0.66867,     0.66967,     0.67067,     0.67167,\n",
              "           0.67267,     0.67367,     0.67467,     0.67568,     0.67668,     0.67768,     0.67868,     0.67968,     0.68068,     0.68168,     0.68268,     0.68368,     0.68468,     0.68569,     0.68669,     0.68769,     0.68869,     0.68969,     0.69069,     0.69169,     0.69269,     0.69369,     0.69469,      0.6957,\n",
              "            0.6967,      0.6977,      0.6987,      0.6997,      0.7007,      0.7017,      0.7027,      0.7037,      0.7047,     0.70571,     0.70671,     0.70771,     0.70871,     0.70971,     0.71071,     0.71171,     0.71271,     0.71371,     0.71471,     0.71572,     0.71672,     0.71772,     0.71872,     0.71972,\n",
              "           0.72072,     0.72172,     0.72272,     0.72372,     0.72472,     0.72573,     0.72673,     0.72773,     0.72873,     0.72973,     0.73073,     0.73173,     0.73273,     0.73373,     0.73473,     0.73574,     0.73674,     0.73774,     0.73874,     0.73974,     0.74074,     0.74174,     0.74274,     0.74374,\n",
              "           0.74474,     0.74575,     0.74675,     0.74775,     0.74875,     0.74975,     0.75075,     0.75175,     0.75275,     0.75375,     0.75475,     0.75576,     0.75676,     0.75776,     0.75876,     0.75976,     0.76076,     0.76176,     0.76276,     0.76376,     0.76476,     0.76577,     0.76677,     0.76777,\n",
              "           0.76877,     0.76977,     0.77077,     0.77177,     0.77277,     0.77377,     0.77477,     0.77578,     0.77678,     0.77778,     0.77878,     0.77978,     0.78078,     0.78178,     0.78278,     0.78378,     0.78478,     0.78579,     0.78679,     0.78779,     0.78879,     0.78979,     0.79079,     0.79179,\n",
              "           0.79279,     0.79379,     0.79479,      0.7958,      0.7968,      0.7978,      0.7988,      0.7998,      0.8008,      0.8018,      0.8028,      0.8038,      0.8048,     0.80581,     0.80681,     0.80781,     0.80881,     0.80981,     0.81081,     0.81181,     0.81281,     0.81381,     0.81481,     0.81582,\n",
              "           0.81682,     0.81782,     0.81882,     0.81982,     0.82082,     0.82182,     0.82282,     0.82382,     0.82482,     0.82583,     0.82683,     0.82783,     0.82883,     0.82983,     0.83083,     0.83183,     0.83283,     0.83383,     0.83483,     0.83584,     0.83684,     0.83784,     0.83884,     0.83984,\n",
              "           0.84084,     0.84184,     0.84284,     0.84384,     0.84484,     0.84585,     0.84685,     0.84785,     0.84885,     0.84985,     0.85085,     0.85185,     0.85285,     0.85385,     0.85485,     0.85586,     0.85686,     0.85786,     0.85886,     0.85986,     0.86086,     0.86186,     0.86286,     0.86386,\n",
              "           0.86486,     0.86587,     0.86687,     0.86787,     0.86887,     0.86987,     0.87087,     0.87187,     0.87287,     0.87387,     0.87487,     0.87588,     0.87688,     0.87788,     0.87888,     0.87988,     0.88088,     0.88188,     0.88288,     0.88388,     0.88488,     0.88589,     0.88689,     0.88789,\n",
              "           0.88889,     0.88989,     0.89089,     0.89189,     0.89289,     0.89389,     0.89489,      0.8959,      0.8969,      0.8979,      0.8989,      0.8999,      0.9009,      0.9019,      0.9029,      0.9039,      0.9049,     0.90591,     0.90691,     0.90791,     0.90891,     0.90991,     0.91091,     0.91191,\n",
              "           0.91291,     0.91391,     0.91491,     0.91592,     0.91692,     0.91792,     0.91892,     0.91992,     0.92092,     0.92192,     0.92292,     0.92392,     0.92492,     0.92593,     0.92693,     0.92793,     0.92893,     0.92993,     0.93093,     0.93193,     0.93293,     0.93393,     0.93493,     0.93594,\n",
              "           0.93694,     0.93794,     0.93894,     0.93994,     0.94094,     0.94194,     0.94294,     0.94394,     0.94494,     0.94595,     0.94695,     0.94795,     0.94895,     0.94995,     0.95095,     0.95195,     0.95295,     0.95395,     0.95495,     0.95596,     0.95696,     0.95796,     0.95896,     0.95996,\n",
              "           0.96096,     0.96196,     0.96296,     0.96396,     0.96496,     0.96597,     0.96697,     0.96797,     0.96897,     0.96997,     0.97097,     0.97197,     0.97297,     0.97397,     0.97497,     0.97598,     0.97698,     0.97798,     0.97898,     0.97998,     0.98098,     0.98198,     0.98298,     0.98398,\n",
              "           0.98498,     0.98599,     0.98699,     0.98799,     0.98899,     0.98999,     0.99099,     0.99199,     0.99299,     0.99399,     0.99499,       0.996,       0.997,       0.998,       0.999,           1]), array([[  0.0068906,     0.08798,      0.1359, ...,           1,           1,           1],\n",
              "       [   0.023687,     0.20125,     0.24516, ...,           1,           1,           1],\n",
              "       [  0.0060218,      0.1343,     0.18871, ...,           1,           1,           1]]), 'Confidence', 'Precision'], [array([          0,    0.001001,    0.002002,    0.003003,    0.004004,    0.005005,    0.006006,    0.007007,    0.008008,    0.009009,     0.01001,    0.011011,    0.012012,    0.013013,    0.014014,    0.015015,    0.016016,    0.017017,    0.018018,    0.019019,     0.02002,    0.021021,    0.022022,    0.023023,\n",
              "          0.024024,    0.025025,    0.026026,    0.027027,    0.028028,    0.029029,     0.03003,    0.031031,    0.032032,    0.033033,    0.034034,    0.035035,    0.036036,    0.037037,    0.038038,    0.039039,     0.04004,    0.041041,    0.042042,    0.043043,    0.044044,    0.045045,    0.046046,    0.047047,\n",
              "          0.048048,    0.049049,     0.05005,    0.051051,    0.052052,    0.053053,    0.054054,    0.055055,    0.056056,    0.057057,    0.058058,    0.059059,     0.06006,    0.061061,    0.062062,    0.063063,    0.064064,    0.065065,    0.066066,    0.067067,    0.068068,    0.069069,     0.07007,    0.071071,\n",
              "          0.072072,    0.073073,    0.074074,    0.075075,    0.076076,    0.077077,    0.078078,    0.079079,     0.08008,    0.081081,    0.082082,    0.083083,    0.084084,    0.085085,    0.086086,    0.087087,    0.088088,    0.089089,     0.09009,    0.091091,    0.092092,    0.093093,    0.094094,    0.095095,\n",
              "          0.096096,    0.097097,    0.098098,    0.099099,      0.1001,      0.1011,      0.1021,      0.1031,      0.1041,     0.10511,     0.10611,     0.10711,     0.10811,     0.10911,     0.11011,     0.11111,     0.11211,     0.11311,     0.11411,     0.11512,     0.11612,     0.11712,     0.11812,     0.11912,\n",
              "           0.12012,     0.12112,     0.12212,     0.12312,     0.12412,     0.12513,     0.12613,     0.12713,     0.12813,     0.12913,     0.13013,     0.13113,     0.13213,     0.13313,     0.13413,     0.13514,     0.13614,     0.13714,     0.13814,     0.13914,     0.14014,     0.14114,     0.14214,     0.14314,\n",
              "           0.14414,     0.14515,     0.14615,     0.14715,     0.14815,     0.14915,     0.15015,     0.15115,     0.15215,     0.15315,     0.15415,     0.15516,     0.15616,     0.15716,     0.15816,     0.15916,     0.16016,     0.16116,     0.16216,     0.16316,     0.16416,     0.16517,     0.16617,     0.16717,\n",
              "           0.16817,     0.16917,     0.17017,     0.17117,     0.17217,     0.17317,     0.17417,     0.17518,     0.17618,     0.17718,     0.17818,     0.17918,     0.18018,     0.18118,     0.18218,     0.18318,     0.18418,     0.18519,     0.18619,     0.18719,     0.18819,     0.18919,     0.19019,     0.19119,\n",
              "           0.19219,     0.19319,     0.19419,      0.1952,      0.1962,      0.1972,      0.1982,      0.1992,      0.2002,      0.2012,      0.2022,      0.2032,      0.2042,     0.20521,     0.20621,     0.20721,     0.20821,     0.20921,     0.21021,     0.21121,     0.21221,     0.21321,     0.21421,     0.21522,\n",
              "           0.21622,     0.21722,     0.21822,     0.21922,     0.22022,     0.22122,     0.22222,     0.22322,     0.22422,     0.22523,     0.22623,     0.22723,     0.22823,     0.22923,     0.23023,     0.23123,     0.23223,     0.23323,     0.23423,     0.23524,     0.23624,     0.23724,     0.23824,     0.23924,\n",
              "           0.24024,     0.24124,     0.24224,     0.24324,     0.24424,     0.24525,     0.24625,     0.24725,     0.24825,     0.24925,     0.25025,     0.25125,     0.25225,     0.25325,     0.25425,     0.25526,     0.25626,     0.25726,     0.25826,     0.25926,     0.26026,     0.26126,     0.26226,     0.26326,\n",
              "           0.26426,     0.26527,     0.26627,     0.26727,     0.26827,     0.26927,     0.27027,     0.27127,     0.27227,     0.27327,     0.27427,     0.27528,     0.27628,     0.27728,     0.27828,     0.27928,     0.28028,     0.28128,     0.28228,     0.28328,     0.28428,     0.28529,     0.28629,     0.28729,\n",
              "           0.28829,     0.28929,     0.29029,     0.29129,     0.29229,     0.29329,     0.29429,      0.2953,      0.2963,      0.2973,      0.2983,      0.2993,      0.3003,      0.3013,      0.3023,      0.3033,      0.3043,     0.30531,     0.30631,     0.30731,     0.30831,     0.30931,     0.31031,     0.31131,\n",
              "           0.31231,     0.31331,     0.31431,     0.31532,     0.31632,     0.31732,     0.31832,     0.31932,     0.32032,     0.32132,     0.32232,     0.32332,     0.32432,     0.32533,     0.32633,     0.32733,     0.32833,     0.32933,     0.33033,     0.33133,     0.33233,     0.33333,     0.33433,     0.33534,\n",
              "           0.33634,     0.33734,     0.33834,     0.33934,     0.34034,     0.34134,     0.34234,     0.34334,     0.34434,     0.34535,     0.34635,     0.34735,     0.34835,     0.34935,     0.35035,     0.35135,     0.35235,     0.35335,     0.35435,     0.35536,     0.35636,     0.35736,     0.35836,     0.35936,\n",
              "           0.36036,     0.36136,     0.36236,     0.36336,     0.36436,     0.36537,     0.36637,     0.36737,     0.36837,     0.36937,     0.37037,     0.37137,     0.37237,     0.37337,     0.37437,     0.37538,     0.37638,     0.37738,     0.37838,     0.37938,     0.38038,     0.38138,     0.38238,     0.38338,\n",
              "           0.38438,     0.38539,     0.38639,     0.38739,     0.38839,     0.38939,     0.39039,     0.39139,     0.39239,     0.39339,     0.39439,      0.3954,      0.3964,      0.3974,      0.3984,      0.3994,      0.4004,      0.4014,      0.4024,      0.4034,      0.4044,     0.40541,     0.40641,     0.40741,\n",
              "           0.40841,     0.40941,     0.41041,     0.41141,     0.41241,     0.41341,     0.41441,     0.41542,     0.41642,     0.41742,     0.41842,     0.41942,     0.42042,     0.42142,     0.42242,     0.42342,     0.42442,     0.42543,     0.42643,     0.42743,     0.42843,     0.42943,     0.43043,     0.43143,\n",
              "           0.43243,     0.43343,     0.43443,     0.43544,     0.43644,     0.43744,     0.43844,     0.43944,     0.44044,     0.44144,     0.44244,     0.44344,     0.44444,     0.44545,     0.44645,     0.44745,     0.44845,     0.44945,     0.45045,     0.45145,     0.45245,     0.45345,     0.45445,     0.45546,\n",
              "           0.45646,     0.45746,     0.45846,     0.45946,     0.46046,     0.46146,     0.46246,     0.46346,     0.46446,     0.46547,     0.46647,     0.46747,     0.46847,     0.46947,     0.47047,     0.47147,     0.47247,     0.47347,     0.47447,     0.47548,     0.47648,     0.47748,     0.47848,     0.47948,\n",
              "           0.48048,     0.48148,     0.48248,     0.48348,     0.48448,     0.48549,     0.48649,     0.48749,     0.48849,     0.48949,     0.49049,     0.49149,     0.49249,     0.49349,     0.49449,      0.4955,      0.4965,      0.4975,      0.4985,      0.4995,      0.5005,      0.5015,      0.5025,      0.5035,\n",
              "            0.5045,     0.50551,     0.50651,     0.50751,     0.50851,     0.50951,     0.51051,     0.51151,     0.51251,     0.51351,     0.51451,     0.51552,     0.51652,     0.51752,     0.51852,     0.51952,     0.52052,     0.52152,     0.52252,     0.52352,     0.52452,     0.52553,     0.52653,     0.52753,\n",
              "           0.52853,     0.52953,     0.53053,     0.53153,     0.53253,     0.53353,     0.53453,     0.53554,     0.53654,     0.53754,     0.53854,     0.53954,     0.54054,     0.54154,     0.54254,     0.54354,     0.54454,     0.54555,     0.54655,     0.54755,     0.54855,     0.54955,     0.55055,     0.55155,\n",
              "           0.55255,     0.55355,     0.55455,     0.55556,     0.55656,     0.55756,     0.55856,     0.55956,     0.56056,     0.56156,     0.56256,     0.56356,     0.56456,     0.56557,     0.56657,     0.56757,     0.56857,     0.56957,     0.57057,     0.57157,     0.57257,     0.57357,     0.57457,     0.57558,\n",
              "           0.57658,     0.57758,     0.57858,     0.57958,     0.58058,     0.58158,     0.58258,     0.58358,     0.58458,     0.58559,     0.58659,     0.58759,     0.58859,     0.58959,     0.59059,     0.59159,     0.59259,     0.59359,     0.59459,      0.5956,      0.5966,      0.5976,      0.5986,      0.5996,\n",
              "            0.6006,      0.6016,      0.6026,      0.6036,      0.6046,     0.60561,     0.60661,     0.60761,     0.60861,     0.60961,     0.61061,     0.61161,     0.61261,     0.61361,     0.61461,     0.61562,     0.61662,     0.61762,     0.61862,     0.61962,     0.62062,     0.62162,     0.62262,     0.62362,\n",
              "           0.62462,     0.62563,     0.62663,     0.62763,     0.62863,     0.62963,     0.63063,     0.63163,     0.63263,     0.63363,     0.63463,     0.63564,     0.63664,     0.63764,     0.63864,     0.63964,     0.64064,     0.64164,     0.64264,     0.64364,     0.64464,     0.64565,     0.64665,     0.64765,\n",
              "           0.64865,     0.64965,     0.65065,     0.65165,     0.65265,     0.65365,     0.65465,     0.65566,     0.65666,     0.65766,     0.65866,     0.65966,     0.66066,     0.66166,     0.66266,     0.66366,     0.66466,     0.66567,     0.66667,     0.66767,     0.66867,     0.66967,     0.67067,     0.67167,\n",
              "           0.67267,     0.67367,     0.67467,     0.67568,     0.67668,     0.67768,     0.67868,     0.67968,     0.68068,     0.68168,     0.68268,     0.68368,     0.68468,     0.68569,     0.68669,     0.68769,     0.68869,     0.68969,     0.69069,     0.69169,     0.69269,     0.69369,     0.69469,      0.6957,\n",
              "            0.6967,      0.6977,      0.6987,      0.6997,      0.7007,      0.7017,      0.7027,      0.7037,      0.7047,     0.70571,     0.70671,     0.70771,     0.70871,     0.70971,     0.71071,     0.71171,     0.71271,     0.71371,     0.71471,     0.71572,     0.71672,     0.71772,     0.71872,     0.71972,\n",
              "           0.72072,     0.72172,     0.72272,     0.72372,     0.72472,     0.72573,     0.72673,     0.72773,     0.72873,     0.72973,     0.73073,     0.73173,     0.73273,     0.73373,     0.73473,     0.73574,     0.73674,     0.73774,     0.73874,     0.73974,     0.74074,     0.74174,     0.74274,     0.74374,\n",
              "           0.74474,     0.74575,     0.74675,     0.74775,     0.74875,     0.74975,     0.75075,     0.75175,     0.75275,     0.75375,     0.75475,     0.75576,     0.75676,     0.75776,     0.75876,     0.75976,     0.76076,     0.76176,     0.76276,     0.76376,     0.76476,     0.76577,     0.76677,     0.76777,\n",
              "           0.76877,     0.76977,     0.77077,     0.77177,     0.77277,     0.77377,     0.77477,     0.77578,     0.77678,     0.77778,     0.77878,     0.77978,     0.78078,     0.78178,     0.78278,     0.78378,     0.78478,     0.78579,     0.78679,     0.78779,     0.78879,     0.78979,     0.79079,     0.79179,\n",
              "           0.79279,     0.79379,     0.79479,      0.7958,      0.7968,      0.7978,      0.7988,      0.7998,      0.8008,      0.8018,      0.8028,      0.8038,      0.8048,     0.80581,     0.80681,     0.80781,     0.80881,     0.80981,     0.81081,     0.81181,     0.81281,     0.81381,     0.81481,     0.81582,\n",
              "           0.81682,     0.81782,     0.81882,     0.81982,     0.82082,     0.82182,     0.82282,     0.82382,     0.82482,     0.82583,     0.82683,     0.82783,     0.82883,     0.82983,     0.83083,     0.83183,     0.83283,     0.83383,     0.83483,     0.83584,     0.83684,     0.83784,     0.83884,     0.83984,\n",
              "           0.84084,     0.84184,     0.84284,     0.84384,     0.84484,     0.84585,     0.84685,     0.84785,     0.84885,     0.84985,     0.85085,     0.85185,     0.85285,     0.85385,     0.85485,     0.85586,     0.85686,     0.85786,     0.85886,     0.85986,     0.86086,     0.86186,     0.86286,     0.86386,\n",
              "           0.86486,     0.86587,     0.86687,     0.86787,     0.86887,     0.86987,     0.87087,     0.87187,     0.87287,     0.87387,     0.87487,     0.87588,     0.87688,     0.87788,     0.87888,     0.87988,     0.88088,     0.88188,     0.88288,     0.88388,     0.88488,     0.88589,     0.88689,     0.88789,\n",
              "           0.88889,     0.88989,     0.89089,     0.89189,     0.89289,     0.89389,     0.89489,      0.8959,      0.8969,      0.8979,      0.8989,      0.8999,      0.9009,      0.9019,      0.9029,      0.9039,      0.9049,     0.90591,     0.90691,     0.90791,     0.90891,     0.90991,     0.91091,     0.91191,\n",
              "           0.91291,     0.91391,     0.91491,     0.91592,     0.91692,     0.91792,     0.91892,     0.91992,     0.92092,     0.92192,     0.92292,     0.92392,     0.92492,     0.92593,     0.92693,     0.92793,     0.92893,     0.92993,     0.93093,     0.93193,     0.93293,     0.93393,     0.93493,     0.93594,\n",
              "           0.93694,     0.93794,     0.93894,     0.93994,     0.94094,     0.94194,     0.94294,     0.94394,     0.94494,     0.94595,     0.94695,     0.94795,     0.94895,     0.94995,     0.95095,     0.95195,     0.95295,     0.95395,     0.95495,     0.95596,     0.95696,     0.95796,     0.95896,     0.95996,\n",
              "           0.96096,     0.96196,     0.96296,     0.96396,     0.96496,     0.96597,     0.96697,     0.96797,     0.96897,     0.96997,     0.97097,     0.97197,     0.97297,     0.97397,     0.97497,     0.97598,     0.97698,     0.97798,     0.97898,     0.97998,     0.98098,     0.98198,     0.98298,     0.98398,\n",
              "           0.98498,     0.98599,     0.98699,     0.98799,     0.98899,     0.98999,     0.99099,     0.99199,     0.99299,     0.99399,     0.99499,       0.996,       0.997,       0.998,       0.999,           1]), array([[          1,      0.9375,      0.9375, ...,           0,           0,           0],\n",
              "       [    0.99383,     0.98148,     0.96914, ...,           0,           0,           0],\n",
              "       [          1,     0.96479,     0.93662, ...,           0,           0,           0]]), 'Confidence', 'Recall']]\n",
              "fitness: 0.4638679532810802\n",
              "keys: ['metrics/precision(B)', 'metrics/recall(B)', 'metrics/mAP50(B)', 'metrics/mAP50-95(B)']\n",
              "maps: array([    0.39994,      0.4535,     0.42158])\n",
              "names: {0: 'head', 1: 'helmet', 2: 'person'}\n",
              "plot: True\n",
              "results_dict: {'metrics/precision(B)': 0.7940974954870358, 'metrics/recall(B)': 0.7705830195030378, 'metrics/mAP50(B)': 0.8136079854526009, 'metrics/mAP50-95(B)': 0.4250079497064668, 'fitness': 0.4638679532810802}\n",
              "save_dir: PosixPath('/content/yolov10/runs/detect/val')\n",
              "speed: {'preprocess': 0.6096559927004194, 'inference': 4.807981876058316, 'loss': 0.001006170150336869, 'postprocess': 0.07837190540558701}\n",
              "task: 'detect'"
            ]
          },
          "metadata": {},
          "execution_count": 10
        }
      ]
    },
    {
      "cell_type": "markdown",
      "source": [
        "### precision = 0.8, good model.\n"
      ],
      "metadata": {
        "id": "mD2B0zswf3BZ"
      }
    }
  ]
}